{
  "nbformat": 4,
  "nbformat_minor": 0,
  "metadata": {
    "colab": {
      "name": "SatırEksikDengesiz",
      "provenance": [],
      "collapsed_sections": [],
      "toc_visible": true,
      "authorship_tag": "ABX9TyNf+OohEcrpoDLeYcpoYPsB",
      "include_colab_link": true
    },
    "kernelspec": {
      "name": "python3",
      "display_name": "Python 3"
    },
    "language_info": {
      "name": "python"
    }
  },
  "cells": [
    {
      "cell_type": "markdown",
      "metadata": {
        "id": "view-in-github",
        "colab_type": "text"
      },
      "source": [
        "<a href=\"https://colab.research.google.com/github/BoranOner/Predicting-Diabetes/blob/main/Sat%C4%B1rEksikDengesiz.ipynb\" target=\"_parent\"><img src=\"https://colab.research.google.com/assets/colab-badge.svg\" alt=\"Open In Colab\"/></a>"
      ]
    },
    {
      "cell_type": "code",
      "source": [
        "# This Python 3 environment comes with many helpful analytics libraries installed\n",
        "# It is defined by the kaggle/python Docker image: https://github.com/kaggle/docker-python\n",
        "# For example, here's several helpful packages to load\n",
        "\n",
        "import numpy as np # linear algebra\n",
        "import pandas as pd # data processing, CSV file I/O (e.g. pd.read_csv)\n",
        "from sklearn.pipeline import make_pipeline\n",
        "from sklearn.preprocessing import StandardScaler\n",
        "from sklearn import datasets, linear_model, metrics\n",
        "from sklearn.metrics import accuracy_score, confusion_matrix, classification_report, RocCurveDisplay\n",
        "from sklearn.model_selection import train_test_split, GridSearchCV, StratifiedKFold\n",
        "import matplotlib.pyplot as plt    # visualization library (görselleştirme kütüphanesi)\n",
        "import seaborn as sns         # visualization library (görselleştirme kütüphanesi)\n",
        "import missingno as msno      # visualization library (görselleştirme kütüphanesi)\n",
        " #Hiperparametre için çağırıldı\n",
        "\n",
        "\n",
        "# Input data files are available in the read-only \"../input/\" directory\n",
        "# For example, running this (by clicking run or pressing Shift+Enter) will list all files under the input directory\n",
        "\n",
        "\n",
        "\n",
        "# You can write up to 20GB to the current directory (/kaggle/working/) that gets preserved as output when you create a version using \"Save & Run All\" \n",
        "# You can also write temporary files to /kaggle/temp/, but they won't be saved outside of the current session"
      ],
      "metadata": {
        "_uuid": "8f2839f25d086af736a60e9eeb907d3b93b6e0e5",
        "_cell_guid": "b1076dfc-b9ad-4769-8c92-a6c4dae69d19",
        "execution": {
          "iopub.status.busy": "2021-12-17T01:22:05.149083Z",
          "iopub.execute_input": "2021-12-17T01:22:05.150751Z",
          "iopub.status.idle": "2021-12-17T01:22:05.164091Z",
          "shell.execute_reply.started": "2021-12-17T01:22:05.150676Z",
          "shell.execute_reply": "2021-12-17T01:22:05.163077Z"
        },
        "trusted": true,
        "id": "W5RhnQdSUZ4X"
      },
      "execution_count": 521,
      "outputs": []
    },
    {
      "cell_type": "markdown",
      "source": [
        "#**VERİ GÖRSELLEŞTİRME**"
      ],
      "metadata": {
        "id": "GLtttZSHSvcn"
      }
    },
    {
      "cell_type": "code",
      "source": [
        "dataFrame = pd.read_csv(\"https://raw.githubusercontent.com/BoranOner/Predicting-Diabetes/main/diabetes.csv\" ,encoding = 'unicode_escape')\n",
        "print(dataFrame)"
      ],
      "metadata": {
        "execution": {
          "iopub.status.busy": "2021-12-17T01:22:05.166488Z",
          "iopub.execute_input": "2021-12-17T01:22:05.167595Z",
          "iopub.status.idle": "2021-12-17T01:22:05.189252Z",
          "shell.execute_reply.started": "2021-12-17T01:22:05.167518Z",
          "shell.execute_reply": "2021-12-17T01:22:05.187929Z"
        },
        "trusted": true,
        "id": "iVb2Ev9JUZ4Z",
        "colab": {
          "base_uri": "https://localhost:8080/"
        },
        "outputId": "529e759d-3de5-4e08-a504-8b17ca2fcee8"
      },
      "execution_count": 522,
      "outputs": [
        {
          "output_type": "stream",
          "name": "stdout",
          "text": [
            "     Pregnancies  Glucose  ...  Age  Outcome\n",
            "0              6      148  ...   50        1\n",
            "1              1       85  ...   31        0\n",
            "2              8      183  ...   32        1\n",
            "3              1       89  ...   21        0\n",
            "4              0      137  ...   33        1\n",
            "..           ...      ...  ...  ...      ...\n",
            "763           10      101  ...   63        0\n",
            "764            2      122  ...   27        0\n",
            "765            5      121  ...   30        0\n",
            "766            1      126  ...   47        1\n",
            "767            1       93  ...   23        0\n",
            "\n",
            "[768 rows x 9 columns]\n"
          ]
        }
      ]
    },
    {
      "cell_type": "code",
      "source": [
        "df1 = dataFrame.copy()\n",
        "df2 = dataFrame.copy()\n",
        "df3 = dataFrame.copy()"
      ],
      "metadata": {
        "execution": {
          "iopub.status.busy": "2021-12-17T01:22:05.191741Z",
          "iopub.execute_input": "2021-12-17T01:22:05.192403Z",
          "iopub.status.idle": "2021-12-17T01:22:05.198031Z",
          "shell.execute_reply.started": "2021-12-17T01:22:05.192361Z",
          "shell.execute_reply": "2021-12-17T01:22:05.196954Z"
        },
        "trusted": true,
        "id": "NxDlZbALUZ4a"
      },
      "execution_count": 523,
      "outputs": []
    },
    {
      "cell_type": "code",
      "source": [
        "df1 = pd.DataFrame(df1)"
      ],
      "metadata": {
        "execution": {
          "iopub.status.busy": "2021-12-17T01:22:05.199636Z",
          "iopub.execute_input": "2021-12-17T01:22:05.200427Z",
          "iopub.status.idle": "2021-12-17T01:22:05.212565Z",
          "shell.execute_reply.started": "2021-12-17T01:22:05.200379Z",
          "shell.execute_reply": "2021-12-17T01:22:05.211435Z"
        },
        "trusted": true,
        "id": "B494WG1hUZ4b"
      },
      "execution_count": 524,
      "outputs": []
    },
    {
      "cell_type": "code",
      "source": [
        "df1.head() "
      ],
      "metadata": {
        "execution": {
          "iopub.status.busy": "2021-12-17T01:22:05.215138Z",
          "iopub.execute_input": "2021-12-17T01:22:05.21571Z",
          "iopub.status.idle": "2021-12-17T01:22:05.237562Z",
          "shell.execute_reply.started": "2021-12-17T01:22:05.215657Z",
          "shell.execute_reply": "2021-12-17T01:22:05.236492Z"
        },
        "trusted": true,
        "id": "O8DwrGuqUZ4b",
        "colab": {
          "base_uri": "https://localhost:8080/",
          "height": 206
        },
        "outputId": "871afa62-1189-4b33-9373-55bdf3d9b365"
      },
      "execution_count": 525,
      "outputs": [
        {
          "output_type": "execute_result",
          "data": {
            "text/html": [
              "\n",
              "  <div id=\"df-de2122bc-c39d-4f1c-969b-fbe90a3caa0d\">\n",
              "    <div class=\"colab-df-container\">\n",
              "      <div>\n",
              "<style scoped>\n",
              "    .dataframe tbody tr th:only-of-type {\n",
              "        vertical-align: middle;\n",
              "    }\n",
              "\n",
              "    .dataframe tbody tr th {\n",
              "        vertical-align: top;\n",
              "    }\n",
              "\n",
              "    .dataframe thead th {\n",
              "        text-align: right;\n",
              "    }\n",
              "</style>\n",
              "<table border=\"1\" class=\"dataframe\">\n",
              "  <thead>\n",
              "    <tr style=\"text-align: right;\">\n",
              "      <th></th>\n",
              "      <th>Pregnancies</th>\n",
              "      <th>Glucose</th>\n",
              "      <th>BloodPressure</th>\n",
              "      <th>SkinThickness</th>\n",
              "      <th>Insulin</th>\n",
              "      <th>BMI</th>\n",
              "      <th>DiabetesPedigreeFunction</th>\n",
              "      <th>Age</th>\n",
              "      <th>Outcome</th>\n",
              "    </tr>\n",
              "  </thead>\n",
              "  <tbody>\n",
              "    <tr>\n",
              "      <th>0</th>\n",
              "      <td>6</td>\n",
              "      <td>148</td>\n",
              "      <td>72</td>\n",
              "      <td>35</td>\n",
              "      <td>0</td>\n",
              "      <td>33.6</td>\n",
              "      <td>0.627</td>\n",
              "      <td>50</td>\n",
              "      <td>1</td>\n",
              "    </tr>\n",
              "    <tr>\n",
              "      <th>1</th>\n",
              "      <td>1</td>\n",
              "      <td>85</td>\n",
              "      <td>66</td>\n",
              "      <td>29</td>\n",
              "      <td>0</td>\n",
              "      <td>26.6</td>\n",
              "      <td>0.351</td>\n",
              "      <td>31</td>\n",
              "      <td>0</td>\n",
              "    </tr>\n",
              "    <tr>\n",
              "      <th>2</th>\n",
              "      <td>8</td>\n",
              "      <td>183</td>\n",
              "      <td>64</td>\n",
              "      <td>0</td>\n",
              "      <td>0</td>\n",
              "      <td>23.3</td>\n",
              "      <td>0.672</td>\n",
              "      <td>32</td>\n",
              "      <td>1</td>\n",
              "    </tr>\n",
              "    <tr>\n",
              "      <th>3</th>\n",
              "      <td>1</td>\n",
              "      <td>89</td>\n",
              "      <td>66</td>\n",
              "      <td>23</td>\n",
              "      <td>94</td>\n",
              "      <td>28.1</td>\n",
              "      <td>0.167</td>\n",
              "      <td>21</td>\n",
              "      <td>0</td>\n",
              "    </tr>\n",
              "    <tr>\n",
              "      <th>4</th>\n",
              "      <td>0</td>\n",
              "      <td>137</td>\n",
              "      <td>40</td>\n",
              "      <td>35</td>\n",
              "      <td>168</td>\n",
              "      <td>43.1</td>\n",
              "      <td>2.288</td>\n",
              "      <td>33</td>\n",
              "      <td>1</td>\n",
              "    </tr>\n",
              "  </tbody>\n",
              "</table>\n",
              "</div>\n",
              "      <button class=\"colab-df-convert\" onclick=\"convertToInteractive('df-de2122bc-c39d-4f1c-969b-fbe90a3caa0d')\"\n",
              "              title=\"Convert this dataframe to an interactive table.\"\n",
              "              style=\"display:none;\">\n",
              "        \n",
              "  <svg xmlns=\"http://www.w3.org/2000/svg\" height=\"24px\"viewBox=\"0 0 24 24\"\n",
              "       width=\"24px\">\n",
              "    <path d=\"M0 0h24v24H0V0z\" fill=\"none\"/>\n",
              "    <path d=\"M18.56 5.44l.94 2.06.94-2.06 2.06-.94-2.06-.94-.94-2.06-.94 2.06-2.06.94zm-11 1L8.5 8.5l.94-2.06 2.06-.94-2.06-.94L8.5 2.5l-.94 2.06-2.06.94zm10 10l.94 2.06.94-2.06 2.06-.94-2.06-.94-.94-2.06-.94 2.06-2.06.94z\"/><path d=\"M17.41 7.96l-1.37-1.37c-.4-.4-.92-.59-1.43-.59-.52 0-1.04.2-1.43.59L10.3 9.45l-7.72 7.72c-.78.78-.78 2.05 0 2.83L4 21.41c.39.39.9.59 1.41.59.51 0 1.02-.2 1.41-.59l7.78-7.78 2.81-2.81c.8-.78.8-2.07 0-2.86zM5.41 20L4 18.59l7.72-7.72 1.47 1.35L5.41 20z\"/>\n",
              "  </svg>\n",
              "      </button>\n",
              "      \n",
              "  <style>\n",
              "    .colab-df-container {\n",
              "      display:flex;\n",
              "      flex-wrap:wrap;\n",
              "      gap: 12px;\n",
              "    }\n",
              "\n",
              "    .colab-df-convert {\n",
              "      background-color: #E8F0FE;\n",
              "      border: none;\n",
              "      border-radius: 50%;\n",
              "      cursor: pointer;\n",
              "      display: none;\n",
              "      fill: #1967D2;\n",
              "      height: 32px;\n",
              "      padding: 0 0 0 0;\n",
              "      width: 32px;\n",
              "    }\n",
              "\n",
              "    .colab-df-convert:hover {\n",
              "      background-color: #E2EBFA;\n",
              "      box-shadow: 0px 1px 2px rgba(60, 64, 67, 0.3), 0px 1px 3px 1px rgba(60, 64, 67, 0.15);\n",
              "      fill: #174EA6;\n",
              "    }\n",
              "\n",
              "    [theme=dark] .colab-df-convert {\n",
              "      background-color: #3B4455;\n",
              "      fill: #D2E3FC;\n",
              "    }\n",
              "\n",
              "    [theme=dark] .colab-df-convert:hover {\n",
              "      background-color: #434B5C;\n",
              "      box-shadow: 0px 1px 3px 1px rgba(0, 0, 0, 0.15);\n",
              "      filter: drop-shadow(0px 1px 2px rgba(0, 0, 0, 0.3));\n",
              "      fill: #FFFFFF;\n",
              "    }\n",
              "  </style>\n",
              "\n",
              "      <script>\n",
              "        const buttonEl =\n",
              "          document.querySelector('#df-de2122bc-c39d-4f1c-969b-fbe90a3caa0d button.colab-df-convert');\n",
              "        buttonEl.style.display =\n",
              "          google.colab.kernel.accessAllowed ? 'block' : 'none';\n",
              "\n",
              "        async function convertToInteractive(key) {\n",
              "          const element = document.querySelector('#df-de2122bc-c39d-4f1c-969b-fbe90a3caa0d');\n",
              "          const dataTable =\n",
              "            await google.colab.kernel.invokeFunction('convertToInteractive',\n",
              "                                                     [key], {});\n",
              "          if (!dataTable) return;\n",
              "\n",
              "          const docLinkHtml = 'Like what you see? Visit the ' +\n",
              "            '<a target=\"_blank\" href=https://colab.research.google.com/notebooks/data_table.ipynb>data table notebook</a>'\n",
              "            + ' to learn more about interactive tables.';\n",
              "          element.innerHTML = '';\n",
              "          dataTable['output_type'] = 'display_data';\n",
              "          await google.colab.output.renderOutput(dataTable, element);\n",
              "          const docLink = document.createElement('div');\n",
              "          docLink.innerHTML = docLinkHtml;\n",
              "          element.appendChild(docLink);\n",
              "        }\n",
              "      </script>\n",
              "    </div>\n",
              "  </div>\n",
              "  "
            ],
            "text/plain": [
              "   Pregnancies  Glucose  BloodPressure  ...  DiabetesPedigreeFunction  Age  Outcome\n",
              "0            6      148             72  ...                     0.627   50        1\n",
              "1            1       85             66  ...                     0.351   31        0\n",
              "2            8      183             64  ...                     0.672   32        1\n",
              "3            1       89             66  ...                     0.167   21        0\n",
              "4            0      137             40  ...                     2.288   33        1\n",
              "\n",
              "[5 rows x 9 columns]"
            ]
          },
          "metadata": {},
          "execution_count": 525
        }
      ]
    },
    {
      "cell_type": "code",
      "source": [
        "df1.info()"
      ],
      "metadata": {
        "execution": {
          "iopub.status.busy": "2021-12-17T01:22:05.239314Z",
          "iopub.execute_input": "2021-12-17T01:22:05.239768Z",
          "iopub.status.idle": "2021-12-17T01:22:05.260953Z",
          "shell.execute_reply.started": "2021-12-17T01:22:05.239719Z",
          "shell.execute_reply": "2021-12-17T01:22:05.259929Z"
        },
        "trusted": true,
        "id": "B-bzbbZ7UZ4c",
        "colab": {
          "base_uri": "https://localhost:8080/"
        },
        "outputId": "b6a39384-ca03-4cf2-b29f-a5b3cd80c262"
      },
      "execution_count": 526,
      "outputs": [
        {
          "output_type": "stream",
          "name": "stdout",
          "text": [
            "<class 'pandas.core.frame.DataFrame'>\n",
            "RangeIndex: 768 entries, 0 to 767\n",
            "Data columns (total 9 columns):\n",
            " #   Column                    Non-Null Count  Dtype  \n",
            "---  ------                    --------------  -----  \n",
            " 0   Pregnancies               768 non-null    int64  \n",
            " 1   Glucose                   768 non-null    int64  \n",
            " 2   BloodPressure             768 non-null    int64  \n",
            " 3   SkinThickness             768 non-null    int64  \n",
            " 4   Insulin                   768 non-null    int64  \n",
            " 5   BMI                       768 non-null    float64\n",
            " 6   DiabetesPedigreeFunction  768 non-null    float64\n",
            " 7   Age                       768 non-null    int64  \n",
            " 8   Outcome                   768 non-null    int64  \n",
            "dtypes: float64(2), int64(7)\n",
            "memory usage: 54.1 KB\n"
          ]
        }
      ]
    },
    {
      "cell_type": "code",
      "source": [
        "df1.describe().T"
      ],
      "metadata": {
        "execution": {
          "iopub.status.busy": "2021-12-17T01:22:05.262571Z",
          "iopub.execute_input": "2021-12-17T01:22:05.263135Z",
          "iopub.status.idle": "2021-12-17T01:22:05.312092Z",
          "shell.execute_reply.started": "2021-12-17T01:22:05.263077Z",
          "shell.execute_reply": "2021-12-17T01:22:05.311216Z"
        },
        "trusted": true,
        "id": "J7dHp8QfUZ4c",
        "colab": {
          "base_uri": "https://localhost:8080/",
          "height": 332
        },
        "outputId": "30dc530b-d13f-4b84-e67d-60dbf69dccf7"
      },
      "execution_count": 527,
      "outputs": [
        {
          "output_type": "execute_result",
          "data": {
            "text/html": [
              "\n",
              "  <div id=\"df-e65450ac-192d-47ae-b50e-d7c30d564c20\">\n",
              "    <div class=\"colab-df-container\">\n",
              "      <div>\n",
              "<style scoped>\n",
              "    .dataframe tbody tr th:only-of-type {\n",
              "        vertical-align: middle;\n",
              "    }\n",
              "\n",
              "    .dataframe tbody tr th {\n",
              "        vertical-align: top;\n",
              "    }\n",
              "\n",
              "    .dataframe thead th {\n",
              "        text-align: right;\n",
              "    }\n",
              "</style>\n",
              "<table border=\"1\" class=\"dataframe\">\n",
              "  <thead>\n",
              "    <tr style=\"text-align: right;\">\n",
              "      <th></th>\n",
              "      <th>count</th>\n",
              "      <th>mean</th>\n",
              "      <th>std</th>\n",
              "      <th>min</th>\n",
              "      <th>25%</th>\n",
              "      <th>50%</th>\n",
              "      <th>75%</th>\n",
              "      <th>max</th>\n",
              "    </tr>\n",
              "  </thead>\n",
              "  <tbody>\n",
              "    <tr>\n",
              "      <th>Pregnancies</th>\n",
              "      <td>768.0</td>\n",
              "      <td>3.845052</td>\n",
              "      <td>3.369578</td>\n",
              "      <td>0.000</td>\n",
              "      <td>1.00000</td>\n",
              "      <td>3.0000</td>\n",
              "      <td>6.00000</td>\n",
              "      <td>17.00</td>\n",
              "    </tr>\n",
              "    <tr>\n",
              "      <th>Glucose</th>\n",
              "      <td>768.0</td>\n",
              "      <td>120.894531</td>\n",
              "      <td>31.972618</td>\n",
              "      <td>0.000</td>\n",
              "      <td>99.00000</td>\n",
              "      <td>117.0000</td>\n",
              "      <td>140.25000</td>\n",
              "      <td>199.00</td>\n",
              "    </tr>\n",
              "    <tr>\n",
              "      <th>BloodPressure</th>\n",
              "      <td>768.0</td>\n",
              "      <td>69.105469</td>\n",
              "      <td>19.355807</td>\n",
              "      <td>0.000</td>\n",
              "      <td>62.00000</td>\n",
              "      <td>72.0000</td>\n",
              "      <td>80.00000</td>\n",
              "      <td>122.00</td>\n",
              "    </tr>\n",
              "    <tr>\n",
              "      <th>SkinThickness</th>\n",
              "      <td>768.0</td>\n",
              "      <td>20.536458</td>\n",
              "      <td>15.952218</td>\n",
              "      <td>0.000</td>\n",
              "      <td>0.00000</td>\n",
              "      <td>23.0000</td>\n",
              "      <td>32.00000</td>\n",
              "      <td>99.00</td>\n",
              "    </tr>\n",
              "    <tr>\n",
              "      <th>Insulin</th>\n",
              "      <td>768.0</td>\n",
              "      <td>79.799479</td>\n",
              "      <td>115.244002</td>\n",
              "      <td>0.000</td>\n",
              "      <td>0.00000</td>\n",
              "      <td>30.5000</td>\n",
              "      <td>127.25000</td>\n",
              "      <td>846.00</td>\n",
              "    </tr>\n",
              "    <tr>\n",
              "      <th>BMI</th>\n",
              "      <td>768.0</td>\n",
              "      <td>31.992578</td>\n",
              "      <td>7.884160</td>\n",
              "      <td>0.000</td>\n",
              "      <td>27.30000</td>\n",
              "      <td>32.0000</td>\n",
              "      <td>36.60000</td>\n",
              "      <td>67.10</td>\n",
              "    </tr>\n",
              "    <tr>\n",
              "      <th>DiabetesPedigreeFunction</th>\n",
              "      <td>768.0</td>\n",
              "      <td>0.471876</td>\n",
              "      <td>0.331329</td>\n",
              "      <td>0.078</td>\n",
              "      <td>0.24375</td>\n",
              "      <td>0.3725</td>\n",
              "      <td>0.62625</td>\n",
              "      <td>2.42</td>\n",
              "    </tr>\n",
              "    <tr>\n",
              "      <th>Age</th>\n",
              "      <td>768.0</td>\n",
              "      <td>33.240885</td>\n",
              "      <td>11.760232</td>\n",
              "      <td>21.000</td>\n",
              "      <td>24.00000</td>\n",
              "      <td>29.0000</td>\n",
              "      <td>41.00000</td>\n",
              "      <td>81.00</td>\n",
              "    </tr>\n",
              "    <tr>\n",
              "      <th>Outcome</th>\n",
              "      <td>768.0</td>\n",
              "      <td>0.348958</td>\n",
              "      <td>0.476951</td>\n",
              "      <td>0.000</td>\n",
              "      <td>0.00000</td>\n",
              "      <td>0.0000</td>\n",
              "      <td>1.00000</td>\n",
              "      <td>1.00</td>\n",
              "    </tr>\n",
              "  </tbody>\n",
              "</table>\n",
              "</div>\n",
              "      <button class=\"colab-df-convert\" onclick=\"convertToInteractive('df-e65450ac-192d-47ae-b50e-d7c30d564c20')\"\n",
              "              title=\"Convert this dataframe to an interactive table.\"\n",
              "              style=\"display:none;\">\n",
              "        \n",
              "  <svg xmlns=\"http://www.w3.org/2000/svg\" height=\"24px\"viewBox=\"0 0 24 24\"\n",
              "       width=\"24px\">\n",
              "    <path d=\"M0 0h24v24H0V0z\" fill=\"none\"/>\n",
              "    <path d=\"M18.56 5.44l.94 2.06.94-2.06 2.06-.94-2.06-.94-.94-2.06-.94 2.06-2.06.94zm-11 1L8.5 8.5l.94-2.06 2.06-.94-2.06-.94L8.5 2.5l-.94 2.06-2.06.94zm10 10l.94 2.06.94-2.06 2.06-.94-2.06-.94-.94-2.06-.94 2.06-2.06.94z\"/><path d=\"M17.41 7.96l-1.37-1.37c-.4-.4-.92-.59-1.43-.59-.52 0-1.04.2-1.43.59L10.3 9.45l-7.72 7.72c-.78.78-.78 2.05 0 2.83L4 21.41c.39.39.9.59 1.41.59.51 0 1.02-.2 1.41-.59l7.78-7.78 2.81-2.81c.8-.78.8-2.07 0-2.86zM5.41 20L4 18.59l7.72-7.72 1.47 1.35L5.41 20z\"/>\n",
              "  </svg>\n",
              "      </button>\n",
              "      \n",
              "  <style>\n",
              "    .colab-df-container {\n",
              "      display:flex;\n",
              "      flex-wrap:wrap;\n",
              "      gap: 12px;\n",
              "    }\n",
              "\n",
              "    .colab-df-convert {\n",
              "      background-color: #E8F0FE;\n",
              "      border: none;\n",
              "      border-radius: 50%;\n",
              "      cursor: pointer;\n",
              "      display: none;\n",
              "      fill: #1967D2;\n",
              "      height: 32px;\n",
              "      padding: 0 0 0 0;\n",
              "      width: 32px;\n",
              "    }\n",
              "\n",
              "    .colab-df-convert:hover {\n",
              "      background-color: #E2EBFA;\n",
              "      box-shadow: 0px 1px 2px rgba(60, 64, 67, 0.3), 0px 1px 3px 1px rgba(60, 64, 67, 0.15);\n",
              "      fill: #174EA6;\n",
              "    }\n",
              "\n",
              "    [theme=dark] .colab-df-convert {\n",
              "      background-color: #3B4455;\n",
              "      fill: #D2E3FC;\n",
              "    }\n",
              "\n",
              "    [theme=dark] .colab-df-convert:hover {\n",
              "      background-color: #434B5C;\n",
              "      box-shadow: 0px 1px 3px 1px rgba(0, 0, 0, 0.15);\n",
              "      filter: drop-shadow(0px 1px 2px rgba(0, 0, 0, 0.3));\n",
              "      fill: #FFFFFF;\n",
              "    }\n",
              "  </style>\n",
              "\n",
              "      <script>\n",
              "        const buttonEl =\n",
              "          document.querySelector('#df-e65450ac-192d-47ae-b50e-d7c30d564c20 button.colab-df-convert');\n",
              "        buttonEl.style.display =\n",
              "          google.colab.kernel.accessAllowed ? 'block' : 'none';\n",
              "\n",
              "        async function convertToInteractive(key) {\n",
              "          const element = document.querySelector('#df-e65450ac-192d-47ae-b50e-d7c30d564c20');\n",
              "          const dataTable =\n",
              "            await google.colab.kernel.invokeFunction('convertToInteractive',\n",
              "                                                     [key], {});\n",
              "          if (!dataTable) return;\n",
              "\n",
              "          const docLinkHtml = 'Like what you see? Visit the ' +\n",
              "            '<a target=\"_blank\" href=https://colab.research.google.com/notebooks/data_table.ipynb>data table notebook</a>'\n",
              "            + ' to learn more about interactive tables.';\n",
              "          element.innerHTML = '';\n",
              "          dataTable['output_type'] = 'display_data';\n",
              "          await google.colab.output.renderOutput(dataTable, element);\n",
              "          const docLink = document.createElement('div');\n",
              "          docLink.innerHTML = docLinkHtml;\n",
              "          element.appendChild(docLink);\n",
              "        }\n",
              "      </script>\n",
              "    </div>\n",
              "  </div>\n",
              "  "
            ],
            "text/plain": [
              "                          count        mean  ...        75%     max\n",
              "Pregnancies               768.0    3.845052  ...    6.00000   17.00\n",
              "Glucose                   768.0  120.894531  ...  140.25000  199.00\n",
              "BloodPressure             768.0   69.105469  ...   80.00000  122.00\n",
              "SkinThickness             768.0   20.536458  ...   32.00000   99.00\n",
              "Insulin                   768.0   79.799479  ...  127.25000  846.00\n",
              "BMI                       768.0   31.992578  ...   36.60000   67.10\n",
              "DiabetesPedigreeFunction  768.0    0.471876  ...    0.62625    2.42\n",
              "Age                       768.0   33.240885  ...   41.00000   81.00\n",
              "Outcome                   768.0    0.348958  ...    1.00000    1.00\n",
              "\n",
              "[9 rows x 8 columns]"
            ]
          },
          "metadata": {},
          "execution_count": 527
        }
      ]
    },
    {
      "cell_type": "code",
      "source": [
        "df1['Outcome'].value_counts()"
      ],
      "metadata": {
        "execution": {
          "iopub.status.busy": "2021-12-17T01:22:05.313604Z",
          "iopub.execute_input": "2021-12-17T01:22:05.313886Z",
          "iopub.status.idle": "2021-12-17T01:22:05.322985Z",
          "shell.execute_reply.started": "2021-12-17T01:22:05.313851Z",
          "shell.execute_reply": "2021-12-17T01:22:05.322045Z"
        },
        "trusted": true,
        "id": "hcv5-ld2UZ4d",
        "colab": {
          "base_uri": "https://localhost:8080/"
        },
        "outputId": "2f0e2a7e-06c9-4dbd-8334-8e3821fd94fb"
      },
      "execution_count": 528,
      "outputs": [
        {
          "output_type": "execute_result",
          "data": {
            "text/plain": [
              "0    500\n",
              "1    268\n",
              "Name: Outcome, dtype: int64"
            ]
          },
          "metadata": {},
          "execution_count": 528
        }
      ]
    },
    {
      "cell_type": "code",
      "source": [
        "f,ax=plt.subplots(1,2,figsize=(10,5))\n",
        "df1['Outcome'].value_counts().plot.pie(explode=[0,0.1],autopct='%1.1f%%',ax=ax[0],shadow=True)\n",
        "ax[0].set_title('Dağılım')\n",
        "ax[0].set_ylabel('')\n",
        "sns.countplot('Outcome',data=df1,ax=ax[1])\n",
        "ax[1].set_title('Outcome')\n",
        "plt.show()"
      ],
      "metadata": {
        "execution": {
          "iopub.status.busy": "2021-12-17T01:22:05.324802Z",
          "iopub.execute_input": "2021-12-17T01:22:05.325314Z",
          "iopub.status.idle": "2021-12-17T01:22:05.601907Z",
          "shell.execute_reply.started": "2021-12-17T01:22:05.325268Z",
          "shell.execute_reply": "2021-12-17T01:22:05.600961Z"
        },
        "trusted": true,
        "id": "TxaNZOJBUZ4e",
        "colab": {
          "base_uri": "https://localhost:8080/",
          "height": 405
        },
        "outputId": "d1d5a5fd-a45e-4d04-a0b9-0954fc982792"
      },
      "execution_count": 529,
      "outputs": [
        {
          "output_type": "stream",
          "name": "stderr",
          "text": [
            "/usr/local/lib/python3.7/dist-packages/seaborn/_decorators.py:43: FutureWarning: Pass the following variable as a keyword arg: x. From version 0.12, the only valid positional argument will be `data`, and passing other arguments without an explicit keyword will result in an error or misinterpretation.\n",
            "  FutureWarning\n"
          ]
        },
        {
          "output_type": "display_data",
          "data": {
            "image/png": "[encoded data removed]",
            "text/plain": [
              "<Figure size 720x360 with 2 Axes>"
            ]
          },
          "metadata": {
            "needs_background": "light"
          }
        }
      ]
    },
    {
      "cell_type": "code",
      "source": [
        "df1.isnull().sum()  # null değer gözükmüyor "
      ],
      "metadata": {
        "execution": {
          "iopub.status.busy": "2021-12-17T01:22:05.604287Z",
          "iopub.execute_input": "2021-12-17T01:22:05.604561Z",
          "iopub.status.idle": "2021-12-17T01:22:05.616182Z",
          "shell.execute_reply.started": "2021-12-17T01:22:05.604514Z",
          "shell.execute_reply": "2021-12-17T01:22:05.615247Z"
        },
        "trusted": true,
        "id": "vN7WVvQiUZ4f",
        "colab": {
          "base_uri": "https://localhost:8080/"
        },
        "outputId": "07a9b3f7-77b9-47dc-c4b2-89fc77cd1fbb"
      },
      "execution_count": 530,
      "outputs": [
        {
          "output_type": "execute_result",
          "data": {
            "text/plain": [
              "Pregnancies                 0\n",
              "Glucose                     0\n",
              "BloodPressure               0\n",
              "SkinThickness               0\n",
              "Insulin                     0\n",
              "BMI                         0\n",
              "DiabetesPedigreeFunction    0\n",
              "Age                         0\n",
              "Outcome                     0\n",
              "dtype: int64"
            ]
          },
          "metadata": {},
          "execution_count": 530
        }
      ]
    },
    {
      "cell_type": "code",
      "source": [
        "df1[[\"Glucose\",\"BloodPressure\",\n",
        "     \"BMI\"]] = df1[[\"Glucose\",\"BloodPressure\",\n",
        "     \"BMI\"]].replace(0,np.NaN)\n",
        "df1.isnull().sum()"
      ],
      "metadata": {
        "execution": {
          "iopub.status.busy": "2021-12-17T01:22:05.617619Z",
          "iopub.execute_input": "2021-12-17T01:22:05.618041Z",
          "iopub.status.idle": "2021-12-17T01:22:05.640043Z",
          "shell.execute_reply.started": "2021-12-17T01:22:05.61801Z",
          "shell.execute_reply": "2021-12-17T01:22:05.639217Z"
        },
        "trusted": true,
        "id": "8Zhvhmx4UZ4f",
        "colab": {
          "base_uri": "https://localhost:8080/"
        },
        "outputId": "7da6c36f-580d-44ef-ee0e-4831622f891b"
      },
      "execution_count": 531,
      "outputs": [
        {
          "output_type": "execute_result",
          "data": {
            "text/plain": [
              "Pregnancies                  0\n",
              "Glucose                      5\n",
              "BloodPressure               35\n",
              "SkinThickness                0\n",
              "Insulin                      0\n",
              "BMI                         11\n",
              "DiabetesPedigreeFunction     0\n",
              "Age                          0\n",
              "Outcome                      0\n",
              "dtype: int64"
            ]
          },
          "metadata": {},
          "execution_count": 531
        }
      ]
    },
    {
      "cell_type": "code",
      "source": [
        "msno.matrix(df1,figsize=(10,8))\n",
        "plt.show()"
      ],
      "metadata": {
        "execution": {
          "iopub.status.busy": "2021-12-17T01:22:05.641277Z",
          "iopub.execute_input": "2021-12-17T01:22:05.641783Z",
          "iopub.status.idle": "2021-12-17T01:22:05.999878Z",
          "shell.execute_reply.started": "2021-12-17T01:22:05.641747Z",
          "shell.execute_reply": "2021-12-17T01:22:05.998923Z"
        },
        "trusted": true,
        "id": "l00sBM6YUZ4f",
        "colab": {
          "base_uri": "https://localhost:8080/",
          "height": 643
        },
        "outputId": "40512cd6-daf3-4582-db90-a6f931bae6d8"
      },
      "execution_count": 532,
      "outputs": [
        {
          "output_type": "display_data",
          "data": {
            "image/png": "[encoded data removed]",
            "text/plain": [
              "<Figure size 720x576 with 2 Axes>"
            ]
          },
          "metadata": {
            "needs_background": "light"
          }
        }
      ]
    },
    {
      "cell_type": "code",
      "source": [
        "msno.bar(df1,figsize=(10,8))\n",
        "plt.show()\n"
      ],
      "metadata": {
        "execution": {
          "iopub.status.busy": "2021-12-17T01:22:06.00133Z",
          "iopub.execute_input": "2021-12-17T01:22:06.001881Z",
          "iopub.status.idle": "2021-12-17T01:22:06.802417Z",
          "shell.execute_reply.started": "2021-12-17T01:22:06.001847Z",
          "shell.execute_reply": "2021-12-17T01:22:06.801473Z"
        },
        "trusted": true,
        "id": "eN1nKt9IUZ4g",
        "colab": {
          "base_uri": "https://localhost:8080/",
          "height": 671
        },
        "outputId": "6b98b448-ef8d-4879-c434-85bb56a4bee0"
      },
      "execution_count": 533,
      "outputs": [
        {
          "output_type": "display_data",
          "data": {
            "image/png": "[encoded data removed]",
            "text/plain": [
              "<Figure size 720x576 with 3 Axes>"
            ]
          },
          "metadata": {
            "needs_background": "light"
          }
        }
      ]
    },
    {
      "cell_type": "code",
      "source": [
        "df1.dropna(inplace = True)\n"
      ],
      "metadata": {
        "execution": {
          "iopub.status.busy": "2021-12-17T01:22:06.803944Z",
          "iopub.execute_input": "2021-12-17T01:22:06.804491Z",
          "iopub.status.idle": "2021-12-17T01:22:06.815092Z",
          "shell.execute_reply.started": "2021-12-17T01:22:06.804442Z",
          "shell.execute_reply": "2021-12-17T01:22:06.814422Z"
        },
        "trusted": true,
        "id": "nX_x4AL_UZ4g"
      },
      "execution_count": 534,
      "outputs": []
    },
    {
      "cell_type": "code",
      "source": [
        "df1.info()"
      ],
      "metadata": {
        "execution": {
          "iopub.status.busy": "2021-12-17T01:22:06.816227Z",
          "iopub.execute_input": "2021-12-17T01:22:06.816468Z",
          "iopub.status.idle": "2021-12-17T01:22:06.841788Z",
          "shell.execute_reply.started": "2021-12-17T01:22:06.816437Z",
          "shell.execute_reply": "2021-12-17T01:22:06.840652Z"
        },
        "trusted": true,
        "id": "TCS8e6gQUZ4h",
        "colab": {
          "base_uri": "https://localhost:8080/"
        },
        "outputId": "bd268d7a-2ff0-4f8e-fb30-4ae5cddd57d4"
      },
      "execution_count": 535,
      "outputs": [
        {
          "output_type": "stream",
          "name": "stdout",
          "text": [
            "<class 'pandas.core.frame.DataFrame'>\n",
            "Int64Index: 724 entries, 0 to 767\n",
            "Data columns (total 9 columns):\n",
            " #   Column                    Non-Null Count  Dtype  \n",
            "---  ------                    --------------  -----  \n",
            " 0   Pregnancies               724 non-null    int64  \n",
            " 1   Glucose                   724 non-null    float64\n",
            " 2   BloodPressure             724 non-null    float64\n",
            " 3   SkinThickness             724 non-null    int64  \n",
            " 4   Insulin                   724 non-null    int64  \n",
            " 5   BMI                       724 non-null    float64\n",
            " 6   DiabetesPedigreeFunction  724 non-null    float64\n",
            " 7   Age                       724 non-null    int64  \n",
            " 8   Outcome                   724 non-null    int64  \n",
            "dtypes: float64(4), int64(5)\n",
            "memory usage: 56.6 KB\n"
          ]
        }
      ]
    },
    {
      "cell_type": "markdown",
      "source": [
        "#***Standartlaştırma*** "
      ],
      "metadata": {
        "id": "0de7deMOToMF"
      }
    },
    {
      "cell_type": "code",
      "source": [
        "from sklearn.preprocessing import RobustScaler\n",
        "\n",
        "\n",
        "\n",
        "rob_scaler = RobustScaler()\n",
        "df1['Pregnancies'] = rob_scaler.fit_transform(df1['Pregnancies'].values.reshape(-1,1))\n",
        "df1['Glucose'] = rob_scaler.fit_transform(df1['Glucose'].values.reshape(-1,1))\n",
        "df1['BloodPressure'] = rob_scaler.fit_transform(df1['BloodPressure'].values.reshape(-1,1))\n",
        "df1['BMI'] = rob_scaler.fit_transform(df1['BMI'].values.reshape(-1,1))\n",
        "df1['DiabetesPedigreeFunction'] = rob_scaler.fit_transform(df1['DiabetesPedigreeFunction'].values.reshape(-1,1))\n",
        "df1['Age'] = rob_scaler.fit_transform(df1['Age'].values.reshape(-1,1))\n",
        "df1['Insulin'] = rob_scaler.fit_transform(df1['Insulin'].values.reshape(-1,1))\n",
        "df1['SkinThickness'] = rob_scaler.fit_transform(df1['SkinThickness'].values.reshape(-1,1))\n",
        "df1.head()"
      ],
      "metadata": {
        "execution": {
          "iopub.status.busy": "2021-12-17T01:22:06.843322Z",
          "iopub.execute_input": "2021-12-17T01:22:06.843674Z",
          "iopub.status.idle": "2021-12-17T01:22:06.878069Z",
          "shell.execute_reply.started": "2021-12-17T01:22:06.843627Z",
          "shell.execute_reply": "2021-12-17T01:22:06.877227Z"
        },
        "trusted": true,
        "id": "TKSz5roKUZ4h",
        "colab": {
          "base_uri": "https://localhost:8080/",
          "height": 206
        },
        "outputId": "5f190bdc-cf6e-44d0-c0e1-fb2df30eb341"
      },
      "execution_count": 536,
      "outputs": [
        {
          "output_type": "execute_result",
          "data": {
            "text/html": [
              "\n",
              "  <div id=\"df-ad485ba4-8d31-4829-b6e5-dd74c41bcf09\">\n",
              "    <div class=\"colab-df-container\">\n",
              "      <div>\n",
              "<style scoped>\n",
              "    .dataframe tbody tr th:only-of-type {\n",
              "        vertical-align: middle;\n",
              "    }\n",
              "\n",
              "    .dataframe tbody tr th {\n",
              "        vertical-align: top;\n",
              "    }\n",
              "\n",
              "    .dataframe thead th {\n",
              "        text-align: right;\n",
              "    }\n",
              "</style>\n",
              "<table border=\"1\" class=\"dataframe\">\n",
              "  <thead>\n",
              "    <tr style=\"text-align: right;\">\n",
              "      <th></th>\n",
              "      <th>Pregnancies</th>\n",
              "      <th>Glucose</th>\n",
              "      <th>BloodPressure</th>\n",
              "      <th>SkinThickness</th>\n",
              "      <th>Insulin</th>\n",
              "      <th>BMI</th>\n",
              "      <th>DiabetesPedigreeFunction</th>\n",
              "      <th>Age</th>\n",
              "      <th>Outcome</th>\n",
              "    </tr>\n",
              "  </thead>\n",
              "  <tbody>\n",
              "    <tr>\n",
              "      <th>0</th>\n",
              "      <td>0.6</td>\n",
              "      <td>0.733728</td>\n",
              "      <td>0.000</td>\n",
              "      <td>0.333333</td>\n",
              "      <td>-0.367816</td>\n",
              "      <td>0.131868</td>\n",
              "      <td>0.648366</td>\n",
              "      <td>1.235294</td>\n",
              "      <td>1</td>\n",
              "    </tr>\n",
              "    <tr>\n",
              "      <th>1</th>\n",
              "      <td>-0.4</td>\n",
              "      <td>-0.757396</td>\n",
              "      <td>-0.375</td>\n",
              "      <td>0.151515</td>\n",
              "      <td>-0.367816</td>\n",
              "      <td>-0.637363</td>\n",
              "      <td>-0.073203</td>\n",
              "      <td>0.117647</td>\n",
              "      <td>0</td>\n",
              "    </tr>\n",
              "    <tr>\n",
              "      <th>2</th>\n",
              "      <td>1.0</td>\n",
              "      <td>1.562130</td>\n",
              "      <td>-0.500</td>\n",
              "      <td>-0.727273</td>\n",
              "      <td>-0.367816</td>\n",
              "      <td>-1.000000</td>\n",
              "      <td>0.766013</td>\n",
              "      <td>0.176471</td>\n",
              "      <td>1</td>\n",
              "    </tr>\n",
              "    <tr>\n",
              "      <th>3</th>\n",
              "      <td>-0.4</td>\n",
              "      <td>-0.662722</td>\n",
              "      <td>-0.375</td>\n",
              "      <td>-0.030303</td>\n",
              "      <td>0.352490</td>\n",
              "      <td>-0.472527</td>\n",
              "      <td>-0.554248</td>\n",
              "      <td>-0.470588</td>\n",
              "      <td>0</td>\n",
              "    </tr>\n",
              "    <tr>\n",
              "      <th>4</th>\n",
              "      <td>-0.6</td>\n",
              "      <td>0.473373</td>\n",
              "      <td>-2.000</td>\n",
              "      <td>0.333333</td>\n",
              "      <td>0.919540</td>\n",
              "      <td>1.175824</td>\n",
              "      <td>4.990850</td>\n",
              "      <td>0.235294</td>\n",
              "      <td>1</td>\n",
              "    </tr>\n",
              "  </tbody>\n",
              "</table>\n",
              "</div>\n",
              "      <button class=\"colab-df-convert\" onclick=\"convertToInteractive('df-ad485ba4-8d31-4829-b6e5-dd74c41bcf09')\"\n",
              "              title=\"Convert this dataframe to an interactive table.\"\n",
              "              style=\"display:none;\">\n",
              "        \n",
              "  <svg xmlns=\"http://www.w3.org/2000/svg\" height=\"24px\"viewBox=\"0 0 24 24\"\n",
              "       width=\"24px\">\n",
              "    <path d=\"M0 0h24v24H0V0z\" fill=\"none\"/>\n",
              "    <path d=\"M18.56 5.44l.94 2.06.94-2.06 2.06-.94-2.06-.94-.94-2.06-.94 2.06-2.06.94zm-11 1L8.5 8.5l.94-2.06 2.06-.94-2.06-.94L8.5 2.5l-.94 2.06-2.06.94zm10 10l.94 2.06.94-2.06 2.06-.94-2.06-.94-.94-2.06-.94 2.06-2.06.94z\"/><path d=\"M17.41 7.96l-1.37-1.37c-.4-.4-.92-.59-1.43-.59-.52 0-1.04.2-1.43.59L10.3 9.45l-7.72 7.72c-.78.78-.78 2.05 0 2.83L4 21.41c.39.39.9.59 1.41.59.51 0 1.02-.2 1.41-.59l7.78-7.78 2.81-2.81c.8-.78.8-2.07 0-2.86zM5.41 20L4 18.59l7.72-7.72 1.47 1.35L5.41 20z\"/>\n",
              "  </svg>\n",
              "      </button>\n",
              "      \n",
              "  <style>\n",
              "    .colab-df-container {\n",
              "      display:flex;\n",
              "      flex-wrap:wrap;\n",
              "      gap: 12px;\n",
              "    }\n",
              "\n",
              "    .colab-df-convert {\n",
              "      background-color: #E8F0FE;\n",
              "      border: none;\n",
              "      border-radius: 50%;\n",
              "      cursor: pointer;\n",
              "      display: none;\n",
              "      fill: #1967D2;\n",
              "      height: 32px;\n",
              "      padding: 0 0 0 0;\n",
              "      width: 32px;\n",
              "    }\n",
              "\n",
              "    .colab-df-convert:hover {\n",
              "      background-color: #E2EBFA;\n",
              "      box-shadow: 0px 1px 2px rgba(60, 64, 67, 0.3), 0px 1px 3px 1px rgba(60, 64, 67, 0.15);\n",
              "      fill: #174EA6;\n",
              "    }\n",
              "\n",
              "    [theme=dark] .colab-df-convert {\n",
              "      background-color: #3B4455;\n",
              "      fill: #D2E3FC;\n",
              "    }\n",
              "\n",
              "    [theme=dark] .colab-df-convert:hover {\n",
              "      background-color: #434B5C;\n",
              "      box-shadow: 0px 1px 3px 1px rgba(0, 0, 0, 0.15);\n",
              "      filter: drop-shadow(0px 1px 2px rgba(0, 0, 0, 0.3));\n",
              "      fill: #FFFFFF;\n",
              "    }\n",
              "  </style>\n",
              "\n",
              "      <script>\n",
              "        const buttonEl =\n",
              "          document.querySelector('#df-ad485ba4-8d31-4829-b6e5-dd74c41bcf09 button.colab-df-convert');\n",
              "        buttonEl.style.display =\n",
              "          google.colab.kernel.accessAllowed ? 'block' : 'none';\n",
              "\n",
              "        async function convertToInteractive(key) {\n",
              "          const element = document.querySelector('#df-ad485ba4-8d31-4829-b6e5-dd74c41bcf09');\n",
              "          const dataTable =\n",
              "            await google.colab.kernel.invokeFunction('convertToInteractive',\n",
              "                                                     [key], {});\n",
              "          if (!dataTable) return;\n",
              "\n",
              "          const docLinkHtml = 'Like what you see? Visit the ' +\n",
              "            '<a target=\"_blank\" href=https://colab.research.google.com/notebooks/data_table.ipynb>data table notebook</a>'\n",
              "            + ' to learn more about interactive tables.';\n",
              "          element.innerHTML = '';\n",
              "          dataTable['output_type'] = 'display_data';\n",
              "          await google.colab.output.renderOutput(dataTable, element);\n",
              "          const docLink = document.createElement('div');\n",
              "          docLink.innerHTML = docLinkHtml;\n",
              "          element.appendChild(docLink);\n",
              "        }\n",
              "      </script>\n",
              "    </div>\n",
              "  </div>\n",
              "  "
            ],
            "text/plain": [
              "   Pregnancies   Glucose  ...       Age  Outcome\n",
              "0          0.6  0.733728  ...  1.235294        1\n",
              "1         -0.4 -0.757396  ...  0.117647        0\n",
              "2          1.0  1.562130  ...  0.176471        1\n",
              "3         -0.4 -0.662722  ... -0.470588        0\n",
              "4         -0.6  0.473373  ...  0.235294        1\n",
              "\n",
              "[5 rows x 9 columns]"
            ]
          },
          "metadata": {},
          "execution_count": 536
        }
      ]
    },
    {
      "cell_type": "code",
      "source": [
        "# veri setini train ve test olarak ayırıyoruz\n",
        "\n",
        "from sklearn.model_selection import train_test_split\n",
        "\n",
        "X = df1.drop(\"Outcome\", axis=1)\n",
        "y = df1[\"Outcome\"]\n",
        "X_train, X_test, y_train, y_test = train_test_split(X, y, test_size=0.20, random_state=123456)"
      ],
      "metadata": {
        "execution": {
          "iopub.status.busy": "2021-12-17T01:22:06.879257Z",
          "iopub.execute_input": "2021-12-17T01:22:06.879492Z",
          "iopub.status.idle": "2021-12-17T01:22:06.888897Z",
          "shell.execute_reply.started": "2021-12-17T01:22:06.879462Z",
          "shell.execute_reply": "2021-12-17T01:22:06.888037Z"
        },
        "trusted": true,
        "id": "-LalCQgaUZ4h"
      },
      "execution_count": 537,
      "outputs": []
    },
    {
      "cell_type": "markdown",
      "source": [
        "\n",
        "\n",
        "---\n",
        "\n",
        "*Dengesiz Veri Seti*\n",
        "\n",
        "---\n",
        "\n"
      ],
      "metadata": {
        "id": "YcAzt0L2Wzor"
      }
    },
    {
      "cell_type": "code",
      "source": [
        "y_train.value_counts()    \n"
      ],
      "metadata": {
        "execution": {
          "iopub.status.busy": "2021-12-17T01:22:06.908243Z",
          "iopub.execute_input": "2021-12-17T01:22:06.908675Z",
          "iopub.status.idle": "2021-12-17T01:22:06.916094Z",
          "shell.execute_reply.started": "2021-12-17T01:22:06.90864Z",
          "shell.execute_reply": "2021-12-17T01:22:06.915469Z"
        },
        "trusted": true,
        "id": "Y87UMo_4UZ4i",
        "colab": {
          "base_uri": "https://localhost:8080/"
        },
        "outputId": "b2b8deb8-fa92-4b55-df28-8abb9a0cd906"
      },
      "execution_count": 538,
      "outputs": [
        {
          "output_type": "execute_result",
          "data": {
            "text/plain": [
              "0    377\n",
              "1    202\n",
              "Name: Outcome, dtype: int64"
            ]
          },
          "metadata": {},
          "execution_count": 538
        }
      ]
    },
    {
      "cell_type": "markdown",
      "source": [
        "\n",
        "\n",
        "---\n",
        "\n",
        "\n",
        "#GAUSSIAN-NB\n",
        "\n",
        "---\n",
        "\n"
      ],
      "metadata": {
        "id": "Cpefs_d2W9Y0"
      }
    },
    {
      "cell_type": "code",
      "source": [
        "from sklearn.naive_bayes import GaussianNB\n",
        "from sklearn.metrics import accuracy_score\n",
        "from sklearn.metrics import confusion_matrix\n",
        "from sklearn.metrics import classification_report,f1_score,recall_score,roc_auc_score, roc_curve\n",
        "from sklearn.metrics import accuracy_score\n",
        "\n",
        "from sklearn.metrics import plot_confusion_matrix\n",
        "\n",
        "from sklearn.metrics import confusion_matrix\n",
        "\n",
        "from sklearn.metrics import classification_report\n",
        "from sklearn.model_selection import GridSearchCV\n"
      ],
      "metadata": {
        "id": "CRbd1LInrVtn"
      },
      "execution_count": 539,
      "outputs": []
    },
    {
      "cell_type": "code",
      "source": [
        "gaussianNB = GaussianNB()\n",
        "gaussianNB = gaussianNB.fit(X_train, y_train)\n",
        "\n",
        "train_pred_gaussianNB = gaussianNB.predict(X_train)\n",
        "print('Train Accuracy : %.3f%% ' % (accuracy_score(y_train , train_pred_gaussianNB)*100))\n",
        "\n",
        "print(\"Confusion Matrix-GaussianNB-Train: \")\n",
        "print(confusion_matrix(y_train, train_pred_gaussianNB))\n",
        "\n",
        "print('\\nModel Sonuçları\\n')\n",
        "print(classification_report(y_train, train_pred_gaussianNB))\n",
        "\n",
        "print(\"-\"*40)\n",
        "\n",
        "test_pred_gaussianNB = gaussianNB.predict(X_test)\n",
        "print('Test Accuracy  : %.3f%% ' % (accuracy_score(y_test, test_pred_gaussianNB)*100))\n",
        "\n",
        "print(\"Confusion Matrix-GaussianNB-Test: \")\n",
        "print(confusion_matrix(y_test, test_pred_gaussianNB))\n",
        "\n",
        "print('\\nModel Sonuçları\\n')\n",
        "print(classification_report(y_test, test_pred_gaussianNB))"
      ],
      "metadata": {
        "execution": {
          "iopub.status.busy": "2021-12-17T01:22:06.919512Z",
          "iopub.execute_input": "2021-12-17T01:22:06.91996Z",
          "iopub.status.idle": "2021-12-17T01:22:06.94435Z",
          "shell.execute_reply.started": "2021-12-17T01:22:06.919923Z",
          "shell.execute_reply": "2021-12-17T01:22:06.943691Z"
        },
        "trusted": true,
        "id": "mbKAeOXeUZ4i",
        "colab": {
          "base_uri": "https://localhost:8080/"
        },
        "outputId": "3e86c117-d9a7-4139-bbb4-ab8cbc7a8fa5"
      },
      "execution_count": 540,
      "outputs": [
        {
          "output_type": "stream",
          "name": "stdout",
          "text": [
            "Train Accuracy : 77.202% \n",
            "Confusion Matrix-GaussianNB-Train: \n",
            "[[322  55]\n",
            " [ 77 125]]\n",
            "\n",
            "Model Sonuçları\n",
            "\n",
            "              precision    recall  f1-score   support\n",
            "\n",
            "           0       0.81      0.85      0.83       377\n",
            "           1       0.69      0.62      0.65       202\n",
            "\n",
            "    accuracy                           0.77       579\n",
            "   macro avg       0.75      0.74      0.74       579\n",
            "weighted avg       0.77      0.77      0.77       579\n",
            "\n",
            "----------------------------------------\n",
            "Test Accuracy  : 74.483% \n",
            "Confusion Matrix-GaussianNB-Test: \n",
            "[[81 17]\n",
            " [20 27]]\n",
            "\n",
            "Model Sonuçları\n",
            "\n",
            "              precision    recall  f1-score   support\n",
            "\n",
            "           0       0.80      0.83      0.81        98\n",
            "           1       0.61      0.57      0.59        47\n",
            "\n",
            "    accuracy                           0.74       145\n",
            "   macro avg       0.71      0.70      0.70       145\n",
            "weighted avg       0.74      0.74      0.74       145\n",
            "\n"
          ]
        }
      ]
    },
    {
      "cell_type": "code",
      "source": [
        "fpr , tpr , thresolds = metrics.roc_curve(y_train , train_pred_gaussianNB)\n",
        "roc_auc = metrics.auc(fpr , tpr)\n",
        "plt.plot(fpr , tpr ,'b' ,label = 'AUC =0.2f' %roc_auc)\n",
        "roc_auc"
      ],
      "metadata": {
        "id": "bWX_tZnkWK4N",
        "colab": {
          "base_uri": "https://localhost:8080/",
          "height": 282
        },
        "outputId": "80b5f46a-c49f-4d08-d295-6e65e3a7ca38"
      },
      "execution_count": 541,
      "outputs": [
        {
          "output_type": "execute_result",
          "data": {
            "text/plain": [
              "0.7364616435118313"
            ]
          },
          "metadata": {},
          "execution_count": 541
        },
        {
          "output_type": "display_data",
          "data": {
            "image/png": "[encoded data removed]",
            "text/plain": [
              "<Figure size 432x288 with 1 Axes>"
            ]
          },
          "metadata": {
            "needs_background": "light"
          }
        }
      ]
    },
    {
      "cell_type": "code",
      "source": [
        "fpr , tpr , thresolds = metrics.roc_curve(y_test, test_pred_gaussianNB)\n",
        "roc_auc = metrics.auc(fpr , tpr)\n",
        "plt.plot(fpr , tpr ,'b' ,label = 'AUC =0.2f' %roc_auc)\n",
        "roc_auc"
      ],
      "metadata": {
        "id": "JGqt7ApnXcRV",
        "colab": {
          "base_uri": "https://localhost:8080/",
          "height": 282
        },
        "outputId": "860f9c86-456c-48ad-f188-0c543fe49f8e"
      },
      "execution_count": 542,
      "outputs": [
        {
          "output_type": "execute_result",
          "data": {
            "text/plain": [
              "0.7004993486756405"
            ]
          },
          "metadata": {},
          "execution_count": 542
        },
        {
          "output_type": "display_data",
          "data": {
            "image/png": "[encoded data removed]",
            "text/plain": [
              "<Figure size 432x288 with 1 Axes>"
            ]
          },
          "metadata": {
            "needs_background": "light"
          }
        }
      ]
    },
    {
      "cell_type": "markdown",
      "source": [
        "\n",
        "\n",
        "---\n",
        "GaussianNB Hiperparametre ile\n",
        "\n",
        "---\n",
        "\n",
        "\n"
      ],
      "metadata": {
        "id": "tJyUr9mE9gxX"
      }
    },
    {
      "cell_type": "code",
      "source": [
        "nb_classifier = GaussianNB()\n",
        "\n",
        "params_NB = {'var_smoothing': np.logspace(0,-9, num=100)}\n",
        "gs_NB = GridSearchCV(estimator=nb_classifier, \n",
        "                 param_grid=params_NB,  \n",
        "                 verbose=1, \n",
        "                 scoring='accuracy') \n",
        "gs_NB.fit(X_train, y_train)\n",
        "\n",
        "gs_NB.best_params_\n",
        "\n",
        "grid_predictions = gs_NB.predict(X_test)\n",
        " \n",
        "# Sınıflandırma raporunu yazdırmak\n",
        "print(classification_report(y_test, grid_predictions))\n"
      ],
      "metadata": {
        "id": "Fb0zzhyXOf_g",
        "colab": {
          "base_uri": "https://localhost:8080/"
        },
        "outputId": "a033c054-eee3-4034-d274-204a9b5dd292"
      },
      "execution_count": 543,
      "outputs": [
        {
          "output_type": "stream",
          "name": "stdout",
          "text": [
            "Fitting 5 folds for each of 100 candidates, totalling 500 fits\n",
            "              precision    recall  f1-score   support\n",
            "\n",
            "           0       0.78      0.85      0.81        98\n",
            "           1       0.61      0.49      0.54        47\n",
            "\n",
            "    accuracy                           0.73       145\n",
            "   macro avg       0.69      0.67      0.68       145\n",
            "weighted avg       0.72      0.73      0.72       145\n",
            "\n"
          ]
        }
      ]
    },
    {
      "cell_type": "code",
      "source": [
        "print(\"En İyi Parametrelerin Verdiği Skor:\",gs_NB.best_score_)"
      ],
      "metadata": {
        "colab": {
          "base_uri": "https://localhost:8080/"
        },
        "id": "OOfFbJ7yMeOt",
        "outputId": "3bc2a375-cdb0-40a8-ea73-9f8132b810fa"
      },
      "execution_count": 544,
      "outputs": [
        {
          "output_type": "stream",
          "name": "stdout",
          "text": [
            "En İyi Parametrelerin Verdiği Skor: 0.768575712143928\n"
          ]
        }
      ]
    },
    {
      "cell_type": "markdown",
      "source": [
        "\n",
        "\n",
        "---\n",
        "\n",
        "\n",
        "\n",
        "#**BERNOULLI NB**\n",
        "\n",
        "\n",
        "\n",
        "---\n",
        "\n"
      ],
      "metadata": {
        "id": "uC8-e9xpXQ5w"
      }
    },
    {
      "cell_type": "code",
      "source": [
        "from sklearn.naive_bayes import BernoulliNB\n",
        "\n",
        "bernoulliNB = BernoulliNB()\n",
        "bernoulliNB.fit(X_train, y_train)\n",
        "\n",
        "train_pred_bernoulliNB = bernoulliNB.predict(X_train)\n",
        "print('Train Accuracy : %.3f%% ' % (accuracy_score(y_train , train_pred_bernoulliNB)*100))\n",
        "\n",
        "print(\"Confusion Matrix-BernoulliNB-Train: \")\n",
        "print(confusion_matrix(y_train, train_pred_bernoulliNB))\n",
        "\n",
        "print('\\nModel Sonuçları\\n')\n",
        "print(classification_report(y_train, train_pred_bernoulliNB))\n",
        "\n",
        "print(\"-\"*40)\n",
        "\n",
        "\n",
        "test_pred_bernoulliNB = bernoulliNB.predict(X_test)\n",
        "print('Test Accuracy  : %.3f%% ' % (accuracy_score(y_test, test_pred_bernoulliNB)*100))\n",
        "\n",
        "print(\"Confusion Matrix-BernoulliNB-Test: \")\n",
        "print(confusion_matrix(y_test, test_pred_bernoulliNB))\n",
        "\n",
        "print('\\nModel Sonuçları\\n')\n",
        "print(classification_report(y_test, test_pred_bernoulliNB))\n",
        "\n",
        "\n",
        "\n"
      ],
      "metadata": {
        "execution": {
          "iopub.status.busy": "2021-12-17T01:22:06.945667Z",
          "iopub.execute_input": "2021-12-17T01:22:06.946597Z",
          "iopub.status.idle": "2021-12-17T01:22:06.970299Z",
          "shell.execute_reply.started": "2021-12-17T01:22:06.946513Z",
          "shell.execute_reply": "2021-12-17T01:22:06.969622Z"
        },
        "trusted": true,
        "id": "xOkjLHEaUZ4j",
        "colab": {
          "base_uri": "https://localhost:8080/"
        },
        "outputId": "2c8fd4d2-eae6-4b5d-b9ee-96551f445816"
      },
      "execution_count": 545,
      "outputs": [
        {
          "output_type": "stream",
          "name": "stdout",
          "text": [
            "Train Accuracy : 72.021% \n",
            "Confusion Matrix-BernoulliNB-Train: \n",
            "[[303  74]\n",
            " [ 88 114]]\n",
            "\n",
            "Model Sonuçları\n",
            "\n",
            "              precision    recall  f1-score   support\n",
            "\n",
            "           0       0.77      0.80      0.79       377\n",
            "           1       0.61      0.56      0.58       202\n",
            "\n",
            "    accuracy                           0.72       579\n",
            "   macro avg       0.69      0.68      0.69       579\n",
            "weighted avg       0.72      0.72      0.72       579\n",
            "\n",
            "----------------------------------------\n",
            "Test Accuracy  : 76.552% \n",
            "Confusion Matrix-BernoulliNB-Test: \n",
            "[[85 13]\n",
            " [21 26]]\n",
            "\n",
            "Model Sonuçları\n",
            "\n",
            "              precision    recall  f1-score   support\n",
            "\n",
            "           0       0.80      0.87      0.83        98\n",
            "           1       0.67      0.55      0.60        47\n",
            "\n",
            "    accuracy                           0.77       145\n",
            "   macro avg       0.73      0.71      0.72       145\n",
            "weighted avg       0.76      0.77      0.76       145\n",
            "\n"
          ]
        }
      ]
    },
    {
      "cell_type": "code",
      "source": [
        "fpr , tpr , thresolds = metrics.roc_curve(y_train, train_pred_bernoulliNB)\n",
        "roc_auc = metrics.auc(fpr , tpr)\n",
        "plt.plot(fpr , tpr ,'b' ,label = 'AUC =0.2f' %roc_auc)\n",
        "roc_auc\n",
        "\n"
      ],
      "metadata": {
        "id": "wKAJML--WrF0",
        "colab": {
          "base_uri": "https://localhost:8080/",
          "height": 282
        },
        "outputId": "53651ce7-b8ab-4447-c202-ab2b940a6bcd"
      },
      "execution_count": 546,
      "outputs": [
        {
          "output_type": "execute_result",
          "data": {
            "text/plain": [
              "0.6840349817475117"
            ]
          },
          "metadata": {},
          "execution_count": 546
        },
        {
          "output_type": "display_data",
          "data": {
            "image/png": "[encoded data removed]",
            "text/plain": [
              "<Figure size 432x288 with 1 Axes>"
            ]
          },
          "metadata": {
            "needs_background": "light"
          }
        }
      ]
    },
    {
      "cell_type": "code",
      "source": [
        "\n",
        "\n",
        "fpr , tpr , thresolds = metrics.roc_curve(y_test, test_pred_bernoulliNB)\n",
        "roc_auc = metrics.auc(fpr , tpr)\n",
        "plt.plot(fpr , tpr ,'b' ,label = 'AUC =0.2f' %roc_auc)\n",
        "roc_auc"
      ],
      "metadata": {
        "id": "omXa2O6XXL15",
        "colab": {
          "base_uri": "https://localhost:8080/",
          "height": 282
        },
        "outputId": "0730d093-a2ad-484d-df24-c6626c06b2a8"
      },
      "execution_count": 547,
      "outputs": [
        {
          "output_type": "execute_result",
          "data": {
            "text/plain": [
              "0.7102692140686062"
            ]
          },
          "metadata": {},
          "execution_count": 547
        },
        {
          "output_type": "display_data",
          "data": {
            "image/png": "[encoded data removed]",
            "text/plain": [
              "<Figure size 432x288 with 1 Axes>"
            ]
          },
          "metadata": {
            "needs_background": "light"
          }
        }
      ]
    },
    {
      "cell_type": "markdown",
      "source": [
        "\n",
        "\n",
        "---\n",
        "BernoulliNB Hiperparametre İle\n",
        "\n",
        "---\n",
        "\n",
        "\n"
      ],
      "metadata": {
        "id": "HkIqfPRz-ety"
      }
    },
    {
      "cell_type": "code",
      "source": [
        "from sklearn.naive_bayes import BernoulliNB\n",
        "\n"
      ],
      "metadata": {
        "id": "1kTYd9d6ALvu"
      },
      "execution_count": 548,
      "outputs": []
    },
    {
      "cell_type": "code",
      "source": [
        "parameters = [{'alpha':np.linspace(0.1,1,10)}]\n",
        "\n",
        "clf = GridSearchCV(BernoulliNB(), parameters, scoring='f1')\n",
        "clf.fit(X_train,y_train) \n",
        "\n",
        "# En iyi parametreyi yazdırmak\n",
        "print(\"\\n\",clf.best_params_)\n",
        "# Hiperparametre ayarından sonra modelimizin nasıl göründüğünü yazdır\n",
        "print(\"\\n\",clf.best_estimator_)\n",
        "\n",
        "clf_pre = clf.predict(X_test)\n",
        "\n",
        "print(classification_report(y_test , clf_pre))"
      ],
      "metadata": {
        "id": "uNs54H57-mzn",
        "colab": {
          "base_uri": "https://localhost:8080/"
        },
        "outputId": "561abfe8-7889-4665-9844-f094965e58cd"
      },
      "execution_count": 549,
      "outputs": [
        {
          "output_type": "stream",
          "name": "stdout",
          "text": [
            "\n",
            " {'alpha': 0.1}\n",
            "\n",
            " BernoulliNB(alpha=0.1)\n",
            "              precision    recall  f1-score   support\n",
            "\n",
            "           0       0.80      0.87      0.83        98\n",
            "           1       0.67      0.55      0.60        47\n",
            "\n",
            "    accuracy                           0.77       145\n",
            "   macro avg       0.73      0.71      0.72       145\n",
            "weighted avg       0.76      0.77      0.76       145\n",
            "\n"
          ]
        }
      ]
    },
    {
      "cell_type": "code",
      "source": [
        "print(\"En İyi Parametrelerin Verdiği Skor:\",clf.best_score_)"
      ],
      "metadata": {
        "colab": {
          "base_uri": "https://localhost:8080/"
        },
        "id": "M9fTu4dWMmkE",
        "outputId": "b7076a29-7f9c-4022-dfe6-6da4055e9365"
      },
      "execution_count": 550,
      "outputs": [
        {
          "output_type": "stream",
          "name": "stdout",
          "text": [
            "En İyi Parametrelerin Verdiği Skor: 0.5917210075437924\n"
          ]
        }
      ]
    },
    {
      "cell_type": "markdown",
      "source": [
        "\n",
        "\n",
        "---\n",
        "\n",
        "\n",
        "\n",
        "#**LogisticRegression**\n",
        "\n",
        "\n",
        "\n",
        "---\n",
        "\n"
      ],
      "metadata": {
        "id": "_JEhwHcaXzqv"
      }
    },
    {
      "cell_type": "code",
      "source": [
        "from sklearn.linear_model import LogisticRegression\n",
        "from sklearn.metrics import accuracy_score\n",
        "\n",
        "from sklearn.metrics import plot_confusion_matrix\n",
        "\n",
        "from sklearn.metrics import confusion_matrix\n",
        "\n",
        "from sklearn.metrics import classification_report\n",
        "from sklearn.model_selection import GridSearchCV\n"
      ],
      "metadata": {
        "id": "tFRcl8YCYAf4"
      },
      "execution_count": 551,
      "outputs": []
    },
    {
      "cell_type": "code",
      "source": [
        "logisticRegression = LogisticRegression(random_state=123456)\n",
        "logisticRegression.fit(X_train, y_train)\n",
        "\n",
        "\n",
        "train_pred_logisticRegression = logisticRegression.predict(X_train)\n",
        "print('Train Accuracy : %.3f%% ' % (accuracy_score(y_train , train_pred_logisticRegression)*100))\n",
        "\n",
        "print(\"Confusion Matrix-LogisticRegression-Train: \")\n",
        "print(confusion_matrix(y_train, train_pred_logisticRegression))\n",
        "\n",
        "print('\\nModel Sonuçları\\n')\n",
        "print(classification_report(y_train, train_pred_logisticRegression))\n",
        "\n",
        "print(\"-\"*40)\n",
        "\n",
        "test_pred_logisticRegression = logisticRegression.predict(X_test)\n",
        "print('Test Accuracy  : %.3f%% ' % (accuracy_score(y_test, test_pred_logisticRegression)*100))\n",
        "\n",
        "print(\"Confusion Matrix-LogisticRegression-Test: \")\n",
        "print(confusion_matrix(y_test, test_pred_logisticRegression))\n",
        "\n",
        "print('\\nModel Sonuçları\\n')\n",
        "print(classification_report(y_test, test_pred_logisticRegression))"
      ],
      "metadata": {
        "execution": {
          "iopub.status.busy": "2021-12-17T01:22:06.971665Z",
          "iopub.execute_input": "2021-12-17T01:22:06.973723Z",
          "iopub.status.idle": "2021-12-17T01:22:07.000195Z",
          "shell.execute_reply.started": "2021-12-17T01:22:06.973687Z",
          "shell.execute_reply": "2021-12-17T01:22:06.99925Z"
        },
        "trusted": true,
        "id": "itxcpi2RUZ4j",
        "colab": {
          "base_uri": "https://localhost:8080/"
        },
        "outputId": "13d9ddda-730a-46bf-c974-6045052fb20c"
      },
      "execution_count": 552,
      "outputs": [
        {
          "output_type": "stream",
          "name": "stdout",
          "text": [
            "Train Accuracy : 78.756% \n",
            "Confusion Matrix-LogisticRegression-Train: \n",
            "[[336  41]\n",
            " [ 82 120]]\n",
            "\n",
            "Model Sonuçları\n",
            "\n",
            "              precision    recall  f1-score   support\n",
            "\n",
            "           0       0.80      0.89      0.85       377\n",
            "           1       0.75      0.59      0.66       202\n",
            "\n",
            "    accuracy                           0.79       579\n",
            "   macro avg       0.77      0.74      0.75       579\n",
            "weighted avg       0.78      0.79      0.78       579\n",
            "\n",
            "----------------------------------------\n",
            "Test Accuracy  : 75.862% \n",
            "Confusion Matrix-LogisticRegression-Test: \n",
            "[[88 10]\n",
            " [25 22]]\n",
            "\n",
            "Model Sonuçları\n",
            "\n",
            "              precision    recall  f1-score   support\n",
            "\n",
            "           0       0.78      0.90      0.83        98\n",
            "           1       0.69      0.47      0.56        47\n",
            "\n",
            "    accuracy                           0.76       145\n",
            "   macro avg       0.73      0.68      0.70       145\n",
            "weighted avg       0.75      0.76      0.74       145\n",
            "\n"
          ]
        }
      ]
    },
    {
      "cell_type": "code",
      "source": [
        "fpr , tpr , thresolds = metrics.roc_curve(y_train, train_pred_logisticRegression)\n",
        "roc_auc = metrics.auc(fpr , tpr)\n",
        "plt.plot(fpr , tpr ,'b' ,label = 'AUC =0.2f' %roc_auc)\n",
        "roc_auc"
      ],
      "metadata": {
        "id": "jDn2OgmcYJO7",
        "colab": {
          "base_uri": "https://localhost:8080/",
          "height": 282
        },
        "outputId": "30ec5be9-dc01-4964-e2f7-e2d4de16bbc8"
      },
      "execution_count": 553,
      "outputs": [
        {
          "output_type": "execute_result",
          "data": {
            "text/plain": [
              "0.7426530451453633"
            ]
          },
          "metadata": {},
          "execution_count": 553
        },
        {
          "output_type": "display_data",
          "data": {
            "image/png": "[encoded data removed]",
            "text/plain": [
              "<Figure size 432x288 with 1 Axes>"
            ]
          },
          "metadata": {
            "needs_background": "light"
          }
        }
      ]
    },
    {
      "cell_type": "code",
      "source": [
        "fpr , tpr , thresolds = metrics.roc_curve(y_test, test_pred_logisticRegression)\n",
        "roc_auc = metrics.auc(fpr , tpr)\n",
        "plt.plot(fpr , tpr ,'b' ,label = 'AUC =0.2f' %roc_auc)\n",
        "roc_auc"
      ],
      "metadata": {
        "id": "MOmK7wxbYMDb",
        "colab": {
          "base_uri": "https://localhost:8080/",
          "height": 282
        },
        "outputId": "fb798d34-957f-4ae6-ab98-cdda3fe6b58f"
      },
      "execution_count": 554,
      "outputs": [
        {
          "output_type": "execute_result",
          "data": {
            "text/plain": [
              "0.6830221450282241"
            ]
          },
          "metadata": {},
          "execution_count": 554
        },
        {
          "output_type": "display_data",
          "data": {
            "image/png": "[encoded data removed]",
            "text/plain": [
              "<Figure size 432x288 with 1 Axes>"
            ]
          },
          "metadata": {
            "needs_background": "light"
          }
        }
      ]
    },
    {
      "cell_type": "markdown",
      "source": [
        "\n",
        "\n",
        "---\n",
        "Logistic Regression Hiperparametreler İle\n",
        "\n",
        "---\n",
        "\n",
        "\n"
      ],
      "metadata": {
        "id": "GNzo67mqC5xt"
      }
    },
    {
      "cell_type": "code",
      "source": [
        "param ={\"C\":np.logspace(20,40,60), \"penalty\":[\"l2\",\"none\"]}  # logistic regresyon tekrar bak \n",
        "\n",
        "cv = GridSearchCV(LogisticRegression(), param, scoring = 'accuracy', cv=5,n_jobs=-1).fit(X_train,y_train)\n",
        "print(\"En İyi Parametrelerin Verdiği Skor:\",cv.best_score_)"
      ],
      "metadata": {
        "id": "wSx_Fv_FC5xu",
        "colab": {
          "base_uri": "https://localhost:8080/"
        },
        "outputId": "7976024c-f639-436f-ca2d-34205ac9481c"
      },
      "execution_count": 555,
      "outputs": [
        {
          "output_type": "stream",
          "name": "stdout",
          "text": [
            "En İyi Parametrelerin Verdiği Skor: 0.777256371814093\n"
          ]
        }
      ]
    },
    {
      "cell_type": "markdown",
      "source": [
        "\n",
        "\n",
        "---\n",
        "\n",
        "\n",
        "\n",
        "#**DECISION TREE**\n",
        "\n",
        "\n",
        "\n",
        "---\n",
        "\n"
      ],
      "metadata": {
        "id": "43GT6AmgYObn"
      }
    },
    {
      "cell_type": "code",
      "source": [
        "from sklearn.tree import DecisionTreeClassifier\n",
        "from sklearn.metrics import accuracy_score\n",
        "\n",
        "from sklearn.metrics import plot_confusion_matrix\n",
        "\n",
        "from sklearn.metrics import confusion_matrix\n",
        "\n",
        "from sklearn.metrics import classification_report\n",
        "from sklearn.model_selection import GridSearchCV\n"
      ],
      "metadata": {
        "id": "FhBLCiThrNYm"
      },
      "execution_count": 556,
      "outputs": []
    },
    {
      "cell_type": "code",
      "source": [
        "decision_tree = DecisionTreeClassifier()\n",
        "decision_tree.fit(X_train, y_train)\n",
        "\n",
        "train_pred_decision_tree = decision_tree.predict(X_train)\n",
        "print('Train Accuracy : %.3f%% ' % (accuracy_score(y_train , train_pred_decision_tree)*100))\n",
        "\n",
        "print(\"Confusion Matrix-DecisionTreeClassifier-Train: \")\n",
        "print(confusion_matrix(y_train, train_pred_decision_tree))\n",
        "\n",
        "print('\\nModel Sonuçları\\n')\n",
        "print(classification_report(y_train, train_pred_decision_tree))\n",
        "\n",
        "print(\"-\"*40)\n",
        "\n",
        "test_pred_decision_tree = decision_tree.predict(X_test)\n",
        "print('Test Accuracy  : %.3f%% ' % (accuracy_score(y_test, test_pred_decision_tree)*100))\n",
        "\n",
        "print(\"Confusion Matrix-DecisionTreeClassifier-Test: \")\n",
        "print(confusion_matrix(y_test, test_pred_decision_tree))\n",
        "\n",
        "print('\\nModel Sonuçları\\n')\n",
        "print(classification_report(y_test, test_pred_decision_tree))"
      ],
      "metadata": {
        "execution": {
          "iopub.status.busy": "2021-12-17T01:22:07.001274Z",
          "iopub.execute_input": "2021-12-17T01:22:07.001482Z",
          "iopub.status.idle": "2021-12-17T01:22:07.027345Z",
          "shell.execute_reply.started": "2021-12-17T01:22:07.001455Z",
          "shell.execute_reply": "2021-12-17T01:22:07.02674Z"
        },
        "trusted": true,
        "id": "yPiAq7iyUZ4k",
        "colab": {
          "base_uri": "https://localhost:8080/"
        },
        "outputId": "e4ccdcb7-32a0-41bc-d3c3-e8a53517dea0"
      },
      "execution_count": 557,
      "outputs": [
        {
          "output_type": "stream",
          "name": "stdout",
          "text": [
            "Train Accuracy : 100.000% \n",
            "Confusion Matrix-DecisionTreeClassifier-Train: \n",
            "[[377   0]\n",
            " [  0 202]]\n",
            "\n",
            "Model Sonuçları\n",
            "\n",
            "              precision    recall  f1-score   support\n",
            "\n",
            "           0       1.00      1.00      1.00       377\n",
            "           1       1.00      1.00      1.00       202\n",
            "\n",
            "    accuracy                           1.00       579\n",
            "   macro avg       1.00      1.00      1.00       579\n",
            "weighted avg       1.00      1.00      1.00       579\n",
            "\n",
            "----------------------------------------\n",
            "Test Accuracy  : 64.138% \n",
            "Confusion Matrix-DecisionTreeClassifier-Test: \n",
            "[[70 28]\n",
            " [24 23]]\n",
            "\n",
            "Model Sonuçları\n",
            "\n",
            "              precision    recall  f1-score   support\n",
            "\n",
            "           0       0.74      0.71      0.73        98\n",
            "           1       0.45      0.49      0.47        47\n",
            "\n",
            "    accuracy                           0.64       145\n",
            "   macro avg       0.60      0.60      0.60       145\n",
            "weighted avg       0.65      0.64      0.64       145\n",
            "\n"
          ]
        }
      ]
    },
    {
      "cell_type": "code",
      "source": [
        "fpr , tpr , thresolds = metrics.roc_curve(y_train, train_pred_decision_tree)\n",
        "roc_auc = metrics.auc(fpr , tpr)\n",
        "plt.plot(fpr , tpr ,'b' ,label = 'AUC =0.2f' %roc_auc)\n",
        "roc_auc"
      ],
      "metadata": {
        "id": "Ro_HBlzgF1Vl",
        "colab": {
          "base_uri": "https://localhost:8080/",
          "height": 282
        },
        "outputId": "6da230f3-8567-4e24-a122-1b72f16a4a96"
      },
      "execution_count": 558,
      "outputs": [
        {
          "output_type": "execute_result",
          "data": {
            "text/plain": [
              "1.0"
            ]
          },
          "metadata": {},
          "execution_count": 558
        },
        {
          "output_type": "display_data",
          "data": {
            "image/png": "[encoded data removed]",
            "text/plain": [
              "<Figure size 432x288 with 1 Axes>"
            ]
          },
          "metadata": {
            "needs_background": "light"
          }
        }
      ]
    },
    {
      "cell_type": "code",
      "source": [
        "fpr , tpr , thresolds = metrics.roc_curve(y_test, test_pred_decision_tree)\n",
        "roc_auc = metrics.auc(fpr , tpr)\n",
        "plt.plot(fpr , tpr ,'b' ,label = 'AUC =0.2f' %roc_auc)\n",
        "roc_auc"
      ],
      "metadata": {
        "id": "TIA0RiPvako9",
        "colab": {
          "base_uri": "https://localhost:8080/",
          "height": 282
        },
        "outputId": "0899e13d-dedd-4a55-d2c4-7fbb2e838712"
      },
      "execution_count": 559,
      "outputs": [
        {
          "output_type": "execute_result",
          "data": {
            "text/plain": [
              "0.601823708206687"
            ]
          },
          "metadata": {},
          "execution_count": 559
        },
        {
          "output_type": "display_data",
          "data": {
            "image/png": "[encoded data removed]",
            "text/plain": [
              "<Figure size 432x288 with 1 Axes>"
            ]
          },
          "metadata": {
            "needs_background": "light"
          }
        }
      ]
    },
    {
      "cell_type": "markdown",
      "source": [
        "---\n",
        "Decision Tree Hiperparametreler İle\n",
        "\n",
        "---\n",
        "\n",
        "\n"
      ],
      "metadata": {
        "id": "CffqegJMF-v-"
      }
    },
    {
      "cell_type": "code",
      "source": [
        "param_dict= {\"criterion\":['gini' , 'entropy'],\n",
        "             \"max_depth\"          : range(1,8),\n",
        "             \"min_samples_split\"  : range(1,10),\n",
        "             \"min_samples_leaf\"   : range(1,5), \n",
        "            }\n",
        "\n",
        "detr=DecisionTreeClassifier()\n",
        "\n",
        "detr_cv = GridSearchCV (detr,param_dict, verbose=0)\n",
        "detr_cv.fit(X_train,y_train)\n"
      ],
      "metadata": {
        "id": "LeWRVY5_F-v-",
        "colab": {
          "base_uri": "https://localhost:8080/"
        },
        "outputId": "58cc70fe-4c2f-4aec-af47-66cb675f33c1"
      },
      "execution_count": 560,
      "outputs": [
        {
          "output_type": "stream",
          "name": "stderr",
          "text": [
            "/usr/local/lib/python3.7/dist-packages/sklearn/model_selection/_validation.py:372: FitFailedWarning: \n",
            "280 fits failed out of a total of 2520.\n",
            "The score on these train-test partitions for these parameters will be set to nan.\n",
            "If these failures are not expected, you can try to debug them by setting error_score='raise'.\n",
            "\n",
            "Below are more details about the failures:\n",
            "--------------------------------------------------------------------------------\n",
            "280 fits failed with the following error:\n",
            "Traceback (most recent call last):\n",
            "  File \"/usr/local/lib/python3.7/dist-packages/sklearn/model_selection/_validation.py\", line 681, in _fit_and_score\n",
            "    estimator.fit(X_train, y_train, **fit_params)\n",
            "  File \"/usr/local/lib/python3.7/dist-packages/sklearn/tree/_classes.py\", line 942, in fit\n",
            "    X_idx_sorted=X_idx_sorted,\n",
            "  File \"/usr/local/lib/python3.7/dist-packages/sklearn/tree/_classes.py\", line 254, in fit\n",
            "    % self.min_samples_split\n",
            "ValueError: min_samples_split must be an integer greater than 1 or a float in (0.0, 1.0]; got the integer 1\n",
            "\n",
            "  warnings.warn(some_fits_failed_message, FitFailedWarning)\n",
            "/usr/local/lib/python3.7/dist-packages/sklearn/model_selection/_search.py:972: UserWarning: One or more of the test scores are non-finite: [       nan 0.7253973  0.7253973  0.7253973  0.7253973  0.7253973\n",
            " 0.7253973  0.7253973  0.7253973         nan 0.7253973  0.7253973\n",
            " 0.7253973  0.7253973  0.7253973  0.7253973  0.7253973  0.7253973\n",
            "        nan 0.7253973  0.7253973  0.7253973  0.7253973  0.7253973\n",
            " 0.7253973  0.7253973  0.7253973         nan 0.7253973  0.7253973\n",
            " 0.7253973  0.7253973  0.7253973  0.7253973  0.7253973  0.7253973\n",
            "        nan 0.7426087  0.7426087  0.7426087  0.7426087  0.7426087\n",
            " 0.7426087  0.7426087  0.7426087         nan 0.7426087  0.7426087\n",
            " 0.7426087  0.7426087  0.7426087  0.7426087  0.7426087  0.7426087\n",
            "        nan 0.7426087  0.7426087  0.7426087  0.7426087  0.7426087\n",
            " 0.7426087  0.7426087  0.7426087         nan 0.7426087  0.7426087\n",
            " 0.7426087  0.7426087  0.7426087  0.7426087  0.7426087  0.7426087\n",
            "        nan 0.73227886 0.734003   0.73572714 0.73227886 0.73227886\n",
            " 0.73227886 0.73227886 0.73227886        nan 0.73227886 0.73227886\n",
            " 0.73227886 0.73227886 0.73227886 0.73227886 0.73227886 0.73227886\n",
            "        nan 0.73227886 0.73227886 0.73227886 0.73227886 0.73227886\n",
            " 0.73227886 0.73227886 0.73227886        nan 0.73575712 0.73227886\n",
            " 0.73227886 0.73227886 0.73227886 0.73227886 0.73227886 0.73227886\n",
            "        nan 0.74608696 0.74608696 0.74782609 0.74782609 0.74782609\n",
            " 0.74782609 0.74782609 0.74608696        nan 0.74437781 0.74437781\n",
            " 0.74437781 0.74437781 0.74437781 0.74437781 0.74437781 0.74263868\n",
            "        nan 0.74437781 0.74265367 0.74265367 0.74437781 0.74437781\n",
            " 0.74437781 0.74437781 0.74263868        nan 0.74956522 0.74956522\n",
            " 0.74956522 0.74956522 0.74956522 0.74956522 0.74956522 0.74956522\n",
            "        nan 0.7426087  0.74782609 0.74784108 0.74953523 0.74781109\n",
            " 0.74781109 0.74608696 0.74781109        nan 0.74955022 0.75128936\n",
            " 0.74955022 0.74608696 0.74782609 0.74608696 0.74782609 0.74607196\n",
            "        nan 0.74955022 0.75127436 0.75127436 0.74953523 0.75127436\n",
            " 0.74953523 0.74953523 0.74953523        nan 0.7529985  0.7529985\n",
            " 0.7529985  0.7529985  0.7529985  0.75473763 0.75473763 0.7529985\n",
            "        nan 0.74952024 0.75647676 0.75646177 0.75646177 0.74953523\n",
            " 0.75472264 0.75818591 0.75298351        nan 0.74956522 0.74782609\n",
            " 0.75304348 0.74265367 0.74265367 0.74784108 0.7443928  0.74265367\n",
            "        nan 0.75644678 0.74781109 0.75125937 0.75124438 0.74089955\n",
            " 0.75127436 0.74608696 0.75124438        nan 0.75125937 0.75472264\n",
            " 0.75472264 0.7529985  0.7529985  0.74955022 0.7529985  0.75472264\n",
            "        nan 0.734003   0.73743628 0.72016492 0.72710645 0.73398801\n",
            " 0.74091454 0.73055472 0.734003          nan 0.73577211 0.73232384\n",
            " 0.72884558 0.73403298 0.7202099  0.72367316 0.72883058 0.72712144\n",
            "        nan 0.7391904  0.73227886 0.73745127 0.73742129 0.73746627\n",
            " 0.73742129 0.74436282 0.74433283        nan 0.75644678 0.74782609\n",
            " 0.74781109 0.7529985  0.75125937 0.75127436 0.75125937 0.75644678\n",
            "        nan 0.7253973  0.7253973  0.7253973  0.7253973  0.7253973\n",
            " 0.7253973  0.7253973  0.7253973         nan 0.7253973  0.7253973\n",
            " 0.7253973  0.7253973  0.7253973  0.7253973  0.7253973  0.7253973\n",
            "        nan 0.7253973  0.7253973  0.7253973  0.7253973  0.7253973\n",
            " 0.7253973  0.7253973  0.7253973         nan 0.7253973  0.7253973\n",
            " 0.7253973  0.7253973  0.7253973  0.7253973  0.7253973  0.7253973\n",
            "        nan 0.74608696 0.74608696 0.74608696 0.74608696 0.74608696\n",
            " 0.74608696 0.74608696 0.74608696        nan 0.74608696 0.74608696\n",
            " 0.74608696 0.74608696 0.74608696 0.74608696 0.74608696 0.74608696\n",
            "        nan 0.74608696 0.74608696 0.74608696 0.74608696 0.74608696\n",
            " 0.74608696 0.74608696 0.74608696        nan 0.74608696 0.74608696\n",
            " 0.74608696 0.74608696 0.74608696 0.74608696 0.74608696 0.74608696\n",
            "        nan 0.73227886 0.73227886 0.73227886 0.73227886 0.73227886\n",
            " 0.73227886 0.73227886 0.73227886        nan 0.73227886 0.73227886\n",
            " 0.73227886 0.73227886 0.73227886 0.73227886 0.73227886 0.73227886\n",
            "        nan 0.73227886 0.73227886 0.73227886 0.73227886 0.73227886\n",
            " 0.73227886 0.73227886 0.73227886        nan 0.73227886 0.73227886\n",
            " 0.73227886 0.73227886 0.73227886 0.73227886 0.73227886 0.73227886\n",
            "        nan 0.71676162 0.71676162 0.71676162 0.71676162 0.71676162\n",
            " 0.71676162 0.71676162 0.71676162        nan 0.71677661 0.71677661\n",
            " 0.71677661 0.71677661 0.71677661 0.71677661 0.71677661 0.71677661\n",
            "        nan 0.71505247 0.71505247 0.71677661 0.71677661 0.71505247\n",
            " 0.71677661 0.71677661 0.71677661        nan 0.71850075 0.72197901\n",
            " 0.72197901 0.71850075 0.72197901 0.71850075 0.71850075 0.72197901\n",
            "        nan 0.73055472 0.73401799 0.73746627 0.73748126 0.73401799\n",
            " 0.734003   0.73401799 0.73226387        nan 0.73922039 0.74094453\n",
            " 0.73575712 0.73922039 0.73575712 0.73575712 0.73575712 0.73574213\n",
            "        nan 0.73575712 0.73575712 0.73575712 0.73403298 0.73575712\n",
            " 0.73575712 0.73575712 0.73401799        nan 0.72884558 0.72884558\n",
            " 0.73232384 0.73232384 0.73232384 0.72884558 0.73232384 0.72884558\n",
            "        nan 0.73056972 0.72881559 0.73229385 0.73227886 0.734003\n",
            " 0.73574213 0.73572714 0.73226387        nan 0.73577211 0.73404798\n",
            " 0.73577211 0.73748126 0.73230885 0.73575712 0.73575712 0.73401799\n",
            "        nan 0.7392054  0.72886057 0.72713643 0.72886057 0.73058471\n",
            " 0.73748126 0.73403298 0.73574213        nan 0.73749625 0.73749625\n",
            " 0.73401799 0.73401799 0.73749625 0.73401799 0.73401799 0.73749625\n",
            "        nan 0.72884558 0.73055472 0.73575712 0.73574213 0.74437781\n",
            " 0.74436282 0.73917541 0.73569715        nan 0.73403298 0.74611694\n",
            " 0.74266867 0.74266867 0.7392054  0.73748126 0.74437781 0.73572714\n",
            "        nan 0.72884558 0.73229385 0.73229385 0.73056972 0.73575712\n",
            " 0.73403298 0.73575712 0.734003          nan 0.7253973  0.7253973\n",
            " 0.7253973  0.72713643 0.72712144 0.72712144 0.72538231 0.72713643]\n",
            "  category=UserWarning,\n"
          ]
        },
        {
          "output_type": "execute_result",
          "data": {
            "text/plain": [
              "GridSearchCV(estimator=DecisionTreeClassifier(),\n",
              "             param_grid={'criterion': ['gini', 'entropy'],\n",
              "                         'max_depth': range(1, 8),\n",
              "                         'min_samples_leaf': range(1, 5),\n",
              "                         'min_samples_split': range(1, 10)})"
            ]
          },
          "metadata": {},
          "execution_count": 560
        }
      ]
    },
    {
      "cell_type": "code",
      "source": [
        "detr_cv.best_params_\n",
        "\n",
        "grid_dt_predictions = detr_cv.predict(X_test)\n",
        " \n",
        "# Sınıflandırma raporunu yazdırmak\n",
        "print(classification_report(y_test, grid_dt_predictions))\n",
        "print(\"En İyi Parametrelerin Verdiği Skor:\",detr_cv.best_score_)"
      ],
      "metadata": {
        "id": "7zsVpaATF-v_",
        "colab": {
          "base_uri": "https://localhost:8080/"
        },
        "outputId": "dbe5c901-c93f-45f9-c921-8dd5c8791b6d"
      },
      "execution_count": 561,
      "outputs": [
        {
          "output_type": "stream",
          "name": "stdout",
          "text": [
            "              precision    recall  f1-score   support\n",
            "\n",
            "           0       0.77      0.81      0.79        98\n",
            "           1       0.55      0.49      0.52        47\n",
            "\n",
            "    accuracy                           0.70       145\n",
            "   macro avg       0.66      0.65      0.65       145\n",
            "weighted avg       0.70      0.70      0.70       145\n",
            "\n",
            "En İyi Parametrelerin Verdiği Skor: 0.7581859070464768\n"
          ]
        }
      ]
    },
    {
      "cell_type": "markdown",
      "source": [
        "\n",
        "\n",
        "---\n",
        "\n",
        "\n",
        "\n",
        "#**SVM (SUPPORT VECTOR MACHINE)**\n",
        "\n",
        "\n",
        "\n",
        "---\n",
        "\n"
      ],
      "metadata": {
        "id": "atXXed8wYYqB"
      }
    },
    {
      "cell_type": "code",
      "source": [
        "from sklearn import svm\n",
        "from sklearn.svm import SVC\n",
        "\n",
        "sv = svm.SVC(kernel='linear') \n",
        "sv.fit(X_train , y_train)\n",
        "\n",
        "train_pred_svm =  sv.predict(X_train)\n",
        "print('Train Accuracy : %.3f%% ' % (accuracy_score(y_train , train_pred_svm)*100))\n",
        "\n",
        "print(\"Confusion Matrix-SVM TRAIN: \")\n",
        "print(confusion_matrix(y_train, train_pred_svm))\n",
        "\n",
        "print('\\nModel Sonuçları\\n')\n",
        "print(classification_report(y_train, train_pred_svm))\n",
        "\n",
        "print(\"-\"*40)\n",
        "\n",
        "test_pred_svm = sv.predict(X_test)\n",
        "print('Test Accuracy  : %.3f%% ' % (accuracy_score(y_test, test_pred_svm)*100))\n",
        "\n",
        "print(\"Confusion Matrix-SVM TEST: \")\n",
        "print(confusion_matrix(y_test, test_pred_svm))\n",
        "\n",
        "print('\\nModel Sonuçları\\n')\n",
        "print(classification_report(y_test, test_pred_svm))"
      ],
      "metadata": {
        "id": "Jo-J8WnZENsw",
        "colab": {
          "base_uri": "https://localhost:8080/"
        },
        "outputId": "d980b90b-8eb8-4ea4-df56-b3dbdccba911"
      },
      "execution_count": 562,
      "outputs": [
        {
          "output_type": "stream",
          "name": "stdout",
          "text": [
            "Train Accuracy : 78.584% \n",
            "Confusion Matrix-SVM TRAIN: \n",
            "[[335  42]\n",
            " [ 82 120]]\n",
            "\n",
            "Model Sonuçları\n",
            "\n",
            "              precision    recall  f1-score   support\n",
            "\n",
            "           0       0.80      0.89      0.84       377\n",
            "           1       0.74      0.59      0.66       202\n",
            "\n",
            "    accuracy                           0.79       579\n",
            "   macro avg       0.77      0.74      0.75       579\n",
            "weighted avg       0.78      0.79      0.78       579\n",
            "\n",
            "----------------------------------------\n",
            "Test Accuracy  : 72.414% \n",
            "Confusion Matrix-SVM TEST: \n",
            "[[85 13]\n",
            " [27 20]]\n",
            "\n",
            "Model Sonuçları\n",
            "\n",
            "              precision    recall  f1-score   support\n",
            "\n",
            "           0       0.76      0.87      0.81        98\n",
            "           1       0.61      0.43      0.50        47\n",
            "\n",
            "    accuracy                           0.72       145\n",
            "   macro avg       0.68      0.65      0.65       145\n",
            "weighted avg       0.71      0.72      0.71       145\n",
            "\n"
          ]
        }
      ]
    },
    {
      "cell_type": "code",
      "source": [
        "print('\\nModel Sonuçları\\n')\n",
        "print(classification_report(y_test_svm, test_pred_svm))"
      ],
      "metadata": {
        "id": "8oZBZIJOdJTW",
        "colab": {
          "base_uri": "https://localhost:8080/"
        },
        "outputId": "00e6ac6e-411b-4609-c729-26b49bdad725"
      },
      "execution_count": 563,
      "outputs": [
        {
          "output_type": "stream",
          "name": "stdout",
          "text": [
            "\n",
            "Model Sonuçları\n",
            "\n",
            "              precision    recall  f1-score   support\n",
            "\n",
            "           0       0.76      0.87      0.81        98\n",
            "           1       0.61      0.43      0.50        47\n",
            "\n",
            "    accuracy                           0.72       145\n",
            "   macro avg       0.68      0.65      0.65       145\n",
            "weighted avg       0.71      0.72      0.71       145\n",
            "\n"
          ]
        }
      ]
    },
    {
      "cell_type": "code",
      "source": [
        "fpr , tpr , thresolds = metrics.roc_curve(y_train_svm, train_pred_svm)\n",
        "roc_auc = metrics.auc(fpr , tpr)\n",
        "plt.plot(fpr , tpr ,'b' ,label = 'AUC =0.2f' %roc_auc)\n",
        "roc_auc"
      ],
      "metadata": {
        "id": "vrEP6FM9cc9B",
        "colab": {
          "base_uri": "https://localhost:8080/",
          "height": 282
        },
        "outputId": "57c65106-84cd-4334-d68c-ca64afb26234"
      },
      "execution_count": 564,
      "outputs": [
        {
          "output_type": "execute_result",
          "data": {
            "text/plain": [
              "0.7413267851984138"
            ]
          },
          "metadata": {},
          "execution_count": 564
        },
        {
          "output_type": "display_data",
          "data": {
            "image/png": "[encoded data removed]",
            "text/plain": [
              "<Figure size 432x288 with 1 Axes>"
            ]
          },
          "metadata": {
            "needs_background": "light"
          }
        }
      ]
    },
    {
      "cell_type": "code",
      "source": [
        "fpr , tpr , thresolds = metrics.roc_curve(y_test, test_pred_svm)\n",
        "roc_auc = metrics.auc(fpr , tpr)\n",
        "plt.plot(fpr , tpr ,'b' ,label = 'AUC =0.2f' %roc_auc)\n",
        "roc_auc"
      ],
      "metadata": {
        "id": "0oru0FSAdVfV",
        "colab": {
          "base_uri": "https://localhost:8080/",
          "height": 282
        },
        "outputId": "0e99a02a-3960-4801-963c-127e3a007f55"
      },
      "execution_count": 565,
      "outputs": [
        {
          "output_type": "execute_result",
          "data": {
            "text/plain": [
              "0.6464394268345636"
            ]
          },
          "metadata": {},
          "execution_count": 565
        },
        {
          "output_type": "display_data",
          "data": {
            "image/png": "[encoded data removed]",
            "text/plain": [
              "<Figure size 432x288 with 1 Axes>"
            ]
          },
          "metadata": {
            "needs_background": "light"
          }
        }
      ]
    },
    {
      "cell_type": "markdown",
      "source": [
        "\n",
        "\n",
        "---\n",
        "SVM Hiperparametre İle\n",
        "\n",
        "\n",
        "---\n",
        "\n",
        "\n"
      ],
      "metadata": {
        "id": "HE7VLuRgcUxR"
      }
    },
    {
      "cell_type": "code",
      "source": [
        "#Parametrenin Sınırlarını Belirtme\n",
        "\n",
        "param_grid = {'C': [0.1, 1, 10, 100, 1000],\n",
        "              'gamma': [ 0.0001 , 0.01 , 0.1 , 1],\n",
        "              'kernel': ['rbf']}\n",
        "model=SVC()\n",
        "grid_svm = GridSearchCV(SVC(), param_grid, refit = True, verbose = 1)\n",
        "\n",
        "\n",
        "#Modeli Fitlemek\n",
        "grid_svm.fit(X_train_svm, y_train_svm)\n",
        "print(\"En İyi Parametrelerin Verdiği Skor:\",grid.best_score_)"
      ],
      "metadata": {
        "id": "CzCPFMtACyY-",
        "colab": {
          "base_uri": "https://localhost:8080/"
        },
        "outputId": "aa38ec7e-65cb-4fe2-ef50-fee7f852957d"
      },
      "execution_count": 566,
      "outputs": [
        {
          "output_type": "stream",
          "name": "stdout",
          "text": [
            "Fitting 5 folds for each of 20 candidates, totalling 100 fits\n",
            "En İyi Parametrelerin Verdiği Skor: 0.7755172413793104\n"
          ]
        }
      ]
    },
    {
      "cell_type": "code",
      "source": [
        "plot_roc_curve(grid_svm, X_test , y_test)"
      ],
      "metadata": {
        "id": "1p1sZQdF_2sR",
        "colab": {
          "base_uri": "https://localhost:8080/",
          "height": 351
        },
        "outputId": "e51ac34d-6624-4699-fb6e-bf0f1ffe024a"
      },
      "execution_count": 567,
      "outputs": [
        {
          "output_type": "stream",
          "name": "stderr",
          "text": [
            "/usr/local/lib/python3.7/dist-packages/sklearn/utils/deprecation.py:87: FutureWarning: Function plot_roc_curve is deprecated; Function `plot_roc_curve` is deprecated in 1.0 and will be removed in 1.2. Use one of the class methods: RocCurveDisplay.from_predictions or RocCurveDisplay.from_estimator.\n",
            "  warnings.warn(msg, category=FutureWarning)\n"
          ]
        },
        {
          "output_type": "execute_result",
          "data": {
            "text/plain": [
              "<sklearn.metrics._plot.roc_curve.RocCurveDisplay at 0x7f572bd2f290>"
            ]
          },
          "metadata": {},
          "execution_count": 567
        },
        {
          "output_type": "display_data",
          "data": {
            "image/png": "[encoded data removed]",
            "text/plain": [
              "<Figure size 432x288 with 1 Axes>"
            ]
          },
          "metadata": {
            "needs_background": "light"
          }
        }
      ]
    },
    {
      "cell_type": "markdown",
      "source": [
        "\n",
        "\n",
        "---\n",
        "\n",
        "\n",
        "\n",
        "#**KNN (K-NEAREST NEIGHBORS)**\n",
        "\n",
        "\n",
        "\n",
        "---\n",
        "\n"
      ],
      "metadata": {
        "id": "pdnxo6eAZGLI"
      }
    },
    {
      "cell_type": "code",
      "source": [
        "from sklearn.neighbors import KNeighborsClassifier\n",
        "knn = KNeighborsClassifier()\n",
        "knn.fit(X_train , y_train)\n",
        "\n",
        "train_pred_knn =  knn.predict(X_train)\n",
        "print('Train Accuracy : %.3f%% ' % (accuracy_score(y_train , train_pred_knn)*100))\n",
        "\n",
        "print(\"Confusion Matrix-KNN TRAIN: \")\n",
        "print(confusion_matrix(y_train, train_pred_knn))\n",
        "\n",
        "print('\\nModel Sonuçları\\n')\n",
        "print(classification_report(y_train, train_pred_knn))\n",
        "\n",
        "print(\"-\"*40)\n",
        "\n",
        "test_pred_knn = knn.predict(X_test)\n",
        "print('Test Accuracy  : %.3f%% ' % (accuracy_score(y_test, test_pred_knn)*100))\n",
        "\n",
        "print(\"Confusion Matrix-KNN TEST: \")\n",
        "print(confusion_matrix(y_test, test_pred_knn))\n",
        "\n",
        "print('\\nModel Sonuçları\\n')\n",
        "print(classification_report(y_test, test_pred_knn))"
      ],
      "metadata": {
        "colab": {
          "base_uri": "https://localhost:8080/"
        },
        "id": "TvtHl65fK1O7",
        "outputId": "058c2789-f63a-4077-ece3-b4733af58a02"
      },
      "execution_count": 568,
      "outputs": [
        {
          "output_type": "stream",
          "name": "stdout",
          "text": [
            "Train Accuracy : 81.002% \n",
            "Confusion Matrix-KNN TRAIN: \n",
            "[[333  44]\n",
            " [ 66 136]]\n",
            "\n",
            "Model Sonuçları\n",
            "\n",
            "              precision    recall  f1-score   support\n",
            "\n",
            "           0       0.83      0.88      0.86       377\n",
            "           1       0.76      0.67      0.71       202\n",
            "\n",
            "    accuracy                           0.81       579\n",
            "   macro avg       0.80      0.78      0.79       579\n",
            "weighted avg       0.81      0.81      0.81       579\n",
            "\n",
            "----------------------------------------\n",
            "Test Accuracy  : 73.793% \n",
            "Confusion Matrix-KNN TEST: \n",
            "[[82 16]\n",
            " [22 25]]\n",
            "\n",
            "Model Sonuçları\n",
            "\n",
            "              precision    recall  f1-score   support\n",
            "\n",
            "           0       0.79      0.84      0.81        98\n",
            "           1       0.61      0.53      0.57        47\n",
            "\n",
            "    accuracy                           0.74       145\n",
            "   macro avg       0.70      0.68      0.69       145\n",
            "weighted avg       0.73      0.74      0.73       145\n",
            "\n"
          ]
        }
      ]
    },
    {
      "cell_type": "code",
      "source": [
        "fpr , tpr , thresolds = metrics.roc_curve(y_test,test_pred_knn)\n",
        "roc_auc = metrics.auc(fpr , tpr)\n",
        "plt.plot(fpr , tpr ,'b' ,label = 'AUC =0.2f' %roc_auc)\n",
        "roc_auc"
      ],
      "metadata": {
        "execution": {
          "iopub.status.busy": "2021-12-17T01:22:07.156518Z",
          "iopub.execute_input": "2021-12-17T01:22:07.157068Z",
          "iopub.status.idle": "2021-12-17T01:22:07.168237Z",
          "shell.execute_reply.started": "2021-12-17T01:22:07.157036Z",
          "shell.execute_reply": "2021-12-17T01:22:07.167605Z"
        },
        "trusted": true,
        "id": "iWt7bhp4UZ4m",
        "colab": {
          "base_uri": "https://localhost:8080/",
          "height": 282
        },
        "outputId": "8ae2d55f-fb84-4a96-d832-f68f2ec2c3c9"
      },
      "execution_count": 569,
      "outputs": [
        {
          "output_type": "execute_result",
          "data": {
            "text/plain": [
              "0.6843247937472862"
            ]
          },
          "metadata": {},
          "execution_count": 569
        },
        {
          "output_type": "display_data",
          "data": {
            "image/png": "[encoded data removed]",
            "text/plain": [
              "<Figure size 432x288 with 1 Axes>"
            ]
          },
          "metadata": {
            "needs_background": "light"
          }
        }
      ]
    },
    {
      "cell_type": "markdown",
      "source": [
        "\n",
        "\n",
        "---\n",
        "\n",
        "\n",
        "\n",
        "*KNN modeli için hiperparametreleri bulma*\n",
        "\n",
        "---\n",
        "\n"
      ],
      "metadata": {
        "id": "n7yMZXve7nOk"
      }
    },
    {
      "cell_type": "code",
      "source": [
        "#KNN modelinde en iyi parametreleri bulmak için üç önemli parametreyi aldık. Değer aralıklarını belirtip GridSearchCV ile en iyi sonucu veren parametreleri tespit ettik.\n",
        "\n",
        "\n",
        "\n",
        "stratified_kfold = StratifiedKFold(n_splits=5,   #Diğerlerinden farklı olarak burada Straified K Fold Cross-Validation kullanıldı.)\n",
        "                                       shuffle=False,\n",
        "                                       random_state=None)\n",
        "\n",
        "param_grid = {\n",
        "              'n_neighbors': [3, 5, 11, 19],\n",
        "              'weights': ['uniform'  , 'distance'],\n",
        "              'metric': ['euclideans', 'manhattan']\n",
        "              }\n",
        "model = KNeighborsClassifier()\n",
        "grid_search = GridSearchCV(model, param_grid,scoring='roc_auc', refit = True, cv=stratified_kfold,  verbose = 1)\n",
        "\n",
        "\n",
        "grid_search.fit(X_train, y_train)\n",
        "\n",
        " "
      ],
      "metadata": {
        "id": "kRnHjGsB27DX",
        "colab": {
          "base_uri": "https://localhost:8080/"
        },
        "outputId": "0d0f1439-c715-46f8-8a85-ecb296cb7ef7"
      },
      "execution_count": 570,
      "outputs": [
        {
          "output_type": "stream",
          "name": "stdout",
          "text": [
            "Fitting 5 folds for each of 16 candidates, totalling 80 fits\n"
          ]
        },
        {
          "output_type": "stream",
          "name": "stderr",
          "text": [
            "/usr/local/lib/python3.7/dist-packages/sklearn/model_selection/_validation.py:372: FitFailedWarning: \n",
            "40 fits failed out of a total of 80.\n",
            "The score on these train-test partitions for these parameters will be set to nan.\n",
            "If these failures are not expected, you can try to debug them by setting error_score='raise'.\n",
            "\n",
            "Below are more details about the failures:\n",
            "--------------------------------------------------------------------------------\n",
            "40 fits failed with the following error:\n",
            "Traceback (most recent call last):\n",
            "  File \"/usr/local/lib/python3.7/dist-packages/sklearn/model_selection/_validation.py\", line 681, in _fit_and_score\n",
            "    estimator.fit(X_train, y_train, **fit_params)\n",
            "  File \"/usr/local/lib/python3.7/dist-packages/sklearn/neighbors/_classification.py\", line 198, in fit\n",
            "    return self._fit(X, y)\n",
            "  File \"/usr/local/lib/python3.7/dist-packages/sklearn/neighbors/_base.py\", line 437, in _fit\n",
            "    self._check_algorithm_metric()\n",
            "  File \"/usr/local/lib/python3.7/dist-packages/sklearn/neighbors/_base.py\", line 378, in _check_algorithm_metric\n",
            "    \"Metric can also be a callable function.\" % (self.metric, alg_check)\n",
            "ValueError: Metric 'euclideans' not valid. Use sorted(sklearn.neighbors.VALID_METRICS['brute']) to get valid options. Metric can also be a callable function.\n",
            "\n",
            "  warnings.warn(some_fits_failed_message, FitFailedWarning)\n",
            "/usr/local/lib/python3.7/dist-packages/sklearn/model_selection/_search.py:972: UserWarning: One or more of the test scores are non-finite: [       nan        nan        nan        nan        nan        nan\n",
            "        nan        nan 0.7421725  0.73037422 0.77965111 0.77474323\n",
            " 0.8053331  0.79984483 0.81544427 0.81383216]\n",
            "  category=UserWarning,\n"
          ]
        },
        {
          "output_type": "execute_result",
          "data": {
            "text/plain": [
              "GridSearchCV(cv=StratifiedKFold(n_splits=5, random_state=None, shuffle=False),\n",
              "             estimator=KNeighborsClassifier(),\n",
              "             param_grid={'metric': ['euclideans', 'manhattan'],\n",
              "                         'n_neighbors': [3, 5, 11, 19],\n",
              "                         'weights': ['uniform', 'distance']},\n",
              "             scoring='roc_auc', verbose=1)"
            ]
          },
          "metadata": {},
          "execution_count": 570
        }
      ]
    },
    {
      "cell_type": "code",
      "source": [
        "cv_score = grid_search.best_score_\n",
        "test_score = grid_search.score(X_test, y_test)\n",
        "print(f'Cross-validation score: {cv_score} \\n Test score: {test_score}')\n"
      ],
      "metadata": {
        "id": "bs6EyIyY4ga_",
        "colab": {
          "base_uri": "https://localhost:8080/"
        },
        "outputId": "10a546a0-30f5-4e7e-ba94-6244b4f766d2"
      },
      "execution_count": 571,
      "outputs": [
        {
          "output_type": "stream",
          "name": "stdout",
          "text": [
            "Cross-validation score: 0.8154442661531878 \n",
            " Test score: 0.834672166739036\n"
          ]
        }
      ]
    },
    {
      "cell_type": "code",
      "source": [
        "#KNN için en iyi parametreleri bulduk ve aşağıda modelimizin bu parametrelerle çıkan sonucunu görüyoruz.\n",
        "\n",
        "knn_predict = grid.predict(X_test)\n",
        " \n",
        "# Sınıflandırma raporunu yazdır\n",
        "print(classification_report(y_test, knn_predict))"
      ],
      "metadata": {
        "id": "X6uQUttw4gbA",
        "colab": {
          "base_uri": "https://localhost:8080/"
        },
        "outputId": "27f73cec-3c30-4b3b-fffb-da57bdaaf7f8"
      },
      "execution_count": 572,
      "outputs": [
        {
          "output_type": "stream",
          "name": "stdout",
          "text": [
            "              precision    recall  f1-score   support\n",
            "\n",
            "           0       0.76      0.87      0.81        98\n",
            "           1       0.61      0.43      0.50        47\n",
            "\n",
            "    accuracy                           0.72       145\n",
            "   macro avg       0.68      0.65      0.65       145\n",
            "weighted avg       0.71      0.72      0.71       145\n",
            "\n"
          ]
        }
      ]
    },
    {
      "cell_type": "code",
      "source": [
        "print(\"En İyi Parametrelerin Verdiği Skor:\",grid_search.best_score_)"
      ],
      "metadata": {
        "colab": {
          "base_uri": "https://localhost:8080/"
        },
        "id": "oTeZlqbrNNFB",
        "outputId": "2f84ecae-c33c-464a-f9d6-481e52b0587f"
      },
      "execution_count": 573,
      "outputs": [
        {
          "output_type": "stream",
          "name": "stdout",
          "text": [
            "En İyi Parametrelerin Verdiği Skor: 0.8154442661531878\n"
          ]
        }
      ]
    },
    {
      "cell_type": "code",
      "source": [
        "plot_roc_curve(grid_search, X_test, y_test)"
      ],
      "metadata": {
        "id": "zK0KZ_t_pCAv",
        "colab": {
          "base_uri": "https://localhost:8080/",
          "height": 351
        },
        "outputId": "4b002820-57d1-451a-cc18-79028d5262dc"
      },
      "execution_count": 574,
      "outputs": [
        {
          "output_type": "stream",
          "name": "stderr",
          "text": [
            "/usr/local/lib/python3.7/dist-packages/sklearn/utils/deprecation.py:87: FutureWarning: Function plot_roc_curve is deprecated; Function `plot_roc_curve` is deprecated in 1.0 and will be removed in 1.2. Use one of the class methods: RocCurveDisplay.from_predictions or RocCurveDisplay.from_estimator.\n",
            "  warnings.warn(msg, category=FutureWarning)\n"
          ]
        },
        {
          "output_type": "execute_result",
          "data": {
            "text/plain": [
              "<sklearn.metrics._plot.roc_curve.RocCurveDisplay at 0x7f572bba1c10>"
            ]
          },
          "metadata": {},
          "execution_count": 574
        },
        {
          "output_type": "display_data",
          "data": {
            "image/png": "[encoded data removed]",
            "text/plain": [
              "<Figure size 432x288 with 1 Axes>"
            ]
          },
          "metadata": {
            "needs_background": "light"
          }
        }
      ]
    },
    {
      "cell_type": "markdown",
      "source": [
        "\n",
        "\n",
        "---\n",
        "\n",
        "\n",
        "\n",
        "#**MLP (MULTILAYER PERCEPTRON)**\n",
        "\n",
        "\n",
        "\n",
        "---\n",
        "\n"
      ],
      "metadata": {
        "id": "yiNfYhJ9OOR-"
      }
    },
    {
      "cell_type": "code",
      "source": [
        "from sklearn.neural_network import MLPClassifier"
      ],
      "metadata": {
        "execution": {
          "iopub.status.busy": "2021-12-17T01:22:07.269612Z",
          "iopub.execute_input": "2021-12-17T01:22:07.270099Z",
          "iopub.status.idle": "2021-12-17T01:22:07.280171Z",
          "shell.execute_reply.started": "2021-12-17T01:22:07.270057Z",
          "shell.execute_reply": "2021-12-17T01:22:07.27919Z"
        },
        "trusted": true,
        "id": "bGfMuCfEUZ4n"
      },
      "execution_count": 575,
      "outputs": []
    },
    {
      "cell_type": "code",
      "source": [
        "mlp = MLPClassifier(max_iter=1000)\n",
        "mlp.fit(X_train , y_train)\n",
        "\n",
        "\n",
        "train_pred_mlp =  mlp.predict(X_train)\n",
        "print('Train Accuracy : %.3f%% ' % (accuracy_score(y_train , train_pred_mlp)*100))\n",
        "\n",
        "print(\"Confusion Matrix-KNN TRAIN: \")\n",
        "print(confusion_matrix(y_train, train_pred_mlp))\n",
        "\n",
        "print('\\nModel Sonuçları\\n')\n",
        "print(classification_report(y_train, train_pred_mlp))\n",
        "\n",
        "print(\"-\"*40)\n",
        "\n",
        "test_pred_mlp = mlp.predict(X_test)\n",
        "print('Test Accuracy  : %.3f%% ' % (accuracy_score(y_test, test_pred_mlp)*100))\n",
        "\n",
        "print(\"Confusion Matrix-KNN TEST: \")\n",
        "print(confusion_matrix(y_test, test_pred_mlp))\n",
        "\n",
        "print('\\nModel Sonuçları\\n')\n",
        "print(classification_report(y_test, test_pred_mlp))"
      ],
      "metadata": {
        "execution": {
          "iopub.status.busy": "2021-12-17T01:22:07.281838Z",
          "iopub.execute_input": "2021-12-17T01:22:07.282332Z",
          "iopub.status.idle": "2021-12-17T01:22:07.293382Z",
          "shell.execute_reply.started": "2021-12-17T01:22:07.28229Z",
          "shell.execute_reply": "2021-12-17T01:22:07.292454Z"
        },
        "trusted": true,
        "id": "gsjT9SMSUZ4n",
        "colab": {
          "base_uri": "https://localhost:8080/"
        },
        "outputId": "4e77e9a1-4a73-4eaf-99fa-6032c5eb8187"
      },
      "execution_count": 576,
      "outputs": [
        {
          "output_type": "stream",
          "name": "stdout",
          "text": [
            "Train Accuracy : 91.710% \n",
            "Confusion Matrix-KNN TRAIN: \n",
            "[[355  22]\n",
            " [ 26 176]]\n",
            "\n",
            "Model Sonuçları\n",
            "\n",
            "              precision    recall  f1-score   support\n",
            "\n",
            "           0       0.93      0.94      0.94       377\n",
            "           1       0.89      0.87      0.88       202\n",
            "\n",
            "    accuracy                           0.92       579\n",
            "   macro avg       0.91      0.91      0.91       579\n",
            "weighted avg       0.92      0.92      0.92       579\n",
            "\n",
            "----------------------------------------\n",
            "Test Accuracy  : 72.414% \n",
            "Confusion Matrix-KNN TEST: \n",
            "[[79 19]\n",
            " [21 26]]\n",
            "\n",
            "Model Sonuçları\n",
            "\n",
            "              precision    recall  f1-score   support\n",
            "\n",
            "           0       0.79      0.81      0.80        98\n",
            "           1       0.58      0.55      0.57        47\n",
            "\n",
            "    accuracy                           0.72       145\n",
            "   macro avg       0.68      0.68      0.68       145\n",
            "weighted avg       0.72      0.72      0.72       145\n",
            "\n"
          ]
        },
        {
          "output_type": "stream",
          "name": "stderr",
          "text": [
            "/usr/local/lib/python3.7/dist-packages/sklearn/neural_network/_multilayer_perceptron.py:696: ConvergenceWarning: Stochastic Optimizer: Maximum iterations (1000) reached and the optimization hasn't converged yet.\n",
            "  ConvergenceWarning,\n"
          ]
        }
      ]
    },
    {
      "cell_type": "code",
      "source": [
        "fpr , tpr , thresolds = metrics.roc_curve(y_test,pred_mlp)\n",
        "roc_auc = metrics.auc(fpr , tpr)\n",
        "plt.plot(fpr , tpr ,'b' ,label = 'AUC =0.2f' %roc_auc)\n",
        "roc_auc"
      ],
      "metadata": {
        "id": "YH9gb8yqeH1S",
        "colab": {
          "base_uri": "https://localhost:8080/",
          "height": 282
        },
        "outputId": "298d564d-c88d-451e-c70c-6025b7d6cf96"
      },
      "execution_count": 577,
      "outputs": [
        {
          "output_type": "execute_result",
          "data": {
            "text/plain": [
              "0.596287451150673"
            ]
          },
          "metadata": {},
          "execution_count": 577
        },
        {
          "output_type": "display_data",
          "data": {
            "image/png": "[encoded data removed]",
            "text/plain": [
              "<Figure size 432x288 with 1 Axes>"
            ]
          },
          "metadata": {
            "needs_background": "light"
          }
        }
      ]
    },
    {
      "cell_type": "markdown",
      "source": [
        "\n",
        "\n",
        "---\n",
        "Hiperparametre ile MLP\n",
        "\n",
        "---\n",
        "\n",
        "\n",
        "\n"
      ],
      "metadata": {
        "id": "NbgOqq4Pfs7a"
      }
    },
    {
      "cell_type": "code",
      "source": [
        "mlp_gs = MLPClassifier(max_iter=1000)\n",
        "parameter_space = {\n",
        "    'hidden_layer_sizes': [(10,30,10),(20,)],\n",
        "    'activation': ['tanh', 'relu'],\n",
        "    'solver': ['sgd', 'adam'],\n",
        "    'alpha': [0.0001, 0.05],\n",
        "    'learning_rate': ['constant','adaptive'],\n",
        "}\n",
        "\n",
        "clf = GridSearchCV(mlp_gs, parameter_space, n_jobs=5, cv=5)\n",
        "clf.fit(X_test_mlp, y_test_mlp) "
      ],
      "metadata": {
        "id": "cBt-tmA-veam",
        "colab": {
          "base_uri": "https://localhost:8080/"
        },
        "outputId": "5ea0ae4b-9725-4529-ca8d-e6a7158ddea9"
      },
      "execution_count": 578,
      "outputs": [
        {
          "output_type": "execute_result",
          "data": {
            "text/plain": [
              "GridSearchCV(cv=5, estimator=MLPClassifier(max_iter=1000), n_jobs=5,\n",
              "             param_grid={'activation': ['tanh', 'relu'],\n",
              "                         'alpha': [0.0001, 0.05],\n",
              "                         'hidden_layer_sizes': [(10, 30, 10), (20,)],\n",
              "                         'learning_rate': ['constant', 'adaptive'],\n",
              "                         'solver': ['sgd', 'adam']})"
            ]
          },
          "metadata": {},
          "execution_count": 578
        }
      ]
    },
    {
      "cell_type": "code",
      "source": [
        "grid_predictions = mlp.predict(X_test_mlp)\n",
        "\n",
        "print(classification_report(y_test_mlp, grid_predictions))"
      ],
      "metadata": {
        "id": "zULZ9hQsv5zb",
        "colab": {
          "base_uri": "https://localhost:8080/"
        },
        "outputId": "78af5138-4d41-42d2-8d4d-bf4fde0f473f"
      },
      "execution_count": 579,
      "outputs": [
        {
          "output_type": "stream",
          "name": "stdout",
          "text": [
            "              precision    recall  f1-score   support\n",
            "\n",
            "           0       0.92      0.95      0.93        94\n",
            "           1       0.90      0.84      0.87        51\n",
            "\n",
            "    accuracy                           0.91       145\n",
            "   macro avg       0.91      0.89      0.90       145\n",
            "weighted avg       0.91      0.91      0.91       145\n",
            "\n"
          ]
        }
      ]
    },
    {
      "cell_type": "markdown",
      "source": [
        "Hiperparametre ile Grafik"
      ],
      "metadata": {
        "id": "c6WNz4ZHqi1i"
      }
    },
    {
      "cell_type": "code",
      "source": [
        "plot_roc_curve(clf, X_test, y_test)"
      ],
      "metadata": {
        "id": "UMk5CXNqn0UL",
        "colab": {
          "base_uri": "https://localhost:8080/",
          "height": 351
        },
        "outputId": "0d40daed-0b68-425b-e155-3c28ad55ecc5"
      },
      "execution_count": 580,
      "outputs": [
        {
          "output_type": "stream",
          "name": "stderr",
          "text": [
            "/usr/local/lib/python3.7/dist-packages/sklearn/utils/deprecation.py:87: FutureWarning: Function plot_roc_curve is deprecated; Function `plot_roc_curve` is deprecated in 1.0 and will be removed in 1.2. Use one of the class methods: RocCurveDisplay.from_predictions or RocCurveDisplay.from_estimator.\n",
            "  warnings.warn(msg, category=FutureWarning)\n"
          ]
        },
        {
          "output_type": "execute_result",
          "data": {
            "text/plain": [
              "<sklearn.metrics._plot.roc_curve.RocCurveDisplay at 0x7f572bf75fd0>"
            ]
          },
          "metadata": {},
          "execution_count": 580
        },
        {
          "output_type": "display_data",
          "data": {
            "image/png": "[encoded data removed]",
            "text/plain": [
              "<Figure size 432x288 with 1 Axes>"
            ]
          },
          "metadata": {
            "needs_background": "light"
          }
        }
      ]
    },
    {
      "cell_type": "markdown",
      "source": [
        "\n",
        "\n",
        "---\n",
        "\n",
        "\n",
        "\n",
        "#**RANDOM FOREST**\n",
        "\n",
        "\n",
        "\n",
        "---\n",
        "\n"
      ],
      "metadata": {
        "id": "NFUSke43Zb9I"
      }
    },
    {
      "cell_type": "code",
      "source": [
        "from sklearn.ensemble import RandomForestClassifier as randomForest\n",
        "from sklearn.model_selection import KFold, train_test_split, cross_val_predict, cross_val_score\n",
        "from sklearn import metrics\n"
      ],
      "metadata": {
        "trusted": true,
        "id": "PYw0i2dZUZ4o"
      },
      "execution_count": 581,
      "outputs": []
    },
    {
      "cell_type": "code",
      "source": [
        "randomForest = randomForest()\n",
        "randomForest.fit(X_train,y_train)\n",
        "\n",
        "train_pred_randomForest = randomForest.predict(X_train)\n",
        "print('Train Accuracy : %.3f%% ' % (accuracy_score(y_train , train_pred_randomForest)*100))\n",
        "print(\"Confusion Matrix-randomForest-Train: \")\n",
        "print(confusion_matrix(y_train, train_pred_randomForest))\n",
        "\n",
        "print('\\nModel Sonuçları\\n')\n",
        "print(classification_report(y_train, train_pred_randomForest))\n",
        "\n",
        "print(\"-\"*40)\n",
        "\n",
        "test_pred_randomForest = randomForest.predict(X_test)\n",
        "print('Test Accuracy  : %.3f%% ' % (accuracy_score(y_test, test_pred_randomForest)*100))\n",
        "\n",
        "print(\"Confusion Matrix-randomForest-Test: \")\n",
        "print(confusion_matrix(y_test, test_pred_randomForest))\n",
        "\n",
        "print('\\nModel Sonuçları\\n')\n",
        "print(classification_report(y_test, test_pred_randomForest))"
      ],
      "metadata": {
        "id": "e72dnLPmXt17",
        "colab": {
          "base_uri": "https://localhost:8080/"
        },
        "outputId": "504dd6ee-54c6-4fa6-ee4a-91ec1477b0d7"
      },
      "execution_count": 582,
      "outputs": [
        {
          "output_type": "stream",
          "name": "stdout",
          "text": [
            "Train Accuracy : 100.000% \n",
            "Confusion Matrix-randomForest-Train: \n",
            "[[377   0]\n",
            " [  0 202]]\n",
            "\n",
            "Model Sonuçları\n",
            "\n",
            "              precision    recall  f1-score   support\n",
            "\n",
            "           0       1.00      1.00      1.00       377\n",
            "           1       1.00      1.00      1.00       202\n",
            "\n",
            "    accuracy                           1.00       579\n",
            "   macro avg       1.00      1.00      1.00       579\n",
            "weighted avg       1.00      1.00      1.00       579\n",
            "\n",
            "----------------------------------------\n",
            "Test Accuracy  : 78.621% \n",
            "Confusion Matrix-randomForest-Test: \n",
            "[[87 11]\n",
            " [20 27]]\n",
            "\n",
            "Model Sonuçları\n",
            "\n",
            "              precision    recall  f1-score   support\n",
            "\n",
            "           0       0.81      0.89      0.85        98\n",
            "           1       0.71      0.57      0.64        47\n",
            "\n",
            "    accuracy                           0.79       145\n",
            "   macro avg       0.76      0.73      0.74       145\n",
            "weighted avg       0.78      0.79      0.78       145\n",
            "\n"
          ]
        }
      ]
    },
    {
      "cell_type": "code",
      "source": [
        "fpr , tpr , thresolds = metrics.roc_curve(y_train, train_pred_randomForest)\n",
        "roc_auc = metrics.auc(fpr , tpr)\n",
        "plt.plot(fpr , tpr ,'b' ,label = 'AUC =0.2f' %roc_auc)\n",
        "roc_auc"
      ],
      "metadata": {
        "id": "f6aU2043RR9y",
        "colab": {
          "base_uri": "https://localhost:8080/",
          "height": 282
        },
        "outputId": "b816aedf-b663-4ac4-9d8f-9159a66eccb6"
      },
      "execution_count": 583,
      "outputs": [
        {
          "output_type": "execute_result",
          "data": {
            "text/plain": [
              "1.0"
            ]
          },
          "metadata": {},
          "execution_count": 583
        },
        {
          "output_type": "display_data",
          "data": {
            "image/png": "[encoded data removed]",
            "text/plain": [
              "<Figure size 432x288 with 1 Axes>"
            ]
          },
          "metadata": {
            "needs_background": "light"
          }
        }
      ]
    },
    {
      "cell_type": "code",
      "source": [
        "fpr , tpr , thresolds = metrics.roc_curve(y_test, test_pred_randomForest)\n",
        "roc_auc = metrics.auc(fpr , tpr)\n",
        "plt.plot(fpr , tpr ,'b' ,label = 'AUC =0.2f' %roc_auc)\n",
        "roc_auc"
      ],
      "metadata": {
        "id": "6ExE6s4qXzHt",
        "colab": {
          "base_uri": "https://localhost:8080/",
          "height": 282
        },
        "outputId": "2f9170f8-5114-4659-d4da-767b4e90893f"
      },
      "execution_count": 584,
      "outputs": [
        {
          "output_type": "execute_result",
          "data": {
            "text/plain": [
              "0.7311115935735997"
            ]
          },
          "metadata": {},
          "execution_count": 584
        },
        {
          "output_type": "display_data",
          "data": {
            "image/png": "[encoded data removed]",
            "text/plain": [
              "<Figure size 432x288 with 1 Axes>"
            ]
          },
          "metadata": {
            "needs_background": "light"
          }
        }
      ]
    },
    {
      "cell_type": "markdown",
      "source": [
        "\n",
        "\n",
        "---\n",
        "Random Forest Hiperparametre İle\n",
        "\n",
        "\n",
        "---\n",
        "\n",
        "\n"
      ],
      "metadata": {
        "id": "QpCLfMtEb-pz"
      }
    },
    {
      "cell_type": "code",
      "source": [
        "rf_params = {\n",
        "            'max_depth': [10, 50, None],\n",
        "            'min_samples_leaf': [1, 2, 4],\n",
        "            'min_samples_split': [2, 10],\n",
        "            'n_estimators': [200, 400, 2000]\n",
        "             }\n",
        "\n",
        "cv_rf = GridSearchCV(randomForest,rf_params,cv=5,verbose=False,n_jobs=-1).fit(X_test,y_test)"
      ],
      "metadata": {
        "id": "Topg13jecFKR"
      },
      "execution_count": 585,
      "outputs": []
    },
    {
      "cell_type": "code",
      "source": [
        "print(\"En İyi Parametrelerin Verdiği Skor:\",cv_rf.best_score_)"
      ],
      "metadata": {
        "colab": {
          "base_uri": "https://localhost:8080/"
        },
        "id": "pBbwNVZnNsb_",
        "outputId": "8a35c0c3-e563-4078-e050-01bffad726f0"
      },
      "execution_count": 586,
      "outputs": [
        {
          "output_type": "stream",
          "name": "stdout",
          "text": [
            "En İyi Parametrelerin Verdiği Skor: 0.7448275862068965\n"
          ]
        }
      ]
    },
    {
      "cell_type": "code",
      "source": [
        "plot_roc_curve(cv_rf, X_test, y_test)"
      ],
      "metadata": {
        "id": "MmfdVx9OndSd",
        "colab": {
          "base_uri": "https://localhost:8080/",
          "height": 351
        },
        "outputId": "8079b4f7-7645-43e6-9b80-35916d0b5645"
      },
      "execution_count": 587,
      "outputs": [
        {
          "output_type": "stream",
          "name": "stderr",
          "text": [
            "/usr/local/lib/python3.7/dist-packages/sklearn/utils/deprecation.py:87: FutureWarning: Function plot_roc_curve is deprecated; Function `plot_roc_curve` is deprecated in 1.0 and will be removed in 1.2. Use one of the class methods: RocCurveDisplay.from_predictions or RocCurveDisplay.from_estimator.\n",
            "  warnings.warn(msg, category=FutureWarning)\n"
          ]
        },
        {
          "output_type": "execute_result",
          "data": {
            "text/plain": [
              "<sklearn.metrics._plot.roc_curve.RocCurveDisplay at 0x7f572bc69410>"
            ]
          },
          "metadata": {},
          "execution_count": 587
        },
        {
          "output_type": "display_data",
          "data": {
            "image/png": "[encoded data removed]",
            "text/plain": [
              "<Figure size 432x288 with 1 Axes>"
            ]
          },
          "metadata": {
            "needs_background": "light"
          }
        }
      ]
    },
    {
      "cell_type": "markdown",
      "source": [
        "\n",
        "\n",
        "---\n",
        "\n",
        "\n",
        "\n",
        "#**GRADIENT BOOSTING**\n",
        "\n",
        "\n",
        "\n",
        "---\n",
        "\n"
      ],
      "metadata": {
        "id": "1LV0g18YZmZ5"
      }
    },
    {
      "cell_type": "code",
      "source": [
        "from sklearn.ensemble import GradientBoostingClassifier  as gradientBoosting"
      ],
      "metadata": {
        "id": "mNuHZk1aH0rw"
      },
      "execution_count": 508,
      "outputs": []
    },
    {
      "cell_type": "code",
      "source": [
        "gradientBoosting = gradientBoosting()\n",
        "gradientBoosting.fit(X_train, y_train)\n",
        "\n",
        "train_pred_gradientBoosting = gradientBoosting.predict(X_train)\n",
        "print('Train Accuracy : %.3f%% ' % (accuracy_score(y_train , train_pred_gradientBoosting)*100))\n",
        "\n",
        "print(\"Confusion Matrix-gradientBoosting-Train: \")\n",
        "print(confusion_matrix(y_train, train_pred_gradientBoosting))\n",
        "\n",
        "print('\\nModel Sonuçları\\n')\n",
        "print(classification_report(y_train, train_pred_gradientBoosting))\n",
        "\n",
        "print(\"-\"*40)\n",
        "\n",
        "test_pred_gradientBoosting = gradientBoosting.predict(X_test)\n",
        "print('Test Accuracy  : %.3f%% ' % (accuracy_score(y_test, test_pred_gradientBoosting)*100))\n",
        "\n",
        "print(\"Confusion Matrix-gradientBoosting-Test: \")\n",
        "print(confusion_matrix(y_test, test_pred_gradientBoosting))\n",
        "\n",
        "print('\\nModel Sonuçları\\n')\n",
        "print(classification_report(y_test, test_pred_gradientBoosting))"
      ],
      "metadata": {
        "id": "SXrdrBOGX06v",
        "colab": {
          "base_uri": "https://localhost:8080/"
        },
        "outputId": "b2a179cd-2be4-43a3-d114-85ef40877a6b"
      },
      "execution_count": 509,
      "outputs": [
        {
          "output_type": "stream",
          "name": "stdout",
          "text": [
            "Train Accuracy : 93.264% \n",
            "Confusion Matrix-gradientBoosting-Train: \n",
            "[[369   8]\n",
            " [ 31 171]]\n",
            "\n",
            "Model Sonuçları\n",
            "\n",
            "              precision    recall  f1-score   support\n",
            "\n",
            "           0       0.92      0.98      0.95       377\n",
            "           1       0.96      0.85      0.90       202\n",
            "\n",
            "    accuracy                           0.93       579\n",
            "   macro avg       0.94      0.91      0.92       579\n",
            "weighted avg       0.93      0.93      0.93       579\n",
            "\n",
            "----------------------------------------\n",
            "Test Accuracy  : 73.793% \n",
            "Confusion Matrix-gradientBoosting-Test: \n",
            "[[82 16]\n",
            " [22 25]]\n",
            "\n",
            "Model Sonuçları\n",
            "\n",
            "              precision    recall  f1-score   support\n",
            "\n",
            "           0       0.79      0.84      0.81        98\n",
            "           1       0.61      0.53      0.57        47\n",
            "\n",
            "    accuracy                           0.74       145\n",
            "   macro avg       0.70      0.68      0.69       145\n",
            "weighted avg       0.73      0.74      0.73       145\n",
            "\n"
          ]
        }
      ]
    },
    {
      "cell_type": "code",
      "source": [
        "from sklearn.ensemble import GradientBoostingClassifier  as gradientBoosting"
      ],
      "metadata": {
        "id": "91-gBr20IdHm"
      },
      "execution_count": 510,
      "outputs": []
    },
    {
      "cell_type": "code",
      "source": [
        "clf = make_pipeline(StandardScaler(), gradientBoosting())\n",
        "clf.fit(X_train,y_train)\n",
        "y_score = clf.decision_function(X_train)\n",
        "\n",
        "fpr, tpr, _ = roc_curve(y_train, y_score, pos_label=clf.classes_[1])\n",
        "roc_display = RocCurveDisplay(fpr=fpr, tpr=tpr).plot()"
      ],
      "metadata": {
        "id": "q0jmqHBMbE1w",
        "colab": {
          "base_uri": "https://localhost:8080/",
          "height": 279
        },
        "outputId": "27dc098f-f603-4f9e-98f7-4dd114b1b5b5"
      },
      "execution_count": 511,
      "outputs": [
        {
          "output_type": "display_data",
          "data": {
            "image/png": "[encoded data removed]",
            "text/plain": [
              "<Figure size 432x288 with 1 Axes>"
            ]
          },
          "metadata": {
            "needs_background": "light"
          }
        }
      ]
    },
    {
      "cell_type": "code",
      "source": [
        "clf = make_pipeline(StandardScaler(), gradientBoosting())\n",
        "clf.fit(X_train,y_train)\n",
        "y_score = clf.decision_function(X_test)\n",
        "\n",
        "fpr, tpr, _ = roc_curve(y_test, y_score, pos_label=clf.classes_[1])\n",
        "roc_display = RocCurveDisplay(fpr=fpr, tpr=tpr).plot()"
      ],
      "metadata": {
        "id": "RaXnCDOubHcy",
        "colab": {
          "base_uri": "https://localhost:8080/",
          "height": 279
        },
        "outputId": "ce58d840-244a-46d8-8581-1de6c7c84a9a"
      },
      "execution_count": 512,
      "outputs": [
        {
          "output_type": "display_data",
          "data": {
            "image/png": "[encoded data removed]",
            "text/plain": [
              "<Figure size 432x288 with 1 Axes>"
            ]
          },
          "metadata": {
            "needs_background": "light"
          }
        }
      ]
    },
    {
      "cell_type": "markdown",
      "source": [
        "\n",
        "\n",
        "---\n",
        "Gradient Boosting Hiperparametre İle\n",
        "\n",
        "\n",
        "---\n",
        "\n",
        "\n"
      ],
      "metadata": {
        "id": "qI3YS6eDHFzf"
      }
    },
    {
      "cell_type": "code",
      "source": [
        "from sklearn.ensemble import GradientBoostingClassifier  as gradientBoosting\n",
        "\n",
        "\n",
        "param    = {\n",
        "              \"criterion\": [\"friedman_mse\"],\n",
        "              \"loss\":[\"deviance\",\"exponential\"],\n",
        "              \"max_features\":[\"log2\",\"sqrt\"],\n",
        "              'learning_rate': [0.01,0.05,0.1,1,0.5], \n",
        "              'max_depth': [3,4,5],\n",
        "              'min_samples_leaf': [4,5,6],\n",
        "\n",
        "              'subsample': [0.6,0.7,0.8],\n",
        "              'n_estimators': [5,10,15,20],\n",
        "              \n",
        "            }\n",
        "    \n",
        "model_gboosting = gradientBoosting()\n",
        "grid_gb  = GridSearchCV(model_gboosting , param , verbose=1).fit(X_test,y_test)\n",
        "print(\"En İyi Parametrelerin Verdiği Skor:\",grid_gb.best_score_)"
      ],
      "metadata": {
        "id": "ZYz1jO0uHFVn",
        "colab": {
          "base_uri": "https://localhost:8080/"
        },
        "outputId": "00aa775e-c2ef-4016-8fce-d5831a0f4eba"
      },
      "execution_count": 513,
      "outputs": [
        {
          "output_type": "stream",
          "name": "stdout",
          "text": [
            "Fitting 5 folds for each of 2160 candidates, totalling 10800 fits\n",
            "En İyi Parametrelerin Verdiği Skor: 0.7793103448275862\n"
          ]
        }
      ]
    },
    {
      "cell_type": "markdown",
      "source": [
        "\n",
        "\n",
        "---\n",
        "\n",
        "\n",
        "\n",
        "#**XG BOOST**\n",
        "\n",
        "\n",
        "\n",
        "---\n",
        "\n"
      ],
      "metadata": {
        "id": "GOD1GU4nZsZw"
      }
    },
    {
      "cell_type": "code",
      "source": [
        "import xgboost as xgb\n",
        "from xgboost import XGBClassifier as xgBoost\n"
      ],
      "metadata": {
        "id": "R3bMPYxTX_Pv"
      },
      "execution_count": 514,
      "outputs": []
    },
    {
      "cell_type": "code",
      "source": [
        "xgBoost = xgBoost(use_label_encoder=False,eval_metric = 'error')\n",
        "\n",
        "xgBoost.fit(X_train, y_train)\n",
        "\n",
        "train_pred_xgBoost = xgBoost.predict(X_train)\n",
        "print('Train Accuracy : %.3f%% ' % (accuracy_score(y_train , train_pred_xgBoost)*100))\n",
        "\n",
        "print(\"Confusion Matrix-xgBoost-Train: \")\n",
        "print(confusion_matrix(y_train, train_pred_xgBoost))\n",
        "\n",
        "print('\\nModel Sonuçları\\n')\n",
        "print(classification_report(y_train, train_pred_xgBoost))\n",
        "\n",
        "print(\"-\"*40)\n",
        "\n",
        "test_pred_xgBoost = xgBoost.predict(X_test)\n",
        "print('Test Accuracy  : %.3f%% ' % (accuracy_score(y_test, test_pred_xgBoost)*100))\n",
        "\n",
        "print(\"Confusion Matrix-xgBoost-Test: \")\n",
        "print(confusion_matrix(y_test, test_pred_xgBoost))\n",
        "\n",
        "print('\\nModel Sonuçları\\n')\n",
        "print(classification_report(y_test, test_pred_xgBoost))"
      ],
      "metadata": {
        "id": "RS4EzXZUX99Y",
        "colab": {
          "base_uri": "https://localhost:8080/"
        },
        "outputId": "2be49264-cacc-45a0-af0c-89df1f908cf7"
      },
      "execution_count": 515,
      "outputs": [
        {
          "output_type": "stream",
          "name": "stdout",
          "text": [
            "Train Accuracy : 89.465% \n",
            "Confusion Matrix-xgBoost-Train: \n",
            "[[354  23]\n",
            " [ 38 164]]\n",
            "\n",
            "Model Sonuçları\n",
            "\n",
            "              precision    recall  f1-score   support\n",
            "\n",
            "           0       0.90      0.94      0.92       377\n",
            "           1       0.88      0.81      0.84       202\n",
            "\n",
            "    accuracy                           0.89       579\n",
            "   macro avg       0.89      0.88      0.88       579\n",
            "weighted avg       0.89      0.89      0.89       579\n",
            "\n",
            "----------------------------------------\n",
            "Test Accuracy  : 73.793% \n",
            "Confusion Matrix-xgBoost-Test: \n",
            "[[81 17]\n",
            " [21 26]]\n",
            "\n",
            "Model Sonuçları\n",
            "\n",
            "              precision    recall  f1-score   support\n",
            "\n",
            "           0       0.79      0.83      0.81        98\n",
            "           1       0.60      0.55      0.58        47\n",
            "\n",
            "    accuracy                           0.74       145\n",
            "   macro avg       0.70      0.69      0.69       145\n",
            "weighted avg       0.73      0.74      0.73       145\n",
            "\n"
          ]
        }
      ]
    },
    {
      "cell_type": "code",
      "source": [
        "fpr , tpr , thresolds = metrics.roc_curve(y_train, train_pred_xgBoost)\n",
        "roc_auc = metrics.auc(fpr , tpr)\n",
        "plt.plot(fpr , tpr ,'b' ,label = 'AUC =0.2f' %roc_auc)\n",
        "roc_auc"
      ],
      "metadata": {
        "id": "ZCu0G-nMbcN7",
        "colab": {
          "base_uri": "https://localhost:8080/",
          "height": 282
        },
        "outputId": "20029e40-73d4-4dcb-d90b-cf79b081df58"
      },
      "execution_count": 516,
      "outputs": [
        {
          "output_type": "execute_result",
          "data": {
            "text/plain": [
              "0.8754366152795651"
            ]
          },
          "metadata": {},
          "execution_count": 516
        },
        {
          "output_type": "display_data",
          "data": {
            "image/png": "[encoded data removed]",
            "text/plain": [
              "<Figure size 432x288 with 1 Axes>"
            ]
          },
          "metadata": {
            "needs_background": "light"
          }
        }
      ]
    },
    {
      "cell_type": "code",
      "source": [
        "fpr , tpr , thresolds = metrics.roc_curve(y_test, test_pred_xgBoost)\n",
        "roc_auc = metrics.auc(fpr , tpr)\n",
        "plt.plot(fpr , tpr ,'b' ,label = 'AUC =0.2f' %roc_auc)\n",
        "roc_auc"
      ],
      "metadata": {
        "id": "hpXjLKSxbd7p",
        "colab": {
          "base_uri": "https://localhost:8080/",
          "height": 282
        },
        "outputId": "339a8ba2-392e-47ed-94f8-98b5bab4dda8"
      },
      "execution_count": 517,
      "outputs": [
        {
          "output_type": "execute_result",
          "data": {
            "text/plain": [
              "0.6898610508033001"
            ]
          },
          "metadata": {},
          "execution_count": 517
        },
        {
          "output_type": "display_data",
          "data": {
            "image/png": "[encoded data removed]",
            "text/plain": [
              "<Figure size 432x288 with 1 Axes>"
            ]
          },
          "metadata": {
            "needs_background": "light"
          }
        }
      ]
    },
    {
      "cell_type": "markdown",
      "source": [
        "\n",
        "\n",
        "---\n",
        "XGBoost Hiperparametreler İle\n",
        "\n",
        "\n",
        "---\n",
        "\n",
        "\n"
      ],
      "metadata": {
        "id": "W5H1iRk_q7px"
      }
    },
    {
      "cell_type": "code",
      "source": [
        "from xgboost import XGBClassifier\n",
        "model_xgb   = XGBClassifier(seed=None)\n",
        "parameters  = {\n",
        "                \"max_depth\": range (2, 10, 1),\n",
        "                \"n_estimators\": range(60, 220, 40),\n",
        "                \"learning_rate\": [0.1, 0.01, 0.05]\n",
        "                }\n",
        "\n",
        "grid_xgb   = GridSearchCV (model_xgb , parameters, verbose=1) \n",
        "\n",
        "grid_xgb.fit (X_train , y_train)\n",
        "print(\"En İyi Parametrelerin Verdiği Skor:\",grid_xgb.best_score_)"
      ],
      "metadata": {
        "id": "E95rR4dDrCcu",
        "colab": {
          "base_uri": "https://localhost:8080/"
        },
        "outputId": "8882e732-8ac0-4fcc-a39f-bff4788d09d4"
      },
      "execution_count": 518,
      "outputs": [
        {
          "output_type": "stream",
          "name": "stdout",
          "text": [
            "Fitting 5 folds for each of 96 candidates, totalling 480 fits\n",
            "En İyi Parametrelerin Verdiği Skor: 0.7720839580209896\n"
          ]
        }
      ]
    },
    {
      "cell_type": "code",
      "source": [
        "grid_xgb.best_params_\n",
        "\n",
        "predictions_xgb = grid_xgb.predict(X_test)\n",
        "\n",
        "print(classification_report(y_test , predictions_xgb))"
      ],
      "metadata": {
        "colab": {
          "base_uri": "https://localhost:8080/"
        },
        "id": "Tvp03VWKT-j9",
        "outputId": "c7a30168-b6b1-4fa3-c42b-a5617bfd4506"
      },
      "execution_count": 519,
      "outputs": [
        {
          "output_type": "stream",
          "name": "stdout",
          "text": [
            "              precision    recall  f1-score   support\n",
            "\n",
            "           0       0.82      0.87      0.84        98\n",
            "           1       0.68      0.60      0.64        47\n",
            "\n",
            "    accuracy                           0.78       145\n",
            "   macro avg       0.75      0.73      0.74       145\n",
            "weighted avg       0.77      0.78      0.78       145\n",
            "\n"
          ]
        }
      ]
    },
    {
      "cell_type": "code",
      "source": [
        "plot_roc_curve(grid_xgb, X_test, y_test)"
      ],
      "metadata": {
        "colab": {
          "base_uri": "https://localhost:8080/",
          "height": 351
        },
        "id": "mS4F-iryT_E_",
        "outputId": "67a5dfa9-033b-457f-9f36-edb376b7523b"
      },
      "execution_count": 520,
      "outputs": [
        {
          "output_type": "stream",
          "name": "stderr",
          "text": [
            "/usr/local/lib/python3.7/dist-packages/sklearn/utils/deprecation.py:87: FutureWarning: Function plot_roc_curve is deprecated; Function `plot_roc_curve` is deprecated in 1.0 and will be removed in 1.2. Use one of the class methods: RocCurveDisplay.from_predictions or RocCurveDisplay.from_estimator.\n",
            "  warnings.warn(msg, category=FutureWarning)\n"
          ]
        },
        {
          "output_type": "execute_result",
          "data": {
            "text/plain": [
              "<sklearn.metrics._plot.roc_curve.RocCurveDisplay at 0x7f5735074b10>"
            ]
          },
          "metadata": {},
          "execution_count": 520
        },
        {
          "output_type": "display_data",
          "data": {
            "image/png": "[encoded data removed]",
            "text/plain": [
              "<Figure size 432x288 with 1 Axes>"
            ]
          },
          "metadata": {
            "needs_background": "light"
          }
        }
      ]
    }
  ]
}