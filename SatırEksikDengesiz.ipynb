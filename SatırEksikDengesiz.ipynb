{
  "nbformat": 4,
  "nbformat_minor": 0,
  "metadata": {
    "colab": {
      "name": "SatırEksikDengesiz",
      "provenance": [],
      "collapsed_sections": [],
      "toc_visible": true,
      "authorship_tag": "ABX9TyNmbCZSz3+Qx6HzJ++omjJT",
      "include_colab_link": true
    },
    "kernelspec": {
      "name": "python3",
      "display_name": "Python 3"
    },
    "language_info": {
      "name": "python"
    }
  },
  "cells": [
    {
      "cell_type": "markdown",
      "metadata": {
        "id": "view-in-github",
        "colab_type": "text"
      },
      "source": [
        "<a href=\"https://colab.research.google.com/github/BoranOner/Predicting-Diabetes/blob/main/Sat%C4%B1rEksikDengesiz.ipynb\" target=\"_parent\"><img src=\"https://colab.research.google.com/assets/colab-badge.svg\" alt=\"Open In Colab\"/></a>"
      ]
    },
    {
      "cell_type": "code",
      "source": [
        "# This Python 3 environment comes with many helpful analytics libraries installed\n",
        "# It is defined by the kaggle/python Docker image: https://github.com/kaggle/docker-python\n",
        "# For example, here's several helpful packages to load\n",
        "\n",
        "import numpy as np # linear algebra\n",
        "import pandas as pd # data processing, CSV file I/O (e.g. pd.read_csv)\n",
        "from sklearn.pipeline import make_pipeline\n",
        "from sklearn.preprocessing import StandardScaler\n",
        "from sklearn import datasets, linear_model, metrics\n",
        "from sklearn.metrics import accuracy_score, confusion_matrix, classification_report, RocCurveDisplay, plot_roc_curve\n",
        "from sklearn.model_selection import train_test_split, GridSearchCV, StratifiedKFold\n",
        "import matplotlib.pyplot as plt    # visualization library (görselleştirme kütüphanesi)\n",
        "import seaborn as sns         # visualization library (görselleştirme kütüphanesi)\n",
        "import missingno as msno      # visualization library (görselleştirme kütüphanesi)\n",
        " #Hiperparametre için çağırıldı\n",
        "\n",
        "\n",
        "# Input data files are available in the read-only \"../input/\" directory\n",
        "# For example, running this (by clicking run or pressing Shift+Enter) will list all files under the input directory\n",
        "\n",
        "\n",
        "\n",
        "# You can write up to 20GB to the current directory (/kaggle/working/) that gets preserved as output when you create a version using \"Save & Run All\" \n",
        "# You can also write temporary files to /kaggle/temp/, but they won't be saved outside of the current session"
      ],
      "metadata": {
        "_uuid": "8f2839f25d086af736a60e9eeb907d3b93b6e0e5",
        "_cell_guid": "b1076dfc-b9ad-4769-8c92-a6c4dae69d19",
        "execution": {
          "iopub.status.busy": "2021-12-17T01:22:05.149083Z",
          "iopub.execute_input": "2021-12-17T01:22:05.150751Z",
          "iopub.status.idle": "2021-12-17T01:22:05.164091Z",
          "shell.execute_reply.started": "2021-12-17T01:22:05.150676Z",
          "shell.execute_reply": "2021-12-17T01:22:05.163077Z"
        },
        "trusted": true,
        "id": "W5RhnQdSUZ4X"
      },
      "execution_count": 305,
      "outputs": []
    },
    {
      "cell_type": "markdown",
      "source": [
        "#**VERİ GÖRSELLEŞTİRME**"
      ],
      "metadata": {
        "id": "GLtttZSHSvcn"
      }
    },
    {
      "cell_type": "code",
      "source": [
        "dataFrame = pd.read_csv(\"https://raw.githubusercontent.com/BoranOner/Predicting-Diabetes/main/diabetes.csv\" ,encoding = 'unicode_escape')\n",
        "print(dataFrame)"
      ],
      "metadata": {
        "execution": {
          "iopub.status.busy": "2021-12-17T01:22:05.166488Z",
          "iopub.execute_input": "2021-12-17T01:22:05.167595Z",
          "iopub.status.idle": "2021-12-17T01:22:05.189252Z",
          "shell.execute_reply.started": "2021-12-17T01:22:05.167518Z",
          "shell.execute_reply": "2021-12-17T01:22:05.187929Z"
        },
        "trusted": true,
        "id": "iVb2Ev9JUZ4Z",
        "colab": {
          "base_uri": "https://localhost:8080/"
        },
        "outputId": "6cd51c7e-338a-4b23-a535-377953d343ba"
      },
      "execution_count": 306,
      "outputs": [
        {
          "output_type": "stream",
          "name": "stdout",
          "text": [
            "     Pregnancies  Glucose  ...  Age  Outcome\n",
            "0              6      148  ...   50        1\n",
            "1              1       85  ...   31        0\n",
            "2              8      183  ...   32        1\n",
            "3              1       89  ...   21        0\n",
            "4              0      137  ...   33        1\n",
            "..           ...      ...  ...  ...      ...\n",
            "763           10      101  ...   63        0\n",
            "764            2      122  ...   27        0\n",
            "765            5      121  ...   30        0\n",
            "766            1      126  ...   47        1\n",
            "767            1       93  ...   23        0\n",
            "\n",
            "[768 rows x 9 columns]\n"
          ]
        }
      ]
    },
    {
      "cell_type": "code",
      "source": [
        "df1 = dataFrame.copy()\n",
        "df2 = dataFrame.copy()\n",
        "df3 = dataFrame.copy()"
      ],
      "metadata": {
        "execution": {
          "iopub.status.busy": "2021-12-17T01:22:05.191741Z",
          "iopub.execute_input": "2021-12-17T01:22:05.192403Z",
          "iopub.status.idle": "2021-12-17T01:22:05.198031Z",
          "shell.execute_reply.started": "2021-12-17T01:22:05.192361Z",
          "shell.execute_reply": "2021-12-17T01:22:05.196954Z"
        },
        "trusted": true,
        "id": "NxDlZbALUZ4a"
      },
      "execution_count": 307,
      "outputs": []
    },
    {
      "cell_type": "code",
      "source": [
        "df1 = pd.DataFrame(df1)"
      ],
      "metadata": {
        "execution": {
          "iopub.status.busy": "2021-12-17T01:22:05.199636Z",
          "iopub.execute_input": "2021-12-17T01:22:05.200427Z",
          "iopub.status.idle": "2021-12-17T01:22:05.212565Z",
          "shell.execute_reply.started": "2021-12-17T01:22:05.200379Z",
          "shell.execute_reply": "2021-12-17T01:22:05.211435Z"
        },
        "trusted": true,
        "id": "B494WG1hUZ4b"
      },
      "execution_count": 308,
      "outputs": []
    },
    {
      "cell_type": "code",
      "source": [
        "df1.head() "
      ],
      "metadata": {
        "execution": {
          "iopub.status.busy": "2021-12-17T01:22:05.215138Z",
          "iopub.execute_input": "2021-12-17T01:22:05.21571Z",
          "iopub.status.idle": "2021-12-17T01:22:05.237562Z",
          "shell.execute_reply.started": "2021-12-17T01:22:05.215657Z",
          "shell.execute_reply": "2021-12-17T01:22:05.236492Z"
        },
        "trusted": true,
        "id": "O8DwrGuqUZ4b",
        "colab": {
          "base_uri": "https://localhost:8080/",
          "height": 206
        },
        "outputId": "f54c5bcc-d95a-4352-f2ba-96e65251a7b4"
      },
      "execution_count": 309,
      "outputs": [
        {
          "output_type": "execute_result",
          "data": {
            "text/html": [
              "\n",
              "  <div id=\"df-6fc95691-4af0-471f-ac23-c5ce70bb1365\">\n",
              "    <div class=\"colab-df-container\">\n",
              "      <div>\n",
              "<style scoped>\n",
              "    .dataframe tbody tr th:only-of-type {\n",
              "        vertical-align: middle;\n",
              "    }\n",
              "\n",
              "    .dataframe tbody tr th {\n",
              "        vertical-align: top;\n",
              "    }\n",
              "\n",
              "    .dataframe thead th {\n",
              "        text-align: right;\n",
              "    }\n",
              "</style>\n",
              "<table border=\"1\" class=\"dataframe\">\n",
              "  <thead>\n",
              "    <tr style=\"text-align: right;\">\n",
              "      <th></th>\n",
              "      <th>Pregnancies</th>\n",
              "      <th>Glucose</th>\n",
              "      <th>BloodPressure</th>\n",
              "      <th>SkinThickness</th>\n",
              "      <th>Insulin</th>\n",
              "      <th>BMI</th>\n",
              "      <th>DiabetesPedigreeFunction</th>\n",
              "      <th>Age</th>\n",
              "      <th>Outcome</th>\n",
              "    </tr>\n",
              "  </thead>\n",
              "  <tbody>\n",
              "    <tr>\n",
              "      <th>0</th>\n",
              "      <td>6</td>\n",
              "      <td>148</td>\n",
              "      <td>72</td>\n",
              "      <td>35</td>\n",
              "      <td>0</td>\n",
              "      <td>33.6</td>\n",
              "      <td>0.627</td>\n",
              "      <td>50</td>\n",
              "      <td>1</td>\n",
              "    </tr>\n",
              "    <tr>\n",
              "      <th>1</th>\n",
              "      <td>1</td>\n",
              "      <td>85</td>\n",
              "      <td>66</td>\n",
              "      <td>29</td>\n",
              "      <td>0</td>\n",
              "      <td>26.6</td>\n",
              "      <td>0.351</td>\n",
              "      <td>31</td>\n",
              "      <td>0</td>\n",
              "    </tr>\n",
              "    <tr>\n",
              "      <th>2</th>\n",
              "      <td>8</td>\n",
              "      <td>183</td>\n",
              "      <td>64</td>\n",
              "      <td>0</td>\n",
              "      <td>0</td>\n",
              "      <td>23.3</td>\n",
              "      <td>0.672</td>\n",
              "      <td>32</td>\n",
              "      <td>1</td>\n",
              "    </tr>\n",
              "    <tr>\n",
              "      <th>3</th>\n",
              "      <td>1</td>\n",
              "      <td>89</td>\n",
              "      <td>66</td>\n",
              "      <td>23</td>\n",
              "      <td>94</td>\n",
              "      <td>28.1</td>\n",
              "      <td>0.167</td>\n",
              "      <td>21</td>\n",
              "      <td>0</td>\n",
              "    </tr>\n",
              "    <tr>\n",
              "      <th>4</th>\n",
              "      <td>0</td>\n",
              "      <td>137</td>\n",
              "      <td>40</td>\n",
              "      <td>35</td>\n",
              "      <td>168</td>\n",
              "      <td>43.1</td>\n",
              "      <td>2.288</td>\n",
              "      <td>33</td>\n",
              "      <td>1</td>\n",
              "    </tr>\n",
              "  </tbody>\n",
              "</table>\n",
              "</div>\n",
              "      <button class=\"colab-df-convert\" onclick=\"convertToInteractive('df-6fc95691-4af0-471f-ac23-c5ce70bb1365')\"\n",
              "              title=\"Convert this dataframe to an interactive table.\"\n",
              "              style=\"display:none;\">\n",
              "        \n",
              "  <svg xmlns=\"http://www.w3.org/2000/svg\" height=\"24px\"viewBox=\"0 0 24 24\"\n",
              "       width=\"24px\">\n",
              "    <path d=\"M0 0h24v24H0V0z\" fill=\"none\"/>\n",
              "    <path d=\"M18.56 5.44l.94 2.06.94-2.06 2.06-.94-2.06-.94-.94-2.06-.94 2.06-2.06.94zm-11 1L8.5 8.5l.94-2.06 2.06-.94-2.06-.94L8.5 2.5l-.94 2.06-2.06.94zm10 10l.94 2.06.94-2.06 2.06-.94-2.06-.94-.94-2.06-.94 2.06-2.06.94z\"/><path d=\"M17.41 7.96l-1.37-1.37c-.4-.4-.92-.59-1.43-.59-.52 0-1.04.2-1.43.59L10.3 9.45l-7.72 7.72c-.78.78-.78 2.05 0 2.83L4 21.41c.39.39.9.59 1.41.59.51 0 1.02-.2 1.41-.59l7.78-7.78 2.81-2.81c.8-.78.8-2.07 0-2.86zM5.41 20L4 18.59l7.72-7.72 1.47 1.35L5.41 20z\"/>\n",
              "  </svg>\n",
              "      </button>\n",
              "      \n",
              "  <style>\n",
              "    .colab-df-container {\n",
              "      display:flex;\n",
              "      flex-wrap:wrap;\n",
              "      gap: 12px;\n",
              "    }\n",
              "\n",
              "    .colab-df-convert {\n",
              "      background-color: #E8F0FE;\n",
              "      border: none;\n",
              "      border-radius: 50%;\n",
              "      cursor: pointer;\n",
              "      display: none;\n",
              "      fill: #1967D2;\n",
              "      height: 32px;\n",
              "      padding: 0 0 0 0;\n",
              "      width: 32px;\n",
              "    }\n",
              "\n",
              "    .colab-df-convert:hover {\n",
              "      background-color: #E2EBFA;\n",
              "      box-shadow: 0px 1px 2px rgba(60, 64, 67, 0.3), 0px 1px 3px 1px rgba(60, 64, 67, 0.15);\n",
              "      fill: #174EA6;\n",
              "    }\n",
              "\n",
              "    [theme=dark] .colab-df-convert {\n",
              "      background-color: #3B4455;\n",
              "      fill: #D2E3FC;\n",
              "    }\n",
              "\n",
              "    [theme=dark] .colab-df-convert:hover {\n",
              "      background-color: #434B5C;\n",
              "      box-shadow: 0px 1px 3px 1px rgba(0, 0, 0, 0.15);\n",
              "      filter: drop-shadow(0px 1px 2px rgba(0, 0, 0, 0.3));\n",
              "      fill: #FFFFFF;\n",
              "    }\n",
              "  </style>\n",
              "\n",
              "      <script>\n",
              "        const buttonEl =\n",
              "          document.querySelector('#df-6fc95691-4af0-471f-ac23-c5ce70bb1365 button.colab-df-convert');\n",
              "        buttonEl.style.display =\n",
              "          google.colab.kernel.accessAllowed ? 'block' : 'none';\n",
              "\n",
              "        async function convertToInteractive(key) {\n",
              "          const element = document.querySelector('#df-6fc95691-4af0-471f-ac23-c5ce70bb1365');\n",
              "          const dataTable =\n",
              "            await google.colab.kernel.invokeFunction('convertToInteractive',\n",
              "                                                     [key], {});\n",
              "          if (!dataTable) return;\n",
              "\n",
              "          const docLinkHtml = 'Like what you see? Visit the ' +\n",
              "            '<a target=\"_blank\" href=https://colab.research.google.com/notebooks/data_table.ipynb>data table notebook</a>'\n",
              "            + ' to learn more about interactive tables.';\n",
              "          element.innerHTML = '';\n",
              "          dataTable['output_type'] = 'display_data';\n",
              "          await google.colab.output.renderOutput(dataTable, element);\n",
              "          const docLink = document.createElement('div');\n",
              "          docLink.innerHTML = docLinkHtml;\n",
              "          element.appendChild(docLink);\n",
              "        }\n",
              "      </script>\n",
              "    </div>\n",
              "  </div>\n",
              "  "
            ],
            "text/plain": [
              "   Pregnancies  Glucose  BloodPressure  ...  DiabetesPedigreeFunction  Age  Outcome\n",
              "0            6      148             72  ...                     0.627   50        1\n",
              "1            1       85             66  ...                     0.351   31        0\n",
              "2            8      183             64  ...                     0.672   32        1\n",
              "3            1       89             66  ...                     0.167   21        0\n",
              "4            0      137             40  ...                     2.288   33        1\n",
              "\n",
              "[5 rows x 9 columns]"
            ]
          },
          "metadata": {},
          "execution_count": 309
        }
      ]
    },
    {
      "cell_type": "code",
      "source": [
        "df1.info()"
      ],
      "metadata": {
        "execution": {
          "iopub.status.busy": "2021-12-17T01:22:05.239314Z",
          "iopub.execute_input": "2021-12-17T01:22:05.239768Z",
          "iopub.status.idle": "2021-12-17T01:22:05.260953Z",
          "shell.execute_reply.started": "2021-12-17T01:22:05.239719Z",
          "shell.execute_reply": "2021-12-17T01:22:05.259929Z"
        },
        "trusted": true,
        "id": "B-bzbbZ7UZ4c",
        "colab": {
          "base_uri": "https://localhost:8080/"
        },
        "outputId": "331c34ef-230b-4578-bf2c-19018dc62f58"
      },
      "execution_count": 310,
      "outputs": [
        {
          "output_type": "stream",
          "name": "stdout",
          "text": [
            "<class 'pandas.core.frame.DataFrame'>\n",
            "RangeIndex: 768 entries, 0 to 767\n",
            "Data columns (total 9 columns):\n",
            " #   Column                    Non-Null Count  Dtype  \n",
            "---  ------                    --------------  -----  \n",
            " 0   Pregnancies               768 non-null    int64  \n",
            " 1   Glucose                   768 non-null    int64  \n",
            " 2   BloodPressure             768 non-null    int64  \n",
            " 3   SkinThickness             768 non-null    int64  \n",
            " 4   Insulin                   768 non-null    int64  \n",
            " 5   BMI                       768 non-null    float64\n",
            " 6   DiabetesPedigreeFunction  768 non-null    float64\n",
            " 7   Age                       768 non-null    int64  \n",
            " 8   Outcome                   768 non-null    int64  \n",
            "dtypes: float64(2), int64(7)\n",
            "memory usage: 54.1 KB\n"
          ]
        }
      ]
    },
    {
      "cell_type": "code",
      "source": [
        "df1.describe().T"
      ],
      "metadata": {
        "execution": {
          "iopub.status.busy": "2021-12-17T01:22:05.262571Z",
          "iopub.execute_input": "2021-12-17T01:22:05.263135Z",
          "iopub.status.idle": "2021-12-17T01:22:05.312092Z",
          "shell.execute_reply.started": "2021-12-17T01:22:05.263077Z",
          "shell.execute_reply": "2021-12-17T01:22:05.311216Z"
        },
        "trusted": true,
        "id": "J7dHp8QfUZ4c",
        "colab": {
          "base_uri": "https://localhost:8080/",
          "height": 332
        },
        "outputId": "12afff40-868c-4892-d5f8-9701089b4d71"
      },
      "execution_count": 311,
      "outputs": [
        {
          "output_type": "execute_result",
          "data": {
            "text/html": [
              "\n",
              "  <div id=\"df-76a7f4a2-dd35-4552-9053-24536aacb43d\">\n",
              "    <div class=\"colab-df-container\">\n",
              "      <div>\n",
              "<style scoped>\n",
              "    .dataframe tbody tr th:only-of-type {\n",
              "        vertical-align: middle;\n",
              "    }\n",
              "\n",
              "    .dataframe tbody tr th {\n",
              "        vertical-align: top;\n",
              "    }\n",
              "\n",
              "    .dataframe thead th {\n",
              "        text-align: right;\n",
              "    }\n",
              "</style>\n",
              "<table border=\"1\" class=\"dataframe\">\n",
              "  <thead>\n",
              "    <tr style=\"text-align: right;\">\n",
              "      <th></th>\n",
              "      <th>count</th>\n",
              "      <th>mean</th>\n",
              "      <th>std</th>\n",
              "      <th>min</th>\n",
              "      <th>25%</th>\n",
              "      <th>50%</th>\n",
              "      <th>75%</th>\n",
              "      <th>max</th>\n",
              "    </tr>\n",
              "  </thead>\n",
              "  <tbody>\n",
              "    <tr>\n",
              "      <th>Pregnancies</th>\n",
              "      <td>768.0</td>\n",
              "      <td>3.845052</td>\n",
              "      <td>3.369578</td>\n",
              "      <td>0.000</td>\n",
              "      <td>1.00000</td>\n",
              "      <td>3.0000</td>\n",
              "      <td>6.00000</td>\n",
              "      <td>17.00</td>\n",
              "    </tr>\n",
              "    <tr>\n",
              "      <th>Glucose</th>\n",
              "      <td>768.0</td>\n",
              "      <td>120.894531</td>\n",
              "      <td>31.972618</td>\n",
              "      <td>0.000</td>\n",
              "      <td>99.00000</td>\n",
              "      <td>117.0000</td>\n",
              "      <td>140.25000</td>\n",
              "      <td>199.00</td>\n",
              "    </tr>\n",
              "    <tr>\n",
              "      <th>BloodPressure</th>\n",
              "      <td>768.0</td>\n",
              "      <td>69.105469</td>\n",
              "      <td>19.355807</td>\n",
              "      <td>0.000</td>\n",
              "      <td>62.00000</td>\n",
              "      <td>72.0000</td>\n",
              "      <td>80.00000</td>\n",
              "      <td>122.00</td>\n",
              "    </tr>\n",
              "    <tr>\n",
              "      <th>SkinThickness</th>\n",
              "      <td>768.0</td>\n",
              "      <td>20.536458</td>\n",
              "      <td>15.952218</td>\n",
              "      <td>0.000</td>\n",
              "      <td>0.00000</td>\n",
              "      <td>23.0000</td>\n",
              "      <td>32.00000</td>\n",
              "      <td>99.00</td>\n",
              "    </tr>\n",
              "    <tr>\n",
              "      <th>Insulin</th>\n",
              "      <td>768.0</td>\n",
              "      <td>79.799479</td>\n",
              "      <td>115.244002</td>\n",
              "      <td>0.000</td>\n",
              "      <td>0.00000</td>\n",
              "      <td>30.5000</td>\n",
              "      <td>127.25000</td>\n",
              "      <td>846.00</td>\n",
              "    </tr>\n",
              "    <tr>\n",
              "      <th>BMI</th>\n",
              "      <td>768.0</td>\n",
              "      <td>31.992578</td>\n",
              "      <td>7.884160</td>\n",
              "      <td>0.000</td>\n",
              "      <td>27.30000</td>\n",
              "      <td>32.0000</td>\n",
              "      <td>36.60000</td>\n",
              "      <td>67.10</td>\n",
              "    </tr>\n",
              "    <tr>\n",
              "      <th>DiabetesPedigreeFunction</th>\n",
              "      <td>768.0</td>\n",
              "      <td>0.471876</td>\n",
              "      <td>0.331329</td>\n",
              "      <td>0.078</td>\n",
              "      <td>0.24375</td>\n",
              "      <td>0.3725</td>\n",
              "      <td>0.62625</td>\n",
              "      <td>2.42</td>\n",
              "    </tr>\n",
              "    <tr>\n",
              "      <th>Age</th>\n",
              "      <td>768.0</td>\n",
              "      <td>33.240885</td>\n",
              "      <td>11.760232</td>\n",
              "      <td>21.000</td>\n",
              "      <td>24.00000</td>\n",
              "      <td>29.0000</td>\n",
              "      <td>41.00000</td>\n",
              "      <td>81.00</td>\n",
              "    </tr>\n",
              "    <tr>\n",
              "      <th>Outcome</th>\n",
              "      <td>768.0</td>\n",
              "      <td>0.348958</td>\n",
              "      <td>0.476951</td>\n",
              "      <td>0.000</td>\n",
              "      <td>0.00000</td>\n",
              "      <td>0.0000</td>\n",
              "      <td>1.00000</td>\n",
              "      <td>1.00</td>\n",
              "    </tr>\n",
              "  </tbody>\n",
              "</table>\n",
              "</div>\n",
              "      <button class=\"colab-df-convert\" onclick=\"convertToInteractive('df-76a7f4a2-dd35-4552-9053-24536aacb43d')\"\n",
              "              title=\"Convert this dataframe to an interactive table.\"\n",
              "              style=\"display:none;\">\n",
              "        \n",
              "  <svg xmlns=\"http://www.w3.org/2000/svg\" height=\"24px\"viewBox=\"0 0 24 24\"\n",
              "       width=\"24px\">\n",
              "    <path d=\"M0 0h24v24H0V0z\" fill=\"none\"/>\n",
              "    <path d=\"M18.56 5.44l.94 2.06.94-2.06 2.06-.94-2.06-.94-.94-2.06-.94 2.06-2.06.94zm-11 1L8.5 8.5l.94-2.06 2.06-.94-2.06-.94L8.5 2.5l-.94 2.06-2.06.94zm10 10l.94 2.06.94-2.06 2.06-.94-2.06-.94-.94-2.06-.94 2.06-2.06.94z\"/><path d=\"M17.41 7.96l-1.37-1.37c-.4-.4-.92-.59-1.43-.59-.52 0-1.04.2-1.43.59L10.3 9.45l-7.72 7.72c-.78.78-.78 2.05 0 2.83L4 21.41c.39.39.9.59 1.41.59.51 0 1.02-.2 1.41-.59l7.78-7.78 2.81-2.81c.8-.78.8-2.07 0-2.86zM5.41 20L4 18.59l7.72-7.72 1.47 1.35L5.41 20z\"/>\n",
              "  </svg>\n",
              "      </button>\n",
              "      \n",
              "  <style>\n",
              "    .colab-df-container {\n",
              "      display:flex;\n",
              "      flex-wrap:wrap;\n",
              "      gap: 12px;\n",
              "    }\n",
              "\n",
              "    .colab-df-convert {\n",
              "      background-color: #E8F0FE;\n",
              "      border: none;\n",
              "      border-radius: 50%;\n",
              "      cursor: pointer;\n",
              "      display: none;\n",
              "      fill: #1967D2;\n",
              "      height: 32px;\n",
              "      padding: 0 0 0 0;\n",
              "      width: 32px;\n",
              "    }\n",
              "\n",
              "    .colab-df-convert:hover {\n",
              "      background-color: #E2EBFA;\n",
              "      box-shadow: 0px 1px 2px rgba(60, 64, 67, 0.3), 0px 1px 3px 1px rgba(60, 64, 67, 0.15);\n",
              "      fill: #174EA6;\n",
              "    }\n",
              "\n",
              "    [theme=dark] .colab-df-convert {\n",
              "      background-color: #3B4455;\n",
              "      fill: #D2E3FC;\n",
              "    }\n",
              "\n",
              "    [theme=dark] .colab-df-convert:hover {\n",
              "      background-color: #434B5C;\n",
              "      box-shadow: 0px 1px 3px 1px rgba(0, 0, 0, 0.15);\n",
              "      filter: drop-shadow(0px 1px 2px rgba(0, 0, 0, 0.3));\n",
              "      fill: #FFFFFF;\n",
              "    }\n",
              "  </style>\n",
              "\n",
              "      <script>\n",
              "        const buttonEl =\n",
              "          document.querySelector('#df-76a7f4a2-dd35-4552-9053-24536aacb43d button.colab-df-convert');\n",
              "        buttonEl.style.display =\n",
              "          google.colab.kernel.accessAllowed ? 'block' : 'none';\n",
              "\n",
              "        async function convertToInteractive(key) {\n",
              "          const element = document.querySelector('#df-76a7f4a2-dd35-4552-9053-24536aacb43d');\n",
              "          const dataTable =\n",
              "            await google.colab.kernel.invokeFunction('convertToInteractive',\n",
              "                                                     [key], {});\n",
              "          if (!dataTable) return;\n",
              "\n",
              "          const docLinkHtml = 'Like what you see? Visit the ' +\n",
              "            '<a target=\"_blank\" href=https://colab.research.google.com/notebooks/data_table.ipynb>data table notebook</a>'\n",
              "            + ' to learn more about interactive tables.';\n",
              "          element.innerHTML = '';\n",
              "          dataTable['output_type'] = 'display_data';\n",
              "          await google.colab.output.renderOutput(dataTable, element);\n",
              "          const docLink = document.createElement('div');\n",
              "          docLink.innerHTML = docLinkHtml;\n",
              "          element.appendChild(docLink);\n",
              "        }\n",
              "      </script>\n",
              "    </div>\n",
              "  </div>\n",
              "  "
            ],
            "text/plain": [
              "                          count        mean  ...        75%     max\n",
              "Pregnancies               768.0    3.845052  ...    6.00000   17.00\n",
              "Glucose                   768.0  120.894531  ...  140.25000  199.00\n",
              "BloodPressure             768.0   69.105469  ...   80.00000  122.00\n",
              "SkinThickness             768.0   20.536458  ...   32.00000   99.00\n",
              "Insulin                   768.0   79.799479  ...  127.25000  846.00\n",
              "BMI                       768.0   31.992578  ...   36.60000   67.10\n",
              "DiabetesPedigreeFunction  768.0    0.471876  ...    0.62625    2.42\n",
              "Age                       768.0   33.240885  ...   41.00000   81.00\n",
              "Outcome                   768.0    0.348958  ...    1.00000    1.00\n",
              "\n",
              "[9 rows x 8 columns]"
            ]
          },
          "metadata": {},
          "execution_count": 311
        }
      ]
    },
    {
      "cell_type": "code",
      "source": [
        "df1['Outcome'].value_counts()"
      ],
      "metadata": {
        "execution": {
          "iopub.status.busy": "2021-12-17T01:22:05.313604Z",
          "iopub.execute_input": "2021-12-17T01:22:05.313886Z",
          "iopub.status.idle": "2021-12-17T01:22:05.322985Z",
          "shell.execute_reply.started": "2021-12-17T01:22:05.313851Z",
          "shell.execute_reply": "2021-12-17T01:22:05.322045Z"
        },
        "trusted": true,
        "id": "hcv5-ld2UZ4d",
        "colab": {
          "base_uri": "https://localhost:8080/"
        },
        "outputId": "ab82f513-b7ec-4438-c30c-7f2b88656837"
      },
      "execution_count": 312,
      "outputs": [
        {
          "output_type": "execute_result",
          "data": {
            "text/plain": [
              "0    500\n",
              "1    268\n",
              "Name: Outcome, dtype: int64"
            ]
          },
          "metadata": {},
          "execution_count": 312
        }
      ]
    },
    {
      "cell_type": "code",
      "source": [
        "f,ax=plt.subplots(1,2,figsize=(10,5))\n",
        "df1['Outcome'].value_counts().plot.pie(explode=[0,0.1],autopct='%1.1f%%',ax=ax[0],shadow=True)\n",
        "ax[0].set_title('Dağılım')\n",
        "ax[0].set_ylabel('')\n",
        "sns.countplot('Outcome',data=df1,ax=ax[1])\n",
        "ax[1].set_title('Outcome')\n",
        "plt.show()"
      ],
      "metadata": {
        "execution": {
          "iopub.status.busy": "2021-12-17T01:22:05.324802Z",
          "iopub.execute_input": "2021-12-17T01:22:05.325314Z",
          "iopub.status.idle": "2021-12-17T01:22:05.601907Z",
          "shell.execute_reply.started": "2021-12-17T01:22:05.325268Z",
          "shell.execute_reply": "2021-12-17T01:22:05.600961Z"
        },
        "trusted": true,
        "id": "TxaNZOJBUZ4e",
        "colab": {
          "base_uri": "https://localhost:8080/",
          "height": 405
        },
        "outputId": "c9f124e7-7542-4117-8267-8125e55d5efe"
      },
      "execution_count": 313,
      "outputs": [
        {
          "output_type": "stream",
          "name": "stderr",
          "text": [
            "/usr/local/lib/python3.7/dist-packages/seaborn/_decorators.py:43: FutureWarning: Pass the following variable as a keyword arg: x. From version 0.12, the only valid positional argument will be `data`, and passing other arguments without an explicit keyword will result in an error or misinterpretation.\n",
            "  FutureWarning\n"
          ]
        },
        {
          "output_type": "display_data",
          "data": {
            "image/png": "[encoded data removed]",
            "text/plain": [
              "<Figure size 720x360 with 2 Axes>"
            ]
          },
          "metadata": {
            "needs_background": "light"
          }
        }
      ]
    },
    {
      "cell_type": "code",
      "source": [
        "df1.isnull().sum()  # null değer gözükmüyor "
      ],
      "metadata": {
        "execution": {
          "iopub.status.busy": "2021-12-17T01:22:05.604287Z",
          "iopub.execute_input": "2021-12-17T01:22:05.604561Z",
          "iopub.status.idle": "2021-12-17T01:22:05.616182Z",
          "shell.execute_reply.started": "2021-12-17T01:22:05.604514Z",
          "shell.execute_reply": "2021-12-17T01:22:05.615247Z"
        },
        "trusted": true,
        "id": "vN7WVvQiUZ4f",
        "colab": {
          "base_uri": "https://localhost:8080/"
        },
        "outputId": "35d73ac8-4b23-47f8-9d01-b424690ee036"
      },
      "execution_count": 314,
      "outputs": [
        {
          "output_type": "execute_result",
          "data": {
            "text/plain": [
              "Pregnancies                 0\n",
              "Glucose                     0\n",
              "BloodPressure               0\n",
              "SkinThickness               0\n",
              "Insulin                     0\n",
              "BMI                         0\n",
              "DiabetesPedigreeFunction    0\n",
              "Age                         0\n",
              "Outcome                     0\n",
              "dtype: int64"
            ]
          },
          "metadata": {},
          "execution_count": 314
        }
      ]
    },
    {
      "cell_type": "code",
      "source": [
        "df1[[\"Glucose\",\"BloodPressure\",\n",
        "     \"BMI\"]] = df1[[\"Glucose\",\"BloodPressure\",\n",
        "     \"BMI\"]].replace(0,np.NaN)\n",
        "df1.isnull().sum()"
      ],
      "metadata": {
        "execution": {
          "iopub.status.busy": "2021-12-17T01:22:05.617619Z",
          "iopub.execute_input": "2021-12-17T01:22:05.618041Z",
          "iopub.status.idle": "2021-12-17T01:22:05.640043Z",
          "shell.execute_reply.started": "2021-12-17T01:22:05.61801Z",
          "shell.execute_reply": "2021-12-17T01:22:05.639217Z"
        },
        "trusted": true,
        "id": "8Zhvhmx4UZ4f",
        "colab": {
          "base_uri": "https://localhost:8080/"
        },
        "outputId": "9c1e6dbc-7e87-4b50-8282-f42159c03839"
      },
      "execution_count": 315,
      "outputs": [
        {
          "output_type": "execute_result",
          "data": {
            "text/plain": [
              "Pregnancies                  0\n",
              "Glucose                      5\n",
              "BloodPressure               35\n",
              "SkinThickness                0\n",
              "Insulin                      0\n",
              "BMI                         11\n",
              "DiabetesPedigreeFunction     0\n",
              "Age                          0\n",
              "Outcome                      0\n",
              "dtype: int64"
            ]
          },
          "metadata": {},
          "execution_count": 315
        }
      ]
    },
    {
      "cell_type": "code",
      "source": [
        "msno.matrix(df1,figsize=(10,8))\n",
        "plt.show()"
      ],
      "metadata": {
        "execution": {
          "iopub.status.busy": "2021-12-17T01:22:05.641277Z",
          "iopub.execute_input": "2021-12-17T01:22:05.641783Z",
          "iopub.status.idle": "2021-12-17T01:22:05.999878Z",
          "shell.execute_reply.started": "2021-12-17T01:22:05.641747Z",
          "shell.execute_reply": "2021-12-17T01:22:05.998923Z"
        },
        "trusted": true,
        "id": "l00sBM6YUZ4f",
        "colab": {
          "base_uri": "https://localhost:8080/",
          "height": 643
        },
        "outputId": "f1d81abb-3b01-44e9-9a7d-6234a08ee51b"
      },
      "execution_count": 316,
      "outputs": [
        {
          "output_type": "display_data",
          "data": {
            "image/png": "[encoded data removed]",
            "text/plain": [
              "<Figure size 720x576 with 2 Axes>"
            ]
          },
          "metadata": {
            "needs_background": "light"
          }
        }
      ]
    },
    {
      "cell_type": "code",
      "source": [
        "msno.bar(df1,figsize=(10,8))\n",
        "plt.show()\n"
      ],
      "metadata": {
        "execution": {
          "iopub.status.busy": "2021-12-17T01:22:06.00133Z",
          "iopub.execute_input": "2021-12-17T01:22:06.001881Z",
          "iopub.status.idle": "2021-12-17T01:22:06.802417Z",
          "shell.execute_reply.started": "2021-12-17T01:22:06.001847Z",
          "shell.execute_reply": "2021-12-17T01:22:06.801473Z"
        },
        "trusted": true,
        "id": "eN1nKt9IUZ4g",
        "colab": {
          "base_uri": "https://localhost:8080/",
          "height": 671
        },
        "outputId": "e465cfe7-494d-4e87-e395-0e22f19aa107"
      },
      "execution_count": 317,
      "outputs": [
        {
          "output_type": "display_data",
          "data": {
            "image/png": "[encoded data removed]",
            "text/plain": [
              "<Figure size 720x576 with 3 Axes>"
            ]
          },
          "metadata": {
            "needs_background": "light"
          }
        }
      ]
    },
    {
      "cell_type": "code",
      "source": [
        "df1.dropna(inplace = True)\n"
      ],
      "metadata": {
        "execution": {
          "iopub.status.busy": "2021-12-17T01:22:06.803944Z",
          "iopub.execute_input": "2021-12-17T01:22:06.804491Z",
          "iopub.status.idle": "2021-12-17T01:22:06.815092Z",
          "shell.execute_reply.started": "2021-12-17T01:22:06.804442Z",
          "shell.execute_reply": "2021-12-17T01:22:06.814422Z"
        },
        "trusted": true,
        "id": "nX_x4AL_UZ4g"
      },
      "execution_count": 318,
      "outputs": []
    },
    {
      "cell_type": "code",
      "source": [
        "df1.info()"
      ],
      "metadata": {
        "execution": {
          "iopub.status.busy": "2021-12-17T01:22:06.816227Z",
          "iopub.execute_input": "2021-12-17T01:22:06.816468Z",
          "iopub.status.idle": "2021-12-17T01:22:06.841788Z",
          "shell.execute_reply.started": "2021-12-17T01:22:06.816437Z",
          "shell.execute_reply": "2021-12-17T01:22:06.840652Z"
        },
        "trusted": true,
        "id": "TCS8e6gQUZ4h",
        "colab": {
          "base_uri": "https://localhost:8080/"
        },
        "outputId": "acc2bea1-8e44-43aa-b9b9-c4b0492d024e"
      },
      "execution_count": 319,
      "outputs": [
        {
          "output_type": "stream",
          "name": "stdout",
          "text": [
            "<class 'pandas.core.frame.DataFrame'>\n",
            "Int64Index: 724 entries, 0 to 767\n",
            "Data columns (total 9 columns):\n",
            " #   Column                    Non-Null Count  Dtype  \n",
            "---  ------                    --------------  -----  \n",
            " 0   Pregnancies               724 non-null    int64  \n",
            " 1   Glucose                   724 non-null    float64\n",
            " 2   BloodPressure             724 non-null    float64\n",
            " 3   SkinThickness             724 non-null    int64  \n",
            " 4   Insulin                   724 non-null    int64  \n",
            " 5   BMI                       724 non-null    float64\n",
            " 6   DiabetesPedigreeFunction  724 non-null    float64\n",
            " 7   Age                       724 non-null    int64  \n",
            " 8   Outcome                   724 non-null    int64  \n",
            "dtypes: float64(4), int64(5)\n",
            "memory usage: 56.6 KB\n"
          ]
        }
      ]
    },
    {
      "cell_type": "markdown",
      "source": [
        "#***Standartlaştırma*** "
      ],
      "metadata": {
        "id": "0de7deMOToMF"
      }
    },
    {
      "cell_type": "code",
      "source": [
        "from sklearn.preprocessing import RobustScaler\n",
        "\n",
        "\n",
        "\n",
        "rob_scaler = RobustScaler()\n",
        "df1['Pregnancies'] = rob_scaler.fit_transform(df1['Pregnancies'].values.reshape(-1,1))\n",
        "df1['Glucose'] = rob_scaler.fit_transform(df1['Glucose'].values.reshape(-1,1))\n",
        "df1['BloodPressure'] = rob_scaler.fit_transform(df1['BloodPressure'].values.reshape(-1,1))\n",
        "df1['BMI'] = rob_scaler.fit_transform(df1['BMI'].values.reshape(-1,1))\n",
        "df1['DiabetesPedigreeFunction'] = rob_scaler.fit_transform(df1['DiabetesPedigreeFunction'].values.reshape(-1,1))\n",
        "df1['Age'] = rob_scaler.fit_transform(df1['Age'].values.reshape(-1,1))\n",
        "df1['Insulin'] = rob_scaler.fit_transform(df1['Insulin'].values.reshape(-1,1))\n",
        "df1['SkinThickness'] = rob_scaler.fit_transform(df1['SkinThickness'].values.reshape(-1,1))\n",
        "df1.head()"
      ],
      "metadata": {
        "execution": {
          "iopub.status.busy": "2021-12-17T01:22:06.843322Z",
          "iopub.execute_input": "2021-12-17T01:22:06.843674Z",
          "iopub.status.idle": "2021-12-17T01:22:06.878069Z",
          "shell.execute_reply.started": "2021-12-17T01:22:06.843627Z",
          "shell.execute_reply": "2021-12-17T01:22:06.877227Z"
        },
        "trusted": true,
        "id": "TKSz5roKUZ4h",
        "colab": {
          "base_uri": "https://localhost:8080/",
          "height": 206
        },
        "outputId": "a5531793-5c15-442d-a077-1e4e20bb7d35"
      },
      "execution_count": 320,
      "outputs": [
        {
          "output_type": "execute_result",
          "data": {
            "text/html": [
              "\n",
              "  <div id=\"df-59951e97-8933-4e72-a146-1de52931edb5\">\n",
              "    <div class=\"colab-df-container\">\n",
              "      <div>\n",
              "<style scoped>\n",
              "    .dataframe tbody tr th:only-of-type {\n",
              "        vertical-align: middle;\n",
              "    }\n",
              "\n",
              "    .dataframe tbody tr th {\n",
              "        vertical-align: top;\n",
              "    }\n",
              "\n",
              "    .dataframe thead th {\n",
              "        text-align: right;\n",
              "    }\n",
              "</style>\n",
              "<table border=\"1\" class=\"dataframe\">\n",
              "  <thead>\n",
              "    <tr style=\"text-align: right;\">\n",
              "      <th></th>\n",
              "      <th>Pregnancies</th>\n",
              "      <th>Glucose</th>\n",
              "      <th>BloodPressure</th>\n",
              "      <th>SkinThickness</th>\n",
              "      <th>Insulin</th>\n",
              "      <th>BMI</th>\n",
              "      <th>DiabetesPedigreeFunction</th>\n",
              "      <th>Age</th>\n",
              "      <th>Outcome</th>\n",
              "    </tr>\n",
              "  </thead>\n",
              "  <tbody>\n",
              "    <tr>\n",
              "      <th>0</th>\n",
              "      <td>0.6</td>\n",
              "      <td>0.733728</td>\n",
              "      <td>0.000</td>\n",
              "      <td>0.333333</td>\n",
              "      <td>-0.367816</td>\n",
              "      <td>0.131868</td>\n",
              "      <td>0.648366</td>\n",
              "      <td>1.235294</td>\n",
              "      <td>1</td>\n",
              "    </tr>\n",
              "    <tr>\n",
              "      <th>1</th>\n",
              "      <td>-0.4</td>\n",
              "      <td>-0.757396</td>\n",
              "      <td>-0.375</td>\n",
              "      <td>0.151515</td>\n",
              "      <td>-0.367816</td>\n",
              "      <td>-0.637363</td>\n",
              "      <td>-0.073203</td>\n",
              "      <td>0.117647</td>\n",
              "      <td>0</td>\n",
              "    </tr>\n",
              "    <tr>\n",
              "      <th>2</th>\n",
              "      <td>1.0</td>\n",
              "      <td>1.562130</td>\n",
              "      <td>-0.500</td>\n",
              "      <td>-0.727273</td>\n",
              "      <td>-0.367816</td>\n",
              "      <td>-1.000000</td>\n",
              "      <td>0.766013</td>\n",
              "      <td>0.176471</td>\n",
              "      <td>1</td>\n",
              "    </tr>\n",
              "    <tr>\n",
              "      <th>3</th>\n",
              "      <td>-0.4</td>\n",
              "      <td>-0.662722</td>\n",
              "      <td>-0.375</td>\n",
              "      <td>-0.030303</td>\n",
              "      <td>0.352490</td>\n",
              "      <td>-0.472527</td>\n",
              "      <td>-0.554248</td>\n",
              "      <td>-0.470588</td>\n",
              "      <td>0</td>\n",
              "    </tr>\n",
              "    <tr>\n",
              "      <th>4</th>\n",
              "      <td>-0.6</td>\n",
              "      <td>0.473373</td>\n",
              "      <td>-2.000</td>\n",
              "      <td>0.333333</td>\n",
              "      <td>0.919540</td>\n",
              "      <td>1.175824</td>\n",
              "      <td>4.990850</td>\n",
              "      <td>0.235294</td>\n",
              "      <td>1</td>\n",
              "    </tr>\n",
              "  </tbody>\n",
              "</table>\n",
              "</div>\n",
              "      <button class=\"colab-df-convert\" onclick=\"convertToInteractive('df-59951e97-8933-4e72-a146-1de52931edb5')\"\n",
              "              title=\"Convert this dataframe to an interactive table.\"\n",
              "              style=\"display:none;\">\n",
              "        \n",
              "  <svg xmlns=\"http://www.w3.org/2000/svg\" height=\"24px\"viewBox=\"0 0 24 24\"\n",
              "       width=\"24px\">\n",
              "    <path d=\"M0 0h24v24H0V0z\" fill=\"none\"/>\n",
              "    <path d=\"M18.56 5.44l.94 2.06.94-2.06 2.06-.94-2.06-.94-.94-2.06-.94 2.06-2.06.94zm-11 1L8.5 8.5l.94-2.06 2.06-.94-2.06-.94L8.5 2.5l-.94 2.06-2.06.94zm10 10l.94 2.06.94-2.06 2.06-.94-2.06-.94-.94-2.06-.94 2.06-2.06.94z\"/><path d=\"M17.41 7.96l-1.37-1.37c-.4-.4-.92-.59-1.43-.59-.52 0-1.04.2-1.43.59L10.3 9.45l-7.72 7.72c-.78.78-.78 2.05 0 2.83L4 21.41c.39.39.9.59 1.41.59.51 0 1.02-.2 1.41-.59l7.78-7.78 2.81-2.81c.8-.78.8-2.07 0-2.86zM5.41 20L4 18.59l7.72-7.72 1.47 1.35L5.41 20z\"/>\n",
              "  </svg>\n",
              "      </button>\n",
              "      \n",
              "  <style>\n",
              "    .colab-df-container {\n",
              "      display:flex;\n",
              "      flex-wrap:wrap;\n",
              "      gap: 12px;\n",
              "    }\n",
              "\n",
              "    .colab-df-convert {\n",
              "      background-color: #E8F0FE;\n",
              "      border: none;\n",
              "      border-radius: 50%;\n",
              "      cursor: pointer;\n",
              "      display: none;\n",
              "      fill: #1967D2;\n",
              "      height: 32px;\n",
              "      padding: 0 0 0 0;\n",
              "      width: 32px;\n",
              "    }\n",
              "\n",
              "    .colab-df-convert:hover {\n",
              "      background-color: #E2EBFA;\n",
              "      box-shadow: 0px 1px 2px rgba(60, 64, 67, 0.3), 0px 1px 3px 1px rgba(60, 64, 67, 0.15);\n",
              "      fill: #174EA6;\n",
              "    }\n",
              "\n",
              "    [theme=dark] .colab-df-convert {\n",
              "      background-color: #3B4455;\n",
              "      fill: #D2E3FC;\n",
              "    }\n",
              "\n",
              "    [theme=dark] .colab-df-convert:hover {\n",
              "      background-color: #434B5C;\n",
              "      box-shadow: 0px 1px 3px 1px rgba(0, 0, 0, 0.15);\n",
              "      filter: drop-shadow(0px 1px 2px rgba(0, 0, 0, 0.3));\n",
              "      fill: #FFFFFF;\n",
              "    }\n",
              "  </style>\n",
              "\n",
              "      <script>\n",
              "        const buttonEl =\n",
              "          document.querySelector('#df-59951e97-8933-4e72-a146-1de52931edb5 button.colab-df-convert');\n",
              "        buttonEl.style.display =\n",
              "          google.colab.kernel.accessAllowed ? 'block' : 'none';\n",
              "\n",
              "        async function convertToInteractive(key) {\n",
              "          const element = document.querySelector('#df-59951e97-8933-4e72-a146-1de52931edb5');\n",
              "          const dataTable =\n",
              "            await google.colab.kernel.invokeFunction('convertToInteractive',\n",
              "                                                     [key], {});\n",
              "          if (!dataTable) return;\n",
              "\n",
              "          const docLinkHtml = 'Like what you see? Visit the ' +\n",
              "            '<a target=\"_blank\" href=https://colab.research.google.com/notebooks/data_table.ipynb>data table notebook</a>'\n",
              "            + ' to learn more about interactive tables.';\n",
              "          element.innerHTML = '';\n",
              "          dataTable['output_type'] = 'display_data';\n",
              "          await google.colab.output.renderOutput(dataTable, element);\n",
              "          const docLink = document.createElement('div');\n",
              "          docLink.innerHTML = docLinkHtml;\n",
              "          element.appendChild(docLink);\n",
              "        }\n",
              "      </script>\n",
              "    </div>\n",
              "  </div>\n",
              "  "
            ],
            "text/plain": [
              "   Pregnancies   Glucose  ...       Age  Outcome\n",
              "0          0.6  0.733728  ...  1.235294        1\n",
              "1         -0.4 -0.757396  ...  0.117647        0\n",
              "2          1.0  1.562130  ...  0.176471        1\n",
              "3         -0.4 -0.662722  ... -0.470588        0\n",
              "4         -0.6  0.473373  ...  0.235294        1\n",
              "\n",
              "[5 rows x 9 columns]"
            ]
          },
          "metadata": {},
          "execution_count": 320
        }
      ]
    },
    {
      "cell_type": "code",
      "source": [
        "# veri setini train ve test olarak ayırıyoruz\n",
        "\n",
        "from sklearn.model_selection import train_test_split\n",
        "\n",
        "X = df1.drop(\"Outcome\", axis=1)\n",
        "y = df1[\"Outcome\"]\n",
        "X_train, X_test, y_train, y_test = train_test_split(X, y, test_size=0.20, random_state=123456)"
      ],
      "metadata": {
        "execution": {
          "iopub.status.busy": "2021-12-17T01:22:06.879257Z",
          "iopub.execute_input": "2021-12-17T01:22:06.879492Z",
          "iopub.status.idle": "2021-12-17T01:22:06.888897Z",
          "shell.execute_reply.started": "2021-12-17T01:22:06.879462Z",
          "shell.execute_reply": "2021-12-17T01:22:06.888037Z"
        },
        "trusted": true,
        "id": "-LalCQgaUZ4h"
      },
      "execution_count": 321,
      "outputs": []
    },
    {
      "cell_type": "markdown",
      "source": [
        "\n",
        "\n",
        "---\n",
        "\n",
        "*Dengesiz Veri Seti*\n",
        "\n",
        "---\n",
        "\n"
      ],
      "metadata": {
        "id": "YcAzt0L2Wzor"
      }
    },
    {
      "cell_type": "code",
      "source": [
        "y_train.value_counts()    \n"
      ],
      "metadata": {
        "execution": {
          "iopub.status.busy": "2021-12-17T01:22:06.908243Z",
          "iopub.execute_input": "2021-12-17T01:22:06.908675Z",
          "iopub.status.idle": "2021-12-17T01:22:06.916094Z",
          "shell.execute_reply.started": "2021-12-17T01:22:06.90864Z",
          "shell.execute_reply": "2021-12-17T01:22:06.915469Z"
        },
        "trusted": true,
        "id": "Y87UMo_4UZ4i",
        "colab": {
          "base_uri": "https://localhost:8080/"
        },
        "outputId": "a3cb37af-1de9-4018-defb-928dc4cb1260"
      },
      "execution_count": 322,
      "outputs": [
        {
          "output_type": "execute_result",
          "data": {
            "text/plain": [
              "0    377\n",
              "1    202\n",
              "Name: Outcome, dtype: int64"
            ]
          },
          "metadata": {},
          "execution_count": 322
        }
      ]
    },
    {
      "cell_type": "markdown",
      "source": [
        "\n",
        "\n",
        "---\n",
        "\n",
        "\n",
        "#GAUSSIAN NB\n",
        "\n",
        "---\n",
        "\n"
      ],
      "metadata": {
        "id": "Cpefs_d2W9Y0"
      }
    },
    {
      "cell_type": "code",
      "source": [
        "from sklearn.naive_bayes import GaussianNB\n",
        "from sklearn.metrics import accuracy_score\n",
        "from sklearn.metrics import confusion_matrix\n",
        "from sklearn.metrics import classification_report,f1_score,recall_score,roc_auc_score, roc_curve\n",
        "from sklearn.metrics import accuracy_score\n",
        "\n",
        "from sklearn.metrics import plot_confusion_matrix\n",
        "\n",
        "from sklearn.metrics import confusion_matrix\n",
        "\n",
        "from sklearn.metrics import classification_report\n",
        "from sklearn.model_selection import GridSearchCV\n"
      ],
      "metadata": {
        "id": "CRbd1LInrVtn"
      },
      "execution_count": 323,
      "outputs": []
    },
    {
      "cell_type": "code",
      "source": [
        "gaussianNB = GaussianNB()\n",
        "gaussianNB = gaussianNB.fit(X_train, y_train)\n",
        "\n",
        "train_pred_gaussianNB = gaussianNB.predict(X_train)\n",
        "print('Train Accuracy : %.3f%% ' % (accuracy_score(y_train , train_pred_gaussianNB)*100))\n",
        "\n",
        "print(\"Confusion Matrix-GaussianNB-Train: \")\n",
        "print(confusion_matrix(y_train, train_pred_gaussianNB))\n",
        "\n",
        "print('\\nModel Sonuçları\\n')\n",
        "print(classification_report(y_train, train_pred_gaussianNB))\n",
        "\n",
        "print(\"-\"*40)\n",
        "\n",
        "test_pred_gaussianNB = gaussianNB.predict(X_test)\n",
        "print('Test Accuracy  : %.3f%% ' % (accuracy_score(y_test, test_pred_gaussianNB)*100))\n",
        "\n",
        "print(\"Confusion Matrix-GaussianNB-Test: \")\n",
        "print(confusion_matrix(y_test, test_pred_gaussianNB))\n",
        "\n",
        "print('\\nModel Sonuçları\\n')\n",
        "print(classification_report(y_test, test_pred_gaussianNB))"
      ],
      "metadata": {
        "execution": {
          "iopub.status.busy": "2021-12-17T01:22:06.919512Z",
          "iopub.execute_input": "2021-12-17T01:22:06.91996Z",
          "iopub.status.idle": "2021-12-17T01:22:06.94435Z",
          "shell.execute_reply.started": "2021-12-17T01:22:06.919923Z",
          "shell.execute_reply": "2021-12-17T01:22:06.943691Z"
        },
        "trusted": true,
        "id": "mbKAeOXeUZ4i",
        "colab": {
          "base_uri": "https://localhost:8080/"
        },
        "outputId": "096ec5fc-f324-4d74-9840-8bdd1e0ef521"
      },
      "execution_count": 324,
      "outputs": [
        {
          "output_type": "stream",
          "name": "stdout",
          "text": [
            "Train Accuracy : 77.202% \n",
            "Confusion Matrix-GaussianNB-Train: \n",
            "[[322  55]\n",
            " [ 77 125]]\n",
            "\n",
            "Model Sonuçları\n",
            "\n",
            "              precision    recall  f1-score   support\n",
            "\n",
            "           0       0.81      0.85      0.83       377\n",
            "           1       0.69      0.62      0.65       202\n",
            "\n",
            "    accuracy                           0.77       579\n",
            "   macro avg       0.75      0.74      0.74       579\n",
            "weighted avg       0.77      0.77      0.77       579\n",
            "\n",
            "----------------------------------------\n",
            "Test Accuracy  : 74.483% \n",
            "Confusion Matrix-GaussianNB-Test: \n",
            "[[81 17]\n",
            " [20 27]]\n",
            "\n",
            "Model Sonuçları\n",
            "\n",
            "              precision    recall  f1-score   support\n",
            "\n",
            "           0       0.80      0.83      0.81        98\n",
            "           1       0.61      0.57      0.59        47\n",
            "\n",
            "    accuracy                           0.74       145\n",
            "   macro avg       0.71      0.70      0.70       145\n",
            "weighted avg       0.74      0.74      0.74       145\n",
            "\n"
          ]
        }
      ]
    },
    {
      "cell_type": "code",
      "source": [
        "fpr , tpr , thresolds = metrics.roc_curve(y_train , train_pred_gaussianNB)\n",
        "roc_auc = metrics.auc(fpr , tpr)\n",
        "plt.plot(fpr , tpr ,'b' ,label = 'AUC =0.2f' %roc_auc)\n",
        "roc_auc"
      ],
      "metadata": {
        "id": "bWX_tZnkWK4N",
        "colab": {
          "base_uri": "https://localhost:8080/",
          "height": 282
        },
        "outputId": "58cc7045-7a46-4203-a173-998c0fef3567"
      },
      "execution_count": 325,
      "outputs": [
        {
          "output_type": "execute_result",
          "data": {
            "text/plain": [
              "0.7364616435118313"
            ]
          },
          "metadata": {},
          "execution_count": 325
        },
        {
          "output_type": "display_data",
          "data": {
            "image/png": "[encoded data removed]",
            "text/plain": [
              "<Figure size 432x288 with 1 Axes>"
            ]
          },
          "metadata": {
            "needs_background": "light"
          }
        }
      ]
    },
    {
      "cell_type": "code",
      "source": [
        "fpr , tpr , thresolds = metrics.roc_curve(y_test, test_pred_gaussianNB)\n",
        "roc_auc = metrics.auc(fpr , tpr)\n",
        "plt.plot(fpr , tpr ,'b' ,label = 'AUC =0.2f' %roc_auc)\n",
        "roc_auc"
      ],
      "metadata": {
        "id": "JGqt7ApnXcRV",
        "colab": {
          "base_uri": "https://localhost:8080/",
          "height": 282
        },
        "outputId": "72e8e45a-5aea-49e5-c718-3780d2bf40c5"
      },
      "execution_count": 326,
      "outputs": [
        {
          "output_type": "execute_result",
          "data": {
            "text/plain": [
              "0.7004993486756405"
            ]
          },
          "metadata": {},
          "execution_count": 326
        },
        {
          "output_type": "display_data",
          "data": {
            "image/png": "[encoded data removed]",
            "text/plain": [
              "<Figure size 432x288 with 1 Axes>"
            ]
          },
          "metadata": {
            "needs_background": "light"
          }
        }
      ]
    },
    {
      "cell_type": "markdown",
      "source": [
        "\n",
        "\n",
        "---\n",
        "GaussianNB Hiperparametre ile\n",
        "\n",
        "---\n",
        "\n",
        "\n"
      ],
      "metadata": {
        "id": "tJyUr9mE9gxX"
      }
    },
    {
      "cell_type": "code",
      "source": [
        "nb_classifier = GaussianNB()\n",
        "\n",
        "params_NB = {'var_smoothing': [0.12328467394420659]}  #0-1 aralğı test ediliyor\n",
        "gs_NB = GridSearchCV(estimator=nb_classifier, param_grid=params_NB,verbose=1, scoring='accuracy') \n",
        " \n",
        "#Train Sınıflandırma raporunu yazdırmak\n",
        "gs_NB.fit(X_train,y_train) \n",
        "gs_NB_pre = gs_NB.predict(X_train)\n",
        "print(classification_report(y_train , gs_NB_pre))\n",
        "print(\"Training Skoru:\",accuracy_score(y_train , gs_NB_pre))\n",
        "\n",
        "#Test Sınıflandırma raporunu yazdırmak\n",
        "gs_NB.fit(X_test,y_test) \n",
        "gs_NB_pre = gs_NB.predict(X_test)\n",
        "print(classification_report(y_test , gs_NB_pre))\n",
        "print(\"Test Skoru:\",accuracy_score(y_test , gs_NB_pre))"
      ],
      "metadata": {
        "id": "Fb0zzhyXOf_g",
        "colab": {
          "base_uri": "https://localhost:8080/"
        },
        "outputId": "06e17412-a5b0-4160-93f5-d8126c1233df"
      },
      "execution_count": 327,
      "outputs": [
        {
          "output_type": "stream",
          "name": "stdout",
          "text": [
            "Fitting 5 folds for each of 1 candidates, totalling 5 fits\n",
            "              precision    recall  f1-score   support\n",
            "\n",
            "           0       0.80      0.88      0.84       377\n",
            "           1       0.73      0.59      0.65       202\n",
            "\n",
            "    accuracy                           0.78       579\n",
            "   macro avg       0.77      0.74      0.75       579\n",
            "weighted avg       0.78      0.78      0.77       579\n",
            "\n",
            "Training Skoru: 0.7806563039723662\n",
            "Fitting 5 folds for each of 1 candidates, totalling 5 fits\n",
            "              precision    recall  f1-score   support\n",
            "\n",
            "           0       0.80      0.85      0.82        98\n",
            "           1       0.63      0.55      0.59        47\n",
            "\n",
            "    accuracy                           0.75       145\n",
            "   macro avg       0.72      0.70      0.71       145\n",
            "weighted avg       0.74      0.75      0.75       145\n",
            "\n",
            "Test Skoru: 0.7517241379310344\n"
          ]
        }
      ]
    },
    {
      "cell_type": "code",
      "source": [
        ""
      ],
      "metadata": {
        "id": "MMmUbwEz3SB5"
      },
      "execution_count": 327,
      "outputs": []
    },
    {
      "cell_type": "markdown",
      "source": [
        "\n",
        "\n",
        "---\n",
        "\n",
        "\n",
        "\n",
        "#**BERNOULLI NB**\n",
        "\n",
        "\n",
        "\n",
        "---\n",
        "\n"
      ],
      "metadata": {
        "id": "uC8-e9xpXQ5w"
      }
    },
    {
      "cell_type": "code",
      "source": [
        "from sklearn.naive_bayes import BernoulliNB\n",
        "\n",
        "bernoulliNB = BernoulliNB()\n",
        "bernoulliNB.fit(X_train, y_train)\n",
        "\n",
        "train_pred_bernoulliNB = bernoulliNB.predict(X_train)\n",
        "print('Train Accuracy : %.3f%% ' % (accuracy_score(y_train , train_pred_bernoulliNB)*100))\n",
        "\n",
        "print(\"Confusion Matrix-BernoulliNB-Train: \")\n",
        "print(confusion_matrix(y_train, train_pred_bernoulliNB))\n",
        "\n",
        "print('\\nModel Sonuçları\\n')\n",
        "print(classification_report(y_train, train_pred_bernoulliNB))\n",
        "\n",
        "print(\"-\"*40)\n",
        "\n",
        "\n",
        "test_pred_bernoulliNB = bernoulliNB.predict(X_test)\n",
        "print('Test Accuracy  : %.3f%% ' % (accuracy_score(y_test, test_pred_bernoulliNB)*100))\n",
        "\n",
        "print(\"Confusion Matrix-BernoulliNB-Test: \")\n",
        "print(confusion_matrix(y_test, test_pred_bernoulliNB))\n",
        "\n",
        "print('\\nModel Sonuçları\\n')\n",
        "print(classification_report(y_test, test_pred_bernoulliNB))\n",
        "\n",
        "\n",
        "\n"
      ],
      "metadata": {
        "execution": {
          "iopub.status.busy": "2021-12-17T01:22:06.945667Z",
          "iopub.execute_input": "2021-12-17T01:22:06.946597Z",
          "iopub.status.idle": "2021-12-17T01:22:06.970299Z",
          "shell.execute_reply.started": "2021-12-17T01:22:06.946513Z",
          "shell.execute_reply": "2021-12-17T01:22:06.969622Z"
        },
        "trusted": true,
        "id": "xOkjLHEaUZ4j",
        "colab": {
          "base_uri": "https://localhost:8080/"
        },
        "outputId": "4f55d781-223b-43cb-fa45-f55d59f0c3c3"
      },
      "execution_count": 328,
      "outputs": [
        {
          "output_type": "stream",
          "name": "stdout",
          "text": [
            "Train Accuracy : 72.021% \n",
            "Confusion Matrix-BernoulliNB-Train: \n",
            "[[303  74]\n",
            " [ 88 114]]\n",
            "\n",
            "Model Sonuçları\n",
            "\n",
            "              precision    recall  f1-score   support\n",
            "\n",
            "           0       0.77      0.80      0.79       377\n",
            "           1       0.61      0.56      0.58       202\n",
            "\n",
            "    accuracy                           0.72       579\n",
            "   macro avg       0.69      0.68      0.69       579\n",
            "weighted avg       0.72      0.72      0.72       579\n",
            "\n",
            "----------------------------------------\n",
            "Test Accuracy  : 76.552% \n",
            "Confusion Matrix-BernoulliNB-Test: \n",
            "[[85 13]\n",
            " [21 26]]\n",
            "\n",
            "Model Sonuçları\n",
            "\n",
            "              precision    recall  f1-score   support\n",
            "\n",
            "           0       0.80      0.87      0.83        98\n",
            "           1       0.67      0.55      0.60        47\n",
            "\n",
            "    accuracy                           0.77       145\n",
            "   macro avg       0.73      0.71      0.72       145\n",
            "weighted avg       0.76      0.77      0.76       145\n",
            "\n"
          ]
        }
      ]
    },
    {
      "cell_type": "code",
      "source": [
        "fpr , tpr , thresolds = metrics.roc_curve(y_train, train_pred_bernoulliNB)\n",
        "roc_auc = metrics.auc(fpr , tpr)\n",
        "plt.plot(fpr , tpr ,'b' ,label = 'AUC =0.2f' %roc_auc)\n",
        "roc_auc\n",
        "\n"
      ],
      "metadata": {
        "id": "wKAJML--WrF0",
        "colab": {
          "base_uri": "https://localhost:8080/",
          "height": 282
        },
        "outputId": "d18689a4-1974-4dd9-b1be-f5f5dcc8bf9a"
      },
      "execution_count": 329,
      "outputs": [
        {
          "output_type": "execute_result",
          "data": {
            "text/plain": [
              "0.6840349817475117"
            ]
          },
          "metadata": {},
          "execution_count": 329
        },
        {
          "output_type": "display_data",
          "data": {
            "image/png": "[encoded data removed]",
            "text/plain": [
              "<Figure size 432x288 with 1 Axes>"
            ]
          },
          "metadata": {
            "needs_background": "light"
          }
        }
      ]
    },
    {
      "cell_type": "code",
      "source": [
        "\n",
        "\n",
        "fpr , tpr , thresolds = metrics.roc_curve(y_test, test_pred_bernoulliNB)\n",
        "roc_auc = metrics.auc(fpr , tpr)\n",
        "plt.plot(fpr , tpr ,'b' ,label = 'AUC =0.2f' %roc_auc)\n",
        "roc_auc"
      ],
      "metadata": {
        "id": "omXa2O6XXL15",
        "colab": {
          "base_uri": "https://localhost:8080/",
          "height": 282
        },
        "outputId": "d9e70d77-d664-4043-ca1b-623cd98f80d0"
      },
      "execution_count": 330,
      "outputs": [
        {
          "output_type": "execute_result",
          "data": {
            "text/plain": [
              "0.7102692140686062"
            ]
          },
          "metadata": {},
          "execution_count": 330
        },
        {
          "output_type": "display_data",
          "data": {
            "image/png": "[encoded data removed]",
            "text/plain": [
              "<Figure size 432x288 with 1 Axes>"
            ]
          },
          "metadata": {
            "needs_background": "light"
          }
        }
      ]
    },
    {
      "cell_type": "markdown",
      "source": [
        "\n",
        "\n",
        "---\n",
        "BernoulliNB Hiperparametre İle\n",
        "\n",
        "---\n",
        "\n",
        "\n"
      ],
      "metadata": {
        "id": "HkIqfPRz-ety"
      }
    },
    {
      "cell_type": "code",
      "source": [
        "from sklearn.naive_bayes import BernoulliNB\n",
        "\n"
      ],
      "metadata": {
        "id": "1kTYd9d6ALvu"
      },
      "execution_count": 331,
      "outputs": []
    },
    {
      "cell_type": "code",
      "source": [
        "parameters = {'alpha': [0.1]}    #np.linspace(0.1,1,10) denendi en iyi alpha değer 0.1 bulundu\n",
        "\n",
        "clf = GridSearchCV(BernoulliNB(), parameters)\n",
        "\n",
        "#Train Sınıflandırma raporunu yazdırmak\n",
        "clf.fit(X_train,y_train) \n",
        "clf_pre = clf.predict(X_train)\n",
        "print(classification_report(y_train , clf_pre))\n",
        "print(\"Training Skoru:\",accuracy_score(y_train , clf_pre))\n",
        "\n",
        "#Test Sınıflandırma raporunu yazdırmak\n",
        "clf.fit(X_test,y_test) \n",
        "clf_pre = clf.predict(X_test)\n",
        "print(classification_report(y_test , clf_pre))\n",
        "print(\"Test Skoru:\",accuracy_score(y_test , clf_pre))"
      ],
      "metadata": {
        "id": "uNs54H57-mzn",
        "colab": {
          "base_uri": "https://localhost:8080/"
        },
        "outputId": "3624600b-ba5d-4606-c2e6-07f9aceb3e98"
      },
      "execution_count": 332,
      "outputs": [
        {
          "output_type": "stream",
          "name": "stdout",
          "text": [
            "              precision    recall  f1-score   support\n",
            "\n",
            "           0       0.77      0.80      0.79       377\n",
            "           1       0.61      0.56      0.58       202\n",
            "\n",
            "    accuracy                           0.72       579\n",
            "   macro avg       0.69      0.68      0.69       579\n",
            "weighted avg       0.72      0.72      0.72       579\n",
            "\n",
            "Training Skoru: 0.7202072538860104\n",
            "              precision    recall  f1-score   support\n",
            "\n",
            "           0       0.78      0.82      0.80        98\n",
            "           1       0.58      0.53      0.56        47\n",
            "\n",
            "    accuracy                           0.72       145\n",
            "   macro avg       0.68      0.67      0.68       145\n",
            "weighted avg       0.72      0.72      0.72       145\n",
            "\n",
            "Test Skoru: 0.7241379310344828\n"
          ]
        }
      ]
    },
    {
      "cell_type": "code",
      "source": [
        "print(\"En İyi Parametrelerin Verdiği Skor:\",clf.best_score_)"
      ],
      "metadata": {
        "colab": {
          "base_uri": "https://localhost:8080/"
        },
        "id": "M9fTu4dWMmkE",
        "outputId": "7ffe310b-c8c9-40ce-d989-54d36ff66d3f"
      },
      "execution_count": 333,
      "outputs": [
        {
          "output_type": "stream",
          "name": "stdout",
          "text": [
            "En İyi Parametrelerin Verdiği Skor: 0.7034482758620689\n"
          ]
        }
      ]
    },
    {
      "cell_type": "markdown",
      "source": [
        "\n",
        "\n",
        "---\n",
        "\n",
        "\n",
        "\n",
        "#**LogisticRegression**\n",
        "\n",
        "\n",
        "\n",
        "---\n",
        "\n"
      ],
      "metadata": {
        "id": "_JEhwHcaXzqv"
      }
    },
    {
      "cell_type": "code",
      "source": [
        "from sklearn.linear_model import LogisticRegression\n",
        "from sklearn.metrics import accuracy_score\n",
        "\n",
        "from sklearn.metrics import plot_confusion_matrix\n",
        "\n",
        "from sklearn.metrics import confusion_matrix\n",
        "\n",
        "from sklearn.metrics import classification_report\n",
        "from sklearn.model_selection import GridSearchCV\n"
      ],
      "metadata": {
        "id": "tFRcl8YCYAf4"
      },
      "execution_count": 334,
      "outputs": []
    },
    {
      "cell_type": "code",
      "source": [
        "logisticRegression = LogisticRegression(random_state=123456)\n",
        "logisticRegression.fit(X_train, y_train)\n",
        "\n",
        "\n",
        "train_pred_logisticRegression = logisticRegression.predict(X_train)\n",
        "print('Train Accuracy : %.3f%% ' % (accuracy_score(y_train , train_pred_logisticRegression)*100))\n",
        "\n",
        "print(\"Confusion Matrix-LogisticRegression-Train: \")\n",
        "print(confusion_matrix(y_train, train_pred_logisticRegression))\n",
        "\n",
        "print('\\nModel Sonuçları\\n')\n",
        "print(classification_report(y_train, train_pred_logisticRegression))\n",
        "\n",
        "print(\"-\"*40)\n",
        "\n",
        "test_pred_logisticRegression = logisticRegression.predict(X_test)\n",
        "print('Test Accuracy  : %.3f%% ' % (accuracy_score(y_test, test_pred_logisticRegression)*100))\n",
        "\n",
        "print(\"Confusion Matrix-LogisticRegression-Test: \")\n",
        "print(confusion_matrix(y_test, test_pred_logisticRegression))\n",
        "\n",
        "print('\\nModel Sonuçları\\n')\n",
        "print(classification_report(y_test, test_pred_logisticRegression))"
      ],
      "metadata": {
        "execution": {
          "iopub.status.busy": "2021-12-17T01:22:06.971665Z",
          "iopub.execute_input": "2021-12-17T01:22:06.973723Z",
          "iopub.status.idle": "2021-12-17T01:22:07.000195Z",
          "shell.execute_reply.started": "2021-12-17T01:22:06.973687Z",
          "shell.execute_reply": "2021-12-17T01:22:06.99925Z"
        },
        "trusted": true,
        "id": "itxcpi2RUZ4j",
        "colab": {
          "base_uri": "https://localhost:8080/"
        },
        "outputId": "39a75c51-3fb2-42a1-f3fc-8033428576ed"
      },
      "execution_count": 335,
      "outputs": [
        {
          "output_type": "stream",
          "name": "stdout",
          "text": [
            "Train Accuracy : 78.756% \n",
            "Confusion Matrix-LogisticRegression-Train: \n",
            "[[336  41]\n",
            " [ 82 120]]\n",
            "\n",
            "Model Sonuçları\n",
            "\n",
            "              precision    recall  f1-score   support\n",
            "\n",
            "           0       0.80      0.89      0.85       377\n",
            "           1       0.75      0.59      0.66       202\n",
            "\n",
            "    accuracy                           0.79       579\n",
            "   macro avg       0.77      0.74      0.75       579\n",
            "weighted avg       0.78      0.79      0.78       579\n",
            "\n",
            "----------------------------------------\n",
            "Test Accuracy  : 75.862% \n",
            "Confusion Matrix-LogisticRegression-Test: \n",
            "[[88 10]\n",
            " [25 22]]\n",
            "\n",
            "Model Sonuçları\n",
            "\n",
            "              precision    recall  f1-score   support\n",
            "\n",
            "           0       0.78      0.90      0.83        98\n",
            "           1       0.69      0.47      0.56        47\n",
            "\n",
            "    accuracy                           0.76       145\n",
            "   macro avg       0.73      0.68      0.70       145\n",
            "weighted avg       0.75      0.76      0.74       145\n",
            "\n"
          ]
        }
      ]
    },
    {
      "cell_type": "code",
      "source": [
        "fpr , tpr , thresolds = metrics.roc_curve(y_train, train_pred_logisticRegression)\n",
        "roc_auc = metrics.auc(fpr , tpr)\n",
        "plt.plot(fpr , tpr ,'b' ,label = 'AUC =0.2f' %roc_auc)\n",
        "roc_auc"
      ],
      "metadata": {
        "id": "jDn2OgmcYJO7",
        "colab": {
          "base_uri": "https://localhost:8080/",
          "height": 282
        },
        "outputId": "4f76efa9-b66c-47d9-d5f2-26a980551c54"
      },
      "execution_count": 336,
      "outputs": [
        {
          "output_type": "execute_result",
          "data": {
            "text/plain": [
              "0.7426530451453633"
            ]
          },
          "metadata": {},
          "execution_count": 336
        },
        {
          "output_type": "display_data",
          "data": {
            "image/png": "[encoded data removed]",
            "text/plain": [
              "<Figure size 432x288 with 1 Axes>"
            ]
          },
          "metadata": {
            "needs_background": "light"
          }
        }
      ]
    },
    {
      "cell_type": "code",
      "source": [
        "fpr , tpr , thresolds = metrics.roc_curve(y_test, test_pred_logisticRegression)\n",
        "roc_auc = metrics.auc(fpr , tpr)\n",
        "plt.plot(fpr , tpr ,'b' ,label = 'AUC =0.2f' %roc_auc)\n",
        "roc_auc"
      ],
      "metadata": {
        "id": "MOmK7wxbYMDb",
        "colab": {
          "base_uri": "https://localhost:8080/",
          "height": 282
        },
        "outputId": "e7e62f55-0fe8-448f-e510-51aea059d6a9"
      },
      "execution_count": 337,
      "outputs": [
        {
          "output_type": "execute_result",
          "data": {
            "text/plain": [
              "0.6830221450282241"
            ]
          },
          "metadata": {},
          "execution_count": 337
        },
        {
          "output_type": "display_data",
          "data": {
            "image/png": "[encoded data removed]",
            "text/plain": [
              "<Figure size 432x288 with 1 Axes>"
            ]
          },
          "metadata": {
            "needs_background": "light"
          }
        }
      ]
    },
    {
      "cell_type": "markdown",
      "source": [
        "\n",
        "\n",
        "---\n",
        "Logistic Regression Hiperparametreler İle\n",
        "\n",
        "---\n",
        "\n",
        "\n"
      ],
      "metadata": {
        "id": "GNzo67mqC5xt"
      }
    },
    {
      "cell_type": "code",
      "source": [
        "param ={\"C\":np.logspace(20,40,60), \"penalty\":[\"l2\",\"none\"]}  # logistic regresyon tekrar bak \n",
        "\n",
        "cv = GridSearchCV(LogisticRegression(), param, scoring = 'accuracy', cv=5,n_jobs=-1).fit(X_train,y_train)\n",
        "\n",
        "\n",
        "#Train Sınıflandırma raporunu yazdırmak\n",
        "cv.fit(X_train,y_train) \n",
        "cv_pre = cv.predict(X_train)\n",
        "print(classification_report(y_train , cv_pre))\n",
        "print(\"Training Skoru:\",accuracy_score(y_train , cv_pre))\n",
        "\n",
        "#Test Sınıflandırma raporunu yazdırmak\n",
        "cv.fit(X_test,y_test) \n",
        "cv_pre = cv.predict(X_test)\n",
        "print(classification_report(y_test , cv_pre))\n",
        "print(\"Test Skoru:\",accuracy_score(y_test , cv_pre))\n",
        "\n"
      ],
      "metadata": {
        "id": "wSx_Fv_FC5xu",
        "colab": {
          "base_uri": "https://localhost:8080/"
        },
        "outputId": "36709621-d290-48c7-f26a-7440cc1abfd4"
      },
      "execution_count": 338,
      "outputs": [
        {
          "output_type": "stream",
          "name": "stdout",
          "text": [
            "              precision    recall  f1-score   support\n",
            "\n",
            "           0       0.80      0.89      0.84       377\n",
            "           1       0.74      0.59      0.66       202\n",
            "\n",
            "    accuracy                           0.79       579\n",
            "   macro avg       0.77      0.74      0.75       579\n",
            "weighted avg       0.78      0.79      0.78       579\n",
            "\n",
            "Training Skoru: 0.7858376511226253\n",
            "              precision    recall  f1-score   support\n",
            "\n",
            "           0       0.80      0.88      0.83        98\n",
            "           1       0.68      0.53      0.60        47\n",
            "\n",
            "    accuracy                           0.77       145\n",
            "   macro avg       0.74      0.70      0.72       145\n",
            "weighted avg       0.76      0.77      0.76       145\n",
            "\n",
            "Test Skoru: 0.7655172413793103\n"
          ]
        }
      ]
    },
    {
      "cell_type": "markdown",
      "source": [
        "\n",
        "\n",
        "---\n",
        "\n",
        "\n",
        "\n",
        "#**DECISION TREE**\n",
        "\n",
        "\n",
        "\n",
        "---\n",
        "\n"
      ],
      "metadata": {
        "id": "43GT6AmgYObn"
      }
    },
    {
      "cell_type": "code",
      "source": [
        "from sklearn.tree import DecisionTreeClassifier\n",
        "from sklearn.metrics import accuracy_score\n",
        "\n",
        "from sklearn.metrics import plot_confusion_matrix\n",
        "\n",
        "from sklearn.metrics import confusion_matrix\n",
        "\n",
        "from sklearn.metrics import classification_report\n",
        "from sklearn.model_selection import GridSearchCV\n"
      ],
      "metadata": {
        "id": "FhBLCiThrNYm"
      },
      "execution_count": 339,
      "outputs": []
    },
    {
      "cell_type": "code",
      "source": [
        "decision_tree = DecisionTreeClassifier()\n",
        "decision_tree.fit(X_train, y_train)\n",
        "\n",
        "train_pred_decision_tree = decision_tree.predict(X_train)\n",
        "print('Train Accuracy : %.3f%% ' % (accuracy_score(y_train , train_pred_decision_tree)*100))\n",
        "\n",
        "print(\"Confusion Matrix-DecisionTreeClassifier-Train: \")\n",
        "print(confusion_matrix(y_train, train_pred_decision_tree))\n",
        "\n",
        "print('\\nModel Sonuçları\\n')\n",
        "print(classification_report(y_train, train_pred_decision_tree))\n",
        "\n",
        "print(\"-\"*40)\n",
        "\n",
        "test_pred_decision_tree = decision_tree.predict(X_test)\n",
        "print('Test Accuracy  : %.3f%% ' % (accuracy_score(y_test, test_pred_decision_tree)*100))\n",
        "\n",
        "print(\"Confusion Matrix-DecisionTreeClassifier-Test: \")\n",
        "print(confusion_matrix(y_test, test_pred_decision_tree))\n",
        "\n",
        "print('\\nModel Sonuçları\\n')\n",
        "print(classification_report(y_test, test_pred_decision_tree))"
      ],
      "metadata": {
        "execution": {
          "iopub.status.busy": "2021-12-17T01:22:07.001274Z",
          "iopub.execute_input": "2021-12-17T01:22:07.001482Z",
          "iopub.status.idle": "2021-12-17T01:22:07.027345Z",
          "shell.execute_reply.started": "2021-12-17T01:22:07.001455Z",
          "shell.execute_reply": "2021-12-17T01:22:07.02674Z"
        },
        "trusted": true,
        "id": "yPiAq7iyUZ4k",
        "colab": {
          "base_uri": "https://localhost:8080/"
        },
        "outputId": "1745d29b-5cbb-49c1-80fa-413322bc7b38"
      },
      "execution_count": 340,
      "outputs": [
        {
          "output_type": "stream",
          "name": "stdout",
          "text": [
            "Train Accuracy : 100.000% \n",
            "Confusion Matrix-DecisionTreeClassifier-Train: \n",
            "[[377   0]\n",
            " [  0 202]]\n",
            "\n",
            "Model Sonuçları\n",
            "\n",
            "              precision    recall  f1-score   support\n",
            "\n",
            "           0       1.00      1.00      1.00       377\n",
            "           1       1.00      1.00      1.00       202\n",
            "\n",
            "    accuracy                           1.00       579\n",
            "   macro avg       1.00      1.00      1.00       579\n",
            "weighted avg       1.00      1.00      1.00       579\n",
            "\n",
            "----------------------------------------\n",
            "Test Accuracy  : 68.276% \n",
            "Confusion Matrix-DecisionTreeClassifier-Test: \n",
            "[[72 26]\n",
            " [20 27]]\n",
            "\n",
            "Model Sonuçları\n",
            "\n",
            "              precision    recall  f1-score   support\n",
            "\n",
            "           0       0.78      0.73      0.76        98\n",
            "           1       0.51      0.57      0.54        47\n",
            "\n",
            "    accuracy                           0.68       145\n",
            "   macro avg       0.65      0.65      0.65       145\n",
            "weighted avg       0.69      0.68      0.69       145\n",
            "\n"
          ]
        }
      ]
    },
    {
      "cell_type": "code",
      "source": [
        "fpr , tpr , thresolds = metrics.roc_curve(y_train, train_pred_decision_tree)\n",
        "roc_auc = metrics.auc(fpr , tpr)\n",
        "plt.plot(fpr , tpr ,'b' ,label = 'AUC =0.2f' %roc_auc)\n",
        "roc_auc"
      ],
      "metadata": {
        "id": "Ro_HBlzgF1Vl",
        "colab": {
          "base_uri": "https://localhost:8080/",
          "height": 282
        },
        "outputId": "7d016fb1-b47e-4890-ee91-075f29aef31b"
      },
      "execution_count": 341,
      "outputs": [
        {
          "output_type": "execute_result",
          "data": {
            "text/plain": [
              "1.0"
            ]
          },
          "metadata": {},
          "execution_count": 341
        },
        {
          "output_type": "display_data",
          "data": {
            "image/png": "[encoded data removed]",
            "text/plain": [
              "<Figure size 432x288 with 1 Axes>"
            ]
          },
          "metadata": {
            "needs_background": "light"
          }
        }
      ]
    },
    {
      "cell_type": "code",
      "source": [
        "fpr , tpr , thresolds = metrics.roc_curve(y_test, test_pred_decision_tree)\n",
        "roc_auc = metrics.auc(fpr , tpr)\n",
        "plt.plot(fpr , tpr ,'b' ,label = 'AUC =0.2f' %roc_auc)\n",
        "roc_auc"
      ],
      "metadata": {
        "id": "TIA0RiPvako9",
        "colab": {
          "base_uri": "https://localhost:8080/",
          "height": 282
        },
        "outputId": "b23f73a3-e869-47c9-875f-54e305230257"
      },
      "execution_count": 342,
      "outputs": [
        {
          "output_type": "execute_result",
          "data": {
            "text/plain": [
              "0.6545809813287016"
            ]
          },
          "metadata": {},
          "execution_count": 342
        },
        {
          "output_type": "display_data",
          "data": {
            "image/png": "[encoded data removed]",
            "text/plain": [
              "<Figure size 432x288 with 1 Axes>"
            ]
          },
          "metadata": {
            "needs_background": "light"
          }
        }
      ]
    },
    {
      "cell_type": "markdown",
      "source": [
        "---\n",
        "Decision Tree Hiperparametreler İle\n",
        "\n",
        "---\n",
        "\n",
        "\n"
      ],
      "metadata": {
        "id": "CffqegJMF-v-"
      }
    },
    {
      "cell_type": "code",
      "source": [
        "param_dict= {\"criterion\":['gini'],   #gini ve entropy denendi\n",
        "             \"max_depth\"          : [6], #1-8 aralığında denendi\n",
        "             \"min_samples_split\"  : [4], #1-10 aralığında denendi\n",
        "             \"min_samples_leaf\"   : [1], #1-5 aralığında denendi\n",
        "            }\n",
        "\n",
        "detr=DecisionTreeClassifier()\n",
        "detr_cv = GridSearchCV (detr,param_dict, verbose=0)\n",
        "\n",
        "#Train Sınıflandırma raporunu yazdırmak\n",
        "detr_cv.fit(X_train,y_train) \n",
        "print(\"En İyi Parametrelerin Verdiği Skor:\",detr_cv.best_params_)\n",
        "detr_cv_pre = detr_cv.predict(X_train)\n",
        "print(classification_report(y_train , detr_cv_pre))\n",
        "print(\"Training Skoru:\",accuracy_score(y_train , detr_cv_pre))\n",
        "\n",
        "#Test Sınıflandırma raporunu yazdırmak\n",
        "detr_cv.fit(X_test,y_test) \n",
        "detr_cv_pre = detr_cv.predict(X_test)\n",
        "print(classification_report(y_test , detr_cv_pre))\n",
        "print(\"Test Skoru:\",accuracy_score(y_test , detr_cv_pre))\n"
      ],
      "metadata": {
        "id": "LeWRVY5_F-v-",
        "colab": {
          "base_uri": "https://localhost:8080/"
        },
        "outputId": "d6b1b862-9444-45db-9662-e0128560e68a"
      },
      "execution_count": 343,
      "outputs": [
        {
          "output_type": "stream",
          "name": "stdout",
          "text": [
            "En İyi Parametrelerin Verdiği Skor: {'criterion': 'gini', 'max_depth': 6, 'min_samples_leaf': 1, 'min_samples_split': 4}\n",
            "              precision    recall  f1-score   support\n",
            "\n",
            "           0       0.85      0.96      0.91       377\n",
            "           1       0.91      0.69      0.79       202\n",
            "\n",
            "    accuracy                           0.87       579\n",
            "   macro avg       0.88      0.83      0.85       579\n",
            "weighted avg       0.87      0.87      0.86       579\n",
            "\n",
            "Training Skoru: 0.8687392055267703\n",
            "              precision    recall  f1-score   support\n",
            "\n",
            "           0       0.98      0.97      0.97        98\n",
            "           1       0.94      0.96      0.95        47\n",
            "\n",
            "    accuracy                           0.97       145\n",
            "   macro avg       0.96      0.96      0.96       145\n",
            "weighted avg       0.97      0.97      0.97       145\n",
            "\n",
            "Test Skoru: 0.9655172413793104\n"
          ]
        }
      ]
    },
    {
      "cell_type": "markdown",
      "source": [
        "\n",
        "\n",
        "---\n",
        "\n",
        "\n",
        "\n",
        "#**SVM (SUPPORT VECTOR MACHINE)**\n",
        "\n",
        "\n",
        "\n",
        "---\n",
        "\n"
      ],
      "metadata": {
        "id": "atXXed8wYYqB"
      }
    },
    {
      "cell_type": "code",
      "source": [
        "from sklearn import svm\n",
        "from sklearn.svm import SVC\n",
        "\n",
        "sv = svm.SVC(kernel='linear') \n",
        "sv.fit(X_train , y_train)\n",
        "\n",
        "train_pred_svm =  sv.predict(X_train)\n",
        "print('Train Accuracy : %.3f%% ' % (accuracy_score(y_train , train_pred_svm)*100))\n",
        "\n",
        "print(\"Confusion Matrix-SVM TRAIN: \")\n",
        "print(confusion_matrix(y_train, train_pred_svm))\n",
        "\n",
        "print('\\nModel Sonuçları\\n')\n",
        "print(classification_report(y_train, train_pred_svm))\n",
        "\n",
        "print(\"-\"*40)\n",
        "\n",
        "test_pred_svm = sv.predict(X_test)\n",
        "print('Test Accuracy  : %.3f%% ' % (accuracy_score(y_test, test_pred_svm)*100))\n",
        "\n",
        "print(\"Confusion Matrix-SVM TEST: \")\n",
        "print(confusion_matrix(y_test, test_pred_svm))\n",
        "\n",
        "print('\\nModel Sonuçları\\n')\n",
        "print(classification_report(y_test, test_pred_svm))"
      ],
      "metadata": {
        "id": "Jo-J8WnZENsw",
        "colab": {
          "base_uri": "https://localhost:8080/"
        },
        "outputId": "787918b9-23e0-4260-ea0d-3fdec94211cf"
      },
      "execution_count": 344,
      "outputs": [
        {
          "output_type": "stream",
          "name": "stdout",
          "text": [
            "Train Accuracy : 78.584% \n",
            "Confusion Matrix-SVM TRAIN: \n",
            "[[335  42]\n",
            " [ 82 120]]\n",
            "\n",
            "Model Sonuçları\n",
            "\n",
            "              precision    recall  f1-score   support\n",
            "\n",
            "           0       0.80      0.89      0.84       377\n",
            "           1       0.74      0.59      0.66       202\n",
            "\n",
            "    accuracy                           0.79       579\n",
            "   macro avg       0.77      0.74      0.75       579\n",
            "weighted avg       0.78      0.79      0.78       579\n",
            "\n",
            "----------------------------------------\n",
            "Test Accuracy  : 72.414% \n",
            "Confusion Matrix-SVM TEST: \n",
            "[[85 13]\n",
            " [27 20]]\n",
            "\n",
            "Model Sonuçları\n",
            "\n",
            "              precision    recall  f1-score   support\n",
            "\n",
            "           0       0.76      0.87      0.81        98\n",
            "           1       0.61      0.43      0.50        47\n",
            "\n",
            "    accuracy                           0.72       145\n",
            "   macro avg       0.68      0.65      0.65       145\n",
            "weighted avg       0.71      0.72      0.71       145\n",
            "\n"
          ]
        }
      ]
    },
    {
      "cell_type": "code",
      "source": [
        "fpr , tpr , thresolds = metrics.roc_curve(y_train, train_pred_svm)\n",
        "roc_auc = metrics.auc(fpr , tpr)\n",
        "plt.plot(fpr , tpr ,'b' ,label = 'AUC =0.2f' %roc_auc)\n",
        "roc_auc"
      ],
      "metadata": {
        "id": "vrEP6FM9cc9B",
        "colab": {
          "base_uri": "https://localhost:8080/",
          "height": 282
        },
        "outputId": "ca1acec2-9a14-41cc-bff0-ea4ca63db83b"
      },
      "execution_count": 345,
      "outputs": [
        {
          "output_type": "execute_result",
          "data": {
            "text/plain": [
              "0.7413267851984138"
            ]
          },
          "metadata": {},
          "execution_count": 345
        },
        {
          "output_type": "display_data",
          "data": {
            "image/png": "[encoded data removed]",
            "text/plain": [
              "<Figure size 432x288 with 1 Axes>"
            ]
          },
          "metadata": {
            "needs_background": "light"
          }
        }
      ]
    },
    {
      "cell_type": "code",
      "source": [
        "fpr , tpr , thresolds = metrics.roc_curve(y_test, test_pred_svm)\n",
        "roc_auc = metrics.auc(fpr , tpr)\n",
        "plt.plot(fpr , tpr ,'b' ,label = 'AUC =0.2f' %roc_auc)\n",
        "roc_auc"
      ],
      "metadata": {
        "id": "0oru0FSAdVfV",
        "colab": {
          "base_uri": "https://localhost:8080/",
          "height": 282
        },
        "outputId": "0a595409-4107-4559-f60a-c24c89e22691"
      },
      "execution_count": 346,
      "outputs": [
        {
          "output_type": "execute_result",
          "data": {
            "text/plain": [
              "0.6464394268345636"
            ]
          },
          "metadata": {},
          "execution_count": 346
        },
        {
          "output_type": "display_data",
          "data": {
            "image/png": "[encoded data removed]",
            "text/plain": [
              "<Figure size 432x288 with 1 Axes>"
            ]
          },
          "metadata": {
            "needs_background": "light"
          }
        }
      ]
    },
    {
      "cell_type": "markdown",
      "source": [
        "\n",
        "\n",
        "---\n",
        "SVM Hiperparametre İle\n",
        "\n",
        "\n",
        "---\n",
        "\n",
        "\n"
      ],
      "metadata": {
        "id": "HE7VLuRgcUxR"
      }
    },
    {
      "cell_type": "code",
      "source": [
        "#Parametrenin Sınırlarını Belirtme\n",
        "\n",
        "param_grid = {'C': [1000], # C=(0.1, 1, 10, 100, 1000) aralığında denendi\n",
        "              'gamma': [ 0.0001], # C=(0.0001 , 0.01 , 0.1 , 1) aralığında denendi\n",
        "              'kernel': ['rbf'], # \"rbf\", \"linear\" ve \"sigmoid\" denendi.\n",
        "              'class_weight' : ['balanced']}  # \"none\" , \"balanced\" ve \"dict\" denendi.\n",
        "model=SVC()\n",
        "grid_svm = GridSearchCV(SVC(), param_grid, refit = True, verbose = 1)\n",
        "\n",
        "\n",
        "#print(\"En İyi Parametrelerin Verdiği Skor:\",grid_svm.best_params_)\n",
        "\n",
        "#Train Sınıflandırma raporunu yazdırmak\n",
        "grid_svm.fit(X_train,y_train) \n",
        "grid_svm_pre = grid_svm.predict(X_train)\n",
        "print(classification_report(y_train , grid_svm_pre))\n",
        "print(\"Training Skoru:\",accuracy_score(y_train , grid_svm_pre))\n",
        "\n",
        "#Test Sınıflandırma raporunu yazdırmak\n",
        "grid_svm.fit(X_test,y_test) \n",
        "grid_svm_pre = grid_svm.predict(X_test)\n",
        "print(classification_report(y_test , grid_svm_pre))\n",
        "print(\"Test Skoru:\",accuracy_score(y_test , grid_svm_pre))"
      ],
      "metadata": {
        "id": "CzCPFMtACyY-",
        "colab": {
          "base_uri": "https://localhost:8080/"
        },
        "outputId": "e02f38fc-e4de-44ed-e1c0-994dfd09ef8e"
      },
      "execution_count": 347,
      "outputs": [
        {
          "output_type": "stream",
          "name": "stdout",
          "text": [
            "Fitting 5 folds for each of 1 candidates, totalling 5 fits\n",
            "              precision    recall  f1-score   support\n",
            "\n",
            "           0       0.85      0.81      0.83       377\n",
            "           1       0.67      0.72      0.70       202\n",
            "\n",
            "    accuracy                           0.78       579\n",
            "   macro avg       0.76      0.77      0.76       579\n",
            "weighted avg       0.79      0.78      0.78       579\n",
            "\n",
            "Training Skoru: 0.7806563039723662\n",
            "Fitting 5 folds for each of 1 candidates, totalling 5 fits\n",
            "              precision    recall  f1-score   support\n",
            "\n",
            "           0       0.89      0.76      0.82        98\n",
            "           1       0.61      0.81      0.70        47\n",
            "\n",
            "    accuracy                           0.77       145\n",
            "   macro avg       0.75      0.78      0.76       145\n",
            "weighted avg       0.80      0.77      0.78       145\n",
            "\n",
            "Test Skoru: 0.7724137931034483\n"
          ]
        }
      ]
    },
    {
      "cell_type": "code",
      "source": [
        "plot_roc_curve(grid_svm, X_test , y_test)"
      ],
      "metadata": {
        "id": "1p1sZQdF_2sR",
        "colab": {
          "base_uri": "https://localhost:8080/",
          "height": 351
        },
        "outputId": "11855f99-aacf-45ec-94cb-69da698f2ff3"
      },
      "execution_count": 348,
      "outputs": [
        {
          "output_type": "stream",
          "name": "stderr",
          "text": [
            "/usr/local/lib/python3.7/dist-packages/sklearn/utils/deprecation.py:87: FutureWarning: Function plot_roc_curve is deprecated; Function :func:`plot_roc_curve` is deprecated in 1.0 and will be removed in 1.2. Use one of the class methods: :meth:`sklearn.metric.RocCurveDisplay.from_predictions` or :meth:`sklearn.metric.RocCurveDisplay.from_estimator`.\n",
            "  warnings.warn(msg, category=FutureWarning)\n"
          ]
        },
        {
          "output_type": "execute_result",
          "data": {
            "text/plain": [
              "<sklearn.metrics._plot.roc_curve.RocCurveDisplay at 0x7f8dd68fc990>"
            ]
          },
          "metadata": {},
          "execution_count": 348
        },
        {
          "output_type": "display_data",
          "data": {
            "image/png": "[encoded data removed]",
            "text/plain": [
              "<Figure size 432x288 with 1 Axes>"
            ]
          },
          "metadata": {
            "needs_background": "light"
          }
        }
      ]
    },
    {
      "cell_type": "markdown",
      "source": [
        "\n",
        "\n",
        "---\n",
        "\n",
        "\n",
        "\n",
        "#**KNN (K-NEAREST NEIGHBORS)**\n",
        "\n",
        "\n",
        "\n",
        "---\n",
        "\n"
      ],
      "metadata": {
        "id": "pdnxo6eAZGLI"
      }
    },
    {
      "cell_type": "code",
      "source": [
        "from sklearn.neighbors import KNeighborsClassifier\n",
        "knn = KNeighborsClassifier()\n",
        "knn.fit(X_train , y_train)\n",
        "\n",
        "train_pred_knn =  knn.predict(X_train)\n",
        "print('Train Accuracy : %.3f%% ' % (accuracy_score(y_train , train_pred_knn)*100))\n",
        "\n",
        "print(\"Confusion Matrix-KNN TRAIN: \")\n",
        "print(confusion_matrix(y_train, train_pred_knn))\n",
        "\n",
        "print('\\nModel Sonuçları\\n')\n",
        "print(classification_report(y_train, train_pred_knn))\n",
        "\n",
        "print(\"-\"*40)\n",
        "\n",
        "test_pred_knn = knn.predict(X_test)\n",
        "print('Test Accuracy  : %.3f%% ' % (accuracy_score(y_test, test_pred_knn)*100))\n",
        "\n",
        "print(\"Confusion Matrix-KNN TEST: \")\n",
        "print(confusion_matrix(y_test, test_pred_knn))\n",
        "\n",
        "print('\\nModel Sonuçları\\n')\n",
        "print(classification_report(y_test, test_pred_knn))"
      ],
      "metadata": {
        "colab": {
          "base_uri": "https://localhost:8080/"
        },
        "id": "TvtHl65fK1O7",
        "outputId": "e90a8e79-d9ad-4553-9d8c-20d6ac0a6a94"
      },
      "execution_count": 349,
      "outputs": [
        {
          "output_type": "stream",
          "name": "stdout",
          "text": [
            "Train Accuracy : 81.002% \n",
            "Confusion Matrix-KNN TRAIN: \n",
            "[[333  44]\n",
            " [ 66 136]]\n",
            "\n",
            "Model Sonuçları\n",
            "\n",
            "              precision    recall  f1-score   support\n",
            "\n",
            "           0       0.83      0.88      0.86       377\n",
            "           1       0.76      0.67      0.71       202\n",
            "\n",
            "    accuracy                           0.81       579\n",
            "   macro avg       0.80      0.78      0.79       579\n",
            "weighted avg       0.81      0.81      0.81       579\n",
            "\n",
            "----------------------------------------\n",
            "Test Accuracy  : 73.793% \n",
            "Confusion Matrix-KNN TEST: \n",
            "[[82 16]\n",
            " [22 25]]\n",
            "\n",
            "Model Sonuçları\n",
            "\n",
            "              precision    recall  f1-score   support\n",
            "\n",
            "           0       0.79      0.84      0.81        98\n",
            "           1       0.61      0.53      0.57        47\n",
            "\n",
            "    accuracy                           0.74       145\n",
            "   macro avg       0.70      0.68      0.69       145\n",
            "weighted avg       0.73      0.74      0.73       145\n",
            "\n"
          ]
        }
      ]
    },
    {
      "cell_type": "code",
      "source": [
        "fpr , tpr , thresolds = metrics.roc_curve(y_test,test_pred_knn)\n",
        "roc_auc = metrics.auc(fpr , tpr)\n",
        "plt.plot(fpr , tpr ,'b' ,label = 'AUC =0.2f' %roc_auc)\n",
        "roc_auc"
      ],
      "metadata": {
        "execution": {
          "iopub.status.busy": "2021-12-17T01:22:07.156518Z",
          "iopub.execute_input": "2021-12-17T01:22:07.157068Z",
          "iopub.status.idle": "2021-12-17T01:22:07.168237Z",
          "shell.execute_reply.started": "2021-12-17T01:22:07.157036Z",
          "shell.execute_reply": "2021-12-17T01:22:07.167605Z"
        },
        "trusted": true,
        "id": "iWt7bhp4UZ4m",
        "colab": {
          "base_uri": "https://localhost:8080/",
          "height": 282
        },
        "outputId": "68de1dcd-40ba-44e5-f030-a54e71fac622"
      },
      "execution_count": 350,
      "outputs": [
        {
          "output_type": "execute_result",
          "data": {
            "text/plain": [
              "0.6843247937472862"
            ]
          },
          "metadata": {},
          "execution_count": 350
        },
        {
          "output_type": "display_data",
          "data": {
            "image/png": "[encoded data removed]",
            "text/plain": [
              "<Figure size 432x288 with 1 Axes>"
            ]
          },
          "metadata": {
            "needs_background": "light"
          }
        }
      ]
    },
    {
      "cell_type": "markdown",
      "source": [
        "\n",
        "\n",
        "---\n",
        "\n",
        "\n",
        "\n",
        "*KNN modeli için hiperparametreleri bulma*\n",
        "\n",
        "---\n",
        "\n"
      ],
      "metadata": {
        "id": "n7yMZXve7nOk"
      }
    },
    {
      "cell_type": "code",
      "source": [
        "param_grid = {\n",
        "              'n_neighbors': [19],  #3, 5, 11, 19 denendi\n",
        "              'weights': ['uniform'], #uniform ve distance denendi\n",
        "              'metric': ['manhattan'] # euclideans ve manhattan denendi\n",
        "              }\n",
        "model = KNeighborsClassifier()\n",
        "grid_search = GridSearchCV(model, param_grid,scoring='roc_auc', refit = True, cv=stratified_kfold,  verbose = 1)\n",
        "\n",
        "#Train Sınıflandırma raporunu yazdırmak\n",
        "grid_search.fit(X_train,y_train) \n",
        "grid_search_pre = grid_search.predict(X_train)\n",
        "print(classification_report(y_train , grid_search_pre))\n",
        "print(\"Training Skoru:\",accuracy_score(y_train , grid_search_pre))\n",
        "\n",
        "#Test Sınıflandırma raporunu yazdırmak\n",
        "grid_search.fit(X_test,y_test) \n",
        "grid_search_pre = grid_search.predict(X_test)\n",
        "print(classification_report(y_test , grid_search_pre))\n",
        "print(\"Test Skoru:\",accuracy_score(y_test , grid_search_pre))\n",
        "\n",
        " "
      ],
      "metadata": {
        "id": "kRnHjGsB27DX",
        "colab": {
          "base_uri": "https://localhost:8080/"
        },
        "outputId": "ee6ed87d-62a0-423d-dbfd-990969a1eccd"
      },
      "execution_count": 351,
      "outputs": [
        {
          "output_type": "stream",
          "name": "stdout",
          "text": [
            "Fitting 5 folds for each of 1 candidates, totalling 5 fits\n",
            "              precision    recall  f1-score   support\n",
            "\n",
            "           0       0.79      0.90      0.85       377\n",
            "           1       0.76      0.56      0.65       202\n",
            "\n",
            "    accuracy                           0.79       579\n",
            "   macro avg       0.78      0.73      0.75       579\n",
            "weighted avg       0.78      0.79      0.78       579\n",
            "\n",
            "Training Skoru: 0.7858376511226253\n",
            "Fitting 5 folds for each of 1 candidates, totalling 5 fits\n",
            "              precision    recall  f1-score   support\n",
            "\n",
            "           0       0.76      0.98      0.85        98\n",
            "           1       0.89      0.34      0.49        47\n",
            "\n",
            "    accuracy                           0.77       145\n",
            "   macro avg       0.82      0.66      0.67       145\n",
            "weighted avg       0.80      0.77      0.74       145\n",
            "\n",
            "Test Skoru: 0.7724137931034483\n"
          ]
        }
      ]
    },
    {
      "cell_type": "code",
      "source": [
        "plot_roc_curve(grid_search, X_test, y_test)"
      ],
      "metadata": {
        "id": "zK0KZ_t_pCAv",
        "colab": {
          "base_uri": "https://localhost:8080/",
          "height": 351
        },
        "outputId": "529abd6c-86c1-428c-cbe2-b6d249248700"
      },
      "execution_count": 352,
      "outputs": [
        {
          "output_type": "stream",
          "name": "stderr",
          "text": [
            "/usr/local/lib/python3.7/dist-packages/sklearn/utils/deprecation.py:87: FutureWarning: Function plot_roc_curve is deprecated; Function :func:`plot_roc_curve` is deprecated in 1.0 and will be removed in 1.2. Use one of the class methods: :meth:`sklearn.metric.RocCurveDisplay.from_predictions` or :meth:`sklearn.metric.RocCurveDisplay.from_estimator`.\n",
            "  warnings.warn(msg, category=FutureWarning)\n"
          ]
        },
        {
          "output_type": "execute_result",
          "data": {
            "text/plain": [
              "<sklearn.metrics._plot.roc_curve.RocCurveDisplay at 0x7f8dd88a6050>"
            ]
          },
          "metadata": {},
          "execution_count": 352
        },
        {
          "output_type": "display_data",
          "data": {
            "image/png": "[encoded data removed]",
            "text/plain": [
              "<Figure size 432x288 with 1 Axes>"
            ]
          },
          "metadata": {
            "needs_background": "light"
          }
        }
      ]
    },
    {
      "cell_type": "markdown",
      "source": [
        "\n",
        "\n",
        "---\n",
        "\n",
        "\n",
        "\n",
        "#**MLP (MULTILAYER PERCEPTRON)**\n",
        "\n",
        "\n",
        "\n",
        "---\n",
        "\n"
      ],
      "metadata": {
        "id": "yiNfYhJ9OOR-"
      }
    },
    {
      "cell_type": "code",
      "source": [
        "from sklearn.neural_network import MLPClassifier"
      ],
      "metadata": {
        "execution": {
          "iopub.status.busy": "2021-12-17T01:22:07.269612Z",
          "iopub.execute_input": "2021-12-17T01:22:07.270099Z",
          "iopub.status.idle": "2021-12-17T01:22:07.280171Z",
          "shell.execute_reply.started": "2021-12-17T01:22:07.270057Z",
          "shell.execute_reply": "2021-12-17T01:22:07.27919Z"
        },
        "trusted": true,
        "id": "bGfMuCfEUZ4n"
      },
      "execution_count": 353,
      "outputs": []
    },
    {
      "cell_type": "code",
      "source": [
        "mlp = MLPClassifier(max_iter=1000)\n",
        "mlp.fit(X_train , y_train)\n",
        "\n",
        "\n",
        "train_pred_mlp =  mlp.predict(X_train)\n",
        "print('Train Accuracy : %.3f%% ' % (accuracy_score(y_train , train_pred_mlp)*100))\n",
        "\n",
        "print(\"Confusion Matrix-KNN TRAIN: \")\n",
        "print(confusion_matrix(y_train, train_pred_mlp))\n",
        "\n",
        "print('\\nModel Sonuçları\\n')\n",
        "print(classification_report(y_train, train_pred_mlp))\n",
        "\n",
        "print(\"-\"*40)\n",
        "\n",
        "test_pred_mlp = mlp.predict(X_test)\n",
        "print('Test Accuracy  : %.3f%% ' % (accuracy_score(y_test, test_pred_mlp)*100))\n",
        "\n",
        "print(\"Confusion Matrix-KNN TEST: \")\n",
        "print(confusion_matrix(y_test, test_pred_mlp))\n",
        "\n",
        "print('\\nModel Sonuçları\\n')\n",
        "print(classification_report(y_test, test_pred_mlp))"
      ],
      "metadata": {
        "execution": {
          "iopub.status.busy": "2021-12-17T01:22:07.281838Z",
          "iopub.execute_input": "2021-12-17T01:22:07.282332Z",
          "iopub.status.idle": "2021-12-17T01:22:07.293382Z",
          "shell.execute_reply.started": "2021-12-17T01:22:07.28229Z",
          "shell.execute_reply": "2021-12-17T01:22:07.292454Z"
        },
        "trusted": true,
        "id": "gsjT9SMSUZ4n",
        "colab": {
          "base_uri": "https://localhost:8080/"
        },
        "outputId": "58f9e0e1-1a18-4c7c-8891-5561c21a7aa4"
      },
      "execution_count": 354,
      "outputs": [
        {
          "output_type": "stream",
          "name": "stdout",
          "text": [
            "Train Accuracy : 91.537% \n",
            "Confusion Matrix-KNN TRAIN: \n",
            "[[354  23]\n",
            " [ 26 176]]\n",
            "\n",
            "Model Sonuçları\n",
            "\n",
            "              precision    recall  f1-score   support\n",
            "\n",
            "           0       0.93      0.94      0.94       377\n",
            "           1       0.88      0.87      0.88       202\n",
            "\n",
            "    accuracy                           0.92       579\n",
            "   macro avg       0.91      0.91      0.91       579\n",
            "weighted avg       0.92      0.92      0.92       579\n",
            "\n",
            "----------------------------------------\n",
            "Test Accuracy  : 71.724% \n",
            "Confusion Matrix-KNN TEST: \n",
            "[[79 19]\n",
            " [22 25]]\n",
            "\n",
            "Model Sonuçları\n",
            "\n",
            "              precision    recall  f1-score   support\n",
            "\n",
            "           0       0.78      0.81      0.79        98\n",
            "           1       0.57      0.53      0.55        47\n",
            "\n",
            "    accuracy                           0.72       145\n",
            "   macro avg       0.68      0.67      0.67       145\n",
            "weighted avg       0.71      0.72      0.71       145\n",
            "\n"
          ]
        },
        {
          "output_type": "stream",
          "name": "stderr",
          "text": [
            "/usr/local/lib/python3.7/dist-packages/sklearn/neural_network/_multilayer_perceptron.py:696: ConvergenceWarning: Stochastic Optimizer: Maximum iterations (1000) reached and the optimization hasn't converged yet.\n",
            "  ConvergenceWarning,\n"
          ]
        }
      ]
    },
    {
      "cell_type": "code",
      "source": [
        "fpr , tpr , thresolds = metrics.roc_curve(y_test,test_pred_mlp)\n",
        "roc_auc = metrics.auc(fpr , tpr)\n",
        "plt.plot(fpr , tpr ,'b' ,label = 'AUC =0.2f' %roc_auc)\n",
        "roc_auc"
      ],
      "metadata": {
        "id": "YH9gb8yqeH1S",
        "colab": {
          "base_uri": "https://localhost:8080/",
          "height": 282
        },
        "outputId": "52998c23-160c-457d-8e10-5cea485d8a19"
      },
      "execution_count": 355,
      "outputs": [
        {
          "output_type": "execute_result",
          "data": {
            "text/plain": [
              "0.6690186712983065"
            ]
          },
          "metadata": {},
          "execution_count": 355
        },
        {
          "output_type": "display_data",
          "data": {
            "image/png": "[encoded data removed]",
            "text/plain": [
              "<Figure size 432x288 with 1 Axes>"
            ]
          },
          "metadata": {
            "needs_background": "light"
          }
        }
      ]
    },
    {
      "cell_type": "markdown",
      "source": [
        "\n",
        "\n",
        "---\n",
        "Hiperparametre ile MLP\n",
        "\n",
        "---\n",
        "\n",
        "\n",
        "\n"
      ],
      "metadata": {
        "id": "NbgOqq4Pfs7a"
      }
    },
    {
      "cell_type": "code",
      "source": [
        "mlp_gs = MLPClassifier(max_iter=1000)\n",
        "parameter_space = {\n",
        "    'max_iter': [100],   #100-300 aralığı denendi \n",
        "    'hidden_layer_sizes': [(10,30,10)], # C = [(10,30,10),(20,)] aralığında denendi\n",
        "    'activation': ['tanh'], #\"tanh\" ve \"relu\" denendi\n",
        "    'solver': ['adam'],  #\"sgd\" ve \"adam\" denendi\n",
        "    'alpha': [0.25],    #-1-1  aralığı denendi\n",
        "    'learning_rate': ['adaptive'], #\"constant\" ve \"adaptive\" denendi\n",
        "}\n",
        "clf = GridSearchCV(mlp_gs, parameter_space, n_jobs=5, cv=5)\n",
        "\n",
        "#Train Sınıflandırma raporunu yazdırmak\n",
        "clf.fit(X_train,y_train) \n",
        "clf_pre = clf.predict(X_train)\n",
        "print(classification_report(y_train , clf_pre))\n",
        "print(\"Training Skoru:\",accuracy_score(y_train , clf_pre))\n",
        "\n",
        "#Test Sınıflandırma raporunu yazdırmak\n",
        "clf.fit(X_test,y_test) \n",
        "clf_pre = clf.predict(X_test)\n",
        "print(classification_report(y_test , clf_pre))\n",
        "print(\"Test Skoru:\",accuracy_score(y_test , clf_pre))"
      ],
      "metadata": {
        "id": "cBt-tmA-veam",
        "colab": {
          "base_uri": "https://localhost:8080/"
        },
        "outputId": "a7d5a1d0-de39-4bd8-b793-915cb5b366ee"
      },
      "execution_count": 356,
      "outputs": [
        {
          "output_type": "stream",
          "name": "stderr",
          "text": [
            "/usr/local/lib/python3.7/dist-packages/sklearn/neural_network/_multilayer_perceptron.py:696: ConvergenceWarning: Stochastic Optimizer: Maximum iterations (100) reached and the optimization hasn't converged yet.\n",
            "  ConvergenceWarning,\n"
          ]
        },
        {
          "output_type": "stream",
          "name": "stdout",
          "text": [
            "              precision    recall  f1-score   support\n",
            "\n",
            "           0       0.82      0.88      0.85       377\n",
            "           1       0.74      0.64      0.69       202\n",
            "\n",
            "    accuracy                           0.80       579\n",
            "   macro avg       0.78      0.76      0.77       579\n",
            "weighted avg       0.79      0.80      0.79       579\n",
            "\n",
            "Training Skoru: 0.7962003454231433\n",
            "              precision    recall  f1-score   support\n",
            "\n",
            "           0       0.79      0.87      0.83        98\n",
            "           1       0.65      0.51      0.57        47\n",
            "\n",
            "    accuracy                           0.75       145\n",
            "   macro avg       0.72      0.69      0.70       145\n",
            "weighted avg       0.74      0.75      0.74       145\n",
            "\n",
            "Test Skoru: 0.7517241379310344\n"
          ]
        },
        {
          "output_type": "stream",
          "name": "stderr",
          "text": [
            "/usr/local/lib/python3.7/dist-packages/sklearn/neural_network/_multilayer_perceptron.py:696: ConvergenceWarning: Stochastic Optimizer: Maximum iterations (100) reached and the optimization hasn't converged yet.\n",
            "  ConvergenceWarning,\n"
          ]
        }
      ]
    },
    {
      "cell_type": "code",
      "source": [
        "grid_predictions = mlp.predict(X_test)\n",
        "\n",
        "print(classification_report(y_test, grid_predictions))"
      ],
      "metadata": {
        "id": "zULZ9hQsv5zb",
        "colab": {
          "base_uri": "https://localhost:8080/"
        },
        "outputId": "282c1930-62e1-476b-db38-f8aa91d42563"
      },
      "execution_count": 357,
      "outputs": [
        {
          "output_type": "stream",
          "name": "stdout",
          "text": [
            "              precision    recall  f1-score   support\n",
            "\n",
            "           0       0.78      0.81      0.79        98\n",
            "           1       0.57      0.53      0.55        47\n",
            "\n",
            "    accuracy                           0.72       145\n",
            "   macro avg       0.68      0.67      0.67       145\n",
            "weighted avg       0.71      0.72      0.71       145\n",
            "\n"
          ]
        }
      ]
    },
    {
      "cell_type": "markdown",
      "source": [
        "Hiperparametre ile Grafik"
      ],
      "metadata": {
        "id": "c6WNz4ZHqi1i"
      }
    },
    {
      "cell_type": "code",
      "source": [
        "plot_roc_curve(clf, X_test, y_test)"
      ],
      "metadata": {
        "id": "UMk5CXNqn0UL",
        "colab": {
          "base_uri": "https://localhost:8080/",
          "height": 351
        },
        "outputId": "32a04be0-29cb-4dde-b85a-00c498f57876"
      },
      "execution_count": 358,
      "outputs": [
        {
          "output_type": "stream",
          "name": "stderr",
          "text": [
            "/usr/local/lib/python3.7/dist-packages/sklearn/utils/deprecation.py:87: FutureWarning: Function plot_roc_curve is deprecated; Function :func:`plot_roc_curve` is deprecated in 1.0 and will be removed in 1.2. Use one of the class methods: :meth:`sklearn.metric.RocCurveDisplay.from_predictions` or :meth:`sklearn.metric.RocCurveDisplay.from_estimator`.\n",
            "  warnings.warn(msg, category=FutureWarning)\n"
          ]
        },
        {
          "output_type": "execute_result",
          "data": {
            "text/plain": [
              "<sklearn.metrics._plot.roc_curve.RocCurveDisplay at 0x7f8dd88ee5d0>"
            ]
          },
          "metadata": {},
          "execution_count": 358
        },
        {
          "output_type": "display_data",
          "data": {
            "image/png": "[encoded data removed]",
            "text/plain": [
              "<Figure size 432x288 with 1 Axes>"
            ]
          },
          "metadata": {
            "needs_background": "light"
          }
        }
      ]
    },
    {
      "cell_type": "markdown",
      "source": [
        "\n",
        "\n",
        "---\n",
        "\n",
        "\n",
        "\n",
        "#**RANDOM FOREST**\n",
        "\n",
        "\n",
        "\n",
        "---\n",
        "\n"
      ],
      "metadata": {
        "id": "NFUSke43Zb9I"
      }
    },
    {
      "cell_type": "code",
      "source": [
        "from sklearn.ensemble import RandomForestClassifier as randomForest\n",
        "from sklearn.model_selection import KFold, train_test_split, cross_val_predict, cross_val_score\n",
        "from sklearn import metrics\n"
      ],
      "metadata": {
        "trusted": true,
        "id": "PYw0i2dZUZ4o"
      },
      "execution_count": 359,
      "outputs": []
    },
    {
      "cell_type": "code",
      "source": [
        "randomForest = randomForest()\n",
        "randomForest.fit(X_train,y_train)\n",
        "\n",
        "train_pred_randomForest = randomForest.predict(X_train)\n",
        "print('Train Accuracy : %.3f%% ' % (accuracy_score(y_train , train_pred_randomForest)*100))\n",
        "print(\"Confusion Matrix-randomForest-Train: \")\n",
        "print(confusion_matrix(y_train, train_pred_randomForest))\n",
        "\n",
        "print('\\nModel Sonuçları\\n')\n",
        "print(classification_report(y_train, train_pred_randomForest))\n",
        "\n",
        "print(\"-\"*40)\n",
        "\n",
        "test_pred_randomForest = randomForest.predict(X_test)\n",
        "print('Test Accuracy  : %.3f%% ' % (accuracy_score(y_test, test_pred_randomForest)*100))\n",
        "\n",
        "print(\"Confusion Matrix-randomForest-Test: \")\n",
        "print(confusion_matrix(y_test, test_pred_randomForest))\n",
        "\n",
        "print('\\nModel Sonuçları\\n')\n",
        "print(classification_report(y_test, test_pred_randomForest))"
      ],
      "metadata": {
        "id": "e72dnLPmXt17",
        "colab": {
          "base_uri": "https://localhost:8080/"
        },
        "outputId": "0e0d2c3e-dff6-4ef2-f8bc-d12ff91d634e"
      },
      "execution_count": 360,
      "outputs": [
        {
          "output_type": "stream",
          "name": "stdout",
          "text": [
            "Train Accuracy : 100.000% \n",
            "Confusion Matrix-randomForest-Train: \n",
            "[[377   0]\n",
            " [  0 202]]\n",
            "\n",
            "Model Sonuçları\n",
            "\n",
            "              precision    recall  f1-score   support\n",
            "\n",
            "           0       1.00      1.00      1.00       377\n",
            "           1       1.00      1.00      1.00       202\n",
            "\n",
            "    accuracy                           1.00       579\n",
            "   macro avg       1.00      1.00      1.00       579\n",
            "weighted avg       1.00      1.00      1.00       579\n",
            "\n",
            "----------------------------------------\n",
            "Test Accuracy  : 76.552% \n",
            "Confusion Matrix-randomForest-Test: \n",
            "[[86 12]\n",
            " [22 25]]\n",
            "\n",
            "Model Sonuçları\n",
            "\n",
            "              precision    recall  f1-score   support\n",
            "\n",
            "           0       0.80      0.88      0.83        98\n",
            "           1       0.68      0.53      0.60        47\n",
            "\n",
            "    accuracy                           0.77       145\n",
            "   macro avg       0.74      0.70      0.72       145\n",
            "weighted avg       0.76      0.77      0.76       145\n",
            "\n"
          ]
        }
      ]
    },
    {
      "cell_type": "code",
      "source": [
        "fpr , tpr , thresolds = metrics.roc_curve(y_train, train_pred_randomForest)\n",
        "roc_auc = metrics.auc(fpr , tpr)\n",
        "plt.plot(fpr , tpr ,'b' ,label = 'AUC =0.2f' %roc_auc)\n",
        "roc_auc"
      ],
      "metadata": {
        "id": "f6aU2043RR9y",
        "colab": {
          "base_uri": "https://localhost:8080/",
          "height": 282
        },
        "outputId": "d3c8af7b-2d55-4aef-9f44-c6ff44fee0ec"
      },
      "execution_count": 361,
      "outputs": [
        {
          "output_type": "execute_result",
          "data": {
            "text/plain": [
              "1.0"
            ]
          },
          "metadata": {},
          "execution_count": 361
        },
        {
          "output_type": "display_data",
          "data": {
            "image/png": "[encoded data removed]",
            "text/plain": [
              "<Figure size 432x288 with 1 Axes>"
            ]
          },
          "metadata": {
            "needs_background": "light"
          }
        }
      ]
    },
    {
      "cell_type": "code",
      "source": [
        "fpr , tpr , thresolds = metrics.roc_curve(y_test, test_pred_randomForest)\n",
        "roc_auc = metrics.auc(fpr , tpr)\n",
        "plt.plot(fpr , tpr ,'b' ,label = 'AUC =0.2f' %roc_auc)\n",
        "roc_auc"
      ],
      "metadata": {
        "id": "6ExE6s4qXzHt",
        "colab": {
          "base_uri": "https://localhost:8080/",
          "height": 282
        },
        "outputId": "0eae478c-d390-4bd4-d679-27e940b28164"
      },
      "execution_count": 362,
      "outputs": [
        {
          "output_type": "execute_result",
          "data": {
            "text/plain": [
              "0.7047329570125923"
            ]
          },
          "metadata": {},
          "execution_count": 362
        },
        {
          "output_type": "display_data",
          "data": {
            "image/png": "[encoded data removed]",
            "text/plain": [
              "<Figure size 432x288 with 1 Axes>"
            ]
          },
          "metadata": {
            "needs_background": "light"
          }
        }
      ]
    },
    {
      "cell_type": "markdown",
      "source": [
        "\n",
        "\n",
        "---\n",
        "Random Forest Hiperparametre İle\n",
        "\n",
        "\n",
        "---\n",
        "\n",
        "\n"
      ],
      "metadata": {
        "id": "QpCLfMtEb-pz"
      }
    },
    {
      "cell_type": "code",
      "source": [
        "rf_params = {\n",
        "            'max_depth': [None], # Depth aralığı None-50 arası denendi. \n",
        "            'min_samples_leaf': [1],  # 1-10 aralığı denendi\n",
        "            'min_samples_split': [2], # 1-10 aralığı denendi  \n",
        "            'n_estimators': [2000] # 10-2000 aralığı denendi\n",
        "             }\n",
        "\n",
        "cv_rf = GridSearchCV(randomForest,rf_params,cv=5,verbose=False,n_jobs=-1).fit(X_test,y_test)\n",
        "\n",
        "#Train Sınıflandırma raporunu yazdırmak\n",
        "cv_rf.fit(X_train,y_train) \n",
        "cv_rf_pre = cv_rf.predict(X_train)\n",
        "print(classification_report(y_train , cv_rf_pre))\n",
        "print(\"Training Skoru:\",accuracy_score(y_train , cv_rf_pre))\n",
        "\n",
        "#Test Sınıflandırma raporunu yazdırmak\n",
        "cv_rf.fit(X_test,y_test) \n",
        "cv_rf_pre = cv_rf.predict(X_test)\n",
        "print(classification_report(y_test , cv_rf_pre))\n",
        "print(\"Test Skoru:\",accuracy_score(y_test , cv_rf_pre))"
      ],
      "metadata": {
        "id": "Topg13jecFKR",
        "colab": {
          "base_uri": "https://localhost:8080/"
        },
        "outputId": "09f2817c-c854-471d-a547-9f01ddfa3675"
      },
      "execution_count": 363,
      "outputs": [
        {
          "output_type": "stream",
          "name": "stdout",
          "text": [
            "              precision    recall  f1-score   support\n",
            "\n",
            "           0       1.00      1.00      1.00       377\n",
            "           1       1.00      1.00      1.00       202\n",
            "\n",
            "    accuracy                           1.00       579\n",
            "   macro avg       1.00      1.00      1.00       579\n",
            "weighted avg       1.00      1.00      1.00       579\n",
            "\n",
            "Training Skoru: 1.0\n",
            "              precision    recall  f1-score   support\n",
            "\n",
            "           0       1.00      1.00      1.00        98\n",
            "           1       1.00      1.00      1.00        47\n",
            "\n",
            "    accuracy                           1.00       145\n",
            "   macro avg       1.00      1.00      1.00       145\n",
            "weighted avg       1.00      1.00      1.00       145\n",
            "\n",
            "Test Skoru: 1.0\n"
          ]
        }
      ]
    },
    {
      "cell_type": "code",
      "source": [
        "plot_roc_curve(cv_rf, X_test, y_test)"
      ],
      "metadata": {
        "id": "MmfdVx9OndSd",
        "colab": {
          "base_uri": "https://localhost:8080/",
          "height": 351
        },
        "outputId": "c5d2f598-97b0-4ccf-9e45-b2f05859d2c1"
      },
      "execution_count": 364,
      "outputs": [
        {
          "output_type": "stream",
          "name": "stderr",
          "text": [
            "/usr/local/lib/python3.7/dist-packages/sklearn/utils/deprecation.py:87: FutureWarning: Function plot_roc_curve is deprecated; Function :func:`plot_roc_curve` is deprecated in 1.0 and will be removed in 1.2. Use one of the class methods: :meth:`sklearn.metric.RocCurveDisplay.from_predictions` or :meth:`sklearn.metric.RocCurveDisplay.from_estimator`.\n",
            "  warnings.warn(msg, category=FutureWarning)\n"
          ]
        },
        {
          "output_type": "execute_result",
          "data": {
            "text/plain": [
              "<sklearn.metrics._plot.roc_curve.RocCurveDisplay at 0x7f8dd9345950>"
            ]
          },
          "metadata": {},
          "execution_count": 364
        },
        {
          "output_type": "display_data",
          "data": {
            "image/png": "[encoded data removed]",
            "text/plain": [
              "<Figure size 432x288 with 1 Axes>"
            ]
          },
          "metadata": {
            "needs_background": "light"
          }
        }
      ]
    },
    {
      "cell_type": "markdown",
      "source": [
        "\n",
        "\n",
        "---\n",
        "\n",
        "\n",
        "\n",
        "#**GRADIENT BOOSTING**\n",
        "\n",
        "\n",
        "\n",
        "---\n",
        "\n"
      ],
      "metadata": {
        "id": "1LV0g18YZmZ5"
      }
    },
    {
      "cell_type": "code",
      "source": [
        "from sklearn.ensemble import GradientBoostingClassifier  as gradientBoosting"
      ],
      "metadata": {
        "id": "mNuHZk1aH0rw"
      },
      "execution_count": 365,
      "outputs": []
    },
    {
      "cell_type": "code",
      "source": [
        "gradientBoosting = gradientBoosting()\n",
        "gradientBoosting.fit(X_train, y_train)\n",
        "\n",
        "train_pred_gradientBoosting = gradientBoosting.predict(X_train)\n",
        "print('Train Accuracy : %.3f%% ' % (accuracy_score(y_train , train_pred_gradientBoosting)*100))\n",
        "\n",
        "print(\"Confusion Matrix-gradientBoosting-Train: \")\n",
        "print(confusion_matrix(y_train, train_pred_gradientBoosting))\n",
        "\n",
        "print('\\nModel Sonuçları\\n')\n",
        "print(classification_report(y_train, train_pred_gradientBoosting))\n",
        "\n",
        "print(\"-\"*40)\n",
        "\n",
        "test_pred_gradientBoosting = gradientBoosting.predict(X_test)\n",
        "print('Test Accuracy  : %.3f%% ' % (accuracy_score(y_test, test_pred_gradientBoosting)*100))\n",
        "\n",
        "print(\"Confusion Matrix-gradientBoosting-Test: \")\n",
        "print(confusion_matrix(y_test, test_pred_gradientBoosting))\n",
        "\n",
        "print('\\nModel Sonuçları\\n')\n",
        "print(classification_report(y_test, test_pred_gradientBoosting))"
      ],
      "metadata": {
        "id": "SXrdrBOGX06v",
        "colab": {
          "base_uri": "https://localhost:8080/"
        },
        "outputId": "fe8a977a-8705-49fb-93d9-4b8fe41507c3"
      },
      "execution_count": 366,
      "outputs": [
        {
          "output_type": "stream",
          "name": "stdout",
          "text": [
            "Train Accuracy : 93.264% \n",
            "Confusion Matrix-gradientBoosting-Train: \n",
            "[[369   8]\n",
            " [ 31 171]]\n",
            "\n",
            "Model Sonuçları\n",
            "\n",
            "              precision    recall  f1-score   support\n",
            "\n",
            "           0       0.92      0.98      0.95       377\n",
            "           1       0.96      0.85      0.90       202\n",
            "\n",
            "    accuracy                           0.93       579\n",
            "   macro avg       0.94      0.91      0.92       579\n",
            "weighted avg       0.93      0.93      0.93       579\n",
            "\n",
            "----------------------------------------\n",
            "Test Accuracy  : 73.793% \n",
            "Confusion Matrix-gradientBoosting-Test: \n",
            "[[82 16]\n",
            " [22 25]]\n",
            "\n",
            "Model Sonuçları\n",
            "\n",
            "              precision    recall  f1-score   support\n",
            "\n",
            "           0       0.79      0.84      0.81        98\n",
            "           1       0.61      0.53      0.57        47\n",
            "\n",
            "    accuracy                           0.74       145\n",
            "   macro avg       0.70      0.68      0.69       145\n",
            "weighted avg       0.73      0.74      0.73       145\n",
            "\n"
          ]
        }
      ]
    },
    {
      "cell_type": "code",
      "source": [
        "from sklearn.ensemble import GradientBoostingClassifier  as gradientBoosting"
      ],
      "metadata": {
        "id": "91-gBr20IdHm"
      },
      "execution_count": 367,
      "outputs": []
    },
    {
      "cell_type": "code",
      "source": [
        "clf = make_pipeline(StandardScaler(), gradientBoosting())\n",
        "clf.fit(X_train,y_train)\n",
        "y_score = clf.decision_function(X_train)\n",
        "\n",
        "fpr, tpr, _ = roc_curve(y_train, y_score, pos_label=clf.classes_[1])\n",
        "roc_display = RocCurveDisplay(fpr=fpr, tpr=tpr).plot()"
      ],
      "metadata": {
        "id": "q0jmqHBMbE1w",
        "colab": {
          "base_uri": "https://localhost:8080/",
          "height": 279
        },
        "outputId": "5494260e-b729-4bdf-c9ce-14a9d3d8e7b6"
      },
      "execution_count": 368,
      "outputs": [
        {
          "output_type": "display_data",
          "data": {
            "image/png": "[encoded data removed]",
            "text/plain": [
              "<Figure size 432x288 with 1 Axes>"
            ]
          },
          "metadata": {
            "needs_background": "light"
          }
        }
      ]
    },
    {
      "cell_type": "code",
      "source": [
        "clf = make_pipeline(StandardScaler(), gradientBoosting())\n",
        "clf.fit(X_train,y_train)\n",
        "y_score = clf.decision_function(X_test)\n",
        "\n",
        "fpr, tpr, _ = roc_curve(y_test, y_score, pos_label=clf.classes_[1])\n",
        "roc_display = RocCurveDisplay(fpr=fpr, tpr=tpr).plot()"
      ],
      "metadata": {
        "id": "RaXnCDOubHcy",
        "colab": {
          "base_uri": "https://localhost:8080/",
          "height": 279
        },
        "outputId": "2d5eb699-9ddc-4c2b-9a5f-98e5dc87266e"
      },
      "execution_count": 369,
      "outputs": [
        {
          "output_type": "display_data",
          "data": {
            "image/png": "[encoded data removed]",
            "text/plain": [
              "<Figure size 432x288 with 1 Axes>"
            ]
          },
          "metadata": {
            "needs_background": "light"
          }
        }
      ]
    },
    {
      "cell_type": "markdown",
      "source": [
        "\n",
        "\n",
        "---\n",
        "Gradient Boosting Hiperparametre İle\n",
        "\n",
        "\n",
        "---\n",
        "\n",
        "\n"
      ],
      "metadata": {
        "id": "qI3YS6eDHFzf"
      }
    },
    {
      "cell_type": "code",
      "source": [
        "from sklearn.ensemble import GradientBoostingClassifier  as gradientBoosting\n",
        "\n",
        "\n",
        "param    = {\n",
        "              \"criterion\": [\"friedman_mse\"], # \"friedman_mse\"ve\"squared_error\" denendi\n",
        "              \"loss\":[\"exponential\"], # \"deviance\"ve\"exponential\",\"squared_error\" denendi\n",
        "              \"max_features\":[\"log2\"], # \"log2\" ve \"sqrt\" denendi\n",
        "              'learning_rate': [1],   # 0.01-1 aralığı denendi\n",
        "              'max_depth': [3], # 1-8 aralığı denendi\n",
        "              'min_samples_leaf': [4], # [4,5,6] denendi\n",
        "              'subsample': [0.8], # [0.6,0.7,0.8,0.9,1] denendi\n",
        "              'n_estimators': [5], # 5-20 aralığı denendi\n",
        "              \n",
        "            }\n",
        "    \n",
        "model_gboosting = gradientBoosting()\n",
        "grid_gb  = GridSearchCV(model_gboosting , param , verbose=1)\n",
        "\n",
        "#Train Sınıflandırma raporunu yazdırmak\n",
        "grid_gb.fit(X_train,y_train) \n",
        "grid_gb_pre = grid_gb.predict(X_train)\n",
        "print(classification_report(y_train , grid_gb_pre))\n",
        "print(\"Training Skoru:\",accuracy_score(y_train , grid_gb_pre))\n",
        "\n",
        "#Test Sınıflandırma raporunu yazdırmak\n",
        "grid_gb.fit(X_test,y_test) \n",
        "grid_gb_pre = grid_gb.predict(X_test)\n",
        "print(classification_report(y_test , grid_gb_pre))\n",
        "print(\"Test Skoru:\",accuracy_score(y_test , grid_gb_pre))"
      ],
      "metadata": {
        "id": "ZYz1jO0uHFVn",
        "colab": {
          "base_uri": "https://localhost:8080/"
        },
        "outputId": "4b9fc883-9dbf-4e5e-f499-a4ac2caddab9"
      },
      "execution_count": 370,
      "outputs": [
        {
          "output_type": "stream",
          "name": "stdout",
          "text": [
            "Fitting 5 folds for each of 1 candidates, totalling 5 fits\n",
            "              precision    recall  f1-score   support\n",
            "\n",
            "           0       0.84      0.90      0.87       377\n",
            "           1       0.79      0.69      0.73       202\n",
            "\n",
            "    accuracy                           0.83       579\n",
            "   macro avg       0.81      0.79      0.80       579\n",
            "weighted avg       0.82      0.83      0.82       579\n",
            "\n",
            "Training Skoru: 0.8255613126079447\n",
            "Fitting 5 folds for each of 1 candidates, totalling 5 fits\n",
            "              precision    recall  f1-score   support\n",
            "\n",
            "           0       0.90      0.96      0.93        98\n",
            "           1       0.90      0.77      0.83        47\n",
            "\n",
            "    accuracy                           0.90       145\n",
            "   macro avg       0.90      0.86      0.88       145\n",
            "weighted avg       0.90      0.90      0.89       145\n",
            "\n",
            "Test Skoru: 0.896551724137931\n"
          ]
        }
      ]
    },
    {
      "cell_type": "markdown",
      "source": [
        "\n",
        "\n",
        "---\n",
        "\n",
        "\n",
        "\n",
        "#**XG BOOST**\n",
        "\n",
        "\n",
        "\n",
        "---\n",
        "\n"
      ],
      "metadata": {
        "id": "GOD1GU4nZsZw"
      }
    },
    {
      "cell_type": "code",
      "source": [
        "import xgboost as xgb\n",
        "from xgboost import XGBClassifier as xgBoost\n"
      ],
      "metadata": {
        "id": "R3bMPYxTX_Pv"
      },
      "execution_count": 371,
      "outputs": []
    },
    {
      "cell_type": "code",
      "source": [
        "xgBoost = xgBoost(use_label_encoder=False,eval_metric = 'error')\n",
        "\n",
        "xgBoost.fit(X_train, y_train)\n",
        "\n",
        "train_pred_xgBoost = xgBoost.predict(X_train)\n",
        "print('Train Accuracy : %.3f%% ' % (accuracy_score(y_train , train_pred_xgBoost)*100))\n",
        "\n",
        "print(\"Confusion Matrix-xgBoost-Train: \")\n",
        "print(confusion_matrix(y_train, train_pred_xgBoost))\n",
        "\n",
        "print('\\nModel Sonuçları\\n')\n",
        "print(classification_report(y_train, train_pred_xgBoost))\n",
        "\n",
        "print(\"-\"*40)\n",
        "\n",
        "test_pred_xgBoost = xgBoost.predict(X_test)\n",
        "print('Test Accuracy  : %.3f%% ' % (accuracy_score(y_test, test_pred_xgBoost)*100))\n",
        "\n",
        "print(\"Confusion Matrix-xgBoost-Test: \")\n",
        "print(confusion_matrix(y_test, test_pred_xgBoost))\n",
        "\n",
        "print('\\nModel Sonuçları\\n')\n",
        "print(classification_report(y_test, test_pred_xgBoost))"
      ],
      "metadata": {
        "id": "RS4EzXZUX99Y",
        "colab": {
          "base_uri": "https://localhost:8080/"
        },
        "outputId": "cf3d64b9-d066-4dea-ba81-2bd7c8d3787f"
      },
      "execution_count": 372,
      "outputs": [
        {
          "output_type": "stream",
          "name": "stdout",
          "text": [
            "Train Accuracy : 89.465% \n",
            "Confusion Matrix-xgBoost-Train: \n",
            "[[354  23]\n",
            " [ 38 164]]\n",
            "\n",
            "Model Sonuçları\n",
            "\n",
            "              precision    recall  f1-score   support\n",
            "\n",
            "           0       0.90      0.94      0.92       377\n",
            "           1       0.88      0.81      0.84       202\n",
            "\n",
            "    accuracy                           0.89       579\n",
            "   macro avg       0.89      0.88      0.88       579\n",
            "weighted avg       0.89      0.89      0.89       579\n",
            "\n",
            "----------------------------------------\n",
            "Test Accuracy  : 73.793% \n",
            "Confusion Matrix-xgBoost-Test: \n",
            "[[81 17]\n",
            " [21 26]]\n",
            "\n",
            "Model Sonuçları\n",
            "\n",
            "              precision    recall  f1-score   support\n",
            "\n",
            "           0       0.79      0.83      0.81        98\n",
            "           1       0.60      0.55      0.58        47\n",
            "\n",
            "    accuracy                           0.74       145\n",
            "   macro avg       0.70      0.69      0.69       145\n",
            "weighted avg       0.73      0.74      0.73       145\n",
            "\n"
          ]
        }
      ]
    },
    {
      "cell_type": "code",
      "source": [
        "fpr , tpr , thresolds = metrics.roc_curve(y_train, train_pred_xgBoost)\n",
        "roc_auc = metrics.auc(fpr , tpr)\n",
        "plt.plot(fpr , tpr ,'b' ,label = 'AUC =0.2f' %roc_auc)\n",
        "roc_auc"
      ],
      "metadata": {
        "id": "ZCu0G-nMbcN7",
        "colab": {
          "base_uri": "https://localhost:8080/",
          "height": 282
        },
        "outputId": "13f38659-5f1d-4819-ff22-da2b9993781a"
      },
      "execution_count": 373,
      "outputs": [
        {
          "output_type": "execute_result",
          "data": {
            "text/plain": [
              "0.8754366152795651"
            ]
          },
          "metadata": {},
          "execution_count": 373
        },
        {
          "output_type": "display_data",
          "data": {
            "image/png": "[encoded data removed]",
            "text/plain": [
              "<Figure size 432x288 with 1 Axes>"
            ]
          },
          "metadata": {
            "needs_background": "light"
          }
        }
      ]
    },
    {
      "cell_type": "code",
      "source": [
        "fpr , tpr , thresolds = metrics.roc_curve(y_test, test_pred_xgBoost)\n",
        "roc_auc = metrics.auc(fpr , tpr)\n",
        "plt.plot(fpr , tpr ,'b' ,label = 'AUC =0.2f' %roc_auc)\n",
        "roc_auc"
      ],
      "metadata": {
        "id": "hpXjLKSxbd7p",
        "colab": {
          "base_uri": "https://localhost:8080/",
          "height": 282
        },
        "outputId": "4d7a1df5-da9c-4727-90a7-df304eb5039e"
      },
      "execution_count": 374,
      "outputs": [
        {
          "output_type": "execute_result",
          "data": {
            "text/plain": [
              "0.6898610508033001"
            ]
          },
          "metadata": {},
          "execution_count": 374
        },
        {
          "output_type": "display_data",
          "data": {
            "image/png": "[encoded data removed]",
            "text/plain": [
              "<Figure size 432x288 with 1 Axes>"
            ]
          },
          "metadata": {
            "needs_background": "light"
          }
        }
      ]
    },
    {
      "cell_type": "markdown",
      "source": [
        "\n",
        "\n",
        "---\n",
        "XGBoost Hiperparametreler İle\n",
        "\n",
        "\n",
        "---\n",
        "\n",
        "\n"
      ],
      "metadata": {
        "id": "W5H1iRk_q7px"
      }
    },
    {
      "cell_type": "code",
      "source": [
        "from xgboost import XGBClassifier\n",
        "model_xgb   = XGBClassifier(seed=None)\n",
        "parameters  = {\n",
        "                \"max_depth\": [6], #1-100 aralığı denendi\n",
        "                \"n_estimators\": [180], # 1-220 aralığı denendi\n",
        "                \"learning_rate\": [0.01]  # 0.01-0.05 aralığı denendi\n",
        "                }\n",
        "\n",
        "grid_xgb   = GridSearchCV (model_xgb , parameters, verbose=1) \n",
        "\n",
        "#Train Sınıflandırma raporunu yazdırmak\n",
        "grid_xgb.fit(X_train,y_train) \n",
        "grid_xgb_pre = grid_xgb.predict(X_train)\n",
        "print(classification_report(y_train , grid_xgb_pre))\n",
        "print(\"Training Skoru:\",accuracy_score(y_train , grid_xgb_pre))\n",
        "\n",
        "#Test Sınıflandırma raporunu yazdırmak\n",
        "grid_xgb.fit(X_test,y_test) \n",
        "grid_xgb_pre = grid_xgb.predict(X_test)\n",
        "print(classification_report(y_test , grid_xgb_pre))\n",
        "print(\"Test Skoru:\",accuracy_score(y_test , grid_xgb_pre))"
      ],
      "metadata": {
        "id": "E95rR4dDrCcu",
        "colab": {
          "base_uri": "https://localhost:8080/"
        },
        "outputId": "83dfb050-7bfc-4780-e49c-057b7af59322"
      },
      "execution_count": 375,
      "outputs": [
        {
          "output_type": "stream",
          "name": "stdout",
          "text": [
            "Fitting 5 folds for each of 1 candidates, totalling 5 fits\n",
            "              precision    recall  f1-score   support\n",
            "\n",
            "           0       0.93      0.96      0.95       377\n",
            "           1       0.93      0.86      0.89       202\n",
            "\n",
            "    accuracy                           0.93       579\n",
            "   macro avg       0.93      0.91      0.92       579\n",
            "weighted avg       0.93      0.93      0.93       579\n",
            "\n",
            "Training Skoru: 0.927461139896373\n",
            "Fitting 5 folds for each of 1 candidates, totalling 5 fits\n",
            "              precision    recall  f1-score   support\n",
            "\n",
            "           0       0.99      0.97      0.98        98\n",
            "           1       0.94      0.98      0.96        47\n",
            "\n",
            "    accuracy                           0.97       145\n",
            "   macro avg       0.96      0.97      0.97       145\n",
            "weighted avg       0.97      0.97      0.97       145\n",
            "\n",
            "Test Skoru: 0.9724137931034482\n"
          ]
        }
      ]
    },
    {
      "cell_type": "code",
      "source": [
        "plot_roc_curve(grid_xgb, X_test, y_test)"
      ],
      "metadata": {
        "colab": {
          "base_uri": "https://localhost:8080/",
          "height": 351
        },
        "id": "mS4F-iryT_E_",
        "outputId": "5fa2c6d0-cfd0-4718-e337-657d2e0cad6e"
      },
      "execution_count": 376,
      "outputs": [
        {
          "output_type": "stream",
          "name": "stderr",
          "text": [
            "/usr/local/lib/python3.7/dist-packages/sklearn/utils/deprecation.py:87: FutureWarning: Function plot_roc_curve is deprecated; Function :func:`plot_roc_curve` is deprecated in 1.0 and will be removed in 1.2. Use one of the class methods: :meth:`sklearn.metric.RocCurveDisplay.from_predictions` or :meth:`sklearn.metric.RocCurveDisplay.from_estimator`.\n",
            "  warnings.warn(msg, category=FutureWarning)\n"
          ]
        },
        {
          "output_type": "execute_result",
          "data": {
            "text/plain": [
              "<sklearn.metrics._plot.roc_curve.RocCurveDisplay at 0x7f8dd80e3610>"
            ]
          },
          "metadata": {},
          "execution_count": 376
        },
        {
          "output_type": "display_data",
          "data": {
            "image/png": "[encoded data removed]",
            "text/plain": [
              "<Figure size 432x288 with 1 Axes>"
            ]
          },
          "metadata": {
            "needs_background": "light"
          }
        }
      ]
    }
  ]
}