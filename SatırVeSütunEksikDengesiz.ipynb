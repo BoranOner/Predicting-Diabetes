{
  "nbformat": 4,
  "nbformat_minor": 0,
  "metadata": {
    "colab": {
      "name": "SatırVeSütunEksikDengesiz",
      "provenance": [],
      "collapsed_sections": [],
      "toc_visible": true,
      "authorship_tag": "ABX9TyNrPlXlEggEgONJg9XkNPfT",
      "include_colab_link": true
    },
    "kernelspec": {
      "name": "python3",
      "display_name": "Python 3"
    },
    "language_info": {
      "name": "python"
    }
  },
  "cells": [
    {
      "cell_type": "markdown",
      "metadata": {
        "id": "view-in-github",
        "colab_type": "text"
      },
      "source": [
        "<a href=\"https://colab.research.google.com/github/BoranOner/Predicting-Diabetes/blob/main/Sat%C4%B1rVeS%C3%BCtunEksikDengesiz.ipynb\" target=\"_parent\"><img src=\"https://colab.research.google.com/assets/colab-badge.svg\" alt=\"Open In Colab\"/></a>"
      ]
    },
    {
      "cell_type": "code",
      "source": [
        "# This Python 3 environment comes with many helpful analytics libraries installed\n",
        "# It is defined by the kaggle/python Docker image: https://github.com/kaggle/docker-python\n",
        "# For example, here's several helpful packages to load\n",
        "\n",
        "import numpy as np # linear algebra\n",
        "import pandas as pd # data processing, CSV file I/O (e.g. pd.read_csv)\n",
        "import sklearn.metrics as metrics\n",
        "from sklearn.metrics import RocCurveDisplay\n",
        "from sklearn.pipeline import make_pipeline\n",
        "from sklearn.preprocessing import StandardScaler\n",
        "import matplotlib.pyplot as plt    # visualization library (görselleştirme kütüphanesi)\n",
        "import seaborn as sns         # visualization library (görselleştirme kütüphanesi)\n",
        "import missingno as msno      # visualization library (görselleştirme kütüphanesi)\n",
        " #Hiperparametre için çağırıldı\n",
        "\n",
        "\n",
        "# Input data files are available in the read-only \"../input/\" directory\n",
        "# For example, running this (by clicking run or pressing Shift+Enter) will list all files under the input directory\n",
        "\n",
        "\n",
        "\n",
        "# You can write up to 20GB to the current directory (/kaggle/working/) that gets preserved as output when you create a version using \"Save & Run All\" \n",
        "# You can also write temporary files to /kaggle/temp/, but they won't be saved outside of the current session"
      ],
      "metadata": {
        "_uuid": "8f2839f25d086af736a60e9eeb907d3b93b6e0e5",
        "_cell_guid": "b1076dfc-b9ad-4769-8c92-a6c4dae69d19",
        "execution": {
          "iopub.status.busy": "2021-12-17T01:22:05.149083Z",
          "iopub.execute_input": "2021-12-17T01:22:05.150751Z",
          "iopub.status.idle": "2021-12-17T01:22:05.164091Z",
          "shell.execute_reply.started": "2021-12-17T01:22:05.150676Z",
          "shell.execute_reply": "2021-12-17T01:22:05.163077Z"
        },
        "trusted": true,
        "id": "W5RhnQdSUZ4X"
      },
      "execution_count": 83,
      "outputs": []
    },
    {
      "cell_type": "markdown",
      "source": [
        "#**VERİ GÖRSELLEŞTİRME**"
      ],
      "metadata": {
        "id": "GLtttZSHSvcn"
      }
    },
    {
      "cell_type": "code",
      "source": [
        "dataFrame = pd.read_csv(\"https://raw.githubusercontent.com/BoranOner/Predicting-Diabetes/main/diabetes.csv\" ,encoding = 'unicode_escape')\n",
        "print(dataFrame)"
      ],
      "metadata": {
        "execution": {
          "iopub.status.busy": "2021-12-17T01:22:05.166488Z",
          "iopub.execute_input": "2021-12-17T01:22:05.167595Z",
          "iopub.status.idle": "2021-12-17T01:22:05.189252Z",
          "shell.execute_reply.started": "2021-12-17T01:22:05.167518Z",
          "shell.execute_reply": "2021-12-17T01:22:05.187929Z"
        },
        "trusted": true,
        "colab": {
          "base_uri": "https://localhost:8080/"
        },
        "id": "iVb2Ev9JUZ4Z",
        "outputId": "dffd716d-7e9a-4fe0-9724-584b68eee5f7"
      },
      "execution_count": 84,
      "outputs": [
        {
          "output_type": "stream",
          "name": "stdout",
          "text": [
            "     Pregnancies  Glucose  ...  Age  Outcome\n",
            "0              6      148  ...   50        1\n",
            "1              1       85  ...   31        0\n",
            "2              8      183  ...   32        1\n",
            "3              1       89  ...   21        0\n",
            "4              0      137  ...   33        1\n",
            "..           ...      ...  ...  ...      ...\n",
            "763           10      101  ...   63        0\n",
            "764            2      122  ...   27        0\n",
            "765            5      121  ...   30        0\n",
            "766            1      126  ...   47        1\n",
            "767            1       93  ...   23        0\n",
            "\n",
            "[768 rows x 9 columns]\n"
          ]
        }
      ]
    },
    {
      "cell_type": "code",
      "source": [
        "df1 = dataFrame.copy()\n",
        "df2 = dataFrame.copy()\n",
        "df3 = dataFrame.copy()"
      ],
      "metadata": {
        "execution": {
          "iopub.status.busy": "2021-12-17T01:22:05.191741Z",
          "iopub.execute_input": "2021-12-17T01:22:05.192403Z",
          "iopub.status.idle": "2021-12-17T01:22:05.198031Z",
          "shell.execute_reply.started": "2021-12-17T01:22:05.192361Z",
          "shell.execute_reply": "2021-12-17T01:22:05.196954Z"
        },
        "trusted": true,
        "id": "NxDlZbALUZ4a"
      },
      "execution_count": 85,
      "outputs": []
    },
    {
      "cell_type": "code",
      "source": [
        "df1 = pd.DataFrame(df1)"
      ],
      "metadata": {
        "execution": {
          "iopub.status.busy": "2021-12-17T01:22:05.199636Z",
          "iopub.execute_input": "2021-12-17T01:22:05.200427Z",
          "iopub.status.idle": "2021-12-17T01:22:05.212565Z",
          "shell.execute_reply.started": "2021-12-17T01:22:05.200379Z",
          "shell.execute_reply": "2021-12-17T01:22:05.211435Z"
        },
        "trusted": true,
        "id": "B494WG1hUZ4b"
      },
      "execution_count": 86,
      "outputs": []
    },
    {
      "cell_type": "code",
      "source": [
        "df1.head() "
      ],
      "metadata": {
        "execution": {
          "iopub.status.busy": "2021-12-17T01:22:05.215138Z",
          "iopub.execute_input": "2021-12-17T01:22:05.21571Z",
          "iopub.status.idle": "2021-12-17T01:22:05.237562Z",
          "shell.execute_reply.started": "2021-12-17T01:22:05.215657Z",
          "shell.execute_reply": "2021-12-17T01:22:05.236492Z"
        },
        "trusted": true,
        "colab": {
          "base_uri": "https://localhost:8080/",
          "height": 206
        },
        "id": "O8DwrGuqUZ4b",
        "outputId": "b92a1862-53c9-4acb-e4fa-4d2232c27cd8"
      },
      "execution_count": 87,
      "outputs": [
        {
          "output_type": "execute_result",
          "data": {
            "text/html": [
              "\n",
              "  <div id=\"df-b3b8f6c2-e4a6-43f8-834d-86ad5667f8fb\">\n",
              "    <div class=\"colab-df-container\">\n",
              "      <div>\n",
              "<style scoped>\n",
              "    .dataframe tbody tr th:only-of-type {\n",
              "        vertical-align: middle;\n",
              "    }\n",
              "\n",
              "    .dataframe tbody tr th {\n",
              "        vertical-align: top;\n",
              "    }\n",
              "\n",
              "    .dataframe thead th {\n",
              "        text-align: right;\n",
              "    }\n",
              "</style>\n",
              "<table border=\"1\" class=\"dataframe\">\n",
              "  <thead>\n",
              "    <tr style=\"text-align: right;\">\n",
              "      <th></th>\n",
              "      <th>Pregnancies</th>\n",
              "      <th>Glucose</th>\n",
              "      <th>BloodPressure</th>\n",
              "      <th>SkinThickness</th>\n",
              "      <th>Insulin</th>\n",
              "      <th>BMI</th>\n",
              "      <th>DiabetesPedigreeFunction</th>\n",
              "      <th>Age</th>\n",
              "      <th>Outcome</th>\n",
              "    </tr>\n",
              "  </thead>\n",
              "  <tbody>\n",
              "    <tr>\n",
              "      <th>0</th>\n",
              "      <td>6</td>\n",
              "      <td>148</td>\n",
              "      <td>72</td>\n",
              "      <td>35</td>\n",
              "      <td>0</td>\n",
              "      <td>33.6</td>\n",
              "      <td>0.627</td>\n",
              "      <td>50</td>\n",
              "      <td>1</td>\n",
              "    </tr>\n",
              "    <tr>\n",
              "      <th>1</th>\n",
              "      <td>1</td>\n",
              "      <td>85</td>\n",
              "      <td>66</td>\n",
              "      <td>29</td>\n",
              "      <td>0</td>\n",
              "      <td>26.6</td>\n",
              "      <td>0.351</td>\n",
              "      <td>31</td>\n",
              "      <td>0</td>\n",
              "    </tr>\n",
              "    <tr>\n",
              "      <th>2</th>\n",
              "      <td>8</td>\n",
              "      <td>183</td>\n",
              "      <td>64</td>\n",
              "      <td>0</td>\n",
              "      <td>0</td>\n",
              "      <td>23.3</td>\n",
              "      <td>0.672</td>\n",
              "      <td>32</td>\n",
              "      <td>1</td>\n",
              "    </tr>\n",
              "    <tr>\n",
              "      <th>3</th>\n",
              "      <td>1</td>\n",
              "      <td>89</td>\n",
              "      <td>66</td>\n",
              "      <td>23</td>\n",
              "      <td>94</td>\n",
              "      <td>28.1</td>\n",
              "      <td>0.167</td>\n",
              "      <td>21</td>\n",
              "      <td>0</td>\n",
              "    </tr>\n",
              "    <tr>\n",
              "      <th>4</th>\n",
              "      <td>0</td>\n",
              "      <td>137</td>\n",
              "      <td>40</td>\n",
              "      <td>35</td>\n",
              "      <td>168</td>\n",
              "      <td>43.1</td>\n",
              "      <td>2.288</td>\n",
              "      <td>33</td>\n",
              "      <td>1</td>\n",
              "    </tr>\n",
              "  </tbody>\n",
              "</table>\n",
              "</div>\n",
              "      <button class=\"colab-df-convert\" onclick=\"convertToInteractive('df-b3b8f6c2-e4a6-43f8-834d-86ad5667f8fb')\"\n",
              "              title=\"Convert this dataframe to an interactive table.\"\n",
              "              style=\"display:none;\">\n",
              "        \n",
              "  <svg xmlns=\"http://www.w3.org/2000/svg\" height=\"24px\"viewBox=\"0 0 24 24\"\n",
              "       width=\"24px\">\n",
              "    <path d=\"M0 0h24v24H0V0z\" fill=\"none\"/>\n",
              "    <path d=\"M18.56 5.44l.94 2.06.94-2.06 2.06-.94-2.06-.94-.94-2.06-.94 2.06-2.06.94zm-11 1L8.5 8.5l.94-2.06 2.06-.94-2.06-.94L8.5 2.5l-.94 2.06-2.06.94zm10 10l.94 2.06.94-2.06 2.06-.94-2.06-.94-.94-2.06-.94 2.06-2.06.94z\"/><path d=\"M17.41 7.96l-1.37-1.37c-.4-.4-.92-.59-1.43-.59-.52 0-1.04.2-1.43.59L10.3 9.45l-7.72 7.72c-.78.78-.78 2.05 0 2.83L4 21.41c.39.39.9.59 1.41.59.51 0 1.02-.2 1.41-.59l7.78-7.78 2.81-2.81c.8-.78.8-2.07 0-2.86zM5.41 20L4 18.59l7.72-7.72 1.47 1.35L5.41 20z\"/>\n",
              "  </svg>\n",
              "      </button>\n",
              "      \n",
              "  <style>\n",
              "    .colab-df-container {\n",
              "      display:flex;\n",
              "      flex-wrap:wrap;\n",
              "      gap: 12px;\n",
              "    }\n",
              "\n",
              "    .colab-df-convert {\n",
              "      background-color: #E8F0FE;\n",
              "      border: none;\n",
              "      border-radius: 50%;\n",
              "      cursor: pointer;\n",
              "      display: none;\n",
              "      fill: #1967D2;\n",
              "      height: 32px;\n",
              "      padding: 0 0 0 0;\n",
              "      width: 32px;\n",
              "    }\n",
              "\n",
              "    .colab-df-convert:hover {\n",
              "      background-color: #E2EBFA;\n",
              "      box-shadow: 0px 1px 2px rgba(60, 64, 67, 0.3), 0px 1px 3px 1px rgba(60, 64, 67, 0.15);\n",
              "      fill: #174EA6;\n",
              "    }\n",
              "\n",
              "    [theme=dark] .colab-df-convert {\n",
              "      background-color: #3B4455;\n",
              "      fill: #D2E3FC;\n",
              "    }\n",
              "\n",
              "    [theme=dark] .colab-df-convert:hover {\n",
              "      background-color: #434B5C;\n",
              "      box-shadow: 0px 1px 3px 1px rgba(0, 0, 0, 0.15);\n",
              "      filter: drop-shadow(0px 1px 2px rgba(0, 0, 0, 0.3));\n",
              "      fill: #FFFFFF;\n",
              "    }\n",
              "  </style>\n",
              "\n",
              "      <script>\n",
              "        const buttonEl =\n",
              "          document.querySelector('#df-b3b8f6c2-e4a6-43f8-834d-86ad5667f8fb button.colab-df-convert');\n",
              "        buttonEl.style.display =\n",
              "          google.colab.kernel.accessAllowed ? 'block' : 'none';\n",
              "\n",
              "        async function convertToInteractive(key) {\n",
              "          const element = document.querySelector('#df-b3b8f6c2-e4a6-43f8-834d-86ad5667f8fb');\n",
              "          const dataTable =\n",
              "            await google.colab.kernel.invokeFunction('convertToInteractive',\n",
              "                                                     [key], {});\n",
              "          if (!dataTable) return;\n",
              "\n",
              "          const docLinkHtml = 'Like what you see? Visit the ' +\n",
              "            '<a target=\"_blank\" href=https://colab.research.google.com/notebooks/data_table.ipynb>data table notebook</a>'\n",
              "            + ' to learn more about interactive tables.';\n",
              "          element.innerHTML = '';\n",
              "          dataTable['output_type'] = 'display_data';\n",
              "          await google.colab.output.renderOutput(dataTable, element);\n",
              "          const docLink = document.createElement('div');\n",
              "          docLink.innerHTML = docLinkHtml;\n",
              "          element.appendChild(docLink);\n",
              "        }\n",
              "      </script>\n",
              "    </div>\n",
              "  </div>\n",
              "  "
            ],
            "text/plain": [
              "   Pregnancies  Glucose  BloodPressure  ...  DiabetesPedigreeFunction  Age  Outcome\n",
              "0            6      148             72  ...                     0.627   50        1\n",
              "1            1       85             66  ...                     0.351   31        0\n",
              "2            8      183             64  ...                     0.672   32        1\n",
              "3            1       89             66  ...                     0.167   21        0\n",
              "4            0      137             40  ...                     2.288   33        1\n",
              "\n",
              "[5 rows x 9 columns]"
            ]
          },
          "metadata": {},
          "execution_count": 87
        }
      ]
    },
    {
      "cell_type": "code",
      "source": [
        "df1.info()"
      ],
      "metadata": {
        "execution": {
          "iopub.status.busy": "2021-12-17T01:22:05.239314Z",
          "iopub.execute_input": "2021-12-17T01:22:05.239768Z",
          "iopub.status.idle": "2021-12-17T01:22:05.260953Z",
          "shell.execute_reply.started": "2021-12-17T01:22:05.239719Z",
          "shell.execute_reply": "2021-12-17T01:22:05.259929Z"
        },
        "trusted": true,
        "colab": {
          "base_uri": "https://localhost:8080/"
        },
        "id": "B-bzbbZ7UZ4c",
        "outputId": "8a3c134e-7581-4fe3-b805-405347be18a0"
      },
      "execution_count": 88,
      "outputs": [
        {
          "output_type": "stream",
          "name": "stdout",
          "text": [
            "<class 'pandas.core.frame.DataFrame'>\n",
            "RangeIndex: 768 entries, 0 to 767\n",
            "Data columns (total 9 columns):\n",
            " #   Column                    Non-Null Count  Dtype  \n",
            "---  ------                    --------------  -----  \n",
            " 0   Pregnancies               768 non-null    int64  \n",
            " 1   Glucose                   768 non-null    int64  \n",
            " 2   BloodPressure             768 non-null    int64  \n",
            " 3   SkinThickness             768 non-null    int64  \n",
            " 4   Insulin                   768 non-null    int64  \n",
            " 5   BMI                       768 non-null    float64\n",
            " 6   DiabetesPedigreeFunction  768 non-null    float64\n",
            " 7   Age                       768 non-null    int64  \n",
            " 8   Outcome                   768 non-null    int64  \n",
            "dtypes: float64(2), int64(7)\n",
            "memory usage: 54.1 KB\n"
          ]
        }
      ]
    },
    {
      "cell_type": "code",
      "source": [
        "df1.describe().T"
      ],
      "metadata": {
        "execution": {
          "iopub.status.busy": "2021-12-17T01:22:05.262571Z",
          "iopub.execute_input": "2021-12-17T01:22:05.263135Z",
          "iopub.status.idle": "2021-12-17T01:22:05.312092Z",
          "shell.execute_reply.started": "2021-12-17T01:22:05.263077Z",
          "shell.execute_reply": "2021-12-17T01:22:05.311216Z"
        },
        "trusted": true,
        "colab": {
          "base_uri": "https://localhost:8080/",
          "height": 331
        },
        "id": "J7dHp8QfUZ4c",
        "outputId": "db096e85-ced5-4c6d-fcce-b80ae32986d1"
      },
      "execution_count": 89,
      "outputs": [
        {
          "output_type": "execute_result",
          "data": {
            "text/html": [
              "\n",
              "  <div id=\"df-6563f6b6-f818-4e2e-a84f-ad33e9f47212\">\n",
              "    <div class=\"colab-df-container\">\n",
              "      <div>\n",
              "<style scoped>\n",
              "    .dataframe tbody tr th:only-of-type {\n",
              "        vertical-align: middle;\n",
              "    }\n",
              "\n",
              "    .dataframe tbody tr th {\n",
              "        vertical-align: top;\n",
              "    }\n",
              "\n",
              "    .dataframe thead th {\n",
              "        text-align: right;\n",
              "    }\n",
              "</style>\n",
              "<table border=\"1\" class=\"dataframe\">\n",
              "  <thead>\n",
              "    <tr style=\"text-align: right;\">\n",
              "      <th></th>\n",
              "      <th>count</th>\n",
              "      <th>mean</th>\n",
              "      <th>std</th>\n",
              "      <th>min</th>\n",
              "      <th>25%</th>\n",
              "      <th>50%</th>\n",
              "      <th>75%</th>\n",
              "      <th>max</th>\n",
              "    </tr>\n",
              "  </thead>\n",
              "  <tbody>\n",
              "    <tr>\n",
              "      <th>Pregnancies</th>\n",
              "      <td>768.0</td>\n",
              "      <td>3.845052</td>\n",
              "      <td>3.369578</td>\n",
              "      <td>0.000</td>\n",
              "      <td>1.00000</td>\n",
              "      <td>3.0000</td>\n",
              "      <td>6.00000</td>\n",
              "      <td>17.00</td>\n",
              "    </tr>\n",
              "    <tr>\n",
              "      <th>Glucose</th>\n",
              "      <td>768.0</td>\n",
              "      <td>120.894531</td>\n",
              "      <td>31.972618</td>\n",
              "      <td>0.000</td>\n",
              "      <td>99.00000</td>\n",
              "      <td>117.0000</td>\n",
              "      <td>140.25000</td>\n",
              "      <td>199.00</td>\n",
              "    </tr>\n",
              "    <tr>\n",
              "      <th>BloodPressure</th>\n",
              "      <td>768.0</td>\n",
              "      <td>69.105469</td>\n",
              "      <td>19.355807</td>\n",
              "      <td>0.000</td>\n",
              "      <td>62.00000</td>\n",
              "      <td>72.0000</td>\n",
              "      <td>80.00000</td>\n",
              "      <td>122.00</td>\n",
              "    </tr>\n",
              "    <tr>\n",
              "      <th>SkinThickness</th>\n",
              "      <td>768.0</td>\n",
              "      <td>20.536458</td>\n",
              "      <td>15.952218</td>\n",
              "      <td>0.000</td>\n",
              "      <td>0.00000</td>\n",
              "      <td>23.0000</td>\n",
              "      <td>32.00000</td>\n",
              "      <td>99.00</td>\n",
              "    </tr>\n",
              "    <tr>\n",
              "      <th>Insulin</th>\n",
              "      <td>768.0</td>\n",
              "      <td>79.799479</td>\n",
              "      <td>115.244002</td>\n",
              "      <td>0.000</td>\n",
              "      <td>0.00000</td>\n",
              "      <td>30.5000</td>\n",
              "      <td>127.25000</td>\n",
              "      <td>846.00</td>\n",
              "    </tr>\n",
              "    <tr>\n",
              "      <th>BMI</th>\n",
              "      <td>768.0</td>\n",
              "      <td>31.992578</td>\n",
              "      <td>7.884160</td>\n",
              "      <td>0.000</td>\n",
              "      <td>27.30000</td>\n",
              "      <td>32.0000</td>\n",
              "      <td>36.60000</td>\n",
              "      <td>67.10</td>\n",
              "    </tr>\n",
              "    <tr>\n",
              "      <th>DiabetesPedigreeFunction</th>\n",
              "      <td>768.0</td>\n",
              "      <td>0.471876</td>\n",
              "      <td>0.331329</td>\n",
              "      <td>0.078</td>\n",
              "      <td>0.24375</td>\n",
              "      <td>0.3725</td>\n",
              "      <td>0.62625</td>\n",
              "      <td>2.42</td>\n",
              "    </tr>\n",
              "    <tr>\n",
              "      <th>Age</th>\n",
              "      <td>768.0</td>\n",
              "      <td>33.240885</td>\n",
              "      <td>11.760232</td>\n",
              "      <td>21.000</td>\n",
              "      <td>24.00000</td>\n",
              "      <td>29.0000</td>\n",
              "      <td>41.00000</td>\n",
              "      <td>81.00</td>\n",
              "    </tr>\n",
              "    <tr>\n",
              "      <th>Outcome</th>\n",
              "      <td>768.0</td>\n",
              "      <td>0.348958</td>\n",
              "      <td>0.476951</td>\n",
              "      <td>0.000</td>\n",
              "      <td>0.00000</td>\n",
              "      <td>0.0000</td>\n",
              "      <td>1.00000</td>\n",
              "      <td>1.00</td>\n",
              "    </tr>\n",
              "  </tbody>\n",
              "</table>\n",
              "</div>\n",
              "      <button class=\"colab-df-convert\" onclick=\"convertToInteractive('df-6563f6b6-f818-4e2e-a84f-ad33e9f47212')\"\n",
              "              title=\"Convert this dataframe to an interactive table.\"\n",
              "              style=\"display:none;\">\n",
              "        \n",
              "  <svg xmlns=\"http://www.w3.org/2000/svg\" height=\"24px\"viewBox=\"0 0 24 24\"\n",
              "       width=\"24px\">\n",
              "    <path d=\"M0 0h24v24H0V0z\" fill=\"none\"/>\n",
              "    <path d=\"M18.56 5.44l.94 2.06.94-2.06 2.06-.94-2.06-.94-.94-2.06-.94 2.06-2.06.94zm-11 1L8.5 8.5l.94-2.06 2.06-.94-2.06-.94L8.5 2.5l-.94 2.06-2.06.94zm10 10l.94 2.06.94-2.06 2.06-.94-2.06-.94-.94-2.06-.94 2.06-2.06.94z\"/><path d=\"M17.41 7.96l-1.37-1.37c-.4-.4-.92-.59-1.43-.59-.52 0-1.04.2-1.43.59L10.3 9.45l-7.72 7.72c-.78.78-.78 2.05 0 2.83L4 21.41c.39.39.9.59 1.41.59.51 0 1.02-.2 1.41-.59l7.78-7.78 2.81-2.81c.8-.78.8-2.07 0-2.86zM5.41 20L4 18.59l7.72-7.72 1.47 1.35L5.41 20z\"/>\n",
              "  </svg>\n",
              "      </button>\n",
              "      \n",
              "  <style>\n",
              "    .colab-df-container {\n",
              "      display:flex;\n",
              "      flex-wrap:wrap;\n",
              "      gap: 12px;\n",
              "    }\n",
              "\n",
              "    .colab-df-convert {\n",
              "      background-color: #E8F0FE;\n",
              "      border: none;\n",
              "      border-radius: 50%;\n",
              "      cursor: pointer;\n",
              "      display: none;\n",
              "      fill: #1967D2;\n",
              "      height: 32px;\n",
              "      padding: 0 0 0 0;\n",
              "      width: 32px;\n",
              "    }\n",
              "\n",
              "    .colab-df-convert:hover {\n",
              "      background-color: #E2EBFA;\n",
              "      box-shadow: 0px 1px 2px rgba(60, 64, 67, 0.3), 0px 1px 3px 1px rgba(60, 64, 67, 0.15);\n",
              "      fill: #174EA6;\n",
              "    }\n",
              "\n",
              "    [theme=dark] .colab-df-convert {\n",
              "      background-color: #3B4455;\n",
              "      fill: #D2E3FC;\n",
              "    }\n",
              "\n",
              "    [theme=dark] .colab-df-convert:hover {\n",
              "      background-color: #434B5C;\n",
              "      box-shadow: 0px 1px 3px 1px rgba(0, 0, 0, 0.15);\n",
              "      filter: drop-shadow(0px 1px 2px rgba(0, 0, 0, 0.3));\n",
              "      fill: #FFFFFF;\n",
              "    }\n",
              "  </style>\n",
              "\n",
              "      <script>\n",
              "        const buttonEl =\n",
              "          document.querySelector('#df-6563f6b6-f818-4e2e-a84f-ad33e9f47212 button.colab-df-convert');\n",
              "        buttonEl.style.display =\n",
              "          google.colab.kernel.accessAllowed ? 'block' : 'none';\n",
              "\n",
              "        async function convertToInteractive(key) {\n",
              "          const element = document.querySelector('#df-6563f6b6-f818-4e2e-a84f-ad33e9f47212');\n",
              "          const dataTable =\n",
              "            await google.colab.kernel.invokeFunction('convertToInteractive',\n",
              "                                                     [key], {});\n",
              "          if (!dataTable) return;\n",
              "\n",
              "          const docLinkHtml = 'Like what you see? Visit the ' +\n",
              "            '<a target=\"_blank\" href=https://colab.research.google.com/notebooks/data_table.ipynb>data table notebook</a>'\n",
              "            + ' to learn more about interactive tables.';\n",
              "          element.innerHTML = '';\n",
              "          dataTable['output_type'] = 'display_data';\n",
              "          await google.colab.output.renderOutput(dataTable, element);\n",
              "          const docLink = document.createElement('div');\n",
              "          docLink.innerHTML = docLinkHtml;\n",
              "          element.appendChild(docLink);\n",
              "        }\n",
              "      </script>\n",
              "    </div>\n",
              "  </div>\n",
              "  "
            ],
            "text/plain": [
              "                          count        mean  ...        75%     max\n",
              "Pregnancies               768.0    3.845052  ...    6.00000   17.00\n",
              "Glucose                   768.0  120.894531  ...  140.25000  199.00\n",
              "BloodPressure             768.0   69.105469  ...   80.00000  122.00\n",
              "SkinThickness             768.0   20.536458  ...   32.00000   99.00\n",
              "Insulin                   768.0   79.799479  ...  127.25000  846.00\n",
              "BMI                       768.0   31.992578  ...   36.60000   67.10\n",
              "DiabetesPedigreeFunction  768.0    0.471876  ...    0.62625    2.42\n",
              "Age                       768.0   33.240885  ...   41.00000   81.00\n",
              "Outcome                   768.0    0.348958  ...    1.00000    1.00\n",
              "\n",
              "[9 rows x 8 columns]"
            ]
          },
          "metadata": {},
          "execution_count": 89
        }
      ]
    },
    {
      "cell_type": "code",
      "source": [
        "df1['Outcome'].value_counts()"
      ],
      "metadata": {
        "execution": {
          "iopub.status.busy": "2021-12-17T01:22:05.313604Z",
          "iopub.execute_input": "2021-12-17T01:22:05.313886Z",
          "iopub.status.idle": "2021-12-17T01:22:05.322985Z",
          "shell.execute_reply.started": "2021-12-17T01:22:05.313851Z",
          "shell.execute_reply": "2021-12-17T01:22:05.322045Z"
        },
        "trusted": true,
        "colab": {
          "base_uri": "https://localhost:8080/"
        },
        "id": "hcv5-ld2UZ4d",
        "outputId": "dc1cab55-3ddc-4f8a-d0fd-f11f3d27135d"
      },
      "execution_count": 90,
      "outputs": [
        {
          "output_type": "execute_result",
          "data": {
            "text/plain": [
              "0    500\n",
              "1    268\n",
              "Name: Outcome, dtype: int64"
            ]
          },
          "metadata": {},
          "execution_count": 90
        }
      ]
    },
    {
      "cell_type": "code",
      "source": [
        "f,ax=plt.subplots(1,2,figsize=(10,5))\n",
        "df1['Outcome'].value_counts().plot.pie(explode=[0,0.1],autopct='%1.1f%%',ax=ax[0],shadow=True)\n",
        "ax[0].set_title('Dağılım')\n",
        "ax[0].set_ylabel('')\n",
        "sns.countplot('Outcome',data=df1,ax=ax[1])\n",
        "ax[1].set_title('Outcome')\n",
        "plt.show()"
      ],
      "metadata": {
        "execution": {
          "iopub.status.busy": "2021-12-17T01:22:05.324802Z",
          "iopub.execute_input": "2021-12-17T01:22:05.325314Z",
          "iopub.status.idle": "2021-12-17T01:22:05.601907Z",
          "shell.execute_reply.started": "2021-12-17T01:22:05.325268Z",
          "shell.execute_reply": "2021-12-17T01:22:05.600961Z"
        },
        "trusted": true,
        "id": "TxaNZOJBUZ4e",
        "colab": {
          "base_uri": "https://localhost:8080/",
          "height": 405
        },
        "outputId": "730e9cb4-5685-46f9-c154-f0c5443b06a2"
      },
      "execution_count": 91,
      "outputs": [
        {
          "output_type": "stream",
          "name": "stderr",
          "text": [
            "/usr/local/lib/python3.7/dist-packages/seaborn/_decorators.py:43: FutureWarning: Pass the following variable as a keyword arg: x. From version 0.12, the only valid positional argument will be `data`, and passing other arguments without an explicit keyword will result in an error or misinterpretation.\n",
            "  FutureWarning\n"
          ]
        },
        {
          "output_type": "display_data",
          "data": {
            "image/png": "[encoded data removed]",
            "text/plain": [
              "<Figure size 720x360 with 2 Axes>"
            ]
          },
          "metadata": {
            "needs_background": "light"
          }
        }
      ]
    },
    {
      "cell_type": "code",
      "source": [
        "df1.isnull().sum()  # null değer gözükmüyor "
      ],
      "metadata": {
        "execution": {
          "iopub.status.busy": "2021-12-17T01:22:05.604287Z",
          "iopub.execute_input": "2021-12-17T01:22:05.604561Z",
          "iopub.status.idle": "2021-12-17T01:22:05.616182Z",
          "shell.execute_reply.started": "2021-12-17T01:22:05.604514Z",
          "shell.execute_reply": "2021-12-17T01:22:05.615247Z"
        },
        "trusted": true,
        "id": "vN7WVvQiUZ4f",
        "colab": {
          "base_uri": "https://localhost:8080/"
        },
        "outputId": "57ec1926-cfe2-4584-8992-b801bba383c0"
      },
      "execution_count": 92,
      "outputs": [
        {
          "output_type": "execute_result",
          "data": {
            "text/plain": [
              "Pregnancies                 0\n",
              "Glucose                     0\n",
              "BloodPressure               0\n",
              "SkinThickness               0\n",
              "Insulin                     0\n",
              "BMI                         0\n",
              "DiabetesPedigreeFunction    0\n",
              "Age                         0\n",
              "Outcome                     0\n",
              "dtype: int64"
            ]
          },
          "metadata": {},
          "execution_count": 92
        }
      ]
    },
    {
      "cell_type": "code",
      "source": [
        "df1[[\"Glucose\",\"BloodPressure\",\n",
        "     \"BMI\"]] = df1[[\"Glucose\",\"BloodPressure\",\n",
        "     \"BMI\"]].replace(0,np.NaN)\n",
        "df1.isnull().sum()"
      ],
      "metadata": {
        "execution": {
          "iopub.status.busy": "2021-12-17T01:22:05.617619Z",
          "iopub.execute_input": "2021-12-17T01:22:05.618041Z",
          "iopub.status.idle": "2021-12-17T01:22:05.640043Z",
          "shell.execute_reply.started": "2021-12-17T01:22:05.61801Z",
          "shell.execute_reply": "2021-12-17T01:22:05.639217Z"
        },
        "trusted": true,
        "id": "8Zhvhmx4UZ4f",
        "colab": {
          "base_uri": "https://localhost:8080/"
        },
        "outputId": "70dfc161-e390-4f46-bda3-a5549b71bebf"
      },
      "execution_count": 93,
      "outputs": [
        {
          "output_type": "execute_result",
          "data": {
            "text/plain": [
              "Pregnancies                  0\n",
              "Glucose                      5\n",
              "BloodPressure               35\n",
              "SkinThickness                0\n",
              "Insulin                      0\n",
              "BMI                         11\n",
              "DiabetesPedigreeFunction     0\n",
              "Age                          0\n",
              "Outcome                      0\n",
              "dtype: int64"
            ]
          },
          "metadata": {},
          "execution_count": 93
        }
      ]
    },
    {
      "cell_type": "code",
      "source": [
        "msno.matrix(df1,figsize=(10,8))\n",
        "plt.show()"
      ],
      "metadata": {
        "execution": {
          "iopub.status.busy": "2021-12-17T01:22:05.641277Z",
          "iopub.execute_input": "2021-12-17T01:22:05.641783Z",
          "iopub.status.idle": "2021-12-17T01:22:05.999878Z",
          "shell.execute_reply.started": "2021-12-17T01:22:05.641747Z",
          "shell.execute_reply": "2021-12-17T01:22:05.998923Z"
        },
        "trusted": true,
        "id": "l00sBM6YUZ4f",
        "colab": {
          "base_uri": "https://localhost:8080/",
          "height": 642
        },
        "outputId": "13bf4c7c-40c3-45e0-f4ee-4d1032b979d8"
      },
      "execution_count": 94,
      "outputs": [
        {
          "output_type": "display_data",
          "data": {
            "image/png": "[encoded data removed]",
            "text/plain": [
              "<Figure size 720x576 with 2 Axes>"
            ]
          },
          "metadata": {
            "needs_background": "light"
          }
        }
      ]
    },
    {
      "cell_type": "code",
      "source": [
        "msno.bar(df1,figsize=(10,8))\n",
        "plt.show()\n"
      ],
      "metadata": {
        "execution": {
          "iopub.status.busy": "2021-12-17T01:22:06.00133Z",
          "iopub.execute_input": "2021-12-17T01:22:06.001881Z",
          "iopub.status.idle": "2021-12-17T01:22:06.802417Z",
          "shell.execute_reply.started": "2021-12-17T01:22:06.001847Z",
          "shell.execute_reply": "2021-12-17T01:22:06.801473Z"
        },
        "trusted": true,
        "id": "eN1nKt9IUZ4g",
        "colab": {
          "base_uri": "https://localhost:8080/",
          "height": 671
        },
        "outputId": "831f18e1-d080-4eeb-c9f9-e7b53b497b80"
      },
      "execution_count": 95,
      "outputs": [
        {
          "output_type": "display_data",
          "data": {
            "image/png": "[encoded data removed]",
            "text/plain": [
              "<Figure size 720x576 with 3 Axes>"
            ]
          },
          "metadata": {
            "needs_background": "light"
          }
        }
      ]
    },
    {
      "cell_type": "code",
      "source": [
        "df1 = df1.drop(\"Insulin\", axis='columns') #çıkarılması gereken sütunlar"
      ],
      "metadata": {
        "id": "6ew_vktHA1GQ"
      },
      "execution_count": 96,
      "outputs": []
    },
    {
      "cell_type": "code",
      "source": [
        "df1 = df1.drop(\"SkinThickness\", axis='columns')"
      ],
      "metadata": {
        "id": "GyxNoTuAA1Kj"
      },
      "execution_count": 97,
      "outputs": []
    },
    {
      "cell_type": "code",
      "source": [
        "df1.dropna(inplace = True)"
      ],
      "metadata": {
        "execution": {
          "iopub.status.busy": "2021-12-17T01:22:06.803944Z",
          "iopub.execute_input": "2021-12-17T01:22:06.804491Z",
          "iopub.status.idle": "2021-12-17T01:22:06.815092Z",
          "shell.execute_reply.started": "2021-12-17T01:22:06.804442Z",
          "shell.execute_reply": "2021-12-17T01:22:06.814422Z"
        },
        "trusted": true,
        "id": "nX_x4AL_UZ4g"
      },
      "execution_count": 98,
      "outputs": []
    },
    {
      "cell_type": "code",
      "source": [
        "df1.info()"
      ],
      "metadata": {
        "execution": {
          "iopub.status.busy": "2021-12-17T01:22:06.816227Z",
          "iopub.execute_input": "2021-12-17T01:22:06.816468Z",
          "iopub.status.idle": "2021-12-17T01:22:06.841788Z",
          "shell.execute_reply.started": "2021-12-17T01:22:06.816437Z",
          "shell.execute_reply": "2021-12-17T01:22:06.840652Z"
        },
        "trusted": true,
        "id": "TCS8e6gQUZ4h",
        "colab": {
          "base_uri": "https://localhost:8080/"
        },
        "outputId": "4aa43ad5-39ee-4081-d75f-d4a0504d4193"
      },
      "execution_count": 99,
      "outputs": [
        {
          "output_type": "stream",
          "name": "stdout",
          "text": [
            "<class 'pandas.core.frame.DataFrame'>\n",
            "Int64Index: 724 entries, 0 to 767\n",
            "Data columns (total 7 columns):\n",
            " #   Column                    Non-Null Count  Dtype  \n",
            "---  ------                    --------------  -----  \n",
            " 0   Pregnancies               724 non-null    int64  \n",
            " 1   Glucose                   724 non-null    float64\n",
            " 2   BloodPressure             724 non-null    float64\n",
            " 3   BMI                       724 non-null    float64\n",
            " 4   DiabetesPedigreeFunction  724 non-null    float64\n",
            " 5   Age                       724 non-null    int64  \n",
            " 6   Outcome                   724 non-null    int64  \n",
            "dtypes: float64(4), int64(3)\n",
            "memory usage: 45.2 KB\n"
          ]
        }
      ]
    },
    {
      "cell_type": "markdown",
      "source": [
        "#***Standartlaştırma*** "
      ],
      "metadata": {
        "id": "0de7deMOToMF"
      }
    },
    {
      "cell_type": "code",
      "source": [
        "from sklearn.preprocessing import RobustScaler\n",
        "\n",
        "\n",
        "\n",
        "rob_scaler = RobustScaler()\n",
        "df1['Pregnancies'] = rob_scaler.fit_transform(df1['Pregnancies'].values.reshape(-1,1))\n",
        "df1['Glucose'] = rob_scaler.fit_transform(df1['Glucose'].values.reshape(-1,1))\n",
        "df1['BloodPressure'] = rob_scaler.fit_transform(df1['BloodPressure'].values.reshape(-1,1))\n",
        "df1['BMI'] = rob_scaler.fit_transform(df1['BMI'].values.reshape(-1,1))\n",
        "df1['DiabetesPedigreeFunction'] = rob_scaler.fit_transform(df1['DiabetesPedigreeFunction'].values.reshape(-1,1))\n",
        "df1['Age'] = rob_scaler.fit_transform(df1['Age'].values.reshape(-1,1))\n",
        "df1.head()"
      ],
      "metadata": {
        "execution": {
          "iopub.status.busy": "2021-12-17T01:22:06.843322Z",
          "iopub.execute_input": "2021-12-17T01:22:06.843674Z",
          "iopub.status.idle": "2021-12-17T01:22:06.878069Z",
          "shell.execute_reply.started": "2021-12-17T01:22:06.843627Z",
          "shell.execute_reply": "2021-12-17T01:22:06.877227Z"
        },
        "trusted": true,
        "id": "TKSz5roKUZ4h",
        "colab": {
          "base_uri": "https://localhost:8080/",
          "height": 206
        },
        "outputId": "30bdd8a0-824e-46e6-8d97-a717d91fd53d"
      },
      "execution_count": 100,
      "outputs": [
        {
          "output_type": "execute_result",
          "data": {
            "text/html": [
              "\n",
              "  <div id=\"df-0d244c3b-cbba-418f-b221-a03047845f4a\">\n",
              "    <div class=\"colab-df-container\">\n",
              "      <div>\n",
              "<style scoped>\n",
              "    .dataframe tbody tr th:only-of-type {\n",
              "        vertical-align: middle;\n",
              "    }\n",
              "\n",
              "    .dataframe tbody tr th {\n",
              "        vertical-align: top;\n",
              "    }\n",
              "\n",
              "    .dataframe thead th {\n",
              "        text-align: right;\n",
              "    }\n",
              "</style>\n",
              "<table border=\"1\" class=\"dataframe\">\n",
              "  <thead>\n",
              "    <tr style=\"text-align: right;\">\n",
              "      <th></th>\n",
              "      <th>Pregnancies</th>\n",
              "      <th>Glucose</th>\n",
              "      <th>BloodPressure</th>\n",
              "      <th>BMI</th>\n",
              "      <th>DiabetesPedigreeFunction</th>\n",
              "      <th>Age</th>\n",
              "      <th>Outcome</th>\n",
              "    </tr>\n",
              "  </thead>\n",
              "  <tbody>\n",
              "    <tr>\n",
              "      <th>0</th>\n",
              "      <td>0.6</td>\n",
              "      <td>0.733728</td>\n",
              "      <td>0.000</td>\n",
              "      <td>0.131868</td>\n",
              "      <td>0.648366</td>\n",
              "      <td>1.235294</td>\n",
              "      <td>1</td>\n",
              "    </tr>\n",
              "    <tr>\n",
              "      <th>1</th>\n",
              "      <td>-0.4</td>\n",
              "      <td>-0.757396</td>\n",
              "      <td>-0.375</td>\n",
              "      <td>-0.637363</td>\n",
              "      <td>-0.073203</td>\n",
              "      <td>0.117647</td>\n",
              "      <td>0</td>\n",
              "    </tr>\n",
              "    <tr>\n",
              "      <th>2</th>\n",
              "      <td>1.0</td>\n",
              "      <td>1.562130</td>\n",
              "      <td>-0.500</td>\n",
              "      <td>-1.000000</td>\n",
              "      <td>0.766013</td>\n",
              "      <td>0.176471</td>\n",
              "      <td>1</td>\n",
              "    </tr>\n",
              "    <tr>\n",
              "      <th>3</th>\n",
              "      <td>-0.4</td>\n",
              "      <td>-0.662722</td>\n",
              "      <td>-0.375</td>\n",
              "      <td>-0.472527</td>\n",
              "      <td>-0.554248</td>\n",
              "      <td>-0.470588</td>\n",
              "      <td>0</td>\n",
              "    </tr>\n",
              "    <tr>\n",
              "      <th>4</th>\n",
              "      <td>-0.6</td>\n",
              "      <td>0.473373</td>\n",
              "      <td>-2.000</td>\n",
              "      <td>1.175824</td>\n",
              "      <td>4.990850</td>\n",
              "      <td>0.235294</td>\n",
              "      <td>1</td>\n",
              "    </tr>\n",
              "  </tbody>\n",
              "</table>\n",
              "</div>\n",
              "      <button class=\"colab-df-convert\" onclick=\"convertToInteractive('df-0d244c3b-cbba-418f-b221-a03047845f4a')\"\n",
              "              title=\"Convert this dataframe to an interactive table.\"\n",
              "              style=\"display:none;\">\n",
              "        \n",
              "  <svg xmlns=\"http://www.w3.org/2000/svg\" height=\"24px\"viewBox=\"0 0 24 24\"\n",
              "       width=\"24px\">\n",
              "    <path d=\"M0 0h24v24H0V0z\" fill=\"none\"/>\n",
              "    <path d=\"M18.56 5.44l.94 2.06.94-2.06 2.06-.94-2.06-.94-.94-2.06-.94 2.06-2.06.94zm-11 1L8.5 8.5l.94-2.06 2.06-.94-2.06-.94L8.5 2.5l-.94 2.06-2.06.94zm10 10l.94 2.06.94-2.06 2.06-.94-2.06-.94-.94-2.06-.94 2.06-2.06.94z\"/><path d=\"M17.41 7.96l-1.37-1.37c-.4-.4-.92-.59-1.43-.59-.52 0-1.04.2-1.43.59L10.3 9.45l-7.72 7.72c-.78.78-.78 2.05 0 2.83L4 21.41c.39.39.9.59 1.41.59.51 0 1.02-.2 1.41-.59l7.78-7.78 2.81-2.81c.8-.78.8-2.07 0-2.86zM5.41 20L4 18.59l7.72-7.72 1.47 1.35L5.41 20z\"/>\n",
              "  </svg>\n",
              "      </button>\n",
              "      \n",
              "  <style>\n",
              "    .colab-df-container {\n",
              "      display:flex;\n",
              "      flex-wrap:wrap;\n",
              "      gap: 12px;\n",
              "    }\n",
              "\n",
              "    .colab-df-convert {\n",
              "      background-color: #E8F0FE;\n",
              "      border: none;\n",
              "      border-radius: 50%;\n",
              "      cursor: pointer;\n",
              "      display: none;\n",
              "      fill: #1967D2;\n",
              "      height: 32px;\n",
              "      padding: 0 0 0 0;\n",
              "      width: 32px;\n",
              "    }\n",
              "\n",
              "    .colab-df-convert:hover {\n",
              "      background-color: #E2EBFA;\n",
              "      box-shadow: 0px 1px 2px rgba(60, 64, 67, 0.3), 0px 1px 3px 1px rgba(60, 64, 67, 0.15);\n",
              "      fill: #174EA6;\n",
              "    }\n",
              "\n",
              "    [theme=dark] .colab-df-convert {\n",
              "      background-color: #3B4455;\n",
              "      fill: #D2E3FC;\n",
              "    }\n",
              "\n",
              "    [theme=dark] .colab-df-convert:hover {\n",
              "      background-color: #434B5C;\n",
              "      box-shadow: 0px 1px 3px 1px rgba(0, 0, 0, 0.15);\n",
              "      filter: drop-shadow(0px 1px 2px rgba(0, 0, 0, 0.3));\n",
              "      fill: #FFFFFF;\n",
              "    }\n",
              "  </style>\n",
              "\n",
              "      <script>\n",
              "        const buttonEl =\n",
              "          document.querySelector('#df-0d244c3b-cbba-418f-b221-a03047845f4a button.colab-df-convert');\n",
              "        buttonEl.style.display =\n",
              "          google.colab.kernel.accessAllowed ? 'block' : 'none';\n",
              "\n",
              "        async function convertToInteractive(key) {\n",
              "          const element = document.querySelector('#df-0d244c3b-cbba-418f-b221-a03047845f4a');\n",
              "          const dataTable =\n",
              "            await google.colab.kernel.invokeFunction('convertToInteractive',\n",
              "                                                     [key], {});\n",
              "          if (!dataTable) return;\n",
              "\n",
              "          const docLinkHtml = 'Like what you see? Visit the ' +\n",
              "            '<a target=\"_blank\" href=https://colab.research.google.com/notebooks/data_table.ipynb>data table notebook</a>'\n",
              "            + ' to learn more about interactive tables.';\n",
              "          element.innerHTML = '';\n",
              "          dataTable['output_type'] = 'display_data';\n",
              "          await google.colab.output.renderOutput(dataTable, element);\n",
              "          const docLink = document.createElement('div');\n",
              "          docLink.innerHTML = docLinkHtml;\n",
              "          element.appendChild(docLink);\n",
              "        }\n",
              "      </script>\n",
              "    </div>\n",
              "  </div>\n",
              "  "
            ],
            "text/plain": [
              "   Pregnancies   Glucose  ...       Age  Outcome\n",
              "0          0.6  0.733728  ...  1.235294        1\n",
              "1         -0.4 -0.757396  ...  0.117647        0\n",
              "2          1.0  1.562130  ...  0.176471        1\n",
              "3         -0.4 -0.662722  ... -0.470588        0\n",
              "4         -0.6  0.473373  ...  0.235294        1\n",
              "\n",
              "[5 rows x 7 columns]"
            ]
          },
          "metadata": {},
          "execution_count": 100
        }
      ]
    },
    {
      "cell_type": "code",
      "source": [
        "# veri setini train ve test olarak ayırıyoruz\n",
        "\n",
        "from sklearn.model_selection import train_test_split\n",
        "\n",
        "X = df1.drop(\"Outcome\", axis=1)\n",
        "y = df1[\"Outcome\"]\n",
        "X_train, X_test, y_train, y_test = train_test_split(X, y, test_size=0.20, random_state=123456)"
      ],
      "metadata": {
        "execution": {
          "iopub.status.busy": "2021-12-17T01:22:06.879257Z",
          "iopub.execute_input": "2021-12-17T01:22:06.879492Z",
          "iopub.status.idle": "2021-12-17T01:22:06.888897Z",
          "shell.execute_reply.started": "2021-12-17T01:22:06.879462Z",
          "shell.execute_reply": "2021-12-17T01:22:06.888037Z"
        },
        "trusted": true,
        "id": "-LalCQgaUZ4h"
      },
      "execution_count": 101,
      "outputs": []
    },
    {
      "cell_type": "markdown",
      "source": [
        "\n",
        "\n",
        "---\n",
        "\n",
        "*Dengesiz Veri Seti*\n",
        "\n",
        "---\n",
        "\n"
      ],
      "metadata": {
        "id": "YcAzt0L2Wzor"
      }
    },
    {
      "cell_type": "code",
      "source": [
        "y_train.value_counts()    \n"
      ],
      "metadata": {
        "execution": {
          "iopub.status.busy": "2021-12-17T01:22:06.908243Z",
          "iopub.execute_input": "2021-12-17T01:22:06.908675Z",
          "iopub.status.idle": "2021-12-17T01:22:06.916094Z",
          "shell.execute_reply.started": "2021-12-17T01:22:06.90864Z",
          "shell.execute_reply": "2021-12-17T01:22:06.915469Z"
        },
        "trusted": true,
        "id": "Y87UMo_4UZ4i",
        "colab": {
          "base_uri": "https://localhost:8080/"
        },
        "outputId": "e5d108e2-244b-4e60-c8d0-ca0b9c37f059"
      },
      "execution_count": 102,
      "outputs": [
        {
          "output_type": "execute_result",
          "data": {
            "text/plain": [
              "0    377\n",
              "1    202\n",
              "Name: Outcome, dtype: int64"
            ]
          },
          "metadata": {},
          "execution_count": 102
        }
      ]
    },
    {
      "cell_type": "markdown",
      "source": [
        "\n",
        "\n",
        "---\n",
        "\n",
        "\n",
        "#GAUSSIAN-NB\n",
        "\n",
        "---\n",
        "\n"
      ],
      "metadata": {
        "id": "Cpefs_d2W9Y0"
      }
    },
    {
      "cell_type": "code",
      "source": [
        "from sklearn.naive_bayes import GaussianNB\n",
        "from sklearn.metrics import accuracy_score\n",
        "from sklearn.metrics import confusion_matrix\n",
        "from sklearn.metrics import classification_report,f1_score,recall_score,roc_auc_score, roc_curve\n",
        "from sklearn.metrics import accuracy_score\n",
        "\n",
        "from sklearn.metrics import plot_confusion_matrix\n",
        "\n",
        "from sklearn.metrics import confusion_matrix\n",
        "\n",
        "from sklearn.metrics import classification_report\n",
        "from sklearn.model_selection import GridSearchCV\n"
      ],
      "metadata": {
        "id": "CRbd1LInrVtn"
      },
      "execution_count": 103,
      "outputs": []
    },
    {
      "cell_type": "code",
      "source": [
        "gaussianNB = GaussianNB()\n",
        "gaussianNB = gaussianNB.fit(X_train, y_train)\n",
        "\n",
        "train_pred_gaussianNB = gaussianNB.predict(X_train)\n",
        "print('Train Accuracy : %.3f%% ' % (accuracy_score(y_train , train_pred_gaussianNB)*100))\n",
        "\n",
        "print(\"Confusion Matrix-GaussianNB-Train: \")\n",
        "print(confusion_matrix(y_train, train_pred_gaussianNB))\n",
        "\n",
        "print('\\nModel Sonuçları\\n')\n",
        "print(classification_report(y_train, train_pred_gaussianNB))\n",
        "\n",
        "print(\"-\"*40)\n",
        "\n",
        "test_pred_gaussianNB = gaussianNB.predict(X_test)\n",
        "print('Test Accuracy  : %.3f%% ' % (accuracy_score(y_test, test_pred_gaussianNB)*100))\n",
        "\n",
        "print(\"Confusion Matrix-GaussianNB-Test: \")\n",
        "print(confusion_matrix(y_test, test_pred_gaussianNB))\n",
        "\n",
        "print('\\nModel Sonuçları\\n')\n",
        "print(classification_report(y_test, test_pred_gaussianNB))"
      ],
      "metadata": {
        "execution": {
          "iopub.status.busy": "2021-12-17T01:22:06.919512Z",
          "iopub.execute_input": "2021-12-17T01:22:06.91996Z",
          "iopub.status.idle": "2021-12-17T01:22:06.94435Z",
          "shell.execute_reply.started": "2021-12-17T01:22:06.919923Z",
          "shell.execute_reply": "2021-12-17T01:22:06.943691Z"
        },
        "trusted": true,
        "id": "mbKAeOXeUZ4i",
        "colab": {
          "base_uri": "https://localhost:8080/"
        },
        "outputId": "6b3f055b-507d-4576-9a42-486308fff3c3"
      },
      "execution_count": 104,
      "outputs": [
        {
          "output_type": "stream",
          "name": "stdout",
          "text": [
            "Train Accuracy : 78.238% \n",
            "Confusion Matrix-GaussianNB-Train: \n",
            "[[325  52]\n",
            " [ 74 128]]\n",
            "\n",
            "Model Sonuçları\n",
            "\n",
            "              precision    recall  f1-score   support\n",
            "\n",
            "           0       0.81      0.86      0.84       377\n",
            "           1       0.71      0.63      0.67       202\n",
            "\n",
            "    accuracy                           0.78       579\n",
            "   macro avg       0.76      0.75      0.75       579\n",
            "weighted avg       0.78      0.78      0.78       579\n",
            "\n",
            "----------------------------------------\n",
            "Test Accuracy  : 73.793% \n",
            "Confusion Matrix-GaussianNB-Test: \n",
            "[[81 17]\n",
            " [21 26]]\n",
            "\n",
            "Model Sonuçları\n",
            "\n",
            "              precision    recall  f1-score   support\n",
            "\n",
            "           0       0.79      0.83      0.81        98\n",
            "           1       0.60      0.55      0.58        47\n",
            "\n",
            "    accuracy                           0.74       145\n",
            "   macro avg       0.70      0.69      0.69       145\n",
            "weighted avg       0.73      0.74      0.73       145\n",
            "\n"
          ]
        }
      ]
    },
    {
      "cell_type": "code",
      "source": [
        "fpr , tpr , thresolds = metrics.roc_curve(y_train , train_pred_gaussianNB)\n",
        "roc_auc = metrics.auc(fpr , tpr)\n",
        "plt.plot(fpr , tpr ,'b' ,label = 'AUC =0.2f' %roc_auc)\n",
        "roc_auc"
      ],
      "metadata": {
        "colab": {
          "base_uri": "https://localhost:8080/",
          "height": 282
        },
        "id": "bWX_tZnkWK4N",
        "outputId": "99697ae1-c97a-49ab-daea-0ed5917c1451"
      },
      "execution_count": 105,
      "outputs": [
        {
          "output_type": "execute_result",
          "data": {
            "text/plain": [
              "0.7478661659269376"
            ]
          },
          "metadata": {},
          "execution_count": 105
        },
        {
          "output_type": "display_data",
          "data": {
            "image/png": "[encoded data removed]",
            "text/plain": [
              "<Figure size 432x288 with 1 Axes>"
            ]
          },
          "metadata": {
            "needs_background": "light"
          }
        }
      ]
    },
    {
      "cell_type": "code",
      "source": [
        "fpr , tpr , thresolds = metrics.roc_curve(y_test, test_pred_gaussianNB)\n",
        "roc_auc = metrics.auc(fpr , tpr)\n",
        "plt.plot(fpr , tpr ,'b' ,label = 'AUC =0.2f' %roc_auc)\n",
        "roc_auc"
      ],
      "metadata": {
        "colab": {
          "base_uri": "https://localhost:8080/",
          "height": 282
        },
        "id": "JGqt7ApnXcRV",
        "outputId": "3d26507e-a7ef-4ab4-81e1-8761b7ccbba5"
      },
      "execution_count": 106,
      "outputs": [
        {
          "output_type": "execute_result",
          "data": {
            "text/plain": [
              "0.6898610508033001"
            ]
          },
          "metadata": {},
          "execution_count": 106
        },
        {
          "output_type": "display_data",
          "data": {
            "image/png": "[encoded data removed]",
            "text/plain": [
              "<Figure size 432x288 with 1 Axes>"
            ]
          },
          "metadata": {
            "needs_background": "light"
          }
        }
      ]
    },
    {
      "cell_type": "markdown",
      "source": [
        "\n",
        "\n",
        "---\n",
        "GaussianNB Hiperparametre ile\n",
        "\n",
        "---\n",
        "\n",
        "\n"
      ],
      "metadata": {
        "id": "tJyUr9mE9gxX"
      }
    },
    {
      "cell_type": "code",
      "source": [
        "nb_classifier = GaussianNB()\n",
        "\n",
        "params_NB = {'var_smoothing': np.logspace(0,-9, num=100)}\n",
        "gs_NB = GridSearchCV(estimator=nb_classifier, \n",
        "                 param_grid=params_NB,  \n",
        "                 verbose=1, \n",
        "                 scoring='accuracy') \n",
        "gs_NB.fit(X_train, y_train)\n",
        "\n",
        "gs_NB.best_params_\n",
        "\n",
        "grid_predictions = gs_NB.predict(X_test)\n",
        " \n",
        "# Sınıflandırma raporunu yazdırmak\n",
        "print(classification_report(y_test, grid_predictions))\n"
      ],
      "metadata": {
        "id": "Fb0zzhyXOf_g",
        "colab": {
          "base_uri": "https://localhost:8080/"
        },
        "outputId": "342959b5-9b4a-46e1-92d8-22c71a25cfa9"
      },
      "execution_count": 107,
      "outputs": [
        {
          "output_type": "stream",
          "name": "stdout",
          "text": [
            "Fitting 5 folds for each of 100 candidates, totalling 500 fits\n",
            "              precision    recall  f1-score   support\n",
            "\n",
            "           0       0.80      0.84      0.82        98\n",
            "           1       0.62      0.55      0.58        47\n",
            "\n",
            "    accuracy                           0.74       145\n",
            "   macro avg       0.71      0.69      0.70       145\n",
            "weighted avg       0.74      0.74      0.74       145\n",
            "\n"
          ]
        }
      ]
    },
    {
      "cell_type": "markdown",
      "source": [
        "\n",
        "\n",
        "---\n",
        "\n",
        "\n",
        "\n",
        "#**BERNOULLI NB**\n",
        "\n",
        "\n",
        "\n",
        "---\n",
        "\n"
      ],
      "metadata": {
        "id": "uC8-e9xpXQ5w"
      }
    },
    {
      "cell_type": "code",
      "source": [
        "from sklearn.naive_bayes import BernoulliNB\n",
        "\n",
        "bernoulliNB = BernoulliNB()\n",
        "bernoulliNB.fit(X_train, y_train)\n",
        "\n",
        "train_pred_bernoulliNB = bernoulliNB.predict(X_train)\n",
        "print('Train Accuracy : %.3f%% ' % (accuracy_score(y_train , train_pred_bernoulliNB)*100))\n",
        "\n",
        "print(\"Confusion Matrix-BernoulliNB-Train: \")\n",
        "print(confusion_matrix(y_train, train_pred_bernoulliNB))\n",
        "\n",
        "print('\\nModel Sonuçları\\n')\n",
        "print(classification_report(y_train, train_pred_bernoulliNB))\n",
        "\n",
        "print(\"-\"*40)\n",
        "\n",
        "\n",
        "test_pred_bernoulliNB = bernoulliNB.predict(X_test)\n",
        "print('Test Accuracy  : %.3f%% ' % (accuracy_score(y_test, test_pred_bernoulliNB)*100))\n",
        "\n",
        "print(\"Confusion Matrix-BernoulliNB-Test: \")\n",
        "print(confusion_matrix(y_test, test_pred_bernoulliNB))\n",
        "\n",
        "print('\\nModel Sonuçları\\n')\n",
        "print(classification_report(y_test, test_pred_bernoulliNB))\n",
        "\n",
        "\n",
        "\n"
      ],
      "metadata": {
        "execution": {
          "iopub.status.busy": "2021-12-17T01:22:06.945667Z",
          "iopub.execute_input": "2021-12-17T01:22:06.946597Z",
          "iopub.status.idle": "2021-12-17T01:22:06.970299Z",
          "shell.execute_reply.started": "2021-12-17T01:22:06.946513Z",
          "shell.execute_reply": "2021-12-17T01:22:06.969622Z"
        },
        "trusted": true,
        "id": "xOkjLHEaUZ4j",
        "colab": {
          "base_uri": "https://localhost:8080/"
        },
        "outputId": "729083d4-f04b-4da6-c959-765b5716bab5"
      },
      "execution_count": 108,
      "outputs": [
        {
          "output_type": "stream",
          "name": "stdout",
          "text": [
            "Train Accuracy : 71.848% \n",
            "Confusion Matrix-BernoulliNB-Train: \n",
            "[[296  81]\n",
            " [ 82 120]]\n",
            "\n",
            "Model Sonuçları\n",
            "\n",
            "              precision    recall  f1-score   support\n",
            "\n",
            "           0       0.78      0.79      0.78       377\n",
            "           1       0.60      0.59      0.60       202\n",
            "\n",
            "    accuracy                           0.72       579\n",
            "   macro avg       0.69      0.69      0.69       579\n",
            "weighted avg       0.72      0.72      0.72       579\n",
            "\n",
            "----------------------------------------\n",
            "Test Accuracy  : 75.862% \n",
            "Confusion Matrix-BernoulliNB-Test: \n",
            "[[83 15]\n",
            " [20 27]]\n",
            "\n",
            "Model Sonuçları\n",
            "\n",
            "              precision    recall  f1-score   support\n",
            "\n",
            "           0       0.81      0.85      0.83        98\n",
            "           1       0.64      0.57      0.61        47\n",
            "\n",
            "    accuracy                           0.76       145\n",
            "   macro avg       0.72      0.71      0.72       145\n",
            "weighted avg       0.75      0.76      0.75       145\n",
            "\n"
          ]
        }
      ]
    },
    {
      "cell_type": "code",
      "source": [
        "fpr , tpr , thresolds = metrics.roc_curve(y_train, train_pred_bernoulliNB)\n",
        "roc_auc = metrics.auc(fpr , tpr)\n",
        "plt.plot(fpr , tpr ,'b' ,label = 'AUC =0.2f' %roc_auc)\n",
        "roc_auc\n",
        "\n"
      ],
      "metadata": {
        "colab": {
          "base_uri": "https://localhost:8080/",
          "height": 282
        },
        "id": "wKAJML--WrF0",
        "outputId": "286583a9-62a8-4721-e0ac-a8ad819b9b15"
      },
      "execution_count": 109,
      "outputs": [
        {
          "output_type": "execute_result",
          "data": {
            "text/plain": [
              "0.6896026472673793"
            ]
          },
          "metadata": {},
          "execution_count": 109
        },
        {
          "output_type": "display_data",
          "data": {
            "image/png": "[encoded data removed]",
            "text/plain": [
              "<Figure size 432x288 with 1 Axes>"
            ]
          },
          "metadata": {
            "needs_background": "light"
          }
        }
      ]
    },
    {
      "cell_type": "code",
      "source": [
        "\n",
        "\n",
        "fpr , tpr , thresolds = metrics.roc_curve(y_test, test_pred_bernoulliNB)\n",
        "roc_auc = metrics.auc(fpr , tpr)\n",
        "plt.plot(fpr , tpr ,'b' ,label = 'AUC =0.2f' %roc_auc)\n",
        "roc_auc"
      ],
      "metadata": {
        "colab": {
          "base_uri": "https://localhost:8080/",
          "height": 282
        },
        "id": "omXa2O6XXL15",
        "outputId": "d35905d8-b095-4f77-f6c5-274649061ffc"
      },
      "execution_count": 110,
      "outputs": [
        {
          "output_type": "execute_result",
          "data": {
            "text/plain": [
              "0.7107034303082935"
            ]
          },
          "metadata": {},
          "execution_count": 110
        },
        {
          "output_type": "display_data",
          "data": {
            "image/png": "[encoded data removed]",
            "text/plain": [
              "<Figure size 432x288 with 1 Axes>"
            ]
          },
          "metadata": {
            "needs_background": "light"
          }
        }
      ]
    },
    {
      "cell_type": "markdown",
      "source": [
        "\n",
        "\n",
        "---\n",
        "BernoulliNB Hiperparametre İle\n",
        "\n",
        "---\n",
        "\n",
        "\n"
      ],
      "metadata": {
        "id": "HkIqfPRz-ety"
      }
    },
    {
      "cell_type": "code",
      "source": [
        "from sklearn.naive_bayes import BernoulliNB\n",
        "\n"
      ],
      "metadata": {
        "id": "1kTYd9d6ALvu"
      },
      "execution_count": 111,
      "outputs": []
    },
    {
      "cell_type": "code",
      "source": [
        "parameters = [{'alpha':np.linspace(0.1,1,10)}]\n",
        "\n",
        "clf = GridSearchCV(BernoulliNB(), parameters, scoring='f1')\n",
        "clf.fit(X_train,y_train) \n",
        "\n",
        "# En iyi parametreyi yazdırmak\n",
        "print(\"\\n\",clf.best_params_)\n",
        "# Hiperparametre ayarından sonra modelimizin nasıl göründüğünü yazdır\n",
        "print(\"\\n\",clf.best_estimator_)\n",
        "\n",
        "clf_pre = clf.predict(X_test)\n",
        "\n",
        "print(classification_report(y_test , clf_pre))"
      ],
      "metadata": {
        "colab": {
          "base_uri": "https://localhost:8080/"
        },
        "id": "uNs54H57-mzn",
        "outputId": "dfa134e5-594d-462e-ca37-6e3a23eb7adb"
      },
      "execution_count": 112,
      "outputs": [
        {
          "output_type": "stream",
          "name": "stdout",
          "text": [
            "\n",
            " {'alpha': 0.1}\n",
            "\n",
            " BernoulliNB(alpha=0.1)\n",
            "              precision    recall  f1-score   support\n",
            "\n",
            "           0       0.81      0.85      0.83        98\n",
            "           1       0.64      0.57      0.61        47\n",
            "\n",
            "    accuracy                           0.76       145\n",
            "   macro avg       0.72      0.71      0.72       145\n",
            "weighted avg       0.75      0.76      0.75       145\n",
            "\n"
          ]
        }
      ]
    },
    {
      "cell_type": "markdown",
      "source": [
        "\n",
        "\n",
        "---\n",
        "\n",
        "\n",
        "\n",
        "#**LogisticRegression**\n",
        "\n",
        "\n",
        "\n",
        "---\n",
        "\n"
      ],
      "metadata": {
        "id": "_JEhwHcaXzqv"
      }
    },
    {
      "cell_type": "code",
      "source": [
        "from sklearn.linear_model import LogisticRegression\n",
        "from sklearn.metrics import accuracy_score\n",
        "\n",
        "from sklearn.metrics import plot_confusion_matrix\n",
        "\n",
        "from sklearn.metrics import confusion_matrix\n",
        "\n",
        "from sklearn.metrics import classification_report\n",
        "from sklearn.model_selection import GridSearchCV\n"
      ],
      "metadata": {
        "id": "tFRcl8YCYAf4"
      },
      "execution_count": 113,
      "outputs": []
    },
    {
      "cell_type": "code",
      "source": [
        "logisticRegression = LogisticRegression(random_state=123456)\n",
        "logisticRegression.fit(X_train, y_train)\n",
        "\n",
        "\n",
        "train_pred_logisticRegression = logisticRegression.predict(X_train)\n",
        "print('Train Accuracy : %.3f%% ' % (accuracy_score(y_train , train_pred_logisticRegression)*100))\n",
        "\n",
        "print(\"Confusion Matrix-LogisticRegression-Train: \")\n",
        "print(confusion_matrix(y_train, train_pred_logisticRegression))\n",
        "\n",
        "print('\\nModel Sonuçları\\n')\n",
        "print(classification_report(y_train, train_pred_logisticRegression))\n",
        "\n",
        "print(\"-\"*40)\n",
        "\n",
        "test_pred_logisticRegression = logisticRegression.predict(X_test)\n",
        "print('Test Accuracy  : %.3f%% ' % (accuracy_score(y_test, test_pred_logisticRegression)*100))\n",
        "\n",
        "print(\"Confusion Matrix-LogisticRegression-Test: \")\n",
        "print(confusion_matrix(y_test, test_pred_logisticRegression))\n",
        "\n",
        "print('\\nModel Sonuçları\\n')\n",
        "print(classification_report(y_test, test_pred_logisticRegression))"
      ],
      "metadata": {
        "execution": {
          "iopub.status.busy": "2021-12-17T01:22:06.971665Z",
          "iopub.execute_input": "2021-12-17T01:22:06.973723Z",
          "iopub.status.idle": "2021-12-17T01:22:07.000195Z",
          "shell.execute_reply.started": "2021-12-17T01:22:06.973687Z",
          "shell.execute_reply": "2021-12-17T01:22:06.99925Z"
        },
        "trusted": true,
        "id": "itxcpi2RUZ4j",
        "colab": {
          "base_uri": "https://localhost:8080/"
        },
        "outputId": "0b6653f2-3825-48c5-ee68-00505951bb35"
      },
      "execution_count": 114,
      "outputs": [
        {
          "output_type": "stream",
          "name": "stdout",
          "text": [
            "Train Accuracy : 78.411% \n",
            "Confusion Matrix-LogisticRegression-Train: \n",
            "[[335  42]\n",
            " [ 83 119]]\n",
            "\n",
            "Model Sonuçları\n",
            "\n",
            "              precision    recall  f1-score   support\n",
            "\n",
            "           0       0.80      0.89      0.84       377\n",
            "           1       0.74      0.59      0.66       202\n",
            "\n",
            "    accuracy                           0.78       579\n",
            "   macro avg       0.77      0.74      0.75       579\n",
            "weighted avg       0.78      0.78      0.78       579\n",
            "\n",
            "----------------------------------------\n",
            "Test Accuracy  : 75.862% \n",
            "Confusion Matrix-LogisticRegression-Test: \n",
            "[[86 12]\n",
            " [23 24]]\n",
            "\n",
            "Model Sonuçları\n",
            "\n",
            "              precision    recall  f1-score   support\n",
            "\n",
            "           0       0.79      0.88      0.83        98\n",
            "           1       0.67      0.51      0.58        47\n",
            "\n",
            "    accuracy                           0.76       145\n",
            "   macro avg       0.73      0.69      0.70       145\n",
            "weighted avg       0.75      0.76      0.75       145\n",
            "\n"
          ]
        }
      ]
    },
    {
      "cell_type": "code",
      "source": [
        "fpr , tpr , thresolds = metrics.roc_curve(y_train, train_pred_logisticRegression)\n",
        "roc_auc = metrics.auc(fpr , tpr)\n",
        "plt.plot(fpr , tpr ,'b' ,label = 'AUC =0.2f' %roc_auc)\n",
        "roc_auc"
      ],
      "metadata": {
        "colab": {
          "base_uri": "https://localhost:8080/",
          "height": 282
        },
        "id": "jDn2OgmcYJO7",
        "outputId": "50e36bac-cb3e-44c2-d2c7-12fcfa37ac00"
      },
      "execution_count": 115,
      "outputs": [
        {
          "output_type": "execute_result",
          "data": {
            "text/plain": [
              "0.7388515376736613"
            ]
          },
          "metadata": {},
          "execution_count": 115
        },
        {
          "output_type": "display_data",
          "data": {
            "image/png": "[encoded data removed]",
            "text/plain": [
              "<Figure size 432x288 with 1 Axes>"
            ]
          },
          "metadata": {
            "needs_background": "light"
          }
        }
      ]
    },
    {
      "cell_type": "code",
      "source": [
        "fpr , tpr , thresolds = metrics.roc_curve(y_test, test_pred_logisticRegression)\n",
        "roc_auc = metrics.auc(fpr , tpr)\n",
        "plt.plot(fpr , tpr ,'b' ,label = 'AUC =0.2f' %roc_auc)\n",
        "roc_auc"
      ],
      "metadata": {
        "colab": {
          "base_uri": "https://localhost:8080/",
          "height": 282
        },
        "id": "MOmK7wxbYMDb",
        "outputId": "6c0dfe53-08ed-4114-f0d5-886638a95c3f"
      },
      "execution_count": 116,
      "outputs": [
        {
          "output_type": "execute_result",
          "data": {
            "text/plain": [
              "0.6940946591402517"
            ]
          },
          "metadata": {},
          "execution_count": 116
        },
        {
          "output_type": "display_data",
          "data": {
            "image/png": "[encoded data removed]",
            "text/plain": [
              "<Figure size 432x288 with 1 Axes>"
            ]
          },
          "metadata": {
            "needs_background": "light"
          }
        }
      ]
    },
    {
      "cell_type": "markdown",
      "source": [
        "\n",
        "\n",
        "---\n",
        "Logistic Regression Hiperparametreler İle\n",
        "\n",
        "---\n",
        "\n",
        "\n"
      ],
      "metadata": {
        "id": "GNzo67mqC5xt"
      }
    },
    {
      "cell_type": "code",
      "source": [
        "param ={\"C\":np.logspace(20,40,60), \"penalty\":[\"l2\",\"none\"]}  # logistic regresyon tekrar bak \n",
        "\n",
        "cv = GridSearchCV(LogisticRegression(), param, scoring = 'accuracy', cv=5,n_jobs=-1).fit(X_train,y_train)\n",
        "print(\"Bulunan En İyi Parametreler: \", cv.best_params_)\n",
        "print(\"En İyi Parametrelerin Verdiği Skor:\",cv.best_score_)"
      ],
      "metadata": {
        "colab": {
          "base_uri": "https://localhost:8080/"
        },
        "id": "wSx_Fv_FC5xu",
        "outputId": "3bbddc25-8070-461b-91cf-b4c2afc2867c"
      },
      "execution_count": 117,
      "outputs": [
        {
          "output_type": "stream",
          "name": "stdout",
          "text": [
            "Bulunan En İyi Parametreler:  {'C': 1e+20, 'penalty': 'l2'}\n",
            "En İyi Parametrelerin Verdiği Skor: 0.7738080959520239\n"
          ]
        }
      ]
    },
    {
      "cell_type": "markdown",
      "source": [
        "\n",
        "\n",
        "---\n",
        "\n",
        "\n",
        "\n",
        "#**DECISION TREE**\n",
        "\n",
        "\n",
        "\n",
        "---\n",
        "\n"
      ],
      "metadata": {
        "id": "43GT6AmgYObn"
      }
    },
    {
      "cell_type": "code",
      "source": [
        "from sklearn.tree import DecisionTreeClassifier\n",
        "from sklearn.metrics import accuracy_score\n",
        "\n",
        "from sklearn.metrics import plot_confusion_matrix\n",
        "\n",
        "from sklearn.metrics import confusion_matrix\n",
        "\n",
        "from sklearn.metrics import classification_report\n",
        "from sklearn.model_selection import GridSearchCV\n"
      ],
      "metadata": {
        "id": "FhBLCiThrNYm"
      },
      "execution_count": 118,
      "outputs": []
    },
    {
      "cell_type": "code",
      "source": [
        "decision_tree = DecisionTreeClassifier()\n",
        "decision_tree.fit(X_train, y_train)\n",
        "\n",
        "train_pred_decision_tree = decision_tree.predict(X_train)\n",
        "print('Train Accuracy : %.3f%% ' % (accuracy_score(y_train , train_pred_decision_tree)*100))\n",
        "\n",
        "print(\"Confusion Matrix-DecisionTreeClassifier-Train: \")\n",
        "print(confusion_matrix(y_train, train_pred_decision_tree))\n",
        "\n",
        "print('\\nModel Sonuçları\\n')\n",
        "print(classification_report(y_train, train_pred_decision_tree))\n",
        "\n",
        "print(\"-\"*40)\n",
        "\n",
        "test_pred_decision_tree = decision_tree.predict(X_test)\n",
        "print('Test Accuracy  : %.3f%% ' % (accuracy_score(y_test, test_pred_decision_tree)*100))\n",
        "\n",
        "print(\"Confusion Matrix-DecisionTreeClassifier-Test: \")\n",
        "print(confusion_matrix(y_test, test_pred_decision_tree))\n",
        "\n",
        "print('\\nModel Sonuçları\\n')\n",
        "print(classification_report(y_test, test_pred_decision_tree))"
      ],
      "metadata": {
        "execution": {
          "iopub.status.busy": "2021-12-17T01:22:07.001274Z",
          "iopub.execute_input": "2021-12-17T01:22:07.001482Z",
          "iopub.status.idle": "2021-12-17T01:22:07.027345Z",
          "shell.execute_reply.started": "2021-12-17T01:22:07.001455Z",
          "shell.execute_reply": "2021-12-17T01:22:07.02674Z"
        },
        "trusted": true,
        "id": "yPiAq7iyUZ4k",
        "colab": {
          "base_uri": "https://localhost:8080/"
        },
        "outputId": "913704ae-9d4e-4e32-8fa3-a9f655804353"
      },
      "execution_count": 119,
      "outputs": [
        {
          "output_type": "stream",
          "name": "stdout",
          "text": [
            "Train Accuracy : 100.000% \n",
            "Confusion Matrix-DecisionTreeClassifier-Train: \n",
            "[[377   0]\n",
            " [  0 202]]\n",
            "\n",
            "Model Sonuçları\n",
            "\n",
            "              precision    recall  f1-score   support\n",
            "\n",
            "           0       1.00      1.00      1.00       377\n",
            "           1       1.00      1.00      1.00       202\n",
            "\n",
            "    accuracy                           1.00       579\n",
            "   macro avg       1.00      1.00      1.00       579\n",
            "weighted avg       1.00      1.00      1.00       579\n",
            "\n",
            "----------------------------------------\n",
            "Test Accuracy  : 64.828% \n",
            "Confusion Matrix-DecisionTreeClassifier-Test: \n",
            "[[67 31]\n",
            " [20 27]]\n",
            "\n",
            "Model Sonuçları\n",
            "\n",
            "              precision    recall  f1-score   support\n",
            "\n",
            "           0       0.77      0.68      0.72        98\n",
            "           1       0.47      0.57      0.51        47\n",
            "\n",
            "    accuracy                           0.65       145\n",
            "   macro avg       0.62      0.63      0.62       145\n",
            "weighted avg       0.67      0.65      0.66       145\n",
            "\n"
          ]
        }
      ]
    },
    {
      "cell_type": "code",
      "source": [
        "fpr , tpr , thresolds = metrics.roc_curve(y_train, train_pred_decision_tree)\n",
        "roc_auc = metrics.auc(fpr , tpr)\n",
        "plt.plot(fpr , tpr ,'b' ,label = 'AUC =0.2f' %roc_auc)\n",
        "roc_auc"
      ],
      "metadata": {
        "id": "Ro_HBlzgF1Vl",
        "colab": {
          "base_uri": "https://localhost:8080/",
          "height": 282
        },
        "outputId": "1223e6c9-26bb-4f83-b5d6-d268f2655310"
      },
      "execution_count": 120,
      "outputs": [
        {
          "output_type": "execute_result",
          "data": {
            "text/plain": [
              "1.0"
            ]
          },
          "metadata": {},
          "execution_count": 120
        },
        {
          "output_type": "display_data",
          "data": {
            "image/png": "[encoded data removed]",
            "text/plain": [
              "<Figure size 432x288 with 1 Axes>"
            ]
          },
          "metadata": {
            "needs_background": "light"
          }
        }
      ]
    },
    {
      "cell_type": "code",
      "source": [
        "fpr , tpr , thresolds = metrics.roc_curve(y_test, test_pred_decision_tree)\n",
        "roc_auc = metrics.auc(fpr , tpr)\n",
        "plt.plot(fpr , tpr ,'b' ,label = 'AUC =0.2f' %roc_auc)\n",
        "roc_auc"
      ],
      "metadata": {
        "colab": {
          "base_uri": "https://localhost:8080/",
          "height": 282
        },
        "id": "TIA0RiPvako9",
        "outputId": "70ac05ee-16f5-4978-d2c5-227652b11fb0"
      },
      "execution_count": 121,
      "outputs": [
        {
          "output_type": "execute_result",
          "data": {
            "text/plain": [
              "0.6290707772470691"
            ]
          },
          "metadata": {},
          "execution_count": 121
        },
        {
          "output_type": "display_data",
          "data": {
            "image/png": "[encoded data removed]",
            "text/plain": [
              "<Figure size 432x288 with 1 Axes>"
            ]
          },
          "metadata": {
            "needs_background": "light"
          }
        }
      ]
    },
    {
      "cell_type": "markdown",
      "source": [
        "---\n",
        "Decision Tree Hiperparametreler İle\n",
        "\n",
        "---\n",
        "\n",
        "\n"
      ],
      "metadata": {
        "id": "CffqegJMF-v-"
      }
    },
    {
      "cell_type": "code",
      "source": [
        "param_dict= {\"criterion\":['gini' , 'entropy'],\n",
        "             \"max_depth\"          : range(1,8),\n",
        "             \"min_samples_split\"  : range(1,10),\n",
        "             \"min_samples_leaf\"   : range(1,5), \n",
        "            }\n",
        "\n",
        "detr=DecisionTreeClassifier()\n",
        "\n",
        "detr_cv = GridSearchCV (detr,param_dict, verbose=0)\n",
        "detr_cv.fit(X_train,y_train)\n"
      ],
      "metadata": {
        "colab": {
          "base_uri": "https://localhost:8080/"
        },
        "outputId": "27ec1bbe-17b1-4846-dc3b-74900f08f3a6",
        "id": "LeWRVY5_F-v-"
      },
      "execution_count": 122,
      "outputs": [
        {
          "output_type": "stream",
          "name": "stderr",
          "text": [
            "/usr/local/lib/python3.7/dist-packages/sklearn/model_selection/_validation.py:372: FitFailedWarning: \n",
            "280 fits failed out of a total of 2520.\n",
            "The score on these train-test partitions for these parameters will be set to nan.\n",
            "If these failures are not expected, you can try to debug them by setting error_score='raise'.\n",
            "\n",
            "Below are more details about the failures:\n",
            "--------------------------------------------------------------------------------\n",
            "280 fits failed with the following error:\n",
            "Traceback (most recent call last):\n",
            "  File \"/usr/local/lib/python3.7/dist-packages/sklearn/model_selection/_validation.py\", line 681, in _fit_and_score\n",
            "    estimator.fit(X_train, y_train, **fit_params)\n",
            "  File \"/usr/local/lib/python3.7/dist-packages/sklearn/tree/_classes.py\", line 942, in fit\n",
            "    X_idx_sorted=X_idx_sorted,\n",
            "  File \"/usr/local/lib/python3.7/dist-packages/sklearn/tree/_classes.py\", line 254, in fit\n",
            "    % self.min_samples_split\n",
            "ValueError: min_samples_split must be an integer greater than 1 or a float in (0.0, 1.0]; got the integer 1\n",
            "\n",
            "  warnings.warn(some_fits_failed_message, FitFailedWarning)\n",
            "/usr/local/lib/python3.7/dist-packages/sklearn/model_selection/_search.py:972: UserWarning: One or more of the test scores are non-finite: [       nan 0.7253973  0.7253973  0.7253973  0.7253973  0.7253973\n",
            " 0.7253973  0.7253973  0.7253973         nan 0.7253973  0.7253973\n",
            " 0.7253973  0.7253973  0.7253973  0.7253973  0.7253973  0.7253973\n",
            "        nan 0.7253973  0.7253973  0.7253973  0.7253973  0.7253973\n",
            " 0.7253973  0.7253973  0.7253973         nan 0.7253973  0.7253973\n",
            " 0.7253973  0.7253973  0.7253973  0.7253973  0.7253973  0.7253973\n",
            "        nan 0.7426087  0.7426087  0.7426087  0.7426087  0.7426087\n",
            " 0.7426087  0.7426087  0.7426087         nan 0.7426087  0.7426087\n",
            " 0.7426087  0.7426087  0.7426087  0.7426087  0.7426087  0.7426087\n",
            "        nan 0.7426087  0.7426087  0.7426087  0.7426087  0.7426087\n",
            " 0.7426087  0.7426087  0.7426087         nan 0.7426087  0.7426087\n",
            " 0.7426087  0.7426087  0.7426087  0.7426087  0.7426087  0.7426087\n",
            "        nan 0.73052474 0.73224888 0.73224888 0.73224888 0.73052474\n",
            " 0.73052474 0.73224888 0.73052474        nan 0.73052474 0.73052474\n",
            " 0.73052474 0.73052474 0.73052474 0.73052474 0.73052474 0.73052474\n",
            "        nan 0.73052474 0.73052474 0.73052474 0.73052474 0.73052474\n",
            " 0.73052474 0.73052474 0.73052474        nan 0.734003   0.734003\n",
            " 0.734003   0.734003   0.734003   0.734003   0.734003   0.734003\n",
            "        nan 0.74437781 0.74437781 0.74092954 0.74091454 0.74091454\n",
            " 0.74263868 0.74091454 0.74089955        nan 0.7392054  0.74092954\n",
            " 0.74092954 0.7391904  0.7391904  0.7391904  0.7391904  0.73745127\n",
            "        nan 0.7391904  0.7391904  0.73746627 0.7391904  0.7391904\n",
            " 0.7391904  0.7391904  0.73745127        nan 0.74437781 0.74437781\n",
            " 0.74437781 0.74437781 0.74437781 0.74437781 0.74437781 0.74437781\n",
            "        nan 0.74436282 0.74437781 0.74265367 0.74610195 0.74436282\n",
            " 0.74263868 0.74436282 0.74088456        nan 0.74437781 0.74610195\n",
            " 0.74265367 0.74263868 0.74091454 0.74091454 0.74263868 0.74089955\n",
            "        nan 0.74091454 0.74263868 0.74263868 0.74091454 0.74263868\n",
            " 0.74091454 0.74263868 0.74089955        nan 0.74782609 0.74782609\n",
            " 0.74955022 0.74782609 0.74782609 0.74955022 0.74955022 0.74782609\n",
            "        nan 0.73916042 0.74434783 0.74089955 0.74088456 0.7425937\n",
            " 0.74262369 0.74608696 0.74434783        nan 0.73742129 0.73743628\n",
            " 0.73743628 0.73397301 0.73569715 0.73571214 0.73398801 0.73571214\n",
            "        nan 0.73224888 0.73742129 0.73916042 0.73571214 0.73914543\n",
            " 0.73742129 0.73397301 0.73742129        nan 0.73917541 0.74089955\n",
            " 0.74262369 0.74262369 0.73916042 0.73917541 0.74089955 0.73743628\n",
            "        nan 0.74092954 0.73574213 0.74092954 0.73224888 0.73743628\n",
            " 0.74437781 0.74782609 0.73746627        nan 0.73397301 0.73574213\n",
            " 0.73056972 0.72883058 0.73746627 0.73403298 0.73224888 0.72706147\n",
            "        nan 0.73223388 0.73223388 0.74092954 0.74263868 0.72535232\n",
            " 0.73058471 0.734003   0.73572714        nan 0.74263868 0.74088456\n",
            " 0.74433283 0.7426087  0.74784108 0.74433283 0.74956522 0.74608696\n",
            "        nan 0.7253973  0.7253973  0.7253973  0.7253973  0.7253973\n",
            " 0.7253973  0.7253973  0.7253973         nan 0.7253973  0.7253973\n",
            " 0.7253973  0.7253973  0.7253973  0.7253973  0.7253973  0.7253973\n",
            "        nan 0.7253973  0.7253973  0.7253973  0.7253973  0.7253973\n",
            " 0.7253973  0.7253973  0.7253973         nan 0.7253973  0.7253973\n",
            " 0.7253973  0.7253973  0.7253973  0.7253973  0.7253973  0.7253973\n",
            "        nan 0.74608696 0.74608696 0.74608696 0.74608696 0.74608696\n",
            " 0.74608696 0.74608696 0.74608696        nan 0.74608696 0.74608696\n",
            " 0.74608696 0.74608696 0.74608696 0.74608696 0.74608696 0.74608696\n",
            "        nan 0.74608696 0.74608696 0.74608696 0.74608696 0.74608696\n",
            " 0.74608696 0.74608696 0.74608696        nan 0.74608696 0.74608696\n",
            " 0.74608696 0.74608696 0.74608696 0.74608696 0.74608696 0.74608696\n",
            "        nan 0.73227886 0.73227886 0.73227886 0.73227886 0.73227886\n",
            " 0.73227886 0.73227886 0.73227886        nan 0.73227886 0.73227886\n",
            " 0.73227886 0.73227886 0.73227886 0.73227886 0.73227886 0.73227886\n",
            "        nan 0.73227886 0.73227886 0.73227886 0.73227886 0.73227886\n",
            " 0.73227886 0.73227886 0.73227886        nan 0.73227886 0.73227886\n",
            " 0.73227886 0.73227886 0.73227886 0.73227886 0.73227886 0.73227886\n",
            "        nan 0.71328336 0.71155922 0.71328336 0.71328336 0.71155922\n",
            " 0.71155922 0.71328336 0.71155922        nan 0.71157421 0.71329835\n",
            " 0.71329835 0.71157421 0.71329835 0.71157421 0.71329835 0.71329835\n",
            "        nan 0.71674663 0.71674663 0.71674663 0.71674663 0.71674663\n",
            " 0.71674663 0.71674663 0.71674663        nan 0.72194903 0.72194903\n",
            " 0.72194903 0.72194903 0.72194903 0.72194903 0.72194903 0.72194903\n",
            "        nan 0.73229385 0.72881559 0.73055472 0.73226387 0.7288006\n",
            " 0.72881559 0.72881559 0.72707646        nan 0.73575712 0.73403298\n",
            " 0.73230885 0.72883058 0.72883058 0.72883058 0.73055472 0.72709145\n",
            "        nan 0.73227886 0.73227886 0.73227886 0.73227886 0.73227886\n",
            " 0.73227886 0.73227886 0.73053973        nan 0.73574213 0.73574213\n",
            " 0.73401799 0.73401799 0.73574213 0.73574213 0.73574213 0.73574213\n",
            "        nan 0.73572714 0.73914543 0.7426087  0.73917541 0.73743628\n",
            " 0.74088456 0.7374063  0.73394303        nan 0.73746627 0.7391904\n",
            " 0.74091454 0.73917541 0.73571214 0.73226387 0.73398801 0.73052474\n",
            "        nan 0.7426087  0.73226387 0.73743628 0.73743628 0.73398801\n",
            " 0.73398801 0.73916042 0.73052474        nan 0.73745127 0.73745127\n",
            " 0.74089955 0.74262369 0.73917541 0.74434783 0.74262369 0.74434783\n",
            "        nan 0.73401799 0.734003   0.72884558 0.73401799 0.73574213\n",
            " 0.73052474 0.7288006  0.73572714        nan 0.72365817 0.73230885\n",
            " 0.73572714 0.73574213 0.72881559 0.72881559 0.72709145 0.73055472\n",
            "        nan 0.73053973 0.73053973 0.72710645 0.72365817 0.72365817\n",
            " 0.72536732 0.73227886 0.73398801        nan 0.72883058 0.72883058\n",
            " 0.72193403 0.72710645 0.73056972 0.72364318 0.72193403 0.7201949 ]\n",
            "  category=UserWarning,\n"
          ]
        },
        {
          "output_type": "execute_result",
          "data": {
            "text/plain": [
              "GridSearchCV(estimator=DecisionTreeClassifier(),\n",
              "             param_grid={'criterion': ['gini', 'entropy'],\n",
              "                         'max_depth': range(1, 8),\n",
              "                         'min_samples_leaf': range(1, 5),\n",
              "                         'min_samples_split': range(1, 10)})"
            ]
          },
          "metadata": {},
          "execution_count": 122
        }
      ]
    },
    {
      "cell_type": "code",
      "source": [
        "detr_cv.best_params_\n",
        "\n",
        "grid_dt_predictions = detr_cv.predict(X_test)\n",
        " \n",
        "# Sınıflandırma raporunu yazdırmak\n",
        "print(classification_report(y_test, grid_dt_predictions))"
      ],
      "metadata": {
        "colab": {
          "base_uri": "https://localhost:8080/"
        },
        "outputId": "c447b5d6-b5fc-4609-d5c4-e8376038fd11",
        "id": "7zsVpaATF-v_"
      },
      "execution_count": 123,
      "outputs": [
        {
          "output_type": "stream",
          "name": "stdout",
          "text": [
            "              precision    recall  f1-score   support\n",
            "\n",
            "           0       0.78      0.83      0.80        98\n",
            "           1       0.59      0.51      0.55        47\n",
            "\n",
            "    accuracy                           0.72       145\n",
            "   macro avg       0.68      0.67      0.67       145\n",
            "weighted avg       0.72      0.72      0.72       145\n",
            "\n"
          ]
        }
      ]
    },
    {
      "cell_type": "markdown",
      "source": [
        "\n",
        "\n",
        "---\n",
        "\n",
        "\n",
        "\n",
        "#**SVM (SUPPORT VECTOR MACHINE)**\n",
        "\n",
        "\n",
        "\n",
        "---\n",
        "\n"
      ],
      "metadata": {
        "id": "atXXed8wYYqB"
      }
    },
    {
      "cell_type": "code",
      "source": [
        "from sklearn import svm\n",
        "from sklearn.svm import SVC"
      ],
      "metadata": {
        "execution": {
          "iopub.status.busy": "2021-12-17T01:22:07.034447Z",
          "iopub.execute_input": "2021-12-17T01:22:07.035097Z",
          "iopub.status.idle": "2021-12-17T01:22:07.046709Z",
          "shell.execute_reply.started": "2021-12-17T01:22:07.035049Z",
          "shell.execute_reply": "2021-12-17T01:22:07.045787Z"
        },
        "trusted": true,
        "id": "mrRe3EUpUZ4k"
      },
      "execution_count": 124,
      "outputs": []
    },
    {
      "cell_type": "code",
      "source": [
        "sv = svm.SVC(kernel='linear')\n",
        "sv.fit(X_train , y_train)\n",
        "X = df1.drop(\"Outcome\", axis=1)\n",
        "y = df1[\"Outcome\"]\n",
        "X_train_svm, X_test_svm , y_train_svm , y_test_svm = train_test_split(X, y, test_size=0.20, random_state=123456)\n",
        "train_pred_svm = sv.predict(X_train_svm)\n",
        "print('Train Accuracy : %.3f%% ' % (accuracy_score(y_train_svm , train_pred_svm)*100))\n",
        "\n",
        "test_pred_svm = sv.predict(X_test_svm)\n",
        "print('Test Accuracy  : %.3f%% ' % (accuracy_score(y_test_svm, test_pred_svm)*100))\n",
        "\n",
        "print(\"Confusion Matrix-SVM: \")\n",
        "print(confusion_matrix(y_test_svm, test_pred_svm))\n",
        "\n"
      ],
      "metadata": {
        "colab": {
          "base_uri": "https://localhost:8080/"
        },
        "id": "Jo-J8WnZENsw",
        "outputId": "fb6a81bc-e1fc-400d-b9da-1b8849521fb6"
      },
      "execution_count": 125,
      "outputs": [
        {
          "output_type": "stream",
          "name": "stdout",
          "text": [
            "Train Accuracy : 77.893% \n",
            "Test Accuracy  : 75.172% \n",
            "Confusion Matrix-SVM: \n",
            "[[85 13]\n",
            " [23 24]]\n"
          ]
        }
      ]
    },
    {
      "cell_type": "code",
      "source": [
        "print('\\nModel Sonuçları\\n')\n",
        "print(classification_report(y_test_svm, test_pred_svm))"
      ],
      "metadata": {
        "colab": {
          "base_uri": "https://localhost:8080/"
        },
        "id": "8oZBZIJOdJTW",
        "outputId": "ab9fed2f-0b01-4ae2-ac8d-15d6a81062e0"
      },
      "execution_count": 126,
      "outputs": [
        {
          "output_type": "stream",
          "name": "stdout",
          "text": [
            "\n",
            "Model Sonuçları\n",
            "\n",
            "              precision    recall  f1-score   support\n",
            "\n",
            "           0       0.79      0.87      0.83        98\n",
            "           1       0.65      0.51      0.57        47\n",
            "\n",
            "    accuracy                           0.75       145\n",
            "   macro avg       0.72      0.69      0.70       145\n",
            "weighted avg       0.74      0.75      0.74       145\n",
            "\n"
          ]
        }
      ]
    },
    {
      "cell_type": "code",
      "source": [
        "fpr , tpr , thresolds = metrics.roc_curve(y_train_svm, train_pred_svm)\n",
        "roc_auc = metrics.auc(fpr , tpr)\n",
        "plt.plot(fpr , tpr ,'b' ,label = 'AUC =0.2f' %roc_auc)\n",
        "roc_auc"
      ],
      "metadata": {
        "colab": {
          "base_uri": "https://localhost:8080/",
          "height": 282
        },
        "id": "vrEP6FM9cc9B",
        "outputId": "5fb3ba4e-1337-4a11-d661-3eabe41f3dea"
      },
      "execution_count": 127,
      "outputs": [
        {
          "output_type": "execute_result",
          "data": {
            "text/plain": [
              "0.7337237702550097"
            ]
          },
          "metadata": {},
          "execution_count": 127
        },
        {
          "output_type": "display_data",
          "data": {
            "image/png": "[encoded data removed]",
            "text/plain": [
              "<Figure size 432x288 with 1 Axes>"
            ]
          },
          "metadata": {
            "needs_background": "light"
          }
        }
      ]
    },
    {
      "cell_type": "code",
      "source": [
        "fpr , tpr , thresolds = metrics.roc_curve(y_test, test_pred_svm)\n",
        "roc_auc = metrics.auc(fpr , tpr)\n",
        "plt.plot(fpr , tpr ,'b' ,label = 'AUC =0.2f' %roc_auc)\n",
        "roc_auc"
      ],
      "metadata": {
        "colab": {
          "base_uri": "https://localhost:8080/",
          "height": 282
        },
        "id": "0oru0FSAdVfV",
        "outputId": "797dfc15-2026-4fb2-ef8a-db8d0f8b1857"
      },
      "execution_count": 128,
      "outputs": [
        {
          "output_type": "execute_result",
          "data": {
            "text/plain": [
              "0.6889926183239252"
            ]
          },
          "metadata": {},
          "execution_count": 128
        },
        {
          "output_type": "display_data",
          "data": {
            "image/png": "[encoded data removed]",
            "text/plain": [
              "<Figure size 432x288 with 1 Axes>"
            ]
          },
          "metadata": {
            "needs_background": "light"
          }
        }
      ]
    },
    {
      "cell_type": "markdown",
      "source": [
        "\n",
        "\n",
        "---\n",
        "SVM Hiperparametre İle\n",
        "\n",
        "\n",
        "---\n",
        "\n",
        "\n"
      ],
      "metadata": {
        "id": "HE7VLuRgcUxR"
      }
    },
    {
      "cell_type": "code",
      "source": [
        "#Parametrenin Sınırlarını Belirtme\n",
        "\n",
        "param_grid = {'C': [0.1, 1, 10, 100, 1000],\n",
        "              'gamma': [ 0.0001 , 0.01 , 0.1 , 1],\n",
        "              'kernel': ['rbf']}\n",
        "model=SVC()\n",
        "grid = GridSearchCV(SVC(), param_grid, refit = True, verbose = 1)\n",
        "\n",
        "\n",
        "#Modeli Fitlemek\n",
        "grid.fit(X_train_svm, y_train_svm)\n",
        "grid.fit(X_test_svm, y_test_svm)"
      ],
      "metadata": {
        "colab": {
          "base_uri": "https://localhost:8080/"
        },
        "id": "CzCPFMtACyY-",
        "outputId": "d26d3c4a-ee90-4c2e-ef6f-aa365945dd03"
      },
      "execution_count": 129,
      "outputs": [
        {
          "output_type": "stream",
          "name": "stdout",
          "text": [
            "Fitting 5 folds for each of 20 candidates, totalling 100 fits\n",
            "Fitting 5 folds for each of 20 candidates, totalling 100 fits\n"
          ]
        },
        {
          "output_type": "execute_result",
          "data": {
            "text/plain": [
              "GridSearchCV(estimator=SVC(),\n",
              "             param_grid={'C': [0.1, 1, 10, 100, 1000],\n",
              "                         'gamma': [0.0001, 0.01, 0.1, 1], 'kernel': ['rbf']},\n",
              "             verbose=1)"
            ]
          },
          "metadata": {},
          "execution_count": 129
        }
      ]
    },
    {
      "cell_type": "code",
      "source": [
        "# En iyi parametreyi yazdırmak\n",
        "print(\"\\n\",grid.best_params_)\n",
        "# Hiperparametre ayarından sonra modelimizin nasıl göründüğünü yazdır\n",
        "print(\"\\n\",grid.best_estimator_)\n"
      ],
      "metadata": {
        "colab": {
          "base_uri": "https://localhost:8080/"
        },
        "id": "bb8xvj27LXxY",
        "outputId": "3df75b00-da5a-4608-9d4e-28a31fbbccdd"
      },
      "execution_count": 130,
      "outputs": [
        {
          "output_type": "stream",
          "name": "stdout",
          "text": [
            "\n",
            " {'C': 100, 'gamma': 0.01, 'kernel': 'rbf'}\n",
            "\n",
            " SVC(C=100, gamma=0.01)\n"
          ]
        }
      ]
    },
    {
      "cell_type": "code",
      "source": [
        "grid_predictions = grid.predict(X_test_svm)\n",
        " \n",
        "# Sınıflandırma raporunu yazdırmak\n",
        "print(classification_report(y_test_svm, grid_predictions))\n"
      ],
      "metadata": {
        "colab": {
          "base_uri": "https://localhost:8080/"
        },
        "id": "q1p-uABELbqu",
        "outputId": "fb6943b3-af19-4777-9bb3-e82ab85e3cbf"
      },
      "execution_count": 131,
      "outputs": [
        {
          "output_type": "stream",
          "name": "stdout",
          "text": [
            "              precision    recall  f1-score   support\n",
            "\n",
            "           0       0.81      0.96      0.88        98\n",
            "           1       0.86      0.53      0.66        47\n",
            "\n",
            "    accuracy                           0.82       145\n",
            "   macro avg       0.84      0.75      0.77       145\n",
            "weighted avg       0.83      0.82      0.81       145\n",
            "\n"
          ]
        }
      ]
    },
    {
      "cell_type": "code",
      "source": [
        "#Hiperparametre kullanmadan önce SVM modelimizin model accuracy %73 idi,sonrasında %79'a yükseldi.\n",
        "\n",
        "print(classification_report(y_test_svm, test_pred_svm))\n",
        "print(\"\\n HIPERPARAMETRELERDEN SONRA \\n\")\n",
        "print(classification_report(y_test_svm, grid_predictions))"
      ],
      "metadata": {
        "id": "1p1sZQdF_2sR",
        "colab": {
          "base_uri": "https://localhost:8080/"
        },
        "outputId": "1d3ed42e-e520-4fe2-fc76-b81b313ab632"
      },
      "execution_count": 132,
      "outputs": [
        {
          "output_type": "stream",
          "name": "stdout",
          "text": [
            "              precision    recall  f1-score   support\n",
            "\n",
            "           0       0.79      0.87      0.83        98\n",
            "           1       0.65      0.51      0.57        47\n",
            "\n",
            "    accuracy                           0.75       145\n",
            "   macro avg       0.72      0.69      0.70       145\n",
            "weighted avg       0.74      0.75      0.74       145\n",
            "\n",
            "\n",
            " HIPERPARAMETRELERDEN SONRA \n",
            "\n",
            "              precision    recall  f1-score   support\n",
            "\n",
            "           0       0.81      0.96      0.88        98\n",
            "           1       0.86      0.53      0.66        47\n",
            "\n",
            "    accuracy                           0.82       145\n",
            "   macro avg       0.84      0.75      0.77       145\n",
            "weighted avg       0.83      0.82      0.81       145\n",
            "\n"
          ]
        }
      ]
    },
    {
      "cell_type": "code",
      "source": [
        ""
      ],
      "metadata": {
        "id": "Z_t95Tr9T94K"
      },
      "execution_count": 132,
      "outputs": []
    },
    {
      "cell_type": "markdown",
      "source": [
        "\n",
        "\n",
        "---\n",
        "\n",
        "\n",
        "\n",
        "#**KNN (K-NEAREST NEIGHBORS)**\n",
        "\n",
        "\n",
        "\n",
        "---\n",
        "\n"
      ],
      "metadata": {
        "id": "pdnxo6eAZGLI"
      }
    },
    {
      "cell_type": "code",
      "source": [
        "from sklearn.neighbors import KNeighborsClassifier\n",
        "from sklearn import datasets, linear_model, metrics\n",
        "from sklearn.metrics import accuracy_score, confusion_matrix, classification_report\n",
        "from sklearn.model_selection import train_test_split, GridSearchCV, StratifiedKFold"
      ],
      "metadata": {
        "execution": {
          "iopub.status.busy": "2021-12-17T01:22:07.131238Z",
          "iopub.execute_input": "2021-12-17T01:22:07.131749Z",
          "iopub.status.idle": "2021-12-17T01:22:07.141385Z",
          "shell.execute_reply.started": "2021-12-17T01:22:07.131714Z",
          "shell.execute_reply": "2021-12-17T01:22:07.140757Z"
        },
        "trusted": true,
        "id": "ARM0_yHLUZ4m"
      },
      "execution_count": 133,
      "outputs": []
    },
    {
      "cell_type": "code",
      "source": [
        ""
      ],
      "metadata": {
        "execution": {
          "iopub.status.busy": "2021-12-17T01:22:07.142672Z",
          "iopub.execute_input": "2021-12-17T01:22:07.143038Z",
          "iopub.status.idle": "2021-12-17T01:22:07.155163Z",
          "shell.execute_reply.started": "2021-12-17T01:22:07.142962Z",
          "shell.execute_reply": "2021-12-17T01:22:07.154298Z"
        },
        "trusted": true,
        "id": "Od3Dk1tWUZ4m"
      },
      "execution_count": 133,
      "outputs": []
    },
    {
      "cell_type": "code",
      "source": [
        "knn = KNeighborsClassifier().fit(X_train , y_train)"
      ],
      "metadata": {
        "execution": {
          "iopub.status.busy": "2021-12-17T01:22:07.156518Z",
          "iopub.execute_input": "2021-12-17T01:22:07.157068Z",
          "iopub.status.idle": "2021-12-17T01:22:07.168237Z",
          "shell.execute_reply.started": "2021-12-17T01:22:07.157036Z",
          "shell.execute_reply": "2021-12-17T01:22:07.167605Z"
        },
        "trusted": true,
        "id": "iWt7bhp4UZ4m"
      },
      "execution_count": 134,
      "outputs": []
    },
    {
      "cell_type": "code",
      "source": [
        "pred_knn= knn.predict(X_test)"
      ],
      "metadata": {
        "execution": {
          "iopub.status.busy": "2021-12-17T01:22:07.221175Z",
          "iopub.execute_input": "2021-12-17T01:22:07.221689Z",
          "iopub.status.idle": "2021-12-17T01:22:07.236501Z",
          "shell.execute_reply.started": "2021-12-17T01:22:07.221645Z",
          "shell.execute_reply": "2021-12-17T01:22:07.235856Z"
        },
        "trusted": true,
        "id": "gvFFz73XUZ4m"
      },
      "execution_count": 135,
      "outputs": []
    },
    {
      "cell_type": "code",
      "source": [
        "print(\"KNN Training Accuracy:\" ,knn.score(X_train , y_train))\n",
        "print(\"KNN Test Accuracy:\" ,knn.score(X_test , y_test))\n",
        "print(\"***********\")\n",
        "\n",
        "\n",
        "print(classification_report(y_test, pred_knn))"
      ],
      "metadata": {
        "execution": {
          "iopub.status.busy": "2021-12-17T01:22:07.251162Z",
          "iopub.execute_input": "2021-12-17T01:22:07.251908Z",
          "iopub.status.idle": "2021-12-17T01:22:07.262475Z",
          "shell.execute_reply.started": "2021-12-17T01:22:07.251873Z",
          "shell.execute_reply": "2021-12-17T01:22:07.261605Z"
        },
        "trusted": true,
        "id": "wiLZGtdbUZ4n",
        "colab": {
          "base_uri": "https://localhost:8080/"
        },
        "outputId": "8f5c7e66-8ad7-4f65-d4c3-ff7937859c9d"
      },
      "execution_count": 136,
      "outputs": [
        {
          "output_type": "stream",
          "name": "stdout",
          "text": [
            "KNN Training Accuracy: 0.8376511226252159\n",
            "KNN Test Accuracy: 0.7241379310344828\n",
            "***********\n",
            "              precision    recall  f1-score   support\n",
            "\n",
            "           0       0.77      0.84      0.80        98\n",
            "           1       0.59      0.49      0.53        47\n",
            "\n",
            "    accuracy                           0.72       145\n",
            "   macro avg       0.68      0.66      0.67       145\n",
            "weighted avg       0.71      0.72      0.72       145\n",
            "\n"
          ]
        }
      ]
    },
    {
      "cell_type": "code",
      "source": [
        "print(\"Confusion Matrix-KNN: \")\n",
        "confusion_matrix(y_test, pred_knn)\n"
      ],
      "metadata": {
        "execution": {
          "iopub.status.busy": "2021-12-17T01:22:07.23828Z",
          "iopub.execute_input": "2021-12-17T01:22:07.238778Z",
          "iopub.status.idle": "2021-12-17T01:22:07.249909Z",
          "shell.execute_reply.started": "2021-12-17T01:22:07.238732Z",
          "shell.execute_reply": "2021-12-17T01:22:07.248223Z"
        },
        "trusted": true,
        "id": "YaeG32YMUZ4m",
        "colab": {
          "base_uri": "https://localhost:8080/"
        },
        "outputId": "3d2cddf6-440a-41d9-a106-1fd4b649f382"
      },
      "execution_count": 137,
      "outputs": [
        {
          "output_type": "stream",
          "name": "stdout",
          "text": [
            "Confusion Matrix-KNN: \n"
          ]
        },
        {
          "output_type": "execute_result",
          "data": {
            "text/plain": [
              "array([[82, 16],\n",
              "       [24, 23]])"
            ]
          },
          "metadata": {},
          "execution_count": 137
        }
      ]
    },
    {
      "cell_type": "code",
      "source": [
        "fpr , tpr , thresolds = metrics.roc_curve(y_test , pred_knn)\n",
        "roc_auc = metrics.auc(fpr , tpr)\n",
        "plt.plot(fpr , tpr ,'b' ,label = 'AUC =0.2f' %roc_auc)\n",
        "roc_auc"
      ],
      "metadata": {
        "colab": {
          "base_uri": "https://localhost:8080/",
          "height": 282
        },
        "id": "S6uhvoWadkrc",
        "outputId": "3b63cd39-8af9-44ac-ece4-09437c1d3801"
      },
      "execution_count": 138,
      "outputs": [
        {
          "output_type": "execute_result",
          "data": {
            "text/plain": [
              "0.6630481980026053"
            ]
          },
          "metadata": {},
          "execution_count": 138
        },
        {
          "output_type": "display_data",
          "data": {
            "image/png": "[encoded data removed]",
            "text/plain": [
              "<Figure size 432x288 with 1 Axes>"
            ]
          },
          "metadata": {
            "needs_background": "light"
          }
        }
      ]
    },
    {
      "cell_type": "markdown",
      "source": [
        "\n",
        "\n",
        "---\n",
        "\n",
        "\n",
        "\n",
        "*KNN modeli için hiperparametreleri bulma*\n",
        "\n",
        "---\n",
        "\n"
      ],
      "metadata": {
        "id": "n7yMZXve7nOk"
      }
    },
    {
      "cell_type": "code",
      "source": [
        "#KNN modelinde en iyi parametreleri bulmak için üç önemli parametreyi aldık. Değer aralıklarını belirtip GridSearchCV ile en iyi sonucu veren parametreleri tespit ettik.\n",
        "\n",
        "\n",
        "\n",
        "stratified_kfold = StratifiedKFold(n_splits=5,   #Diğerlerinden farklı olarak burada Straified K Fold Cross-Validation kullanıldı.)\n",
        "                                       shuffle=False,\n",
        "                                       random_state=None)\n",
        "\n",
        "param_grid = {\n",
        "              'n_neighbors': [3, 5, 11, 19],\n",
        "              'weights': ['uniform'  , 'distance'],\n",
        "              'metric': ['euclideans', 'manhattan']\n",
        "              }\n",
        "model = KNeighborsClassifier()\n",
        "grid_search = GridSearchCV(model, param_grid,scoring='roc_auc', refit = True, cv=stratified_kfold,  verbose = 1)\n",
        "\n",
        "\n",
        "grid_search.fit(X_train, y_train)\n",
        "\n",
        " "
      ],
      "metadata": {
        "colab": {
          "base_uri": "https://localhost:8080/"
        },
        "id": "kRnHjGsB27DX",
        "outputId": "cb9a6c27-6bf3-40ba-f9b0-2d37bf7e9cbf"
      },
      "execution_count": 139,
      "outputs": [
        {
          "output_type": "stream",
          "name": "stdout",
          "text": [
            "Fitting 5 folds for each of 16 candidates, totalling 80 fits\n"
          ]
        },
        {
          "output_type": "stream",
          "name": "stderr",
          "text": [
            "/usr/local/lib/python3.7/dist-packages/sklearn/model_selection/_validation.py:372: FitFailedWarning: \n",
            "40 fits failed out of a total of 80.\n",
            "The score on these train-test partitions for these parameters will be set to nan.\n",
            "If these failures are not expected, you can try to debug them by setting error_score='raise'.\n",
            "\n",
            "Below are more details about the failures:\n",
            "--------------------------------------------------------------------------------\n",
            "40 fits failed with the following error:\n",
            "Traceback (most recent call last):\n",
            "  File \"/usr/local/lib/python3.7/dist-packages/sklearn/model_selection/_validation.py\", line 681, in _fit_and_score\n",
            "    estimator.fit(X_train, y_train, **fit_params)\n",
            "  File \"/usr/local/lib/python3.7/dist-packages/sklearn/neighbors/_classification.py\", line 198, in fit\n",
            "    return self._fit(X, y)\n",
            "  File \"/usr/local/lib/python3.7/dist-packages/sklearn/neighbors/_base.py\", line 437, in _fit\n",
            "    self._check_algorithm_metric()\n",
            "  File \"/usr/local/lib/python3.7/dist-packages/sklearn/neighbors/_base.py\", line 378, in _check_algorithm_metric\n",
            "    \"Metric can also be a callable function.\" % (self.metric, alg_check)\n",
            "ValueError: Metric 'euclideans' not valid. Use sorted(sklearn.neighbors.VALID_METRICS['brute']) to get valid options. Metric can also be a callable function.\n",
            "\n",
            "  warnings.warn(some_fits_failed_message, FitFailedWarning)\n",
            "/usr/local/lib/python3.7/dist-packages/sklearn/model_selection/_search.py:972: UserWarning: One or more of the test scores are non-finite: [       nan        nan        nan        nan        nan        nan\n",
            "        nan        nan 0.72123727 0.71796696 0.78209641 0.77248414\n",
            " 0.81928777 0.81617465 0.82514606 0.82436635]\n",
            "  category=UserWarning,\n"
          ]
        },
        {
          "output_type": "execute_result",
          "data": {
            "text/plain": [
              "GridSearchCV(cv=StratifiedKFold(n_splits=5, random_state=None, shuffle=False),\n",
              "             estimator=KNeighborsClassifier(),\n",
              "             param_grid={'metric': ['euclideans', 'manhattan'],\n",
              "                         'n_neighbors': [3, 5, 11, 19],\n",
              "                         'weights': ['uniform', 'distance']},\n",
              "             scoring='roc_auc', verbose=1)"
            ]
          },
          "metadata": {},
          "execution_count": 139
        }
      ]
    },
    {
      "cell_type": "code",
      "source": [
        "cv_score = grid_search.best_score_\n",
        "test_score = grid_search.score(X_test, y_test)\n",
        "print(f'Cross-validation score: {cv_score} \\n Test score: {test_score}')\n"
      ],
      "metadata": {
        "colab": {
          "base_uri": "https://localhost:8080/"
        },
        "outputId": "85735eee-d18a-4127-cfb7-bf2a620890a1",
        "id": "bs6EyIyY4ga_"
      },
      "execution_count": 140,
      "outputs": [
        {
          "output_type": "stream",
          "name": "stdout",
          "text": [
            "Cross-validation score: 0.8251460633290544 \n",
            " Test score: 0.8263135041250542\n"
          ]
        }
      ]
    },
    {
      "cell_type": "code",
      "source": [
        "#KNN için en iyi parametreleri bulduk ve aşağıda modelimizin bu parametrelerle çıkan sonucunu görüyoruz.\n",
        "\n",
        "knn_predict = grid.predict(X_test)\n",
        " \n",
        "# Sınıflandırma raporunu yazdır\n",
        "print(classification_report(y_test, knn_predict))"
      ],
      "metadata": {
        "colab": {
          "base_uri": "https://localhost:8080/"
        },
        "outputId": "31050b56-9f7a-484e-d0e0-5b1b05e9c1b7",
        "id": "X6uQUttw4gbA"
      },
      "execution_count": 141,
      "outputs": [
        {
          "output_type": "stream",
          "name": "stdout",
          "text": [
            "              precision    recall  f1-score   support\n",
            "\n",
            "           0       0.81      0.96      0.88        98\n",
            "           1       0.86      0.53      0.66        47\n",
            "\n",
            "    accuracy                           0.82       145\n",
            "   macro avg       0.84      0.75      0.77       145\n",
            "weighted avg       0.83      0.82      0.81       145\n",
            "\n"
          ]
        }
      ]
    },
    {
      "cell_type": "code",
      "source": [
        "fpr , tpr , thresolds = metrics.roc_curve(y_test, knn_predict)\n",
        "roc_auc = metrics.auc(fpr , tpr)\n",
        "plt.plot(fpr , tpr ,'b' ,label = 'AUC =0.2f' %roc_auc)\n",
        "roc_auc"
      ],
      "metadata": {
        "colab": {
          "base_uri": "https://localhost:8080/",
          "height": 282
        },
        "id": "zK0KZ_t_pCAv",
        "outputId": "f3dfcdef-3bc2-4271-e991-0a4b57123520"
      },
      "execution_count": 142,
      "outputs": [
        {
          "output_type": "execute_result",
          "data": {
            "text/plain": [
              "0.7455492835432045"
            ]
          },
          "metadata": {},
          "execution_count": 142
        },
        {
          "output_type": "display_data",
          "data": {
            "image/png": "[encoded data removed]",
            "text/plain": [
              "<Figure size 432x288 with 1 Axes>"
            ]
          },
          "metadata": {
            "needs_background": "light"
          }
        }
      ]
    },
    {
      "cell_type": "markdown",
      "source": [
        "\n",
        "\n",
        "---\n",
        "\n",
        "\n",
        "\n",
        "#**MLP (MULTILAYER PERCEPTRON)**\n",
        "\n",
        "\n",
        "\n",
        "---\n",
        "\n"
      ],
      "metadata": {
        "id": "yiNfYhJ9OOR-"
      }
    },
    {
      "cell_type": "code",
      "source": [
        "from sklearn.neural_network import MLPClassifier"
      ],
      "metadata": {
        "execution": {
          "iopub.status.busy": "2021-12-17T01:22:07.269612Z",
          "iopub.execute_input": "2021-12-17T01:22:07.270099Z",
          "iopub.status.idle": "2021-12-17T01:22:07.280171Z",
          "shell.execute_reply.started": "2021-12-17T01:22:07.270057Z",
          "shell.execute_reply": "2021-12-17T01:22:07.27919Z"
        },
        "trusted": true,
        "id": "bGfMuCfEUZ4n"
      },
      "execution_count": 143,
      "outputs": []
    },
    {
      "cell_type": "code",
      "source": [
        "mlp = MLPClassifier(max_iter=3000)\n",
        "X_train_mlp , X_test_mlp , y_train_mlp , y_test_mlp =train_test_split(X,y,test_size=0.20,random_state=12345)"
      ],
      "metadata": {
        "execution": {
          "iopub.status.busy": "2021-12-17T01:22:07.281838Z",
          "iopub.execute_input": "2021-12-17T01:22:07.282332Z",
          "iopub.status.idle": "2021-12-17T01:22:07.293382Z",
          "shell.execute_reply.started": "2021-12-17T01:22:07.28229Z",
          "shell.execute_reply": "2021-12-17T01:22:07.292454Z"
        },
        "trusted": true,
        "id": "gsjT9SMSUZ4n"
      },
      "execution_count": 144,
      "outputs": []
    },
    {
      "cell_type": "code",
      "source": [
        "mlp.fit(X_train , y_train)"
      ],
      "metadata": {
        "execution": {
          "iopub.status.busy": "2021-12-17T01:22:07.294706Z",
          "iopub.execute_input": "2021-12-17T01:22:07.295104Z",
          "iopub.status.idle": "2021-12-17T01:22:08.833669Z",
          "shell.execute_reply.started": "2021-12-17T01:22:07.295071Z",
          "shell.execute_reply": "2021-12-17T01:22:08.832718Z"
        },
        "trusted": true,
        "id": "LOrW4oLRUZ4n",
        "colab": {
          "base_uri": "https://localhost:8080/"
        },
        "outputId": "89cdaa7a-380f-4e90-a205-cc503e00ce8c"
      },
      "execution_count": 145,
      "outputs": [
        {
          "output_type": "execute_result",
          "data": {
            "text/plain": [
              "MLPClassifier(max_iter=3000)"
            ]
          },
          "metadata": {},
          "execution_count": 145
        }
      ]
    },
    {
      "cell_type": "code",
      "source": [
        "print(\"MLP Training Accuracy : \" , format(mlp.score(X_train_mlp , y_train_mlp)))\n",
        "print(\"\\nMLP Test Accuracy     : \" , format(mlp.score(X_test_mlp , y_test_mlp)))\n",
        "pred_mlp= mlp.predict(X_test_mlp)\n",
        "\n",
        "print(classification_report(y_test_mlp, pred_mlp))"
      ],
      "metadata": {
        "execution": {
          "iopub.status.busy": "2021-12-17T01:22:08.835447Z",
          "iopub.execute_input": "2021-12-17T01:22:08.836041Z",
          "iopub.status.idle": "2021-12-17T01:22:08.856431Z",
          "shell.execute_reply.started": "2021-12-17T01:22:08.835986Z",
          "shell.execute_reply": "2021-12-17T01:22:08.855457Z"
        },
        "trusted": true,
        "id": "kbUDfXqXUZ4n",
        "colab": {
          "base_uri": "https://localhost:8080/"
        },
        "outputId": "665ac792-a25b-48f5-d62a-df2cd3839cd6"
      },
      "execution_count": 146,
      "outputs": [
        {
          "output_type": "stream",
          "name": "stdout",
          "text": [
            "MLP Training Accuracy :  0.8911917098445595\n",
            "\n",
            "MLP Test Accuracy     :  0.9379310344827586\n",
            "              precision    recall  f1-score   support\n",
            "\n",
            "           0       0.95      0.96      0.95        94\n",
            "           1       0.92      0.90      0.91        51\n",
            "\n",
            "    accuracy                           0.94       145\n",
            "   macro avg       0.93      0.93      0.93       145\n",
            "weighted avg       0.94      0.94      0.94       145\n",
            "\n"
          ]
        }
      ]
    },
    {
      "cell_type": "code",
      "source": [
        "print(\"Confusion Matrix-MLP: \")\n",
        "print(confusion_matrix(y_test_mlp, pred_mlp))"
      ],
      "metadata": {
        "execution": {
          "iopub.status.busy": "2021-12-17T01:22:08.858281Z",
          "iopub.execute_input": "2021-12-17T01:22:08.858895Z",
          "iopub.status.idle": "2021-12-17T01:22:08.867818Z",
          "shell.execute_reply.started": "2021-12-17T01:22:08.858837Z",
          "shell.execute_reply": "2021-12-17T01:22:08.866763Z"
        },
        "trusted": true,
        "id": "ynR5oaoUUZ4o",
        "colab": {
          "base_uri": "https://localhost:8080/"
        },
        "outputId": "4bf45d9e-5fb6-43e7-d9df-4880b7446f0b"
      },
      "execution_count": 147,
      "outputs": [
        {
          "output_type": "stream",
          "name": "stdout",
          "text": [
            "Confusion Matrix-MLP: \n",
            "[[90  4]\n",
            " [ 5 46]]\n"
          ]
        }
      ]
    },
    {
      "cell_type": "code",
      "source": [
        "fpr , tpr , thresolds = metrics.roc_curve(y_test_mlp,pred_mlp)\n",
        "roc_auc = metrics.auc(fpr , tpr)\n",
        "plt.plot(fpr , tpr ,'b' ,label = 'AUC =0.2f' %roc_auc)\n",
        "roc_auc"
      ],
      "metadata": {
        "colab": {
          "base_uri": "https://localhost:8080/",
          "height": 282
        },
        "id": "YH9gb8yqeH1S",
        "outputId": "5f0dd5c9-40ba-4808-b817-b1098a4409eb"
      },
      "execution_count": 148,
      "outputs": [
        {
          "output_type": "execute_result",
          "data": {
            "text/plain": [
              "0.9297037964121819"
            ]
          },
          "metadata": {},
          "execution_count": 148
        },
        {
          "output_type": "display_data",
          "data": {
            "image/png": "[encoded data removed]",
            "text/plain": [
              "<Figure size 432x288 with 1 Axes>"
            ]
          },
          "metadata": {
            "needs_background": "light"
          }
        }
      ]
    },
    {
      "cell_type": "markdown",
      "source": [
        "\n",
        "\n",
        "---\n",
        "Hiperparametre ile MLP\n",
        "\n",
        "---\n",
        "\n",
        "\n",
        "\n"
      ],
      "metadata": {
        "id": "NbgOqq4Pfs7a"
      }
    },
    {
      "cell_type": "code",
      "source": [
        "mlp_gs = MLPClassifier(max_iter=1000)\n",
        "parameter_space = {\n",
        "    'hidden_layer_sizes': [(10,30,10),(20,)],\n",
        "    'activation': ['tanh', 'relu'],\n",
        "    'solver': ['sgd', 'adam'],\n",
        "    'alpha': [0.0001, 0.05],\n",
        "    'learning_rate': ['constant','adaptive'],\n",
        "}\n",
        "\n",
        "clf = GridSearchCV(mlp_gs, parameter_space, n_jobs=5, cv=5)\n",
        "clf.fit(X_test_mlp, y_test_mlp) "
      ],
      "metadata": {
        "colab": {
          "base_uri": "https://localhost:8080/"
        },
        "id": "cBt-tmA-veam",
        "outputId": "3737fa4c-c969-40c2-844d-7f312826822f"
      },
      "execution_count": 149,
      "outputs": [
        {
          "output_type": "execute_result",
          "data": {
            "text/plain": [
              "GridSearchCV(cv=5, estimator=MLPClassifier(max_iter=1000), n_jobs=5,\n",
              "             param_grid={'activation': ['tanh', 'relu'],\n",
              "                         'alpha': [0.0001, 0.05],\n",
              "                         'hidden_layer_sizes': [(10, 30, 10), (20,)],\n",
              "                         'learning_rate': ['constant', 'adaptive'],\n",
              "                         'solver': ['sgd', 'adam']})"
            ]
          },
          "metadata": {},
          "execution_count": 149
        }
      ]
    },
    {
      "cell_type": "code",
      "source": [
        "grid_predictions = mlp.predict(X_test_mlp)\n",
        "\n",
        "print(classification_report(y_test_mlp, grid_predictions))"
      ],
      "metadata": {
        "colab": {
          "base_uri": "https://localhost:8080/"
        },
        "id": "zULZ9hQsv5zb",
        "outputId": "b07dc39a-d3b7-4c46-a421-712896bf0922"
      },
      "execution_count": 150,
      "outputs": [
        {
          "output_type": "stream",
          "name": "stdout",
          "text": [
            "              precision    recall  f1-score   support\n",
            "\n",
            "           0       0.95      0.96      0.95        94\n",
            "           1       0.92      0.90      0.91        51\n",
            "\n",
            "    accuracy                           0.94       145\n",
            "   macro avg       0.93      0.93      0.93       145\n",
            "weighted avg       0.94      0.94      0.94       145\n",
            "\n"
          ]
        }
      ]
    },
    {
      "cell_type": "markdown",
      "source": [
        "Hiperparametre ile Grafik"
      ],
      "metadata": {
        "id": "c6WNz4ZHqi1i"
      }
    },
    {
      "cell_type": "code",
      "source": [
        "fpr , tpr , thresolds = metrics.roc_curve(y_test_mlp, grid_predictions)\n",
        "roc_auc = metrics.auc(fpr , tpr)\n",
        "plt.plot(fpr , tpr ,'b' ,label = 'AUC =0.2f' %roc_auc)\n",
        "roc_auc"
      ],
      "metadata": {
        "colab": {
          "base_uri": "https://localhost:8080/",
          "height": 282
        },
        "id": "UMk5CXNqn0UL",
        "outputId": "8740341b-7be0-4813-b64d-c968d07a4bd9"
      },
      "execution_count": 151,
      "outputs": [
        {
          "output_type": "execute_result",
          "data": {
            "text/plain": [
              "0.9297037964121819"
            ]
          },
          "metadata": {},
          "execution_count": 151
        },
        {
          "output_type": "display_data",
          "data": {
            "image/png": "[encoded data removed]",
            "text/plain": [
              "<Figure size 432x288 with 1 Axes>"
            ]
          },
          "metadata": {
            "needs_background": "light"
          }
        }
      ]
    },
    {
      "cell_type": "markdown",
      "source": [
        "\n",
        "\n",
        "---\n",
        "\n",
        "\n",
        "\n",
        "#**RANDOM FOREST**\n",
        "\n",
        "\n",
        "\n",
        "---\n",
        "\n"
      ],
      "metadata": {
        "id": "NFUSke43Zb9I"
      }
    },
    {
      "cell_type": "code",
      "source": [
        "from sklearn.ensemble import RandomForestClassifier as randomForest\n",
        "from sklearn.model_selection import KFold, train_test_split, cross_val_predict, cross_val_score\n",
        "from sklearn import metrics\n"
      ],
      "metadata": {
        "trusted": true,
        "id": "PYw0i2dZUZ4o"
      },
      "execution_count": 152,
      "outputs": []
    },
    {
      "cell_type": "code",
      "source": [
        "randomForest = randomForest()\n",
        "randomForest.fit(X_train,y_train)\n",
        "\n",
        "train_pred_randomForest = randomForest.predict(X_train)\n",
        "print('Train Accuracy : %.3f%% ' % (accuracy_score(y_train , train_pred_randomForest)*100))\n",
        "print(\"Confusion Matrix-randomForest-Train: \")\n",
        "print(confusion_matrix(y_train, train_pred_randomForest))\n",
        "\n",
        "print('\\nModel Sonuçları\\n')\n",
        "print(classification_report(y_train, train_pred_randomForest))\n",
        "\n",
        "print(\"-\"*40)\n",
        "\n",
        "test_pred_randomForest = randomForest.predict(X_test)\n",
        "print('Test Accuracy  : %.3f%% ' % (accuracy_score(y_test, test_pred_randomForest)*100))\n",
        "\n",
        "print(\"Confusion Matrix-randomForest-Test: \")\n",
        "print(confusion_matrix(y_test, test_pred_randomForest))\n",
        "\n",
        "print('\\nModel Sonuçları\\n')\n",
        "print(classification_report(y_test, test_pred_randomForest))"
      ],
      "metadata": {
        "id": "e72dnLPmXt17",
        "colab": {
          "base_uri": "https://localhost:8080/"
        },
        "outputId": "1c8ee428-edb5-424c-d05a-84841bde3f92"
      },
      "execution_count": 153,
      "outputs": [
        {
          "output_type": "stream",
          "name": "stdout",
          "text": [
            "Train Accuracy : 100.000% \n",
            "Confusion Matrix-randomForest-Train: \n",
            "[[377   0]\n",
            " [  0 202]]\n",
            "\n",
            "Model Sonuçları\n",
            "\n",
            "              precision    recall  f1-score   support\n",
            "\n",
            "           0       1.00      1.00      1.00       377\n",
            "           1       1.00      1.00      1.00       202\n",
            "\n",
            "    accuracy                           1.00       579\n",
            "   macro avg       1.00      1.00      1.00       579\n",
            "weighted avg       1.00      1.00      1.00       579\n",
            "\n",
            "----------------------------------------\n",
            "Test Accuracy  : 80.000% \n",
            "Confusion Matrix-randomForest-Test: \n",
            "[[86 12]\n",
            " [17 30]]\n",
            "\n",
            "Model Sonuçları\n",
            "\n",
            "              precision    recall  f1-score   support\n",
            "\n",
            "           0       0.83      0.88      0.86        98\n",
            "           1       0.71      0.64      0.67        47\n",
            "\n",
            "    accuracy                           0.80       145\n",
            "   macro avg       0.77      0.76      0.76       145\n",
            "weighted avg       0.80      0.80      0.80       145\n",
            "\n"
          ]
        }
      ]
    },
    {
      "cell_type": "code",
      "source": [
        "fpr , tpr , thresolds = metrics.roc_curve(y_train, train_pred_randomForest)\n",
        "roc_auc = metrics.auc(fpr , tpr)\n",
        "plt.plot(fpr , tpr ,'b' ,label = 'AUC =0.2f' %roc_auc)\n",
        "roc_auc"
      ],
      "metadata": {
        "colab": {
          "base_uri": "https://localhost:8080/",
          "height": 282
        },
        "id": "f6aU2043RR9y",
        "outputId": "9277709c-4545-4367-8361-2b9690fcbfd8"
      },
      "execution_count": 154,
      "outputs": [
        {
          "output_type": "execute_result",
          "data": {
            "text/plain": [
              "1.0"
            ]
          },
          "metadata": {},
          "execution_count": 154
        },
        {
          "output_type": "display_data",
          "data": {
            "image/png": "[encoded data removed]",
            "text/plain": [
              "<Figure size 432x288 with 1 Axes>"
            ]
          },
          "metadata": {
            "needs_background": "light"
          }
        }
      ]
    },
    {
      "cell_type": "code",
      "source": [
        "fpr , tpr , thresolds = metrics.roc_curve(y_test, test_pred_randomForest)\n",
        "roc_auc = metrics.auc(fpr , tpr)\n",
        "plt.plot(fpr , tpr ,'b' ,label = 'AUC =0.2f' %roc_auc)\n",
        "roc_auc"
      ],
      "metadata": {
        "id": "6ExE6s4qXzHt",
        "colab": {
          "base_uri": "https://localhost:8080/",
          "height": 282
        },
        "outputId": "888f5cbb-de65-40ae-a7f5-a42b5ec8a15f"
      },
      "execution_count": 155,
      "outputs": [
        {
          "output_type": "execute_result",
          "data": {
            "text/plain": [
              "0.7579244463742945"
            ]
          },
          "metadata": {},
          "execution_count": 155
        },
        {
          "output_type": "display_data",
          "data": {
            "image/png": "[encoded data removed]",
            "text/plain": [
              "<Figure size 432x288 with 1 Axes>"
            ]
          },
          "metadata": {
            "needs_background": "light"
          }
        }
      ]
    },
    {
      "cell_type": "markdown",
      "source": [
        "\n",
        "\n",
        "---\n",
        "Random Forest Hiperparametre İle\n",
        "\n",
        "\n",
        "---\n",
        "\n",
        "\n"
      ],
      "metadata": {
        "id": "QpCLfMtEb-pz"
      }
    },
    {
      "cell_type": "code",
      "source": [
        "rf_params = {\n",
        "            'max_depth': [10, 50, None],\n",
        "            'min_samples_leaf': [1, 2, 4],\n",
        "            'min_samples_split': [2, 10],\n",
        "            'n_estimators': [200, 400, 2000]\n",
        "             }\n",
        "\n",
        "cv = GridSearchCV(randomForest,rf_params,cv=5,verbose=False,n_jobs=-1).fit(X_test,y_test)\n",
        "print(cv.best_params_)\n",
        "print(cv.best_score_)"
      ],
      "metadata": {
        "colab": {
          "base_uri": "https://localhost:8080/"
        },
        "id": "Topg13jecFKR",
        "outputId": "d9661801-6812-40a7-888f-abd9969b1049"
      },
      "execution_count": 156,
      "outputs": [
        {
          "output_type": "stream",
          "name": "stdout",
          "text": [
            "{'max_depth': 50, 'min_samples_leaf': 1, 'min_samples_split': 2, 'n_estimators': 400}\n",
            "0.7448275862068965\n"
          ]
        }
      ]
    },
    {
      "cell_type": "code",
      "source": [
        ""
      ],
      "metadata": {
        "id": "MmfdVx9OndSd"
      },
      "execution_count": 156,
      "outputs": []
    },
    {
      "cell_type": "markdown",
      "source": [
        "\n",
        "\n",
        "---\n",
        "\n",
        "\n",
        "\n",
        "#**GRADIENT BOOSTING**\n",
        "\n",
        "\n",
        "\n",
        "---\n",
        "\n"
      ],
      "metadata": {
        "id": "1LV0g18YZmZ5"
      }
    },
    {
      "cell_type": "code",
      "source": [
        "from sklearn.ensemble import GradientBoostingClassifier  as gradientBoosting"
      ],
      "metadata": {
        "id": "mNuHZk1aH0rw"
      },
      "execution_count": 157,
      "outputs": []
    },
    {
      "cell_type": "code",
      "source": [
        "gradientBoosting = gradientBoosting()\n",
        "gradientBoosting.fit(X_train, y_train)\n",
        "\n",
        "train_pred_gradientBoosting = gradientBoosting.predict(X_train)\n",
        "print('Train Accuracy : %.3f%% ' % (accuracy_score(y_train , train_pred_gradientBoosting)*100))\n",
        "\n",
        "print(\"Confusion Matrix-gradientBoosting-Train: \")\n",
        "print(confusion_matrix(y_train, train_pred_gradientBoosting))\n",
        "\n",
        "print('\\nModel Sonuçları\\n')\n",
        "print(classification_report(y_train, train_pred_gradientBoosting))\n",
        "\n",
        "print(\"-\"*40)\n",
        "\n",
        "test_pred_gradientBoosting = gradientBoosting.predict(X_test)\n",
        "print('Test Accuracy  : %.3f%% ' % (accuracy_score(y_test, test_pred_gradientBoosting)*100))\n",
        "\n",
        "print(\"Confusion Matrix-gradientBoosting-Test: \")\n",
        "print(confusion_matrix(y_test, test_pred_gradientBoosting))\n",
        "\n",
        "print('\\nModel Sonuçları\\n')\n",
        "print(classification_report(y_test, test_pred_gradientBoosting))"
      ],
      "metadata": {
        "id": "SXrdrBOGX06v",
        "colab": {
          "base_uri": "https://localhost:8080/"
        },
        "outputId": "53c5b756-aaaa-4259-b5cc-9603acb50b0b"
      },
      "execution_count": 158,
      "outputs": [
        {
          "output_type": "stream",
          "name": "stdout",
          "text": [
            "Train Accuracy : 92.573% \n",
            "Confusion Matrix-gradientBoosting-Train: \n",
            "[[368   9]\n",
            " [ 34 168]]\n",
            "\n",
            "Model Sonuçları\n",
            "\n",
            "              precision    recall  f1-score   support\n",
            "\n",
            "           0       0.92      0.98      0.94       377\n",
            "           1       0.95      0.83      0.89       202\n",
            "\n",
            "    accuracy                           0.93       579\n",
            "   macro avg       0.93      0.90      0.92       579\n",
            "weighted avg       0.93      0.93      0.92       579\n",
            "\n",
            "----------------------------------------\n",
            "Test Accuracy  : 73.793% \n",
            "Confusion Matrix-gradientBoosting-Test: \n",
            "[[80 18]\n",
            " [20 27]]\n",
            "\n",
            "Model Sonuçları\n",
            "\n",
            "              precision    recall  f1-score   support\n",
            "\n",
            "           0       0.80      0.82      0.81        98\n",
            "           1       0.60      0.57      0.59        47\n",
            "\n",
            "    accuracy                           0.74       145\n",
            "   macro avg       0.70      0.70      0.70       145\n",
            "weighted avg       0.74      0.74      0.74       145\n",
            "\n"
          ]
        }
      ]
    },
    {
      "cell_type": "code",
      "source": [
        "from sklearn.ensemble import GradientBoostingClassifier  as gradientBoosting"
      ],
      "metadata": {
        "id": "4iQSxdxjDfC4"
      },
      "execution_count": 159,
      "outputs": []
    },
    {
      "cell_type": "code",
      "source": [
        "clf = make_pipeline(StandardScaler(), gradientBoosting())\n",
        "clf.fit(X_train,y_train)\n",
        "y_score = clf.decision_function(X_train)\n",
        "\n",
        "fpr, tpr, _ = roc_curve(y_train, y_score, pos_label=clf.classes_[1])\n",
        "roc_display = RocCurveDisplay(fpr=fpr, tpr=tpr).plot()"
      ],
      "metadata": {
        "colab": {
          "base_uri": "https://localhost:8080/",
          "height": 278
        },
        "id": "q0jmqHBMbE1w",
        "outputId": "bcc51b37-b8eb-49ab-ca7d-2c16407a7a34"
      },
      "execution_count": 160,
      "outputs": [
        {
          "output_type": "display_data",
          "data": {
            "image/png": "[encoded data removed]",
            "text/plain": [
              "<Figure size 432x288 with 1 Axes>"
            ]
          },
          "metadata": {
            "needs_background": "light"
          }
        }
      ]
    },
    {
      "cell_type": "code",
      "source": [
        "clf = make_pipeline(StandardScaler(), gradientBoosting())\n",
        "clf.fit(X_train,y_train)\n",
        "y_score = clf.decision_function(X_test)\n",
        "\n",
        "fpr, tpr, _ = roc_curve(y_test, y_score, pos_label=clf.classes_[1])\n",
        "roc_display = RocCurveDisplay(fpr=fpr, tpr=tpr).plot()"
      ],
      "metadata": {
        "colab": {
          "base_uri": "https://localhost:8080/",
          "height": 278
        },
        "id": "RaXnCDOubHcy",
        "outputId": "4e5b4ce0-b25b-49bc-d719-9a2667fb0797"
      },
      "execution_count": 161,
      "outputs": [
        {
          "output_type": "display_data",
          "data": {
            "image/png": "[encoded data removed]",
            "text/plain": [
              "<Figure size 432x288 with 1 Axes>"
            ]
          },
          "metadata": {
            "needs_background": "light"
          }
        }
      ]
    },
    {
      "cell_type": "markdown",
      "source": [
        "\n",
        "\n",
        "---\n",
        "Gradient Boosting Hiperparametre İle\n",
        "\n",
        "\n",
        "---\n",
        "\n",
        "\n"
      ],
      "metadata": {
        "id": "qI3YS6eDHFzf"
      }
    },
    {
      "cell_type": "code",
      "source": [
        "from sklearn.ensemble import GradientBoostingClassifier  as gradientBoosting\n",
        "\n",
        "\n",
        "param    = {\n",
        "              \"criterion\": [\"friedman_mse\"],\n",
        "              \"loss\":[\"deviance\",\"exponential\"],\n",
        "              \"max_features\":[\"log2\",\"sqrt\"],\n",
        "              'learning_rate': [0.01,0.05,0.1,1,0.5], \n",
        "              'max_depth': [3,4,5],\n",
        "              'min_samples_leaf': [4,5,6],\n",
        "\n",
        "              'subsample': [0.6,0.7,0.8],\n",
        "              'n_estimators': [5,10,15,20],\n",
        "              \n",
        "            }\n",
        "    \n",
        "model_gboosting = gradientBoosting()\n",
        "grid_gb  = GridSearchCV(model_gboosting , param , verbose=1).fit(X_test,y_test)\n",
        "print(grid_gb.best_params_)\n",
        "print(grid_gb.best_score_)"
      ],
      "metadata": {
        "colab": {
          "base_uri": "https://localhost:8080/"
        },
        "id": "ZYz1jO0uHFVn",
        "outputId": "f9a942bd-a318-4a30-c85a-4d7078e239b8"
      },
      "execution_count": 162,
      "outputs": [
        {
          "output_type": "stream",
          "name": "stdout",
          "text": [
            "Fitting 5 folds for each of 2160 candidates, totalling 10800 fits\n",
            "{'criterion': 'friedman_mse', 'learning_rate': 1, 'loss': 'deviance', 'max_depth': 5, 'max_features': 'sqrt', 'min_samples_leaf': 6, 'n_estimators': 15, 'subsample': 0.8}\n",
            "0.7724137931034483\n"
          ]
        }
      ]
    },
    {
      "cell_type": "markdown",
      "source": [
        "\n",
        "\n",
        "---\n",
        "\n",
        "\n",
        "\n",
        "#**XG BOOST**\n",
        "\n",
        "\n",
        "\n",
        "---\n",
        "\n"
      ],
      "metadata": {
        "id": "GOD1GU4nZsZw"
      }
    },
    {
      "cell_type": "code",
      "source": [
        "import xgboost as xgb\n",
        "from xgboost import XGBClassifier as xgBoost\n"
      ],
      "metadata": {
        "id": "R3bMPYxTX_Pv"
      },
      "execution_count": 163,
      "outputs": []
    },
    {
      "cell_type": "code",
      "source": [
        "xgBoost = xgBoost(use_label_encoder=False,eval_metric = 'error')\n",
        "\n",
        "xgBoost.fit(X_train, y_train)\n",
        "\n",
        "train_pred_xgBoost = xgBoost.predict(X_train)\n",
        "print('Train Accuracy : %.3f%% ' % (accuracy_score(y_train , train_pred_xgBoost)*100))\n",
        "\n",
        "print(\"Confusion Matrix-xgBoost-Train: \")\n",
        "print(confusion_matrix(y_train, train_pred_xgBoost))\n",
        "\n",
        "print('\\nModel Sonuçları\\n')\n",
        "print(classification_report(y_train, train_pred_xgBoost))\n",
        "\n",
        "print(\"-\"*40)\n",
        "\n",
        "test_pred_xgBoost = xgBoost.predict(X_test)\n",
        "print('Test Accuracy  : %.3f%% ' % (accuracy_score(y_test, test_pred_xgBoost)*100))\n",
        "\n",
        "print(\"Confusion Matrix-xgBoost-Test: \")\n",
        "print(confusion_matrix(y_test, test_pred_xgBoost))\n",
        "\n",
        "print('\\nModel Sonuçları\\n')\n",
        "print(classification_report(y_test, test_pred_xgBoost))"
      ],
      "metadata": {
        "id": "RS4EzXZUX99Y",
        "colab": {
          "base_uri": "https://localhost:8080/"
        },
        "outputId": "f4397f0c-d0e1-4edf-b49d-df8fc5afb93e"
      },
      "execution_count": 164,
      "outputs": [
        {
          "output_type": "stream",
          "name": "stdout",
          "text": [
            "Train Accuracy : 88.774% \n",
            "Confusion Matrix-xgBoost-Train: \n",
            "[[354  23]\n",
            " [ 42 160]]\n",
            "\n",
            "Model Sonuçları\n",
            "\n",
            "              precision    recall  f1-score   support\n",
            "\n",
            "           0       0.89      0.94      0.92       377\n",
            "           1       0.87      0.79      0.83       202\n",
            "\n",
            "    accuracy                           0.89       579\n",
            "   macro avg       0.88      0.87      0.87       579\n",
            "weighted avg       0.89      0.89      0.89       579\n",
            "\n",
            "----------------------------------------\n",
            "Test Accuracy  : 73.103% \n",
            "Confusion Matrix-xgBoost-Test: \n",
            "[[81 17]\n",
            " [22 25]]\n",
            "\n",
            "Model Sonuçları\n",
            "\n",
            "              precision    recall  f1-score   support\n",
            "\n",
            "           0       0.79      0.83      0.81        98\n",
            "           1       0.60      0.53      0.56        47\n",
            "\n",
            "    accuracy                           0.73       145\n",
            "   macro avg       0.69      0.68      0.68       145\n",
            "weighted avg       0.72      0.73      0.73       145\n",
            "\n"
          ]
        }
      ]
    },
    {
      "cell_type": "code",
      "source": [
        "fpr , tpr , thresolds = metrics.roc_curve(y_train, train_pred_xgBoost)\n",
        "roc_auc = metrics.auc(fpr , tpr)\n",
        "plt.plot(fpr , tpr ,'b' ,label = 'AUC =0.2f' %roc_auc)\n",
        "roc_auc"
      ],
      "metadata": {
        "colab": {
          "base_uri": "https://localhost:8080/",
          "height": 282
        },
        "id": "ZCu0G-nMbcN7",
        "outputId": "a9890ab1-7fdd-4aed-a0f4-331fe0e33f50"
      },
      "execution_count": 165,
      "outputs": [
        {
          "output_type": "execute_result",
          "data": {
            "text/plain": [
              "0.8655356251805553"
            ]
          },
          "metadata": {},
          "execution_count": 165
        },
        {
          "output_type": "display_data",
          "data": {
            "image/png": "[encoded data removed]",
            "text/plain": [
              "<Figure size 432x288 with 1 Axes>"
            ]
          },
          "metadata": {
            "needs_background": "light"
          }
        }
      ]
    },
    {
      "cell_type": "code",
      "source": [
        "fpr , tpr , thresolds = metrics.roc_curve(y_test, test_pred_xgBoost)\n",
        "roc_auc = metrics.auc(fpr , tpr)\n",
        "plt.plot(fpr , tpr ,'b' ,label = 'AUC =0.2f' %roc_auc)\n",
        "roc_auc"
      ],
      "metadata": {
        "colab": {
          "base_uri": "https://localhost:8080/",
          "height": 282
        },
        "id": "hpXjLKSxbd7p",
        "outputId": "406296b8-1c70-49f0-88a7-e3461d3342e3"
      },
      "execution_count": 166,
      "outputs": [
        {
          "output_type": "execute_result",
          "data": {
            "text/plain": [
              "0.6792227529309596"
            ]
          },
          "metadata": {},
          "execution_count": 166
        },
        {
          "output_type": "display_data",
          "data": {
            "image/png": "[encoded data removed]",
            "text/plain": [
              "<Figure size 432x288 with 1 Axes>"
            ]
          },
          "metadata": {
            "needs_background": "light"
          }
        }
      ]
    },
    {
      "cell_type": "markdown",
      "source": [
        "\n",
        "\n",
        "---\n",
        "XGBoost Hiperparametreler İle\n",
        "\n",
        "\n",
        "---\n",
        "\n",
        "\n"
      ],
      "metadata": {
        "id": "W5H1iRk_q7px"
      }
    },
    {
      "cell_type": "code",
      "source": [
        "from xgboost import XGBClassifier\n",
        "model_xgb   = XGBClassifier(seed=None)\n",
        "parameters  = {\n",
        "                \"max_depth\": range (2, 10, 1),\n",
        "                \"n_estimators\": range(60, 220, 40),\n",
        "                \"learning_rate\": [0.1, 0.01, 0.05]\n",
        "                }\n",
        "\n",
        "grid_xgb   = GridSearchCV (model_xgb , parameters, verbose=1) \n",
        "\n",
        "grid_xgb.fit (X_train , y_train)\n",
        "print(grid_gb.best_params_)\n",
        "print(grid_gb.best_score_)"
      ],
      "metadata": {
        "id": "E95rR4dDrCcu",
        "colab": {
          "base_uri": "https://localhost:8080/"
        },
        "outputId": "8b1ffd01-9208-4042-e124-870fa6366f64"
      },
      "execution_count": 167,
      "outputs": [
        {
          "output_type": "stream",
          "name": "stdout",
          "text": [
            "Fitting 5 folds for each of 96 candidates, totalling 480 fits\n",
            "{'criterion': 'friedman_mse', 'learning_rate': 1, 'loss': 'deviance', 'max_depth': 5, 'max_features': 'sqrt', 'min_samples_leaf': 6, 'n_estimators': 15, 'subsample': 0.8}\n",
            "0.7724137931034483\n"
          ]
        }
      ]
    }
  ]
}